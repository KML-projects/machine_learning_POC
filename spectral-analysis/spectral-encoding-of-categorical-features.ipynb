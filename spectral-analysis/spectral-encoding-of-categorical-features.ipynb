{
 "cells": [
  {
   "cell_type": "markdown",
   "metadata": {},
   "source": [
    "# Spectral encoding of categorical features\n",
    "\n",
    "About a year ago I was working on a regression model, which had over a million features. Needless to say, the training was super slow, and the model was overfitting a lot. After investigating this issue, I realized that most of the features were created using 1-hot encoding of the categorical features, and some of them had tens of thousands of unique values. \n",
    "\n",
    "The problem if mapping categorical features to lower-dimensional space is not new. Recently one of the popular way to deal with it is using entity embedding layers. However that method assumes that neural networks are used. What if we decided to use tree-based algorithms instead? In tis case we can use Spectral Graph Theory methods to create low dimensional embedding of the categorical features.\n",
    "\n",
    "The idea came from spectral word embedding, spectral clustering and spectral dimensionality reduction algorithms.\n",
    "If you can define a similarity measure between different values of the categorical features, we can use spectral analysis methods to find the low dimensional representation of the categorical feature. \n",
    "\n",
    "From the similarity function (or kernel function) we can construct an Adjacency matrix, which is a symmetric matrix, where the ij element is the value of the kernel function between category values i and j:\n",
    "\n",
    "$$ A_{ij} = K(i,j) \\tag{1}$$\n",
    "\n",
    "It is very important that I only need a Kernel function, not a high-dimensional representation. This means that 1-hot encoding step is not necessary here. Also for the kernel-base machine learning methods, the categorical variable encoding step is not necessary as well, because what matters is the kernel function between two points, which can be constructed using the individual kernel functions.\n",
    "\n",
    "Once the adjacency matrix is constructed, we can construct a degree matrix:\n",
    "\n",
    "$$ D_{ij} = \\delta_{ij} \\sum_{k}{A_{ik}} \\tag{2} $$\n",
    "\n",
    "Here $\\delta$ is the Kronecker delta symbol. The Laplacian matrix is the difference between the two:\n",
    "\n",
    "$$ L = D - A \\tag{3} $$\n",
    "\n",
    "And the normalize Laplacian matrix is defined as:\n",
    "\n",
    "$$ \\mathscr{L} = D^{-\\frac{1}{2}} L D^{-\\frac{1}{2}} \\tag{4} $$\n",
    "\n",
    "Following the Spectral Graph theory, we proceed with eigendecomposition of the normalized Laplacian matrix. The number of zero eigenvalues correspond to the number of connected components. In our case, let's assume that our categorical feature has two sets of values that are completely dissimilar. This means that the kernel function $K(i,j)$ is zero if $i$ and $j$ belong to different groups. In this case we will have two zero eigenvalues of the normalized Laplacian matrix.\n",
    "\n",
    "If there is only one connected component, we will have only one zero eigenvalue. Normally it is uninformative and is dropped to prevent multicollinearity of features. However we can keep it if we are planning to use tree-based models.\n",
    "\n",
    "The lower eigenvalues correspond to \"smooth\" eigenvectors, that are following the similarity function more closely. We want to keep only these eigenvectors and drop the eigenvectors with higher eigenvalues, because they are more likely represent noise. It is very common to look for a gap in the matrix spectrum and pick the eigenvalues below the gap. The resulting truncated eigenvectors can be normalized and represent embeddings of the categorical feature values. \n",
    "\n",
    "As an example, let's consider the Day of Week. 1-hot encoding assumes every day is similar to any other day ($K(i,j) = 1$). This is not a likely assumption, because we know that days of the week are different. For example, the bar attendance spikes on Fridays and Saturdays (at least in USA) because the following day is a weekend. Label encoding is also incorrect, because it will make the \"distance\" between Monday and Wednesday twice higher than between Monday and Tuesday. And the \"distance\" between Sunday and Monday will be six times higher, even though the days are next to each other. By the way, the label encoding corresponds to the kernel $K(i, j) = exp(-\\gamma |i-j|)$\n"
   ]
  },
  {
   "cell_type": "code",
   "execution_count": 1,
   "metadata": {},
   "outputs": [],
   "source": [
    "import numpy as np\n",
    "import pandas as pd\n",
    "np.set_printoptions(linewidth=130)"
   ]
  },
  {
   "cell_type": "code",
   "execution_count": 2,
   "metadata": {},
   "outputs": [],
   "source": [
    "def normalized_laplacian(A):\n",
    "    'Compute normalized Laplacian matrix given the adjacency matrix'\n",
    "    d = A.sum(axis=0)\n",
    "    D = np.diag(d)\n",
    "    L = D-A\n",
    "    D_rev_sqrt = np.diag(1/np.sqrt(d))\n",
    "    return D_rev_sqrt @ L @ D_rev_sqrt"
   ]
  },
  {
   "cell_type": "markdown",
   "metadata": {},
   "source": [
    "We will consider an example, where weekdays are similar to each other, but differ a lot from the weekends. "
   ]
  },
  {
   "cell_type": "code",
   "execution_count": 3,
   "metadata": {},
   "outputs": [
    {
     "data": {
      "text/plain": [
       "array([[ 0, 10,  9,  8,  5,  2,  1],\n",
       "       [10,  0, 10,  9,  5,  2,  1],\n",
       "       [ 9, 10,  0, 10,  8,  2,  1],\n",
       "       [ 8,  9, 10,  0, 10,  2,  1],\n",
       "       [ 5,  5,  8, 10,  0,  5,  3],\n",
       "       [ 2,  2,  2,  2,  5,  0, 10],\n",
       "       [ 1,  1,  1,  1,  3, 10,  0]])"
      ]
     },
     "execution_count": 3,
     "metadata": {},
     "output_type": "execute_result"
    }
   ],
   "source": [
    "#The adjacency matrix for days of the week\n",
    "A_dw = np.array([[0,10,9,8,5,2,1],\n",
    "                [0,0,10,9,5,2,1],\n",
    "                [0,0,0,10,8,2,1],\n",
    "                [0,0,0,0,10,2,1],\n",
    "                [0,0,0,0,0,5,3],\n",
    "                [0,0,0,0,0,0,10],\n",
    "                [0,0,0,0,0,0,0]])\n",
    "A_dw = A_dw + A_dw.T\n",
    "A_dw"
   ]
  },
  {
   "cell_type": "code",
   "execution_count": 4,
   "metadata": {},
   "outputs": [
    {
     "data": {
      "text/plain": [
       "array([[ 1.        , -0.27788501, -0.24053512, -0.21380899, -0.14085904, -0.07049074, -0.040996  ],\n",
       "       [-0.27788501,  1.        , -0.25993762, -0.23394386, -0.13699916, -0.06855912, -0.03987261],\n",
       "       [-0.24053512, -0.25993762,  1.        , -0.25      , -0.21081851, -0.06593805, -0.03834825],\n",
       "       [-0.21380899, -0.23394386, -0.25      ,  1.        , -0.26352314, -0.06593805, -0.03834825],\n",
       "       [-0.14085904, -0.13699916, -0.21081851, -0.26352314,  1.        , -0.17376201, -0.12126781],\n",
       "       [-0.07049074, -0.06855912, -0.06593805, -0.06593805, -0.17376201,  1.        , -0.50572174],\n",
       "       [-0.040996  , -0.03987261, -0.03834825, -0.03834825, -0.12126781, -0.50572174,  1.        ]])"
      ]
     },
     "execution_count": 4,
     "metadata": {},
     "output_type": "execute_result"
    }
   ],
   "source": [
    "#The normalized Laplacian matrix for days of the week\n",
    "L_dw_noem = normalized_laplacian(A_dw)\n",
    "L_dw_noem"
   ]
  },
  {
   "cell_type": "code",
   "execution_count": 5,
   "metadata": {},
   "outputs": [
    {
     "data": {
      "text/plain": [
       "array([0.        , 0.56794799, 1.50908645, 1.08959831, 1.3053149 , 1.25586378, 1.27218858])"
      ]
     },
     "execution_count": 5,
     "metadata": {},
     "output_type": "execute_result"
    }
   ],
   "source": [
    "#The eigendecomposition of the normalized Laplacian matrix\n",
    "sz, sv = np.linalg.eig(L_dw_noem)\n",
    "sz"
   ]
  },
  {
   "cell_type": "markdown",
   "metadata": {},
   "source": [
    "Notice, that the eigenvalues are not ordered here. Let's plot the eigenvalues, ignoring the uninformative zero."
   ]
  },
  {
   "cell_type": "code",
   "execution_count": 6,
   "metadata": {},
   "outputs": [
    {
     "data": {
      "image/png": "[encoded data removed]",
      "text/plain": [
       "<Figure size 432x288 with 1 Axes>"
      ]
     },
     "metadata": {
      "needs_background": "light"
     },
     "output_type": "display_data"
    }
   ],
   "source": [
    "%matplotlib inline\n",
    "from matplotlib import pyplot as plt\n",
    "import seaborn as sns\n",
    "sns.stripplot(data=sz[1:], jitter=False, );\n"
   ]
  },
  {
   "cell_type": "markdown",
   "metadata": {},
   "source": [
    "We can see a pretty substantial gap between the first eigenvalue and the rest of the eigenvalues. If this does not give enough model performance, you can include the second eigenvalue, because the gap between it and the higher eigenvalues  is also quite substantial. \n",
    "\n",
    "Let's print all eigenvectors:"
   ]
  },
  {
   "cell_type": "code",
   "execution_count": 7,
   "metadata": {},
   "outputs": [
    {
     "data": {
      "text/plain": [
       "array([[ 0.39180195,  0.22866879,  0.01917247, -0.45504284,  0.12372711, -0.41844908, -0.62957304],\n",
       "       [ 0.40284079,  0.24416078,  0.01947223, -0.4281388 , -0.53910465, -0.01139734,  0.55105271],\n",
       "       [ 0.41885391,  0.23795901, -0.0032909 , -0.00102155,  0.24759021,  0.82656956, -0.15299308],\n",
       "       [ 0.41885391,  0.21778112, -0.01536901,  0.36430356,  0.56996731, -0.36551902,  0.43094387],\n",
       "       [ 0.39735971, -0.02474713,  0.07869969,  0.66992782, -0.54148697, -0.08518483, -0.29331097],\n",
       "       [ 0.3176117 , -0.61238751, -0.71702346, -0.09280736,  0.02933834,  0.00752668,  0.02123917],\n",
       "       [ 0.27305934, -0.63907128,  0.69187421, -0.13963728,  0.11758088,  0.02521838,  0.06615712]])"
      ]
     },
     "execution_count": 7,
     "metadata": {},
     "output_type": "execute_result"
    }
   ],
   "source": [
    "sv"
   ]
  },
  {
   "cell_type": "markdown",
   "metadata": {},
   "source": [
    "Look at the second eigenvector. The weekend values have a different size than the weekdays and Friday is close to zero. This proves the transitional role of Friday, that, being a day of the week, is also the beginning of the weekend.\n",
    "\n",
    "If we are going to pick two lowest non-zero eigenvalues, our categorical feature encoding will result in these category vectors:"
   ]
  },
  {
   "cell_type": "code",
   "execution_count": 8,
   "metadata": {},
   "outputs": [
    {
     "data": {
      "text/plain": [
       "array([[ 0.22866879, -0.45504284],\n",
       "       [ 0.24416078, -0.4281388 ],\n",
       "       [ 0.23795901, -0.00102155],\n",
       "       [ 0.21778112,  0.36430356],\n",
       "       [-0.02474713,  0.66992782],\n",
       "       [-0.61238751, -0.09280736],\n",
       "       [-0.63907128, -0.13963728]])"
      ]
     },
     "execution_count": 8,
     "metadata": {},
     "output_type": "execute_result"
    }
   ],
   "source": [
    "#Picking only two eigenvectors\n",
    "category_vectors = sv[:,[1,3]]\n",
    "category_vectors"
   ]
  },
  {
   "cell_type": "code",
   "execution_count": 9,
   "metadata": {},
   "outputs": [
    {
     "data": {
      "image/png": "[encoded data removed]",
      "text/plain": [
       "<Figure size 432x288 with 1 Axes>"
      ]
     },
     "metadata": {
      "needs_background": "light"
     },
     "output_type": "display_data"
    }
   ],
   "source": [
    "category_vector_frame=pd.DataFrame(category_vectors, index=['mon', 'tue', 'wed', 'thu', 'fri', 'sat', 'sun'], \n",
    "                                   columns=['col1', 'col2']).reset_index()\n",
    "sns.scatterplot(data=category_vector_frame, x='col1', y='col2', hue='index');"
   ]
  },
  {
   "cell_type": "markdown",
   "metadata": {},
   "source": [
    "In the plot above we see that Monday and Tuesday, and also Saturday and Sunday are clustered close together, while Wednesday, Thursday and Friday are far apart. "
   ]
  },
  {
   "cell_type": "markdown",
   "metadata": {},
   "source": [
    "## Learning the kernel function\n",
    "In the previous example we assumed that the similarity function is given. Sometimes this is the case, where it can be defined based on the business rules. However it may be possible to learn it from data.\n",
    "\n",
    "One of the ways to compute the Kernel is using Kullback-Leibler Divergence:\n",
    "\n",
    "$$ K(i, j) = \\exp(-\\gamma \\mathscr{D}(i, j)) \\tag{5}$$\n",
    "\n",
    "Where $\\mathscr{D}$ is Symmetrised KL divergence:\n",
    "\n",
    "$$\\mathscr{D} = D_{KL}(p_i \\parallel p_j) + D_{KL}(p_j \\parallel p_i)  \\tag{6}$$\n",
    "\n",
    "Here $p_i$ is a probability of the data given the category value i: \n",
    "\n",
    "$$ p_i \\equiv P(data | i) $$\n",
    "\n",
    "The idea is to estimate the data distribution (including the target variable, but excluding the categorical variable) for each value of the categorical variable. If for two values the distributions are similar, then the divergence will be small and the similarity value will be large. Note that $\\gamma$ is a hyperparameter and will have to be tuned\n"
   ]
  },
  {
   "cell_type": "markdown",
   "metadata": {},
   "source": [
    "To try this approach will will use [liquor sales data set](https://www.kaggle.com/residentmario/iowa-liquor-sales/downloads/iowa-liquor-sales.zip/1). To keep the file small I removed some columns and aggregated the data.\n"
   ]
  },
  {
   "cell_type": "code",
   "execution_count": 10,
   "metadata": {},
   "outputs": [
    {
     "data": {
      "text/html": [
       "<div>\n",
       "<style scoped>\n",
       "    .dataframe tbody tr th:only-of-type {\n",
       "        vertical-align: middle;\n",
       "    }\n",
       "\n",
       "    .dataframe tbody tr th {\n",
       "        vertical-align: top;\n",
       "    }\n",
       "\n",
       "    .dataframe thead th {\n",
       "        text-align: right;\n",
       "    }\n",
       "</style>\n",
       "<table border=\"1\" class=\"dataframe\">\n",
       "  <thead>\n",
       "    <tr style=\"text-align: right;\">\n",
       "      <th></th>\n",
       "      <th>Date</th>\n",
       "      <th>Store Number</th>\n",
       "      <th>Category</th>\n",
       "      <th>orders</th>\n",
       "      <th>sales</th>\n",
       "    </tr>\n",
       "  </thead>\n",
       "  <tbody>\n",
       "    <tr>\n",
       "      <th>0</th>\n",
       "      <td>2013-01-02</td>\n",
       "      <td>2200</td>\n",
       "      <td>1011100</td>\n",
       "      <td>1</td>\n",
       "      <td>33.06</td>\n",
       "    </tr>\n",
       "    <tr>\n",
       "      <th>1</th>\n",
       "      <td>2013-01-02</td>\n",
       "      <td>2200</td>\n",
       "      <td>1011200</td>\n",
       "      <td>4</td>\n",
       "      <td>79.94</td>\n",
       "    </tr>\n",
       "    <tr>\n",
       "      <th>2</th>\n",
       "      <td>2013-01-02</td>\n",
       "      <td>2200</td>\n",
       "      <td>1011300</td>\n",
       "      <td>4</td>\n",
       "      <td>205.32</td>\n",
       "    </tr>\n",
       "    <tr>\n",
       "      <th>3</th>\n",
       "      <td>2013-01-02</td>\n",
       "      <td>2200</td>\n",
       "      <td>1011400</td>\n",
       "      <td>1</td>\n",
       "      <td>37.61</td>\n",
       "    </tr>\n",
       "    <tr>\n",
       "      <th>4</th>\n",
       "      <td>2013-01-02</td>\n",
       "      <td>2200</td>\n",
       "      <td>1012100</td>\n",
       "      <td>4</td>\n",
       "      <td>399.62</td>\n",
       "    </tr>\n",
       "  </tbody>\n",
       "</table>\n",
       "</div>"
      ],
      "text/plain": [
       "        Date Store Number Category  orders   sales\n",
       "0 2013-01-02         2200  1011100       1   33.06\n",
       "1 2013-01-02         2200  1011200       4   79.94\n",
       "2 2013-01-02         2200  1011300       4  205.32\n",
       "3 2013-01-02         2200  1011400       1   37.61\n",
       "4 2013-01-02         2200  1012100       4  399.62"
      ]
     },
     "execution_count": 10,
     "metadata": {},
     "output_type": "execute_result"
    }
   ],
   "source": [
    "liq = pd.read_csv('Iowa_Liquor_agg.csv', dtype={'Date': 'str', 'Store Number': 'str', 'Category': 'str', 'orders': 'int', 'sales': 'float'},\n",
    "                 parse_dates=True)\n",
    "liq.Date = pd.to_datetime(liq.Date)\n",
    "liq.head()"
   ]
  },
  {
   "cell_type": "markdown",
   "metadata": {},
   "source": [
    "Since we care about sales, let's encode the day of week using the information from the sales column\n",
    "Let's check the histogram first:"
   ]
  },
  {
   "cell_type": "code",
   "execution_count": 11,
   "metadata": {},
   "outputs": [
    {
     "name": "stderr",
     "output_type": "stream",
     "text": [
      "C:\\Users\\michael.larionov\\AppData\\Local\\Continuum\\anaconda3\\lib\\site-packages\\scipy\\stats\\stats.py:1713: FutureWarning: Using a non-tuple sequence for multidimensional indexing is deprecated; use `arr[tuple(seq)]` instead of `arr[seq]`. In the future this will be interpreted as an array index, `arr[np.array(seq)]`, which will result either in an error or a different result.\n",
      "  return np.add.reduce(sorted[indexer] * weights, axis=axis) / sumval\n"
     ]
    },
    {
     "data": {
      "image/png": "[encoded data removed]",
      "text/plain": [
       "<Figure size 432x288 with 1 Axes>"
      ]
     },
     "metadata": {
      "needs_background": "light"
     },
     "output_type": "display_data"
    }
   ],
   "source": [
    "sns.distplot(liq.sales, kde=False);"
   ]
  },
  {
   "cell_type": "markdown",
   "metadata": {},
   "source": [
    "We see that the distribution is very skewed, so let's try to use log of sales columns instead"
   ]
  },
  {
   "cell_type": "code",
   "execution_count": 12,
   "metadata": {},
   "outputs": [
    {
     "data": {
      "image/png": "[encoded data removed]",
      "text/plain": [
       "<Figure size 432x288 with 1 Axes>"
      ]
     },
     "metadata": {
      "needs_background": "light"
     },
     "output_type": "display_data"
    }
   ],
   "source": [
    "sns.distplot(np.log10(1+liq.sales), kde=False);"
   ]
  },
  {
   "cell_type": "markdown",
   "metadata": {},
   "source": [
    "This is much better. So we will use a log for our distribution"
   ]
  },
  {
   "cell_type": "code",
   "execution_count": 13,
   "metadata": {},
   "outputs": [],
   "source": [
    "liq[\"log_sales\"] = np.log10(1+liq.sales)"
   ]
  },
  {
   "cell_type": "markdown",
   "metadata": {},
   "source": [
    "Here we will follow [this blog](https://amethix.com/entropy-in-machine-learning/) for computation of the Kullback-Leibler divergence.\n",
    "Also note, that since there are no liquor sales on Sunday, we consider only six days in a week"
   ]
  },
  {
   "cell_type": "code",
   "execution_count": 14,
   "metadata": {},
   "outputs": [
    {
     "data": {
      "text/plain": [
       "array([[0.00000000e+00, 8.77075038e-02, 4.67563784e-02, 4.73455185e-02, 4.36580887e-02, 1.10008520e-01],\n",
       "       [8.77075038e-02, 0.00000000e+00, 6.33458241e-03, 6.12091647e-03, 7.54387432e-03, 1.24807509e-03],\n",
       "       [4.67563784e-02, 6.33458241e-03, 0.00000000e+00, 1.83170834e-06, 5.27510292e-05, 1.32091396e-02],\n",
       "       [4.73455185e-02, 6.12091647e-03, 1.83170834e-06, 0.00000000e+00, 7.42423681e-05, 1.28996949e-02],\n",
       "       [4.36580887e-02, 7.54387432e-03, 5.27510292e-05, 7.42423681e-05, 0.00000000e+00, 1.49325072e-02],\n",
       "       [1.10008520e-01, 1.24807509e-03, 1.32091396e-02, 1.28996949e-02, 1.49325072e-02, 0.00000000e+00]])"
      ]
     },
     "execution_count": 14,
     "metadata": {},
     "output_type": "execute_result"
    }
   ],
   "source": [
    "from scipy.stats import entropy\n",
    "from numpy import histogram\n",
    "from scipy.stats import iqr\n",
    "def kl(x,y):\n",
    "    # Compute Kullback-Leibler (KL) divergence\n",
    "    bins_x = max(2,int(2*iqr(x)*len(x)**-(1/3))) # use Freedman-Diaconis's Rule of thumb\n",
    "    bins_y = max(2,int(2*iqr(y)*len(y)**-(1/3))) \n",
    "    bins = np.min([bins_x,bins_y]) # entropy function requires vectors of same length\n",
    "    prob_x = histogram(x,bins)[0] + np.finfo(float).eps #avoid division by zero error\n",
    "    prob_y = histogram(y,bins)[0] + np.finfo(float).eps\n",
    "    kl_dist = entropy(prob_x, prob_y)\n",
    "    return kl_dist\n",
    "\n",
    "def symm_kl(x,y):\n",
    "    return kl(x,y) + kl(y,x)\n",
    "\n",
    "def dw_data(i):\n",
    "    return liq[liq.Date.dt.dayofweek == i].log_sales\n",
    "\n",
    "def kl_from_data(i, j):\n",
    "    return symm_kl(dw_data(i), dw_data(j))\n",
    "\n",
    "kl_matrix = np.fromfunction(np.vectorize(kl_from_data), (6,6))\n",
    "\n",
    "kl_matrix"
   ]
  },
  {
   "cell_type": "markdown",
   "metadata": {},
   "source": [
    "As we already mentioned, the hyperparameter $\\gamma$ has to be tuned. Here we just pick the value that will give a plausible result"
   ]
  },
  {
   "cell_type": "code",
   "execution_count": 15,
   "metadata": {},
   "outputs": [
    {
     "data": {
      "text/plain": [
       "array([[0.        , 0.17305426, 0.39253579, 0.38793776, 0.41762901, 0.11078428],\n",
       "       [0.17305426, 0.        , 0.88100529, 0.88477816, 0.85995305, 0.97534746],\n",
       "       [0.39253579, 0.88100529, 0.        , 0.99996337, 0.99894554, 0.76783317],\n",
       "       [0.38793776, 0.88477816, 0.99996337, 0.        , 0.99851625, 0.77259995],\n",
       "       [0.41762901, 0.85995305, 0.99894554, 0.99851625, 0.        , 0.74181889],\n",
       "       [0.11078428, 0.97534746, 0.76783317, 0.77259995, 0.74181889, 0.        ]])"
      ]
     },
     "execution_count": 15,
     "metadata": {},
     "output_type": "execute_result"
    }
   ],
   "source": [
    "gamma = 20\n",
    "kernel = np.exp(-gamma * kl_matrix)\n",
    "np.fill_diagonal(kernel, 0)\n",
    "kernel"
   ]
  },
  {
   "cell_type": "code",
   "execution_count": 16,
   "metadata": {},
   "outputs": [],
   "source": [
    "norm_lap = normalized_laplacian(kernel)"
   ]
  },
  {
   "cell_type": "code",
   "execution_count": 17,
   "metadata": {},
   "outputs": [
    {
     "data": {
      "text/plain": [
       "array([1.11022302e-16, 9.99583797e-01, 1.22897829e+00, 1.27538999e+00, 1.24864532e+00, 1.24740260e+00])"
      ]
     },
     "execution_count": 17,
     "metadata": {},
     "output_type": "execute_result"
    }
   ],
   "source": [
    "sz, sv = np.linalg.eig(norm_lap)\n",
    "sz"
   ]
  },
  {
   "cell_type": "code",
   "execution_count": 18,
   "metadata": {},
   "outputs": [
    {
     "data": {
      "image/png": "[encoded data removed]",
      "text/plain": [
       "<Figure size 432x288 with 1 Axes>"
      ]
     },
     "metadata": {
      "needs_background": "light"
     },
     "output_type": "display_data"
    }
   ],
   "source": [
    "sns.stripplot(data=sz[1:], jitter=False, );"
   ]
  },
  {
   "cell_type": "markdown",
   "metadata": {},
   "source": [
    "Ignoring the zero eigenvalue, we can see that there is a biger gap between the first eigenvalue and the rest of the eigenvalues, even though the values are all in the range between 1 and 1.3. Looking at the igenvectors,"
   ]
  },
  {
   "cell_type": "code",
   "execution_count": 19,
   "metadata": {},
   "outputs": [
    {
     "data": {
      "text/plain": [
       "array([[ 2.67401577e-01,  7.84572270e-01,  5.54718343e-01,  2.76258671e-04, -7.14070476e-02, -1.14572007e-02],\n",
       "       [ 4.26734144e-01, -3.72668177e-01,  3.22609973e-01,  7.58146923e-01,  1.20542354e-02,  2.67276880e-03],\n",
       "       [ 4.41524080e-01,  8.75061081e-02, -3.74919359e-01, -4.19119099e-02, -4.09814486e-01,  6.97947076e-01],\n",
       "       [ 4.41715953e-01,  7.76798872e-02, -3.85187524e-01, -3.81301800e-02, -3.70005207e-01, -7.15629555e-01],\n",
       "       [ 4.40242523e-01,  1.40697188e-01, -3.03782012e-01, -6.26600204e-02,  8.30409808e-01,  2.45068326e-02],\n",
       "       [ 4.03143140e-01, -4.60518839e-01,  4.54964725e-01, -6.46588253e-01, -1.79865129e-02, -2.28526205e-03]])"
      ]
     },
     "execution_count": 19,
     "metadata": {},
     "output_type": "execute_result"
    }
   ],
   "source": [
    "sv"
   ]
  },
  {
   "cell_type": "markdown",
   "metadata": {},
   "source": [
    "Ultimately the number of eigenvectors to use is another hyperparameter, that should be optimized on a supervised learning task. The Category field is another candidate to do spectral analysis, and is, probably, a better choice since it has more unique values"
   ]
  },
  {
   "cell_type": "code",
   "execution_count": 20,
   "metadata": {},
   "outputs": [
    {
     "data": {
      "text/plain": [
       "107"
      ]
     },
     "execution_count": 20,
     "metadata": {},
     "output_type": "execute_result"
    }
   ],
   "source": [
    "len(liq.Category.unique())"
   ]
  },
  {
   "cell_type": "code",
   "execution_count": 21,
   "metadata": {},
   "outputs": [
    {
     "data": {
      "text/plain": [
       "array([[0.00000000e+00, 1.01321384e-02, 2.38664557e-01, ..., 5.83930416e-02, 2.05621708e+01, 4.44786939e-01],\n",
       "       [1.01321384e-02, 0.00000000e+00, 1.50225839e-01, ..., 1.17178087e-01, 2.24843754e+01, 5.89215704e-01],\n",
       "       [2.38664557e-01, 1.50225839e-01, 0.00000000e+00, ..., 5.33952956e-01, 2.95549456e+01, 1.33572924e+00],\n",
       "       ...,\n",
       "       [5.83930416e-02, 1.17178087e-01, 5.33952956e-01, ..., 0.00000000e+00, 1.59700549e+01, 1.80637715e-01],\n",
       "       [2.05621708e+01, 2.24843754e+01, 2.95549456e+01, ..., 1.59700549e+01, 0.00000000e+00, 8.58405693e+00],\n",
       "       [4.44786939e-01, 5.89215704e-01, 1.33572924e+00, ..., 1.80637715e-01, 8.58405693e+00, 0.00000000e+00]])"
      ]
     },
     "execution_count": 21,
     "metadata": {},
     "output_type": "execute_result"
    }
   ],
   "source": [
    "unique_categories = liq.Category.unique()\n",
    "def dw_data_c(i):\n",
    "    return liq[liq.Category == unique_categories[int(i)]].log_sales\n",
    "\n",
    "def kl_from_data_c(i, j):\n",
    "    return symm_kl(dw_data_c(i), dw_data_c(j))\n",
    "\n",
    "#WARNING: THIS WILL TAKE A LONG TIME\n",
    "kl_matrix = np.fromfunction(np.vectorize(kl_from_data_c), (107,107))\n",
    "kl_matrix"
   ]
  },
  {
   "cell_type": "code",
   "execution_count": 42,
   "metadata": {},
   "outputs": [],
   "source": [
    "def plot_eigenvalues(gamma):\n",
    "    \"Eigendecomposition of the kernel and plot of the eigenvalues\"\n",
    "    kernel = np.exp(-gamma * kl_matrix)\n",
    "    np.fill_diagonal(kernel, 0)\n",
    "    norm_lap = normalized_laplacian(kernel)\n",
    "    sz, sv = np.linalg.eig(norm_lap)\n",
    "    sns.stripplot(data=sz[1:], jitter=True, );"
   ]
  },
  {
   "cell_type": "code",
   "execution_count": 43,
   "metadata": {},
   "outputs": [
    {
     "data": {
      "image/png": "[encoded data removed]",
      "text/plain": [
       "<Figure size 432x288 with 1 Axes>"
      ]
     },
     "metadata": {
      "needs_background": "light"
     },
     "output_type": "display_data"
    }
   ],
   "source": [
    "plot_eigenvalues(100);"
   ]
  },
  {
   "cell_type": "markdown",
   "metadata": {},
   "source": [
    "We can see, that a lot of eigenvalues are grouped around the 1.1 mark. The eigenvalues that are below that cluster can be used for encoding the Category feature.\n",
    "Please also note that this method is highly sensitive on selection of hyperparameter $\\gamma$. For illustration let me pick a higher and a lower gamma"
   ]
  },
  {
   "cell_type": "code",
   "execution_count": 45,
   "metadata": {},
   "outputs": [
    {
     "data": {
      "image/png": "[encoded data removed]",
      "text/plain": [
       "<Figure size 432x288 with 1 Axes>"
      ]
     },
     "metadata": {
      "needs_background": "light"
     },
     "output_type": "display_data"
    }
   ],
   "source": [
    "plot_eigenvalues(7000);"
   ]
  },
  {
   "cell_type": "code",
   "execution_count": 46,
   "metadata": {},
   "outputs": [
    {
     "data": {
      "image/png": "[encoded data removed]",
      "text/plain": [
       "<Figure size 432x288 with 1 Axes>"
      ]
     },
     "metadata": {
      "needs_background": "light"
     },
     "output_type": "display_data"
    }
   ],
   "source": [
    "plot_eigenvalues(10)"
   ]
  },
  {
   "cell_type": "markdown",
   "metadata": {},
   "source": [
    "## Conclusion and next steps\n",
    "\n",
    "We presented a way to encode the categorical features as a low dimensional vector that preserves most of the feature similarity information. For this we use methods of Spectral analysis on the values of the categorical feature. In order to find the kernel function we can either use heuristics, or learn it using a variety of methods, for example, using Kullback–Leibler divergence of the data distribution conditional on the category value. To select the subset of the eigenvectors we used gap analysis, but what we really need is to validate this methods by analyzing a variety of datasets and both classification and regression problems. We also need to compare it with other encoding methods, for example, entity embedding using Neural Networks. The kernel function we used can also include the information about category frequency, which will help us deal with high information, but low frequency values.\n",
    "\n"
   ]
  }
 ],
 "metadata": {
  "kernelspec": {
   "display_name": "Python 3",
   "language": "python",
   "name": "python3"
  },
  "language_info": {
   "codemirror_mode": {
    "name": "ipython",
    "version": 3
   },
   "file_extension": ".py",
   "mimetype": "text/x-python",
   "name": "python",
   "nbconvert_exporter": "python",
   "pygments_lexer": "ipython3",
   "version": "3.7.1"
  }
 },
 "nbformat": 4,
 "nbformat_minor": 2
}
