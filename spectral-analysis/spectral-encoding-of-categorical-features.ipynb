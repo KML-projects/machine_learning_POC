{
 "cells": [
  {
   "cell_type": "markdown",
   "metadata": {},
   "source": [
    "# Spectral encoding of categorical features\n",
    "\n",
    "About a year ago I was working on a regression model, which had over a million features. Needless to say, the training was super slow, and the model was overfitting a lot. After investigating this issue, I realized that most of the features were created using 1-hot encoding of the categorical features, and some of them had tens of thousands of unique values. \n",
    "\n",
    "The problem of mapping categorical features to lower-dimensional space is not new. Recently one of the popular way to deal with it is using entity embedding layers of a neural network. However that method assumes that neural networks are used. What if we decided to use tree-based algorithms instead? In tis case we can use Spectral Graph Theory methods to create low dimensional embedding of the categorical features.\n",
    "\n",
    "The idea came from spectral word embedding, spectral clustering and spectral dimensionality reduction algorithms.\n",
    "If you can define a similarity measure between different values of the categorical features, we can use spectral analysis methods to find the low dimensional representation of the categorical feature. \n",
    "\n",
    "From the similarity function (or kernel function) we can construct an Adjacency matrix, which is a symmetric matrix, where the ij element is the value of the kernel function between category values i and j:\n",
    "\n",
    "$$ A_{ij} = K(i,j) \\tag{1}$$\n",
    "\n",
    "It is very important that I only need a Kernel function, not a high-dimensional representation. This means that 1-hot encoding step is not necessary here. Also for the kernel-base machine learning methods, the categorical variable encoding step is not necessary as well, because what matters is the kernel function between two points, which can be constructed using the individual kernel functions.\n",
    "\n",
    "Once the adjacency matrix is constructed, we can construct a degree matrix:\n",
    "\n",
    "$$ D_{ij} = \\delta_{ij} \\sum_{k}{A_{ik}} \\tag{2} $$\n",
    "\n",
    "Here $\\delta$ is the Kronecker delta symbol. The Laplacian matrix is the difference between the two:\n",
    "\n",
    "$$ L = D - A \\tag{3} $$\n",
    "\n",
    "And the normalize Laplacian matrix is defined as:\n",
    "\n",
    "$$ \\mathscr{L} = D^{-\\frac{1}{2}} L D^{-\\frac{1}{2}} \\tag{4} $$\n",
    "\n",
    "Following the Spectral Graph theory, we proceed with eigendecomposition of the normalized Laplacian matrix. The number of zero eigenvalues correspond to the number of connected components. In our case, let's assume that our categorical feature has two sets of values that are completely dissimilar. This means that the kernel function $K(i,j)$ is zero if $i$ and $j$ belong to different groups. In this case we will have two zero eigenvalues of the normalized Laplacian matrix.\n",
    "\n",
    "If there is only one connected component, we will have only one zero eigenvalue. Normally it is uninformative and is dropped to prevent multicollinearity of features. However we can keep it if we are planning to use tree-based models.\n",
    "\n",
    "The lower eigenvalues correspond to \"smooth\" eigenvectors (or modes), that are following the similarity function more closely. We want to keep only these eigenvectors and drop the eigenvectors with higher eigenvalues, because they are more likely represent noise. It is very common to look for a gap in the matrix spectrum and pick the eigenvalues below the gap. The resulting truncated eigenvectors can be normalized and represent embeddings of the categorical feature values. \n",
    "\n",
    "As an example, let's consider the Day of Week. 1-hot encoding assumes every day is similar to any other day ($K(i,j) = 1$). This is not a likely assumption, because we know that days of the week are different. For example, the bar attendance spikes on Fridays and Saturdays (at least in USA) because the following day is a weekend. Label encoding is also incorrect, because it will make the \"distance\" between Monday and Wednesday twice higher than between Monday and Tuesday. And the \"distance\" between Sunday and Monday will be six times higher, even though the days are next to each other. By the way, the label encoding corresponds to the kernel $K(i, j) = exp(-\\gamma |i-j|)$\n"
   ]
  },
  {
   "cell_type": "code",
   "execution_count": 1,
   "metadata": {},
   "outputs": [],
   "source": [
    "import numpy as np\n",
    "import pandas as pd\n",
    "np.set_printoptions(linewidth=130)"
   ]
  },
  {
   "cell_type": "code",
   "execution_count": 2,
   "metadata": {},
   "outputs": [],
   "source": [
    "def normalized_laplacian(A):\n",
    "    'Compute normalized Laplacian matrix given the adjacency matrix'\n",
    "    d = A.sum(axis=0)\n",
    "    D = np.diag(d)\n",
    "    L = D-A\n",
    "    D_rev_sqrt = np.diag(1/np.sqrt(d))\n",
    "    return D_rev_sqrt @ L @ D_rev_sqrt"
   ]
  },
  {
   "cell_type": "markdown",
   "metadata": {},
   "source": [
    "We will consider an example, where weekdays are similar to each other, but differ a lot from the weekends. "
   ]
  },
  {
   "cell_type": "code",
   "execution_count": 3,
   "metadata": {},
   "outputs": [
    {
     "data": {
      "text/plain": [
       "array([[ 0, 10,  9,  8,  5,  2,  1],\n",
       "       [10,  0, 10,  9,  5,  2,  1],\n",
       "       [ 9, 10,  0, 10,  8,  2,  1],\n",
       "       [ 8,  9, 10,  0, 10,  2,  1],\n",
       "       [ 5,  5,  8, 10,  0,  5,  3],\n",
       "       [ 2,  2,  2,  2,  5,  0, 10],\n",
       "       [ 1,  1,  1,  1,  3, 10,  0]])"
      ]
     },
     "execution_count": 3,
     "metadata": {},
     "output_type": "execute_result"
    }
   ],
   "source": [
    "#The adjacency matrix for days of the week\n",
    "A_dw = np.array([[0,10,9,8,5,2,1],\n",
    "                [0,0,10,9,5,2,1],\n",
    "                [0,0,0,10,8,2,1],\n",
    "                [0,0,0,0,10,2,1],\n",
    "                [0,0,0,0,0,5,3],\n",
    "                [0,0,0,0,0,0,10],\n",
    "                [0,0,0,0,0,0,0]])\n",
    "A_dw = A_dw + A_dw.T\n",
    "A_dw"
   ]
  },
  {
   "cell_type": "code",
   "execution_count": 4,
   "metadata": {},
   "outputs": [
    {
     "data": {
      "text/plain": [
       "array([[ 1.        , -0.27788501, -0.24053512, -0.21380899, -0.14085904, -0.07049074, -0.040996  ],\n",
       "       [-0.27788501,  1.        , -0.25993762, -0.23394386, -0.13699916, -0.06855912, -0.03987261],\n",
       "       [-0.24053512, -0.25993762,  1.        , -0.25      , -0.21081851, -0.06593805, -0.03834825],\n",
       "       [-0.21380899, -0.23394386, -0.25      ,  1.        , -0.26352314, -0.06593805, -0.03834825],\n",
       "       [-0.14085904, -0.13699916, -0.21081851, -0.26352314,  1.        , -0.17376201, -0.12126781],\n",
       "       [-0.07049074, -0.06855912, -0.06593805, -0.06593805, -0.17376201,  1.        , -0.50572174],\n",
       "       [-0.040996  , -0.03987261, -0.03834825, -0.03834825, -0.12126781, -0.50572174,  1.        ]])"
      ]
     },
     "execution_count": 4,
     "metadata": {},
     "output_type": "execute_result"
    }
   ],
   "source": [
    "#The normalized Laplacian matrix for days of the week\n",
    "L_dw_noem = normalized_laplacian(A_dw)\n",
    "L_dw_noem"
   ]
  },
  {
   "cell_type": "code",
   "execution_count": 5,
   "metadata": {},
   "outputs": [
    {
     "data": {
      "text/plain": [
       "array([1.11022302e-16, 5.67947986e-01, 1.50908645e+00, 1.08959831e+00, 1.30531490e+00, 1.25586378e+00, 1.27218858e+00])"
      ]
     },
     "execution_count": 5,
     "metadata": {},
     "output_type": "execute_result"
    }
   ],
   "source": [
    "#The eigendecomposition of the normalized Laplacian matrix\n",
    "sz, sv = np.linalg.eig(L_dw_noem)\n",
    "sz"
   ]
  },
  {
   "cell_type": "markdown",
   "metadata": {},
   "source": [
    "Notice, that the eigenvalues are not ordered here. Let's plot the eigenvalues, ignoring the uninformative zero."
   ]
  },
  {
   "cell_type": "code",
   "execution_count": 6,
   "metadata": {},
   "outputs": [
    {
     "data": {
      "image/png": "[encoded data removed]",
      "text/plain": [
       "<Figure size 432x288 with 1 Axes>"
      ]
     },
     "metadata": {
      "needs_background": "light"
     },
     "output_type": "display_data"
    }
   ],
   "source": [
    "%matplotlib inline\n",
    "from matplotlib import pyplot as plt\n",
    "import seaborn as sns\n",
    "sns.stripplot(data=sz[1:], jitter=False, );\n"
   ]
  },
  {
   "cell_type": "markdown",
   "metadata": {},
   "source": [
    "We can see a pretty substantial gap between the first eigenvalue and the rest of the eigenvalues. If this does not give enough model performance, you can include the second eigenvalue, because the gap between it and the higher eigenvalues  is also quite substantial. \n",
    "\n",
    "Let's print all eigenvectors:"
   ]
  },
  {
   "cell_type": "code",
   "execution_count": 7,
   "metadata": {},
   "outputs": [
    {
     "data": {
      "text/plain": [
       "array([[ 0.39180195,  0.22866879,  0.01917247, -0.45504284,  0.12372711, -0.41844908, -0.62957304],\n",
       "       [ 0.40284079,  0.24416078,  0.01947223, -0.4281388 , -0.53910465, -0.01139734,  0.55105271],\n",
       "       [ 0.41885391,  0.23795901, -0.0032909 , -0.00102155,  0.24759021,  0.82656956, -0.15299308],\n",
       "       [ 0.41885391,  0.21778112, -0.01536901,  0.36430356,  0.56996731, -0.36551902,  0.43094387],\n",
       "       [ 0.39735971, -0.02474713,  0.07869969,  0.66992782, -0.54148697, -0.08518483, -0.29331097],\n",
       "       [ 0.3176117 , -0.61238751, -0.71702346, -0.09280736,  0.02933834,  0.00752668,  0.02123917],\n",
       "       [ 0.27305934, -0.63907128,  0.69187421, -0.13963728,  0.11758088,  0.02521838,  0.06615712]])"
      ]
     },
     "execution_count": 7,
     "metadata": {},
     "output_type": "execute_result"
    }
   ],
   "source": [
    "sv"
   ]
  },
  {
   "cell_type": "markdown",
   "metadata": {},
   "source": [
    "Look at the second eigenvector. The weekend values have a different size than the weekdays and Friday is close to zero. This proves the transitional role of Friday, that, being a day of the week, is also the beginning of the weekend.\n",
    "\n",
    "If we are going to pick two lowest non-zero eigenvalues, our categorical feature encoding will result in these category vectors:"
   ]
  },
  {
   "cell_type": "code",
   "execution_count": 8,
   "metadata": {},
   "outputs": [
    {
     "data": {
      "text/plain": [
       "array([[ 0.22866879, -0.45504284],\n",
       "       [ 0.24416078, -0.4281388 ],\n",
       "       [ 0.23795901, -0.00102155],\n",
       "       [ 0.21778112,  0.36430356],\n",
       "       [-0.02474713,  0.66992782],\n",
       "       [-0.61238751, -0.09280736],\n",
       "       [-0.63907128, -0.13963728]])"
      ]
     },
     "execution_count": 8,
     "metadata": {},
     "output_type": "execute_result"
    }
   ],
   "source": [
    "#Picking only two eigenvectors\n",
    "category_vectors = sv[:,[1,3]]\n",
    "category_vectors"
   ]
  },
  {
   "cell_type": "code",
   "execution_count": 9,
   "metadata": {},
   "outputs": [
    {
     "data": {
      "image/png": "[encoded data removed]",
      "text/plain": [
       "<Figure size 432x288 with 1 Axes>"
      ]
     },
     "metadata": {
      "needs_background": "light"
     },
     "output_type": "display_data"
    }
   ],
   "source": [
    "category_vector_frame=pd.DataFrame(category_vectors, index=['mon', 'tue', 'wed', 'thu', 'fri', 'sat', 'sun'], \n",
    "                                   columns=['col1', 'col2']).reset_index()\n",
    "sns.scatterplot(data=category_vector_frame, x='col1', y='col2', hue='index');"
   ]
  },
  {
   "cell_type": "markdown",
   "metadata": {},
   "source": [
    "In the plot above we see that Monday and Tuesday, and also Saturday and Sunday are clustered close together, while Wednesday, Thursday and Friday are far apart. "
   ]
  },
  {
   "cell_type": "markdown",
   "metadata": {},
   "source": [
    "## Learning the kernel function\n",
    "In the previous example we assumed that the similarity function is given. Sometimes this is the case, where it can be defined based on the business rules. However it may be possible to learn it from data.\n",
    "\n",
    "One of the ways to compute the Kernel is using [Wasserstein distance](https://en.wikipedia.org/wiki/Wasserstein_metric). It is a good way to tell how far apart two distributions are. \n",
    "\n",
    "The idea is to estimate the data distribution (including the target variable, but excluding the categorical variable) for each value of the categorical variable. If for two values the distributions are similar, then the divergence will be small and the similarity value will be large. As a measure of similarity I choose the RBF kernel (Gaussian radial basis function):\n",
    "\n",
    "$$ A_{ij} = exp(-\\gamma W(i, j)^2) \\tag{5}$$\n",
    "\n",
    "\n",
    "\n",
    "Where $W(i,j)$ is the Wasserstein distance between the data distributions for the categories i and j, and $\\gamma$ is a hyperparameter that has to be tuned\n"
   ]
  },
  {
   "cell_type": "markdown",
   "metadata": {},
   "source": [
    "To try this approach will will use [liquor sales data set](https://www.kaggle.com/residentmario/iowa-liquor-sales/downloads/iowa-liquor-sales.zip/1). To keep the file small I removed some columns and aggregated the data.\n"
   ]
  },
  {
   "cell_type": "code",
   "execution_count": 10,
   "metadata": {},
   "outputs": [
    {
     "data": {
      "text/html": [
       "<div>\n",
       "<style scoped>\n",
       "    .dataframe tbody tr th:only-of-type {\n",
       "        vertical-align: middle;\n",
       "    }\n",
       "\n",
       "    .dataframe tbody tr th {\n",
       "        vertical-align: top;\n",
       "    }\n",
       "\n",
       "    .dataframe thead th {\n",
       "        text-align: right;\n",
       "    }\n",
       "</style>\n",
       "<table border=\"1\" class=\"dataframe\">\n",
       "  <thead>\n",
       "    <tr style=\"text-align: right;\">\n",
       "      <th></th>\n",
       "      <th>Date</th>\n",
       "      <th>Store Number</th>\n",
       "      <th>Category</th>\n",
       "      <th>orders</th>\n",
       "      <th>sales</th>\n",
       "    </tr>\n",
       "  </thead>\n",
       "  <tbody>\n",
       "    <tr>\n",
       "      <th>0</th>\n",
       "      <td>2013-01-02</td>\n",
       "      <td>2200</td>\n",
       "      <td>1011100</td>\n",
       "      <td>1</td>\n",
       "      <td>33.06</td>\n",
       "    </tr>\n",
       "    <tr>\n",
       "      <th>1</th>\n",
       "      <td>2013-01-02</td>\n",
       "      <td>2200</td>\n",
       "      <td>1011200</td>\n",
       "      <td>4</td>\n",
       "      <td>79.94</td>\n",
       "    </tr>\n",
       "    <tr>\n",
       "      <th>2</th>\n",
       "      <td>2013-01-02</td>\n",
       "      <td>2200</td>\n",
       "      <td>1011300</td>\n",
       "      <td>4</td>\n",
       "      <td>205.32</td>\n",
       "    </tr>\n",
       "    <tr>\n",
       "      <th>3</th>\n",
       "      <td>2013-01-02</td>\n",
       "      <td>2200</td>\n",
       "      <td>1011400</td>\n",
       "      <td>1</td>\n",
       "      <td>37.61</td>\n",
       "    </tr>\n",
       "    <tr>\n",
       "      <th>4</th>\n",
       "      <td>2013-01-02</td>\n",
       "      <td>2200</td>\n",
       "      <td>1012100</td>\n",
       "      <td>4</td>\n",
       "      <td>399.62</td>\n",
       "    </tr>\n",
       "  </tbody>\n",
       "</table>\n",
       "</div>"
      ],
      "text/plain": [
       "        Date Store Number Category  orders   sales\n",
       "0 2013-01-02         2200  1011100       1   33.06\n",
       "1 2013-01-02         2200  1011200       4   79.94\n",
       "2 2013-01-02         2200  1011300       4  205.32\n",
       "3 2013-01-02         2200  1011400       1   37.61\n",
       "4 2013-01-02         2200  1012100       4  399.62"
      ]
     },
     "execution_count": 10,
     "metadata": {},
     "output_type": "execute_result"
    }
   ],
   "source": [
    "liq = pd.read_csv('Iowa_Liquor_agg.csv', dtype={'Date': 'str', 'Store Number': 'str', 'Category': 'str', 'orders': 'int', 'sales': 'float'},\n",
    "                 parse_dates=True)\n",
    "liq.Date = pd.to_datetime(liq.Date)\n",
    "liq.head()"
   ]
  },
  {
   "cell_type": "markdown",
   "metadata": {},
   "source": [
    "Since we care about sales, let's encode the day of week using the information from the sales column\n",
    "Let's check the histogram first:"
   ]
  },
  {
   "cell_type": "code",
   "execution_count": 11,
   "metadata": {},
   "outputs": [
    {
     "data": {
      "image/png": "[encoded data removed]",
      "text/plain": [
       "<Figure size 432x288 with 1 Axes>"
      ]
     },
     "metadata": {
      "needs_background": "light"
     },
     "output_type": "display_data"
    }
   ],
   "source": [
    "sns.distplot(liq.sales, kde=False);"
   ]
  },
  {
   "cell_type": "markdown",
   "metadata": {},
   "source": [
    "We see that the distribution is very skewed, so let's try to use log of sales columns instead"
   ]
  },
  {
   "cell_type": "code",
   "execution_count": 12,
   "metadata": {},
   "outputs": [
    {
     "data": {
      "image/png": "[encoded data removed]",
      "text/plain": [
       "<Figure size 432x288 with 1 Axes>"
      ]
     },
     "metadata": {
      "needs_background": "light"
     },
     "output_type": "display_data"
    }
   ],
   "source": [
    "sns.distplot(np.log10(1+liq.sales), kde=False);"
   ]
  },
  {
   "cell_type": "markdown",
   "metadata": {},
   "source": [
    "This is much better. So we will use a log for our distribution"
   ]
  },
  {
   "cell_type": "code",
   "execution_count": 13,
   "metadata": {},
   "outputs": [],
   "source": [
    "liq[\"log_sales\"] = np.log10(1+liq.sales)"
   ]
  },
  {
   "cell_type": "markdown",
   "metadata": {},
   "source": [
    "Here we will follow [this blog](https://amethix.com/entropy-in-machine-learning/) for computation of the Kullback-Leibler divergence.\n",
    "Also note, that since there are no liquor sales on Sunday, we consider only six days in a week"
   ]
  },
  {
   "cell_type": "code",
   "execution_count": 37,
   "metadata": {},
   "outputs": [
    {
     "data": {
      "text/plain": [
       "array([[0.        , 0.03327226, 0.02070302, 0.0246409 , 0.07348445, 0.02025401],\n",
       "       [0.03327226, 0.        , 0.01272723, 0.05764407, 0.04521181, 0.03095927],\n",
       "       [0.02070302, 0.01272723, 0.        , 0.04511732, 0.05597286, 0.0189483 ],\n",
       "       [0.0246409 , 0.05764407, 0.04511732, 0.        , 0.09728096, 0.03493157],\n",
       "       [0.07348445, 0.04521181, 0.05597286, 0.09728096, 0.        , 0.07437414],\n",
       "       [0.02025401, 0.03095927, 0.0189483 , 0.03493157, 0.07437414, 0.        ]])"
      ]
     },
     "execution_count": 37,
     "metadata": {},
     "output_type": "execute_result"
    }
   ],
   "source": [
    "from scipy.stats import wasserstein_distance\n",
    "from numpy import histogram\n",
    "from scipy.stats import iqr\n",
    "def dw_data(i):\n",
    "    return liq[liq.Date.dt.dayofweek == i].log_sales\n",
    "\n",
    "def wass_from_data(i,j):\n",
    "    return wasserstein_distance(dw_data(i), dw_data(j)) if i > j else 0.0   \n",
    "\n",
    "distance_matrix = np.fromfunction(np.vectorize(wass_from_data), (6,6))\n",
    "distance_matrix += distance_matrix.T\n",
    "distance_matrix"
   ]
  },
  {
   "cell_type": "markdown",
   "metadata": {},
   "source": [
    "As we already mentioned, the hyperparameter $\\gamma$ has to be tuned. Here we just pick the value that will give a plausible result"
   ]
  },
  {
   "cell_type": "code",
   "execution_count": 26,
   "metadata": {},
   "outputs": [
    {
     "data": {
      "text/plain": [
       "array([[0.        , 0.8952034 , 0.95804405, 0.94108915, 0.58275037, 0.95980753],\n",
       "       [0.8952034 , 0.        , 0.98393226, 0.7172837 , 0.81512746, 0.90860246],\n",
       "       [0.95804405, 0.98393226, 0.        , 0.81582352, 0.7310334 , 0.96473308],\n",
       "       [0.94108915, 0.7172837 , 0.81582352, 0.        , 0.38815191, 0.88512935],\n",
       "       [0.58275037, 0.81512746, 0.7310334 , 0.38815191, 0.        , 0.57513454],\n",
       "       [0.95980753, 0.90860246, 0.96473308, 0.88512935, 0.57513454, 0.        ]])"
      ]
     },
     "execution_count": 26,
     "metadata": {},
     "output_type": "execute_result"
    }
   ],
   "source": [
    "gamma = 100\n",
    "kernel = np.exp(-gamma * distance_matrix**2)\n",
    "np.fill_diagonal(kernel, 0)\n",
    "kernel"
   ]
  },
  {
   "cell_type": "code",
   "execution_count": 27,
   "metadata": {},
   "outputs": [],
   "source": [
    "norm_lap = normalized_laplacian(kernel)"
   ]
  },
  {
   "cell_type": "code",
   "execution_count": 28,
   "metadata": {},
   "outputs": [
    {
     "data": {
      "text/plain": [
       "array([0.        , 1.07518773, 1.21872319, 1.24054682, 1.23905879, 1.22648347])"
      ]
     },
     "execution_count": 28,
     "metadata": {},
     "output_type": "execute_result"
    }
   ],
   "source": [
    "sz, sv = np.linalg.eig(norm_lap)\n",
    "sz"
   ]
  },
  {
   "cell_type": "code",
   "execution_count": 29,
   "metadata": {},
   "outputs": [
    {
     "data": {
      "image/png": "[encoded data removed]",
      "text/plain": [
       "<Figure size 432x288 with 1 Axes>"
      ]
     },
     "metadata": {
      "needs_background": "light"
     },
     "output_type": "display_data"
    }
   ],
   "source": [
    "sns.stripplot(data=sz[1:], jitter=False, );"
   ]
  },
  {
   "cell_type": "markdown",
   "metadata": {},
   "source": [
    "Ignoring the zero eigenvalue, we can see that there is a bigger gap between the first eigenvalue and the rest of the eigenvalues, even though the values are all in the range between 1 and 1.3. Looking at the eigenvectors,"
   ]
  },
  {
   "cell_type": "code",
   "execution_count": 30,
   "metadata": {},
   "outputs": [
    {
     "data": {
      "text/plain": [
       "array([[ 0.42295099, -0.27094333,  0.54308488,  0.64701918, -0.18432105, -0.01236585],\n",
       "       [ 0.42213367,  0.31473047, -0.03703364,  0.09110692,  0.74355436, -0.40025348],\n",
       "       [ 0.42860238,  0.08161279, -0.2567395 ,  0.03160096,  0.16119399,  0.8466062 ],\n",
       "       [ 0.39316074, -0.5337085 ,  0.27417474, -0.69091153,  0.07274771, -0.05250816],\n",
       "       [ 0.3571365 ,  0.69817596,  0.24303651, -0.28578777, -0.48916038, -0.07060153],\n",
       "       [ 0.42082511, -0.22040725, -0.70960103,  0.11416521, -0.37762291, -0.33935304]])"
      ]
     },
     "execution_count": 30,
     "metadata": {},
     "output_type": "execute_result"
    }
   ],
   "source": [
    "sv"
   ]
  },
  {
   "cell_type": "markdown",
   "metadata": {},
   "source": [
    "Ultimately the number of eigenvectors to use is another hyperparameter, that should be optimized on a supervised learning task. The Category field is another candidate to do spectral analysis, and is, probably, a better choice since it has more unique values"
   ]
  },
  {
   "cell_type": "code",
   "execution_count": 31,
   "metadata": {},
   "outputs": [
    {
     "data": {
      "text/plain": [
       "107"
      ]
     },
     "execution_count": 31,
     "metadata": {},
     "output_type": "execute_result"
    }
   ],
   "source": [
    "len(liq.Category.unique())"
   ]
  },
  {
   "cell_type": "code",
   "execution_count": 32,
   "metadata": {},
   "outputs": [
    {
     "data": {
      "text/plain": [
       "array([[0.        , 0.13093288, 0.1450946 , ..., 0.55332327, 0.40353515, 0.07400919],\n",
       "       [0.13093288, 0.        , 0.05894838, ..., 0.65784555, 0.46267894, 0.0990325 ],\n",
       "       [0.1450946 , 0.05894838, 0.        , ..., 0.68112473, 0.42542558, 0.12512669],\n",
       "       ...,\n",
       "       [0.55332327, 0.65784555, 0.68112473, ..., 0.        , 0.81458715, 0.56600393],\n",
       "       [0.40353515, 0.46267894, 0.42542558, ..., 0.81458715, 0.        , 0.46274376],\n",
       "       [0.07400919, 0.0990325 , 0.12512669, ..., 0.56600393, 0.46274376, 0.        ]])"
      ]
     },
     "execution_count": 32,
     "metadata": {},
     "output_type": "execute_result"
    }
   ],
   "source": [
    "unique_categories = liq.Category.unique()\n",
    "def dw_data_c(i):\n",
    "    return liq[liq.Category == unique_categories[int(i)]].log_sales\n",
    "\n",
    "def wass_from_data_c(i,j):\n",
    "    return wasserstein_distance(dw_data_c(i), dw_data_c(j)) if i > j else 0.0\n",
    "\n",
    "\n",
    "#WARNING: THIS WILL TAKE A LONG TIME\n",
    "distance_matrix = np.fromfunction(np.vectorize(wass_from_data_c), (107,107))\n",
    "distance_matrix += distance_matrix.T\n",
    "distance_matrix"
   ]
  },
  {
   "cell_type": "code",
   "execution_count": 33,
   "metadata": {},
   "outputs": [],
   "source": [
    "def plot_eigenvalues(gamma):\n",
    "    \"Eigendecomposition of the kernel and plot of the eigenvalues\"\n",
    "    kernel = np.exp(-gamma * distance_matrix**2)\n",
    "    np.fill_diagonal(kernel, 0)\n",
    "    norm_lap = normalized_laplacian(kernel)\n",
    "    sz, sv = np.linalg.eig(norm_lap)\n",
    "    sns.stripplot(data=sz[1:], jitter=True, );"
   ]
  },
  {
   "cell_type": "code",
   "execution_count": 34,
   "metadata": {},
   "outputs": [
    {
     "data": {
      "image/png": "[encoded data removed]",
      "text/plain": [
       "<Figure size 432x288 with 1 Axes>"
      ]
     },
     "metadata": {
      "needs_background": "light"
     },
     "output_type": "display_data"
    }
   ],
   "source": [
    "plot_eigenvalues(100);"
   ]
  },
  {
   "cell_type": "markdown",
   "metadata": {},
   "source": [
    "We can see, that a lot of eigenvalues are grouped around the 1.1 mark. The eigenvalues that are below that cluster can be used for encoding the Category feature.\n",
    "Please also note that this method is highly sensitive on selection of hyperparameter $\\gamma$. For illustration let me pick a higher and a lower gamma"
   ]
  },
  {
   "cell_type": "code",
   "execution_count": 35,
   "metadata": {},
   "outputs": [
    {
     "data": {
      "image/png": "[encoded data removed]",
      "text/plain": [
       "<Figure size 432x288 with 1 Axes>"
      ]
     },
     "metadata": {
      "needs_background": "light"
     },
     "output_type": "display_data"
    }
   ],
   "source": [
    "plot_eigenvalues(500);"
   ]
  },
  {
   "cell_type": "code",
   "execution_count": 36,
   "metadata": {},
   "outputs": [
    {
     "data": {
      "image/png": "[encoded data removed]",
      "text/plain": [
       "<Figure size 432x288 with 1 Axes>"
      ]
     },
     "metadata": {
      "needs_background": "light"
     },
     "output_type": "display_data"
    }
   ],
   "source": [
    "plot_eigenvalues(10)"
   ]
  },
  {
   "cell_type": "markdown",
   "metadata": {},
   "source": [
    "## Conclusion and next steps\n",
    "\n",
    "We presented a way to encode the categorical features as a low dimensional vector that preserves most of the feature similarity information. For this we use methods of Spectral analysis on the values of the categorical feature. In order to find the kernel function we can either use heuristics, or learn it using a variety of methods, for example, using Kullback–Leibler divergence of the data distribution conditional on the category value. To select the subset of the eigenvectors we used gap analysis, but what we really need is to validate this methods by analyzing a variety of datasets and both classification and regression problems. We also need to compare it with other encoding methods, for example, entity embedding using Neural Networks. The kernel function we used can also include the information about category frequency, which will help us deal with high information, but low frequency values.\n",
    "\n"
   ]
  }
 ],
 "metadata": {
  "kernelspec": {
   "display_name": "Python 3",
   "language": "python",
   "name": "python3"
  },
  "language_info": {
   "codemirror_mode": {
    "name": "ipython",
    "version": 3
   },
   "file_extension": ".py",
   "mimetype": "text/x-python",
   "name": "python",
   "nbconvert_exporter": "python",
   "pygments_lexer": "ipython3",
   "version": "3.7.3"
  }
 },
 "nbformat": 4,
 "nbformat_minor": 2
}
