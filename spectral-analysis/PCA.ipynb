{
 "cells": [
  {
   "cell_type": "markdown",
   "metadata": {},
   "source": [
    "# Entity embedding using PCA and Kernel PCA\n",
    "\n",
    "In the [previous notebook](spectral-encoding-of-categorical-features.ipynb) on this topic we introduced a way to learn categorical feature embedding based on the similarity of the categorical feature values. To remind you, the problem we are trying to solve is that it is difficult to find a good mapping (or embedding) of the categorical feature variables into a vector space. The usual approach of 1-hot encoding results in many additional columns, and the categorical feature has too much influence on the model, reducing its ability to generalize. Ordinal encoding, from the other hand, does not increase the number of columns, but, if incorrectly chosen, reduces the linear separability of the data, and hurts the model performance. \n",
    "\n",
    "The ideal categorical feature embedding would avoid creating too many new columns, but from the other hand preserve linear separability of the majority of data. One approach is to use entity embedding layer into the neural network that works on the tabular data. In the [previous notebook](spectral-encoding-of-categorical-features.ipynb) we proposed using spectral graph theory to find the best embedding of a categorical feature. However that approach uses only category similarity, and does not use the probability distribution of categories. But from our experience we know that the probability distribution of the categories plays a very important role in finding the optimal embedding. For example, if several categories have very few records, it makes sense to bin them into a single value \"other\", because that will reduce the number of columns and will not hurt the model performance much. \n",
    "\n",
    "One way to automate this decision is to use [PCA](https://en.wikipedia.org/wiki/Principal_component_analysis) algorithm, or a similar algorithm [MCA](https://en.wikipedia.org/wiki/Multiple_correspondence_analysis). The idea is to use PCA after 1-hot encoding done (with MCA an additional transformation is required). Picking the highest-eigenvalue vectors, we can represent categories in a low dimensional vector space. PCA will position high-frequency categories far apart, but will put low-frequency categories close together. Let's demonstrate it on the artificial example. As before, we consider a day of the week feature, where 0 is Monday and 6 correspond to Sunday. Imagine that most of the data come on the weekend, so we will create an synthetic  data set to demonstrate our concept."
   ]
  },
  {
   "cell_type": "code",
   "execution_count": 1,
   "metadata": {},
   "outputs": [],
   "source": [
    "import numpy as np\n",
    "import pandas as pd\n",
    "np.set_printoptions(linewidth=200)"
   ]
  },
  {
   "cell_type": "code",
   "execution_count": 2,
   "metadata": {},
   "outputs": [
    {
     "data": {
      "text/plain": [
       "array([ 23,  21,  23,  19,  20, 456, 438])"
      ]
     },
     "execution_count": 2,
     "metadata": {},
     "output_type": "execute_result"
    }
   ],
   "source": [
    "random_data = np.random.random((1000,7))\n",
    "#The next line makes weekend much more likely\n",
    "random_data *= np.array([1,1,1,1,1,6,6]).reshape(1, -1) * random_data\n",
    "one_hot_encoded = (random_data == random_data.max(axis=1).reshape(-1, 1)).astype('int')\n",
    "one_hot_encoded.sum(axis=0)"
   ]
  },
  {
   "cell_type": "markdown",
   "metadata": {},
   "source": [
    "We see that Saturday and Sunday have much more data than the weekdays. We will fit PCA on this categorical variable, but leave only two components with the highest eigenvalues (i.e. those that capture most variance)"
   ]
  },
  {
   "cell_type": "code",
   "execution_count": 3,
   "metadata": {},
   "outputs": [],
   "source": [
    "from sklearn.decomposition import PCA\n",
    "model = PCA(n_components=2).fit(one_hot_encoded)"
   ]
  },
  {
   "cell_type": "markdown",
   "metadata": {},
   "source": [
    "Let's plot the components to see how the categories are mapped into two-dimensional vector space:"
   ]
  },
  {
   "cell_type": "code",
   "execution_count": 4,
   "metadata": {},
   "outputs": [
    {
     "data": {
      "image/png": "[encoded data removed]",
      "text/plain": [
       "<Figure size 432x288 with 1 Axes>"
      ]
     },
     "metadata": {
      "needs_background": "light"
     },
     "output_type": "display_data"
    }
   ],
   "source": [
    "%matplotlib inline\n",
    "import seaborn as sns\n",
    "category_vectors = model.components_.T\n",
    "category_vector_frame=pd.DataFrame(category_vectors, index=['mon', 'tue', 'wed', 'thu', 'fri', 'sat', 'sun'], \n",
    "                                   columns=['col1', 'col2']).reset_index()\n",
    "sns.scatterplot(data=category_vector_frame, x='col1', y='col2', hue='index');"
   ]
  },
  {
   "cell_type": "markdown",
   "metadata": {},
   "source": [
    "We can see that the vectors for Sunday and Saturday are far apart from each other, but also far apart from the rest of the days of the week (Monday and Thursday have the same vectors, so they are marked with one point in the plot).\n",
    "\n",
    "Our methodology then is to do the PCA analysis on each categorical variable, and not on the entire data set. This strategy is justified if the categorical variables are relatively independent (we should always do dependency test during feature engineering). If there is strong dependency between two categorical variables, then we can lo longer represent the joined probability distribution of these variables as a product of two Categorical distributions. In this case we will have to do a 1-hot encoding and PCA on the combinations of two categories, which will provide poor results if there are many combinations with few or none of the observations."
   ]
  },
  {
   "cell_type": "markdown",
   "metadata": {},
   "source": [
    "## Kernel PCA\n",
    "\n",
    "Here we will develop the idea we proposed in the previous work, that is to use the category similarity function to influence the category embedding. For this we can use a well known method called [Kernel PCA](https://en.wikipedia.org/wiki/Kernel_principal_component_analysis), and the kernel function will be represented as a symmetric matrix. Please note that the kernel matrix has to be [positively defined](https://en.wikipedia.org/wiki/Definiteness_of_a_matrix).\n",
    "\n",
    "Similar to the previous notebook, let's make Saturday and Sunday dissimilar from the weekdays, and let's see how that influences the category embedding:"
   ]
  },
  {
   "cell_type": "code",
   "execution_count": 5,
   "metadata": {},
   "outputs": [
    {
     "data": {
      "text/plain": [
       "array([[1. , 0.9, 0.8, 0.7, 0.5, 0.1, 0.3],\n",
       "       [0.9, 1. , 0.9, 0.8, 0.5, 0.1, 0.2],\n",
       "       [0.8, 0.9, 1. , 0.9, 0.5, 0.1, 0.2],\n",
       "       [0.7, 0.8, 0.9, 1. , 0.6, 0.1, 0.2],\n",
       "       [0.5, 0.5, 0.5, 0.6, 1. , 0.7, 0.5],\n",
       "       [0.1, 0.1, 0.1, 0.1, 0.7, 1. , 0.8],\n",
       "       [0.3, 0.2, 0.2, 0.2, 0.5, 0.8, 1. ]])"
      ]
     },
     "execution_count": 5,
     "metadata": {},
     "output_type": "execute_result"
    }
   ],
   "source": [
    "kernel_matrix = np.array([[.5, 0.9, 0.8, 0.7, 0.5, 0.1, 0.3], \n",
    "                        [0, .5, 0.9, 0.8, 0.5, 0.1, 0.2],\n",
    "                        [0,0,.5,0.9, 0.5, 0.1, 0.2], \n",
    "                        [0,0,0,.5,.6, .1, .2], \n",
    "                        [0,0,0,0,.5,0.7,.5], \n",
    "                        [0,0,0,0,0,.5,.8],\n",
    "                        [0,0,0,0,0,0,.5]])\n",
    "kernel_matrix = kernel_matrix + kernel_matrix.T\n",
    "kernel_matrix"
   ]
  },
  {
   "cell_type": "code",
   "execution_count": 6,
   "metadata": {},
   "outputs": [],
   "source": [
    "def kernel_function(x1, x2):\n",
    "    return x1.T @ kernel_matrix @ x2"
   ]
  },
  {
   "cell_type": "code",
   "execution_count": 7,
   "metadata": {},
   "outputs": [],
   "source": [
    "from sklearn.decomposition.kernel_pca import KernelPCA\n",
    "algorithm = KernelPCA(n_components=2, kernel=kernel_function)\n",
    "model = algorithm.fit(one_hot_encoded)"
   ]
  },
  {
   "cell_type": "code",
   "execution_count": 8,
   "metadata": {},
   "outputs": [],
   "source": [
    "transformed = model.transform(np.diag(np.ones((7))))"
   ]
  },
  {
   "cell_type": "code",
   "execution_count": 10,
   "metadata": {},
   "outputs": [
    {
     "data": {
      "text/plain": [
       "array([[ 1.03305649, -0.19636025],\n",
       "       [ 1.05001289, -0.38425859],\n",
       "       [ 1.0480194 , -0.38846218],\n",
       "       [ 1.01195609, -0.38461521],\n",
       "       [ 0.29211243, -0.54331321],\n",
       "       [-0.25333403, -0.22797924],\n",
       "       [ 0.04688558,  0.32797451]])"
      ]
     },
     "execution_count": 10,
     "metadata": {},
     "output_type": "execute_result"
    },
    {
     "data": {
      "image/png": "[encoded data removed]",
      "text/plain": [
       "<Figure size 432x288 with 1 Axes>"
      ]
     },
     "metadata": {
      "needs_background": "light"
     },
     "output_type": "display_data"
    }
   ],
   "source": [
    "category_vectors = transformed\n",
    "category_vector_frame=pd.DataFrame(category_vectors, index=['mon', 'tue', 'wed', 'thu', 'fri', 'sat', 'sun'], \n",
    "                                   columns=['col1', 'col2']).reset_index()\n",
    "sns.scatterplot(data=category_vector_frame, x='col1', y='col2', hue='index')\n",
    "transformed"
   ]
  },
  {
   "cell_type": "markdown",
   "metadata": {},
   "source": [
    "We can see here that the weekdays are separated further apart, except Tuesday and  Wednesday, which have almost the same value (and represented on the plot with one point)."
   ]
  },
  {
   "cell_type": "markdown",
   "metadata": {},
   "source": [
    "## Conclusion\n",
    "We see that kernel categorical embedding can be improved by using PCA instead of the Laplacian formulation. Just using PCA for a single categorical variable is very useful, because it allows map the categories into a low dimensional vector space without sacrificing linear separability. When enhanced on the notion of categorical similarity, it becomes possible to apply Kernel PCA to capture both the probability distribution and the similarity of the categories, which improves linear separability even further. \n",
    "\n",
    "There are several ways to define the kernel function. If it is unknown *a priori*, it can be derived from the data by measuring the Wasserstein distance between the probability distribution of the data given the category values, then, for example, take a negative exponential function to get a positively defined matrix:\n",
    "\n",
    "$$ K(i, j) = exp( - \\gamma * W(i, j))$$"
   ]
  }
 ],
 "metadata": {
  "kernelspec": {
   "display_name": "Python 3",
   "language": "python",
   "name": "python3"
  },
  "language_info": {
   "codemirror_mode": {
    "name": "ipython",
    "version": 3
   },
   "file_extension": ".py",
   "mimetype": "text/x-python",
   "name": "python",
   "nbconvert_exporter": "python",
   "pygments_lexer": "ipython3",
   "version": "3.7.3"
  }
 },
 "nbformat": 4,
 "nbformat_minor": 2
}
