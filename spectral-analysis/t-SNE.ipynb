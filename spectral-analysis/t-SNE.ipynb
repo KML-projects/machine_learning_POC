{
 "cells": [
  {
   "attachments": {},
   "cell_type": "markdown",
   "metadata": {},
   "source": [
    "# Entity embedding using t-SNE\n",
    "\n",
    "We have been discussing some of the possible ways to embed categorical features: [Kernel PCA](PCA.ipynb) and [Spectral Encoding](spectral-encoding-of-categorical-features.ipynb). The goal is to embed categorical features in a low dimensional space. The advantage is that dramatically reduce overfitting, but we also lose some information and make the learning more difficult if the embedding is chosen incorrectly. In order to increase the quality of embedding, we use the category similarity information (that we can set *a priori* or by computing the similarity of conditional probability distribution). Kernel PCA method is also using the probability distribution of the categorical variable, whereas the Spectral Encoding does not.  For completeness, we will also use t-SNE method and we can discuss its advantages and disadvantages.\n",
    "\n",
    "t-SNE stands for [t-distributed stochastic neighbor embedding](https://en.wikipedia.org/wiki/T-distributed_stochastic_neighbor_embedding), and was originally proposed for visualization of high-dimensional data. As opposed to PCA, it is a non-linear method, and its goal is to preserve similarity between the data points. It introduces a non-linear transformation from the original variable $x$ to a low-dimensional variable $y$, and it models the similarity between data points using Student t-Distribution\n",
    "\n",
    "$$ q_{ij} = \\frac{(1 + \\|y_i - y_j\\|^2)^{-1}}{\\sum_{k \\ne l}{(1 + \\|y_k - y_l\\|^2)^{-1}}}   $$\n",
    "\n",
    "The set of points $y_i$ is found by minimizing KL divergence of the distribution Q from the original distribution P:\n",
    "\n",
    "$$ KL(P\\|Q) = \\sum_{i \\ne j}{p_{ij}\\log{\\frac{p_{ij}}{q_{ij}}}}  $$\n",
    "\n",
    "The minimization can be done using Gradient Descent. "
   ]
  },
  {
   "cell_type": "markdown",
   "metadata": {},
   "source": [
    "We will use the same kernel matrix $p_{ij}$ as we used in the other examples, and the same synthetic data, modeling days of week. Monday will be coded as 0, and Sunday as 7."
   ]
  },
  {
   "cell_type": "code",
   "execution_count": 1,
   "metadata": {},
   "outputs": [],
   "source": [
    "import numpy as np\n",
    "import pandas as pd\n",
    "np.set_printoptions(linewidth=200)"
   ]
  },
  {
   "cell_type": "code",
   "execution_count": 25,
   "metadata": {},
   "outputs": [
    {
     "data": {
      "text/plain": [
       "array([ 23,  19,  15,  19,  22, 429, 473])"
      ]
     },
     "execution_count": 25,
     "metadata": {},
     "output_type": "execute_result"
    }
   ],
   "source": [
    "random_data = np.random.random((1000,7))\n",
    "#The next line makes weekend much more likely\n",
    "random_data *= np.array([1,1,1,1,1,6,6]).reshape(1, -1) * random_data\n",
    "one_hot_encoded = (random_data == random_data.max(axis=1).reshape(-1, 1)).astype('int')\n",
    "one_hot_encoded.sum(axis=0)"
   ]
  },
  {
   "cell_type": "markdown",
   "metadata": {},
   "source": [
    "Here we deliberately added more data for Saturday and Sunday to see how t-SNE will take into account the probability distribution of the original data. To remind you, Laplacian method is not influenced by the the source data probability distribution, whereas PCA and kernel PCA are."
   ]
  },
  {
   "cell_type": "markdown",
   "metadata": {},
   "source": [
    "The Kernel function is the same as in the previous examples"
   ]
  },
  {
   "cell_type": "code",
   "execution_count": 26,
   "metadata": {},
   "outputs": [
    {
     "data": {
      "text/plain": [
       "array([[1. , 0.9, 0.8, 0.7, 0.5, 0.1, 0.3],\n",
       "       [0.9, 1. , 0.9, 0.8, 0.5, 0.1, 0.2],\n",
       "       [0.8, 0.9, 1. , 0.9, 0.5, 0.1, 0.2],\n",
       "       [0.7, 0.8, 0.9, 1. , 0.6, 0.1, 0.2],\n",
       "       [0.5, 0.5, 0.5, 0.6, 1. , 0.7, 0.5],\n",
       "       [0.1, 0.1, 0.1, 0.1, 0.7, 1. , 0.8],\n",
       "       [0.3, 0.2, 0.2, 0.2, 0.5, 0.8, 1. ]])"
      ]
     },
     "execution_count": 26,
     "metadata": {},
     "output_type": "execute_result"
    }
   ],
   "source": [
    "kernel_matrix = np.array([[.5, 0.9, 0.8, 0.7, 0.5, 0.1, 0.3], \n",
    "                        [0, .5, 0.9, 0.8, 0.5, 0.1, 0.2],\n",
    "                        [0,0,.5,0.9, 0.5, 0.1, 0.2], \n",
    "                        [0,0,0,.5,.6, .1, .2], \n",
    "                        [0,0,0,0,.5,0.7,.5], \n",
    "                        [0,0,0,0,0,.5,.8],\n",
    "                        [0,0,0,0,0,0,.5]])\n",
    "kernel_matrix = kernel_matrix + kernel_matrix.T\n",
    "kernel_matrix"
   ]
  },
  {
   "cell_type": "markdown",
   "metadata": {},
   "source": [
    "Scikit-learn implementation of t-SNE actually wants me to provide metric function instead, so we transform our kernel matrix back to distance matrix"
   ]
  },
  {
   "cell_type": "code",
   "execution_count": 27,
   "metadata": {},
   "outputs": [
    {
     "data": {
      "text/plain": [
       "array([[-0.        ,  0.21072103,  0.4462871 ,  0.71334989,  1.38629436,  4.60517019,  2.40794561],\n",
       "       [ 0.21072103, -0.        ,  0.21072103,  0.4462871 ,  1.38629436,  4.60517019,  3.21887582],\n",
       "       [ 0.4462871 ,  0.21072103, -0.        ,  0.21072103,  1.38629436,  4.60517019,  3.21887582],\n",
       "       [ 0.71334989,  0.4462871 ,  0.21072103, -0.        ,  1.02165125,  4.60517019,  3.21887582],\n",
       "       [ 1.38629436,  1.38629436,  1.38629436,  1.02165125, -0.        ,  0.71334989,  1.38629436],\n",
       "       [ 4.60517019,  4.60517019,  4.60517019,  4.60517019,  0.71334989, -0.        ,  0.4462871 ],\n",
       "       [ 2.40794561,  3.21887582,  3.21887582,  3.21887582,  1.38629436,  0.4462871 , -0.        ]])"
      ]
     },
     "execution_count": 27,
     "metadata": {},
     "output_type": "execute_result"
    }
   ],
   "source": [
    "sigma = 1.0\n",
    "distance = -2 * sigma * np.log(kernel_matrix)\n",
    "distance\n"
   ]
  },
  {
   "cell_type": "code",
   "execution_count": 28,
   "metadata": {},
   "outputs": [],
   "source": [
    "def metric_function(x1, x2):\n",
    "    return x1.T @ distance @ x2"
   ]
  },
  {
   "cell_type": "code",
   "execution_count": 29,
   "metadata": {},
   "outputs": [],
   "source": [
    "from sklearn.manifold import TSNE\n",
    "%matplotlib inline\n",
    "import seaborn as sns"
   ]
  },
  {
   "cell_type": "code",
   "execution_count": 30,
   "metadata": {},
   "outputs": [
    {
     "data": {
      "image/png": "[encoded data removed]",
      "text/plain": [
       "<Figure size 432x288 with 1 Axes>"
      ]
     },
     "metadata": {
      "needs_background": "light"
     },
     "output_type": "display_data"
    }
   ],
   "source": [
    "algorithm = TSNE(n_components=2)\n",
    "model = algorithm.fit(one_hot_encoded)\n",
    "indices = [np.nonzero(one_hot_encoded[:,k] == 1)[0][0] for k in range(7)]\n",
    "indices = np.array(indices)\n",
    "sample = model.embedding_[indices]\n",
    "\n",
    "category_vector_frame=pd.DataFrame(sample, index=['mon', 'tue', 'wed', 'thu', 'fri', 'sat', 'sun'], \n",
    "                                   columns=['col1', 'col2']).reset_index()\n",
    "sns.scatterplot(data=category_vector_frame, x='col1', y='col2', hue='index');"
   ]
  },
  {
   "cell_type": "markdown",
   "metadata": {},
   "source": [
    "In this first example we used t-SNE without a kernel, meaning that the distance between all days of the week is 1. This is what you would get by just using 1-hot encoding. Note, that the embeddings seem to be spread  randomly, and this is a difference from PCA, which even in the absence of the kernel uses the initial data probability distribution to embed the data in such a way, that would maximize their linear separability. Let's see what results we get if we use kernel function"
   ]
  },
  {
   "cell_type": "code",
   "execution_count": 31,
   "metadata": {},
   "outputs": [
    {
     "data": {
      "image/png": "[encoded data removed]",
      "text/plain": [
       "<Figure size 432x288 with 1 Axes>"
      ]
     },
     "metadata": {
      "needs_background": "light"
     },
     "output_type": "display_data"
    }
   ],
   "source": [
    "algorithm = TSNE(n_components=2, metric=metric_function)\n",
    "model = algorithm.fit(one_hot_encoded)\n",
    "indices = [np.nonzero(one_hot_encoded[:,k] == 1)[0][0] for k in range(7)]\n",
    "indices = np.array(indices)\n",
    "sample = model.embedding_[indices]\n",
    "\n",
    "category_vector_frame=pd.DataFrame(sample, index=['mon', 'tue', 'wed', 'thu', 'fri', 'sat', 'sun'], \n",
    "                                   columns=['col1', 'col2']).reset_index()\n",
    "sns.scatterplot(data=category_vector_frame, x='col1', y='col2', hue='index');"
   ]
  },
  {
   "cell_type": "markdown",
   "metadata": {},
   "source": [
    "Here results are more meaningful. Monday through Thursday are grouped together to preserve their similarity. Friday, Saturday and Sunday are far apart from each other and from the other days. It is interesting to see that Friday is closer to Sunday than Saturday."
   ]
  },
  {
   "cell_type": "markdown",
   "metadata": {},
   "source": [
    "## Conclusion and discussion\n",
    "\n",
    "t-SNE is one of the options for category embedding. Generally, t-SNE does not generalize (because it will not be able to map unknown data), but for categorical features it does not matter, because the new data will have one of the existing categories. A bigger problem is that it will not work without a kernel, as opposed to PCA which will give reasonable results even if kernel is not given. Just like Kernel PCA, it is using probability distribution to map the data, even though in a different way. If Kernel PCA is trying to achieve smoothness in the resulting vector space, t-SNE cares more about preserving similarity. This will probably guide your decision which method is more appropriate for your model"
   ]
  }
 ],
 "metadata": {
  "kernelspec": {
   "display_name": "Python 3",
   "language": "python",
   "name": "python3"
  },
  "language_info": {
   "codemirror_mode": {
    "name": "ipython",
    "version": 3
   },
   "file_extension": ".py",
   "mimetype": "text/x-python",
   "name": "python",
   "nbconvert_exporter": "python",
   "pygments_lexer": "ipython3",
   "version": "3.7.3"
  }
 },
 "nbformat": 4,
 "nbformat_minor": 2
}
