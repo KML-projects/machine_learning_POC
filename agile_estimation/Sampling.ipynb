{
 "cells": [
  {
   "cell_type": "markdown",
   "metadata": {},
   "source": [
    "# Using Markov Chain Monte Carlo method for project estimation #\n",
    "\n",
    "One type of criticism I received for the [previous work on project estimation](agile_estimation_2.ipynb) is that the log-Normal distribution has short tails. And this is true, despite all the benefits of log-Normal distribution. The reason is very simple: when fitting the data to the distribution shape we pick the most likely parameters $\\mu$ and $\\sigma$. This approach, however easy it is, always results in short tails, especially for the small amount of data we possess. Indeed, the parameters of the log-normal distribution can be different, than the most likely parameters we've got based on five data points. The appropriate way would be to get the joint distribution of the predictions and parameters and then marginalize by the parameters. In case of the Normal distribution we would get Student's t-distribution with nice long tails. For the log-normal distribution we would get a more complex distribution, but also with long tails."
   ]
  },
  {
   "cell_type": "markdown",
   "metadata": {},
   "source": [
    "To remind you the problem we are working on, our task is to estimate the number of story points that can fit into one Agile iteration/sprint based on the historic data. In particular, we are interested in finding the number of story points we can complete in one iteration with 95% confidence.\n",
    "\n",
    "We will start by defining the likelihood function for the sample of size one:\n",
    "$$ p(x | \\mu,\\sigma^2) = \\frac{1}{x \\sigma \\sqrt{2 \\pi}} e^{-\\frac{(\\ln x - \\mu)^2}{2 \\sigma^2}}$$\n",
    "\n"
   ]
  },
  {
   "cell_type": "markdown",
   "metadata": {},
   "source": [
    "Let's select the priors for $\\mu$ and $\\sigma$.\n",
    "\n",
    "For $\\sigma$ we  choose non-informative prior:\n",
    "\n",
    "$$\\rho(\\sigma^2) \\propto \\frac{1}{\\sigma}$$\n",
    "\n",
    "For $\\mu$ we choose the conjugate prior which is a Normal distribution with a L2 regularization  hyperparameter $\\lambda$:\n",
    "\n",
    "$$\\rho(\\mu|\\lambda) \\propto e^{-\\frac{\\lambda \\mu^2}{2 }}$$\n",
    "\n"
   ]
  },
  {
   "cell_type": "markdown",
   "metadata": {},
   "source": [
    "The posterior probability in this case is proportional to:\n",
    "\n",
    "$$p(\\mu, \\sigma^2 | x^{(i)}) \\propto \\frac{1}{\\sigma^{N+1}} e^{-\\frac{\\lambda \\mu^2}{2 \\sigma^2}} \n",
    "\\prod_i e^{-\\frac{(\\ln x^{(i)} - \\mu)^2}{2 \\sigma^2}}$$"
   ]
  },
  {
   "cell_type": "markdown",
   "metadata": {},
   "source": [
    "The joint probability distribution, that will let us calculate percentiles, is therefore:\n",
    "$$p(x, \\mu, \\sigma^2 | x^{(i)}) = p(x | \\mu, \\sigma) p(\\mu, \\sigma^2 | x^{(i)}) \n",
    "\\propto \\frac{1}{\\sigma^{N+2}} e^{-\\frac{\\lambda \\mu^2}{2}} \n",
    "e^{-\\frac{(\\ln x - \\mu)^2}{2 \\sigma^2}}\n",
    "\\prod_i e^{-\\frac{(\\ln x^{(i)} - \\mu)^2}{2 \\sigma^2}} $$\n"
   ]
  },
  {
   "cell_type": "markdown",
   "metadata": {},
   "source": [
    "So we can calculate all percentiles by marginalizing over the parameters $\\mu$ and $\\sigma$. \n",
    "The answer can be derived analytically, but in our case I want to solve it numerically using MCMC Hamiltonian sampling method. \n",
    "\n",
    "The idea of this method is to get a sample of joined distribution $p(x, \\mu, \\sigma^2 | x^{(i)})$. After that we can calculate percentiles of $x$. This equivalent to marginalizing by the parameters. \n",
    "\n",
    "As I said earlier, the answer can be derived analytically, but we will use a method that can be used for the distributions, for which it is hard or impossible to get a sample. This method is called [Markov chain Monte Carlo](https://en.wikipedia.org/wiki/Markov_chain_Monte_Carlo). The idea of this method is to do a random walk in the variable space, but try to visit more probable areas more frequently, so that in the resulting sample the histogram follows the probability distribution. Some of the unlikely values in this case have to be rejected. \n",
    "\n",
    "A specific flavor of MCMC is the Hamiltonian sampling method. It is somewhat similar to the Gradient Descent algorithm, except that instead of trying to converge to the minimum of the cost function, the step in MCMC is large enough, so that it explores also the less likely regions in the variable space, but tends to visit in the high probable regions more often."
   ]
  },
  {
   "cell_type": "markdown",
   "metadata": {},
   "source": [
    "For this we need to take a log of the joint distribution function (ignoring the constant):\n",
    "\n",
    "$$ \\mathscr{L} = -(N+2)\\ln \\sigma -\\frac{\\lambda \\mu^2}{2} -\\frac{(\\ln x - \\mu)^2}{2 \\sigma^2} - \\sum_i \\frac{(\\ln x^{(i)} - \\mu)^2}{2 \\sigma^2} $$\n",
    "\n",
    "There are many libraries to do Hamiltonian sampling. There are even probabilistic programming languages optimized for this, for example, Stan. But here we will use TensorFlow Probability, a probabilistic library created by Google"
   ]
  },
  {
   "cell_type": "code",
   "execution_count": 1,
   "metadata": {},
   "outputs": [
    {
     "name": "stderr",
     "output_type": "stream",
     "text": [
      "C:\\Users\\michael\\Anaconda3\\lib\\site-packages\\h5py\\__init__.py:36: FutureWarning: Conversion of the second argument of issubdtype from `float` to `np.floating` is deprecated. In future, it will be treated as `np.float64 == np.dtype(float).type`.\n",
      "  from ._conv import register_converters as _register_converters\n"
     ]
    }
   ],
   "source": [
    "import numpy as np\n",
    "import pandas as pd\n",
    "import tensorflow as tf\n",
    "import tensorflow_probability as tfp"
   ]
  },
  {
   "cell_type": "code",
   "execution_count": 2,
   "metadata": {},
   "outputs": [],
   "source": [
    "lamb = 2e-1\n",
    "def log_likelihood(x, mu, sigma2):\n",
    "    'The (negative) log likelihood function for one sample'\n",
    "    return (tf.log(x)-mu)**2/2.0/sigma2"
   ]
  },
  {
   "cell_type": "code",
   "execution_count": 3,
   "metadata": {},
   "outputs": [],
   "source": [
    "def get_unnormalized_log_probability(data):\n",
    "    def joined_probability(x, mu, sigma2):\n",
    "        result = -(2.0+len(data))/2*tf.log(sigma2) - lamb * mu**2/2.0 -log_likelihood(x, mu, sigma2) #sigma2\n",
    "        for datum in data:\n",
    "            result -= log_likelihood(float(datum), mu, sigma2)\n",
    "        return result\n",
    "    return joined_probability"
   ]
  },
  {
   "cell_type": "markdown",
   "metadata": {},
   "source": [
    "We want to make sure our functions are working correctly, and the best way to do that is to write a unit test"
   ]
  },
  {
   "cell_type": "code",
   "execution_count": 4,
   "metadata": {},
   "outputs": [
    {
     "name": "stderr",
     "output_type": "stream",
     "text": [
      "----------------------------------------------------------------------\n",
      "Ran 1 test in 0.088s\n",
      "\n",
      "OK\n"
     ]
    }
   ],
   "source": [
    "import unittest\n",
    "import math\n",
    "\n",
    "class TestUnnormalizedLogProbability(unittest.TestCase):\n",
    "\n",
    "    def test_get(self):\n",
    "        tf.reset_default_graph()\n",
    "        data=np.array([1.0,1.0])\n",
    "        x = tf.constant(value=1.0)\n",
    "        mu = tf.constant(value=0.0)\n",
    "        sigma2 = tf.exp(1.0)\n",
    "        probability_function = get_unnormalized_log_probability(data)\n",
    "        probability = probability_function(x, mu, sigma2)\n",
    "        \n",
    "        init = tf.global_variables_initializer()\n",
    "\n",
    "        with tf.Session() as sess:\n",
    "            sess.run(init)\n",
    "            self.assertTrue(abs(-2-probability.eval())<1e-5)\n",
    "        \n",
    "\n",
    "\n",
    "unittest.main(argv=[''], verbosity=0, exit=False);"
   ]
  },
  {
   "cell_type": "markdown",
   "metadata": {},
   "source": [
    "We will use the same data as we used earlier"
   ]
  },
  {
   "cell_type": "code",
   "execution_count": 5,
   "metadata": {},
   "outputs": [],
   "source": [
    "data=np.array([14, 12,  7, 14, 13])\n",
    "# Create state to hold updated `step_size`.\n",
    "step_size = tf.get_variable(\n",
    "    name='step_size',\n",
    "    initializer=1e-1,\n",
    "    use_resource=True,  # For TFE compatibility.\n",
    "    trainable=False)"
   ]
  },
  {
   "cell_type": "code",
   "execution_count": 6,
   "metadata": {},
   "outputs": [],
   "source": [
    "# Initialize the HMC transition kernel.\n",
    "hmc = tfp.mcmc.HamiltonianMonteCarlo(\n",
    "    target_log_prob_fn=get_unnormalized_log_probability(data),\n",
    "    num_leapfrog_steps=3,\n",
    "    step_size=step_size,\n",
    "    step_size_update_fn=tfp.mcmc.make_simple_step_size_update_policy(),\n",
    "    seed=1398)\n",
    "\n",
    "# Run the chain (with burn-in).\n",
    "samples, kernel_results = tfp.mcmc.sample_chain(\n",
    "    num_results=int(1e5),\n",
    "    #num_burnin_steps=int(1e1),\n",
    "    current_state=[10.0,2.0,0.2],\n",
    "    kernel=hmc)"
   ]
  },
  {
   "cell_type": "code",
   "execution_count": 7,
   "metadata": {},
   "outputs": [],
   "source": [
    "# Initialize all constructed variables.\n",
    "init_op = tf.global_variables_initializer()\n",
    "\n",
    "with tf.Session() as sess:\n",
    "    init_op.run()\n",
    "    samples_, kernel_results_ = sess.run([samples, kernel_results])"
   ]
  },
  {
   "cell_type": "code",
   "execution_count": 8,
   "metadata": {},
   "outputs": [
    {
     "data": {
      "text/plain": [
       "(3, 100000)"
      ]
     },
     "execution_count": 8,
     "metadata": {},
     "output_type": "execute_result"
    }
   ],
   "source": [
    "all_samples = np.array(samples_)\n",
    "all_samples.shape"
   ]
  },
  {
   "cell_type": "markdown",
   "metadata": {},
   "source": [
    "Our results has three rows for $x$, $\\mu$ and $\\sigma$ respectively. We can take mean of these three variables"
   ]
  },
  {
   "cell_type": "code",
   "execution_count": 9,
   "metadata": {},
   "outputs": [
    {
     "data": {
      "text/plain": [
       "array([14.040146  ,  2.4572225 ,  0.21323058], dtype=float32)"
      ]
     },
     "execution_count": 9,
     "metadata": {},
     "output_type": "execute_result"
    }
   ],
   "source": [
    "all_samples.mean(axis=1)"
   ]
  },
  {
   "cell_type": "markdown",
   "metadata": {},
   "source": [
    "Unexpectedly, the mean of `x` is higher than we thought it would be (12). Let's plot the histogram to see the probability distribution:"
   ]
  },
  {
   "cell_type": "code",
   "execution_count": 10,
   "metadata": {},
   "outputs": [
    {
     "name": "stderr",
     "output_type": "stream",
     "text": [
      "C:\\Users\\michael\\Anaconda3\\lib\\importlib\\_bootstrap.py:219: ImportWarning: can't resolve package from __spec__ or __package__, falling back on __name__ and __path__\n",
      "  return f(*args, **kwds)\n",
      "C:\\Users\\michael\\Anaconda3\\lib\\importlib\\_bootstrap.py:219: ImportWarning: can't resolve package from __spec__ or __package__, falling back on __name__ and __path__\n",
      "  return f(*args, **kwds)\n",
      "C:\\Users\\michael\\Anaconda3\\lib\\importlib\\_bootstrap.py:219: ImportWarning: can't resolve package from __spec__ or __package__, falling back on __name__ and __path__\n",
      "  return f(*args, **kwds)\n",
      "C:\\Users\\michael\\Anaconda3\\lib\\importlib\\_bootstrap.py:219: ImportWarning: can't resolve package from __spec__ or __package__, falling back on __name__ and __path__\n",
      "  return f(*args, **kwds)\n",
      "C:\\Users\\michael\\Anaconda3\\lib\\site-packages\\statsmodels\\nonparametric\\kde.py:475: DeprecationWarning: object of type <class 'numpy.float64'> cannot be safely interpreted as an integer.\n",
      "  grid,delta = np.linspace(a,b,gridsize,retstep=True)\n"
     ]
    },
    {
     "data": {
      "image/png": "[encoded data removed]",
      "text/plain": [
       "<matplotlib.figure.Figure at 0x223ef340630>"
      ]
     },
     "metadata": {
      "needs_background": "light"
     },
     "output_type": "display_data"
    }
   ],
   "source": [
    "%matplotlib inline\n",
    "import matplotlib.pyplot as plt\n",
    "import seaborn as sns\n",
    "fig, ax = plt.subplots(figsize=(11.7, 8.27))\n",
    "sns.distplot(all_samples[0,:], hist=False);"
   ]
  },
  {
   "cell_type": "markdown",
   "metadata": {},
   "source": [
    "We see that the maximum is around 12, as we would get using maximum posterior distribution. \n",
    "\n",
    "The curve has an irregular shape, but that is somewhat expected for multivariate MCMC results. Notice also, that the tails are longer that we would get for log-Normal distribution. This is the result of marginalizing over the parameters of the posterior distribution. Let's see what our 95% confidence would fall into:"
   ]
  },
  {
   "cell_type": "code",
   "execution_count": 11,
   "metadata": {},
   "outputs": [
    {
     "data": {
      "text/plain": [
       "7.160015678405762"
      ]
     },
     "execution_count": 11,
     "metadata": {},
     "output_type": "execute_result"
    }
   ],
   "source": [
    "np.percentile(all_samples[0,:], q=5)\n",
    " "
   ]
  },
  {
   "cell_type": "markdown",
   "metadata": {},
   "source": [
    "The 95% confidence is also remarkably close to what we've got in a simpler approach. However experimenting with the MCMC I discovered that the method is unstable and depends strongly on seeding, initial values and the choice of hyperparameters. The problem is aggravated as the dimensionality increases. "
   ]
  },
  {
   "cell_type": "markdown",
   "metadata": {},
   "source": [
    "## Conclusion ##\n",
    "In this notebook we tried to use Bayesian approach in Agile project estimation, and, instead of calculating the percentiles analytically, we demonstrated how we can use Markov chain Monte Carlo and Hamiltonian sampling to achieve this result. We also demonstrated how we can do it in TensorFlow Probability package."
   ]
  }
 ],
 "metadata": {
  "kernelspec": {
   "display_name": "Python 3",
   "language": "python",
   "name": "python3"
  },
  "language_info": {
   "codemirror_mode": {
    "name": "ipython",
    "version": 3
   },
   "file_extension": ".py",
   "mimetype": "text/x-python",
   "name": "python",
   "nbconvert_exporter": "python",
   "pygments_lexer": "ipython3",
   "version": "3.6.7"
  }
 },
 "nbformat": 4,
 "nbformat_minor": 2
}
