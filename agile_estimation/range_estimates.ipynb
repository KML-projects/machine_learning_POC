{
 "cells": [
  {
   "cell_type": "markdown",
   "metadata": {},
   "source": [
    "# Treating the range estimates #\n",
    "\n",
    "In [one of the previous notebooks](agile_estimation_2.ipynb)we have established a statistical model for predicting the actual project time and cost based on the estimates. We discussed that we can fit the estimates (both for the Agile and Waterfall projects) to a Log-Normal distribution, which guarantees the positive support. Using statistical approach to estimation allows us to give prediction with a required confidence level, and also project monetary benefits, costs and risk, as we discussed in [another notebook](agile_estimation_3.ipynb).\n",
    "\n",
    "One thing I was asked is how the model generalizes for the case when an estimate is given as a range. Indeed, this is what everybody taught us: do not give a single number, but range. One approach is to continue to use our statistical model, and feed it a number in the middle, the mean of the two values. \n",
    "\n",
    "$$x = \\frac{high+low}{2}$$\n",
    "\n",
    "That way the model can be used without modifications.\n",
    "\n",
    "There are two problems with this approach: \n",
    "1. Taking a mean of high and low is arbitrary. It reduces the information given by half. It would be better to have an algorithm learn where we need to set the variable x within the interval between low and high boundaries\n",
    "2. By giving us a range of data, a developer is trying to convey to us a very important information: a degree of uncertainty in the estimates. A correct model should use that information."
   ]
  },
  {
   "cell_type": "markdown",
   "metadata": {},
   "source": [
    "To simplify the process, we will take natural logarithm of all the estimates and the actuals. Since we model estimates using log-normal distribution, our new variables `y`, `l`, `h` will be logarithms of the actual number of days, low and high estimates respectively. In this case we can use Normal distribution!\n",
    "We will model `y` using linear regression:\n",
    "$$ y = \\theta_h h + \\theta_l l $$\n",
    "\n",
    "In case where $\\theta_h$ and $\\theta_l$ are equal, we get exactly the same problem as we discussed [earlier](agile_estimation_2.ipynb)."
   ]
  },
  {
   "cell_type": "markdown",
   "metadata": {},
   "source": [
    "The likelihood function for a single piece of data in this case can be written as follows (following [this](https://en.wikipedia.org/wiki/Bayesian_linear_regression)). \n",
    "\n",
    "$$ \\rho(y|h,l,\\theta_h, \\theta_l, \\sigma) \\propto \\frac{1}{\\sigma} \\exp(-\\frac{1}{2\\sigma^2}(y - \\theta_h h - \\theta_l l)^2 )$$"
   ]
  },
  {
   "cell_type": "markdown",
   "metadata": {},
   "source": [
    "As mentioned earlier, by giving a range, the developer wanted to communicate to us the uncertainty of the estimate. We should include this uncertainty in our estimate of $\\sigma$. Intuitively the range is proportional to the standard deviation, and we can learn the coefficient by modeling $\\sigma$ as:\n",
    "$$\\sigma = \\sigma_0 (1 + \\zeta^2 (h-l))$$"
   ]
  },
  {
   "cell_type": "markdown",
   "metadata": {},
   "source": [
    "If we also use precision parameter $\\tau$ in place of $\\sigma_0$:\n",
    "$$\\tau = \\frac{1}{\\sigma^2}$$"
   ]
  },
  {
   "cell_type": "markdown",
   "metadata": {},
   "source": [
    "Then our likelihood function will be:\n",
    "$$ \\rho(y|h,l,\\theta_h, \\theta_l, \\tau, \\zeta) \\propto \\frac{\\sqrt{\\tau}}{1 + \\zeta^2 (h-l)} \\exp(-\\frac{\\tau}{2(1 + \\zeta^2 (h-l))^2}(y - \\theta_h h - \\theta_l l)^2 )$$\n",
    "    "
   ]
  },
  {
   "cell_type": "markdown",
   "metadata": {},
   "source": [
    "The priors for $\\tau$ and $\\theta$ are traditionally Gamma and Normal distribution respectively:\n",
    "\n",
    "$$\\rho(\\tau) \\propto \\tau^{\\alpha-1}e^{-\\beta \\tau}$$\n",
    "\n",
    "$$\\rho(\\theta|\\tau) \\propto \\tau \\exp(-\\frac{\\tau \\lambda}{2}(\\theta_h^2+\\theta_l^2))$$\n",
    "\n",
    "Here $\\alpha$, $\\beta$, $\\lambda$ are hyperparameters"
   ]
  },
  {
   "cell_type": "markdown",
   "metadata": {},
   "source": [
    "The choice of prior for $\\zeta$ is more difficult. None of the conjugate priors exist for the kind of likelihood function we have chosen. For now we can select the normal distribution. Zero mean of this distribution means that a priori we don't trust the ranges (we know that many consultants the range is always 20% and does not convey any information). High mean of the prior distribution means that we pay more attention to the estimated degree of uncertainty.\n",
    "\n",
    "For simplicity  we set the mean to zero.\n",
    "\n",
    "$$\\rho(\\zeta) \\propto \\sqrt{\\tau} \\exp(-\\frac{\\tau \\lambda_\\zeta}{2}\\zeta^2)$$"
   ]
  },
  {
   "cell_type": "markdown",
   "metadata": {},
   "source": [
    "The negative log-posterior function is:\n",
    "$$ \\mathscr{L}(\\theta_h, \\theta_l,\\zeta, \\tau) = \\sum_{i=0}^{N-1}[\\log(1 + \\zeta^2 (h^{(i)}-l^{(i)})) +\n",
    "\\frac{\\tau}{2(1 + \\zeta^2 (h^{(i)}-l^{(i)}))^2}(y - \\theta_h h^{(i)} - \\theta_l h^{(i)})^2 ]\n",
    "- \\frac{N+1+2\\alpha}{2}\\log{\\tau} + \\beta \\tau + \\frac{\\tau \\lambda}{2}(\\theta_h^2+\\theta_l^2))\n",
    "+ \\frac{\\tau \\lambda_\\zeta}{2}\\zeta^2\n",
    "$$ "
   ]
  },
  {
   "cell_type": "markdown",
   "metadata": {},
   "source": [
    "In this notebook I will find parameters, corresponding to the maximum posterior. And to avoid making errors in differentiating, we will use TensorFlow. We will follow [this example](https://github.com/tensorflow/tensorflow/blob/r1.11/tensorflow/examples/get_started/regression/custom_regression.py) to build our code"
   ]
  },
  {
   "cell_type": "code",
   "execution_count": 5,
   "metadata": {},
   "outputs": [],
   "source": [
    "import numpy as np\n",
    "import pandas as pd\n",
    "import tensorflow as tf"
   ]
  },
  {
   "cell_type": "markdown",
   "metadata": {},
   "source": [
    "The data here represent the estimated and actual number of days. We see that the developer liked to add 25% to his estimate as a buffer.However for some of the stories he added more buffer, perhaps, to indicate more uncertainty."
   ]
  },
  {
   "cell_type": "code",
   "execution_count": 6,
   "metadata": {},
   "outputs": [
    {
     "data": {
      "text/html": [
       "<div>\n",
       "<style scoped>\n",
       "    .dataframe tbody tr th:only-of-type {\n",
       "        vertical-align: middle;\n",
       "    }\n",
       "\n",
       "    .dataframe tbody tr th {\n",
       "        vertical-align: top;\n",
       "    }\n",
       "\n",
       "    .dataframe thead th {\n",
       "        text-align: right;\n",
       "    }\n",
       "</style>\n",
       "<table border=\"1\" class=\"dataframe\">\n",
       "  <thead>\n",
       "    <tr style=\"text-align: right;\">\n",
       "      <th></th>\n",
       "      <th>low</th>\n",
       "      <th>high</th>\n",
       "      <th>actual</th>\n",
       "    </tr>\n",
       "  </thead>\n",
       "  <tbody>\n",
       "    <tr>\n",
       "      <th>0</th>\n",
       "      <td>4</td>\n",
       "      <td>5</td>\n",
       "      <td>17</td>\n",
       "    </tr>\n",
       "    <tr>\n",
       "      <th>1</th>\n",
       "      <td>14</td>\n",
       "      <td>18</td>\n",
       "      <td>8</td>\n",
       "    </tr>\n",
       "    <tr>\n",
       "      <th>2</th>\n",
       "      <td>4</td>\n",
       "      <td>5</td>\n",
       "      <td>5</td>\n",
       "    </tr>\n",
       "    <tr>\n",
       "      <th>3</th>\n",
       "      <td>3</td>\n",
       "      <td>4</td>\n",
       "      <td>3</td>\n",
       "    </tr>\n",
       "    <tr>\n",
       "      <th>4</th>\n",
       "      <td>4</td>\n",
       "      <td>5</td>\n",
       "      <td>5</td>\n",
       "    </tr>\n",
       "    <tr>\n",
       "      <th>5</th>\n",
       "      <td>3</td>\n",
       "      <td>7</td>\n",
       "      <td>4</td>\n",
       "    </tr>\n",
       "    <tr>\n",
       "      <th>6</th>\n",
       "      <td>4</td>\n",
       "      <td>5</td>\n",
       "      <td>9</td>\n",
       "    </tr>\n",
       "    <tr>\n",
       "      <th>7</th>\n",
       "      <td>9</td>\n",
       "      <td>10</td>\n",
       "      <td>9</td>\n",
       "    </tr>\n",
       "    <tr>\n",
       "      <th>8</th>\n",
       "      <td>6</td>\n",
       "      <td>8</td>\n",
       "      <td>4</td>\n",
       "    </tr>\n",
       "    <tr>\n",
       "      <th>9</th>\n",
       "      <td>27</td>\n",
       "      <td>30</td>\n",
       "      <td>27</td>\n",
       "    </tr>\n",
       "    <tr>\n",
       "      <th>10</th>\n",
       "      <td>20</td>\n",
       "      <td>25</td>\n",
       "      <td>16</td>\n",
       "    </tr>\n",
       "    <tr>\n",
       "      <th>11</th>\n",
       "      <td>23</td>\n",
       "      <td>29</td>\n",
       "      <td>15</td>\n",
       "    </tr>\n",
       "    <tr>\n",
       "      <th>12</th>\n",
       "      <td>11</td>\n",
       "      <td>14</td>\n",
       "      <td>7</td>\n",
       "    </tr>\n",
       "  </tbody>\n",
       "</table>\n",
       "</div>"
      ],
      "text/plain": [
       "    low  high  actual\n",
       "0     4     5      17\n",
       "1    14    18       8\n",
       "2     4     5       5\n",
       "3     3     4       3\n",
       "4     4     5       5\n",
       "5     3     7       4\n",
       "6     4     5       9\n",
       "7     9    10       9\n",
       "8     6     8       4\n",
       "9    27    30      27\n",
       "10   20    25      16\n",
       "11   23    29      15\n",
       "12   11    14       7"
      ]
     },
     "execution_count": 6,
     "metadata": {},
     "output_type": "execute_result"
    }
   ],
   "source": [
    "seed=1389\n",
    "tf.reset_default_graph()\n",
    "task_data = pd.DataFrame({'low':[4,14,4,3,4,3,4,9,6,27,20,23,11],\n",
    "                          'high':[5,18,5,4,5,7,5,10,8,30,25,29,14],\n",
    "                          'actual':[17,8,5,3,5,4,9,9,4,27,16,15,7,]})\n",
    "task_data"
   ]
  },
  {
   "cell_type": "code",
   "execution_count": 7,
   "metadata": {},
   "outputs": [
    {
     "data": {
      "image/png": "[encoded data removed]",
      "text/plain": [
       "<matplotlib.figure.Figure at 0x209f3cb9080>"
      ]
     },
     "metadata": {
      "needs_background": "light"
     },
     "output_type": "display_data"
    }
   ],
   "source": [
    "%matplotlib inline\n",
    "import matplotlib.pyplot as plt\n",
    "import seaborn as sns\n",
    "fig, ax = plt.subplots(figsize=(11.7, 8.27))\n",
    "task_data['story_id'] = task_data.index\n",
    "data_for_plot = pd.melt(task_data, id_vars=\"story_id\", var_name=\"type\", value_name=\"days\")\n",
    "task_data.drop(columns=['story_id'], inplace=True)\n",
    "sns.barplot(x='story_id', y='days', hue='type', data=data_for_plot,ax=ax);"
   ]
  },
  {
   "cell_type": "markdown",
   "metadata": {},
   "source": [
    "When defining variables, we substitute $\\tau$ for another variable $\\rho$:\n",
    "$$ \\tau = \\rho^2 $$\n",
    "This is to avoid the optimizer selecting negative $\\tau$"
   ]
  },
  {
   "cell_type": "code",
   "execution_count": 8,
   "metadata": {},
   "outputs": [],
   "source": [
    "#Taking the log of data\n",
    "log_data = np.log(task_data.values)\n",
    "N = log_data.shape[0]\n",
    "\n",
    "#Defining variables\n",
    "theta_h = tf.Variable(name='theta_h', initial_value=0.5)\n",
    "theta_l = tf.Variable(name='theta_l', initial_value=0.5)\n",
    "zeta = tf.Variable(name='zeta', initial_value=0.01)\n",
    "rho = tf.Variable(name='rho', initial_value=0.01) "
   ]
  },
  {
   "cell_type": "markdown",
   "metadata": {},
   "source": [
    "Since we don't want to tune too many hyperparameters, we will set $\\alpha$ and $\\beta$ to one. Both $\\lambda$ parameters act as regularization parameters, so we will have to tune them"
   ]
  },
  {
   "cell_type": "code",
   "execution_count": 9,
   "metadata": {},
   "outputs": [],
   "source": [
    "#Set the hyperparameters\n",
    "alpha = tf.constant(name='alpha', value=1.0)\n",
    "beta = tf.constant(name='beta', value=1.0)\n",
    "lambda1 = tf.constant(name='lambda1', value=1e-4)\n",
    "lambda2 = tf.constant(name='lambda2', value=1e-4)\n"
   ]
  },
  {
   "cell_type": "code",
   "execution_count": 10,
   "metadata": {},
   "outputs": [],
   "source": [
    "def loss(l, h, y):\n",
    "    return tf.log(1+zeta**2*(h-l)) + \\\n",
    "        rho**2/2/(1+zeta**2*(h-l))**2 * (y - theta_l*l - theta_h*h)**2"
   ]
  },
  {
   "cell_type": "code",
   "execution_count": 11,
   "metadata": {},
   "outputs": [],
   "source": [
    "cummulative_loss = tf.reduce_sum(list(np.apply_along_axis(lambda x: loss(*x), axis=1, arr=log_data )))\n",
    "cost = cummulative_loss - (N+1-2*alpha)/2*tf.log(rho**2) + beta*rho**2 + \\\n",
    "rho**2*lambda1/2*(theta_h**2+theta_l**2) + rho**2*lambda2/2*zeta**2"
   ]
  },
  {
   "cell_type": "code",
   "execution_count": 12,
   "metadata": {},
   "outputs": [],
   "source": [
    "learning_rate = 1e-4\n",
    "optimizer = tf.train.AdamOptimizer(learning_rate)\n",
    "train_op = optimizer.minimize(cost)"
   ]
  },
  {
   "cell_type": "code",
   "execution_count": 13,
   "metadata": {},
   "outputs": [
    {
     "name": "stdout",
     "output_type": "stream",
     "text": [
      "Epoch 0 Cost = 55.26268\n",
      "Parameters: 0.5, 0.5, 0.009999999776482582, 0.009999999776482582\n",
      "Epoch 10000 Cost = 6.5892615\n",
      "Parameters: 0.24855799973011017, 0.6630115509033203, 0.6332486271858215, 1.1534561276317736e-35\n",
      "Epoch 20000 Cost = 1.39517\n",
      "Parameters: 0.2485545128583908, 0.6630078554153442, 1.3754394054412842, 1.1534561276317736e-35\n",
      "Epoch 30000 Cost = 1.3396643\n",
      "Parameters: 0.24855604767799377, 0.6630094647407532, 1.4745615720748901, 1.1534561276317736e-35\n",
      "Epoch 40000 Cost = 1.3396641\n",
      "Parameters: 0.24855272471904755, 0.6630063056945801, 1.4745622873306274, 1.1534561276317736e-35\n",
      "Epoch 50000 Cost = 1.3396646\n",
      "Parameters: 0.2485586702823639, 0.6630119681358337, 1.4745632410049438, 1.1534561276317736e-35\n",
      "Epoch 60000 Cost = 1.3396648\n",
      "Parameters: 0.2485581487417221, 0.6630115509033203, 1.4745649099349976, 1.1534561276317736e-35\n",
      "Epoch 70000 Cost = 1.3396643\n",
      "Parameters: 0.2485586702823639, 0.6630122065544128, 1.4745644330978394, 1.1534561276317736e-35\n",
      "Epoch 80000 Cost = 1.3396643\n",
      "Parameters: 0.24855820834636688, 0.6630116701126099, 1.4745631217956543, 1.1534561276317736e-35\n",
      "Epoch 90000 Cost = 1.3396646\n",
      "Parameters: 0.248562291264534, 0.663015604019165, 1.474563717842102, 1.1534561276317736e-35\n"
     ]
    }
   ],
   "source": [
    "import math\n",
    "init = tf.global_variables_initializer()\n",
    "n_epochs = int(1e5)\n",
    "\n",
    "\n",
    "with tf.Session() as sess:\n",
    "    sess.run(init)\n",
    "\n",
    "    for epoch in range(n_epochs):\n",
    "        if epoch % 1e4 == 0:\n",
    "            print(\"Epoch\", epoch, \"Cost =\", cost.eval())\n",
    "            print(f'Parameters: {theta_l.eval()}, {theta_h.eval()}, {rho.eval()}, {zeta.eval()}')\n",
    "        sess.run(train_op)\n",
    "    best_theta_l = theta_l.eval()\n",
    "    best_theta_h = theta_h.eval()\n",
    "    best_sigma = 1/math.sqrt(rho.eval())    \n"
   ]
  },
  {
   "cell_type": "markdown",
   "metadata": {},
   "source": [
    "What is interesting here is that $\\zeta$ is zero. This means that we cannot trust the estimation of uncertainty that the developers give us. This also means that we can just use log-normal distribution around the mean specified by the learned parameters $\\theta_l$ and $\\theta_h$. Let's say, the same developer estimated a new task to take 10-15 days. Plugging it into the formulas we see:"
   ]
  },
  {
   "cell_type": "code",
   "execution_count": 14,
   "metadata": {},
   "outputs": [
    {
     "data": {
      "text/plain": [
       "10.67385532327305"
      ]
     },
     "execution_count": 14,
     "metadata": {},
     "output_type": "execute_result"
    }
   ],
   "source": [
    "mu = best_theta_l*math.log(10)+best_theta_h*math.log(15)\n",
    "most_likely_prediction = math.exp(mu)    \n",
    "most_likely_prediction"
   ]
  },
  {
   "cell_type": "markdown",
   "metadata": {},
   "source": [
    "We can also get the 95% confidence, by plugging the values directly into log-normal distribution:"
   ]
  },
  {
   "cell_type": "code",
   "execution_count": 15,
   "metadata": {},
   "outputs": [
    {
     "name": "stdout",
     "output_type": "stream",
     "text": [
      "95% confidence: 41.3614192940211\n"
     ]
    }
   ],
   "source": [
    "from scipy.stats import lognorm\n",
    "distribution = lognorm(s=best_sigma, scale=most_likely_prediction, loc=0)\n",
    "print(f'95% confidence: {distribution.ppf(0.95)}')"
   ]
  },
  {
   "cell_type": "markdown",
   "metadata": {},
   "source": [
    "As we see, if we want 95% of confidence, we have to give an estimate of 41 days, instead of 11 days for 50% confidence. This is very easily explained if you see that in the past the developer did not do a very good job estimating the tasks."
   ]
  }
 ],
 "metadata": {
  "kernelspec": {
   "display_name": "Python 3",
   "language": "python",
   "name": "python3"
  },
  "language_info": {
   "codemirror_mode": {
    "name": "ipython",
    "version": 3
   },
   "file_extension": ".py",
   "mimetype": "text/x-python",
   "name": "python",
   "nbconvert_exporter": "python",
   "pygments_lexer": "ipython3",
   "version": "3.6.7"
  }
 },
 "nbformat": 4,
 "nbformat_minor": 2
}
