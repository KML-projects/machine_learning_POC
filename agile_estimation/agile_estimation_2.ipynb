{
 "cells": [
  {
   "cell_type": "markdown",
   "metadata": {},
   "source": [
    "# A better approach to Agile estimation #\n",
    "\n",
    "In my [previous notebook](agile_estimation.ipynb) I proposed to use Poisson distribution for estimating the number of story points per iteration, i.e. project velocity. It is a fairly simple distribution, which has one outstanding property: the distribution of the sum of Poisson-distributed random variables also follows Poisson distribution with a parameter being a sum of the individual parameters. This means that the project velocity is the sum of the velocities of the individual developers, as you would intuitively assume!\n",
    "\n",
    "However, there are problems with Poisson distribution. If you look at its PDF,\n",
    "$$ p(k) = \\frac {\\lambda^k e^{-\\lambda}}{k!} $$\n",
    "you see, that it has only one parameter $\\lambda$. Moreover, the variance is also $\\lambda$, equal to the mean. This raises a question, how do I distinguish between good estimators and lousy estimators. If, for example, I estimate each user story using random number of story points, eventually I will get the same variance as a person, who is accurate in his estimations. \n",
    "\n",
    "Another problem is that Poisson distribution assumes that the duration of story points follows Exponential distribution, which has a mode of 0. So this means that a user story most likely take 0 hours to complete? I am sure the project manager would be happy to hear that."
   ]
  },
  {
   "cell_type": "markdown",
   "metadata": {},
   "source": [
    "If you, however, start with estimating the duration of each story points, you would have to pick a distribution that has a mode greater than zero. I used Normal distribution once to estimate a story point duration, only to notice, that for some developers the variance was so high, that the left tail would go into the negative territory (the task would take negative time to complete!). So I have to choose a distribution that has support $x \\in [0, \\infty]$.\n",
    "\n",
    "I can choose a very popular Gamma distribution, but a better choice is [Log-Normal distribution](https://en.wikipedia.org/wiki/Log-normal_distribution).\n",
    "\n",
    "$$ p(x | \\mu,\\sigma) = \\frac{1}{x \\sigma \\sqrt{2 \\pi}} e^{-\\frac{(\\ln x - \\mu)^2}{2 \\sigma^2}}$$\n",
    "\n",
    "The best property of this distribution is that the inverse distribution is also a Log-normal distribution with the same parameter $\\sigma$ and a reversed parameter $-\\mu$. This means, that if the story duration is a log-normal distribution, then the project velocity is also a log-normal distribution!"
   ]
  },
  {
   "cell_type": "markdown",
   "metadata": {},
   "source": [
    "We will use the same example, as we used in the last notebook"
   ]
  },
  {
   "cell_type": "code",
   "execution_count": 33,
   "metadata": {},
   "outputs": [
    {
     "name": "stdout",
     "output_type": "stream",
     "text": [
      "Mean: 12.046405137951629\n",
      "Standard deviation 3.195066701596986\n",
      "95% confidence: 7.582961342994959\n"
     ]
    }
   ],
   "source": [
    "import numpy as np\n",
    "from scipy.stats import lognorm\n",
    "data=np.array([14, 12,  7, 14, 13])\n",
    "shape, loc, scale = lognorm.fit(data, floc=0)\n",
    "fitted = lognorm(shape, loc, scale)\n",
    "print(f'Mean: {fitted.mean()}')\n",
    "print(f'Standard deviation {fitted.std()}')\n",
    "print(f'95% confidence: {fitted.ppf(0.05)}')\n"
   ]
  },
  {
   "cell_type": "code",
   "execution_count": 34,
   "metadata": {},
   "outputs": [
    {
     "data": {
      "image/png": "[encoded data removed]",
      "text/plain": [
       "<matplotlib.figure.Figure at 0x1cf5bfeae80>"
      ]
     },
     "metadata": {
      "needs_background": "light"
     },
     "output_type": "display_data"
    }
   ],
   "source": [
    "#Let's plot it\n",
    "%matplotlib inline\n",
    "import matplotlib.pyplot as plt\n",
    "def plot_dist(frozen):\n",
    "    fig, ax = plt.subplots(1, 1)\n",
    "    x = np.linspace(5, 22, 100)\n",
    "    ax.plot(x, frozen.pdf(x), 'r-', lw=5, alpha=0.6, label='lognorm pdf')\n",
    "plot_dist(fitted);"
   ]
  },
  {
   "cell_type": "markdown",
   "metadata": {},
   "source": [
    "So the answer is close to the one given by Poisson distribution. Let's try to get another team that maybe has lower velocity, but more reliable estimates:"
   ]
  },
  {
   "cell_type": "code",
   "execution_count": 35,
   "metadata": {},
   "outputs": [
    {
     "name": "stdout",
     "output_type": "stream",
     "text": [
      "Mean: 10.799871930716652\n",
      "Standard deviation 0.7427443647589952\n",
      "95% confidence: 9.62328932436764\n"
     ]
    }
   ],
   "source": [
    "data=np.array([10, 11,  12, 10, 11])\n",
    "shape, loc, scale = lognorm.fit(data, floc=0)\n",
    "fitted = lognorm(shape, loc, scale)\n",
    "print(f'Mean: {fitted.mean()}')\n",
    "print(f'Standard deviation {fitted.std()}')\n",
    "print(f'95% confidence: {fitted.ppf(0.05)}')"
   ]
  },
  {
   "cell_type": "code",
   "execution_count": 36,
   "metadata": {},
   "outputs": [
    {
     "data": {
      "image/png": "[encoded data removed]",
      "text/plain": [
       "<matplotlib.figure.Figure at 0x1cf5be7d978>"
      ]
     },
     "metadata": {
      "needs_background": "light"
     },
     "output_type": "display_data"
    }
   ],
   "source": [
    "plot_dist(fitted);"
   ]
  },
  {
   "cell_type": "markdown",
   "metadata": {},
   "source": [
    "We see, that even though the velocity of this team is lower, than of the first team, if the manager asks you for 95% confidence, you can pick the second team, because it can reliably do more story points in the iteration."
   ]
  }
 ],
 "metadata": {
  "kernelspec": {
   "display_name": "Python 3",
   "language": "python",
   "name": "python3"
  },
  "language_info": {
   "codemirror_mode": {
    "name": "ipython",
    "version": 3
   },
   "file_extension": ".py",
   "mimetype": "text/x-python",
   "name": "python",
   "nbconvert_exporter": "python",
   "pygments_lexer": "ipython3",
   "version": "3.6.4"
  }
 },
 "nbformat": 4,
 "nbformat_minor": 2
}
