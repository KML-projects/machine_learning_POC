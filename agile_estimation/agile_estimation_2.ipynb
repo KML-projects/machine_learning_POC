{
 "cells": [
  {
   "cell_type": "markdown",
   "metadata": {},
   "source": [
    "# Using statistics in agile estimation #\n",
    "\n",
    "In Scrum, and in general in any Agile process, starting with Extreme Programming, the development is split into fixed-length iterations or sprints. Before the beginning of each sprint, the team is doing sprints planning and allocates the work for the sprint based on the priority of user stories. The question is, how many stories the team can complete in one iteration? \n",
    "\n",
    "The unit of work started from \"ideal hours\" in Extreme Programming, which is different from the real hours. Ideal hours is the number of hours available to the team to actually do work. Moreover, the estimate was multiplied by the load factor, initially set to 3. \n",
    "\n",
    "This fairly complex models seemed ineffective and was replaced to story points. They are abstract measure of complexity of the user story, and the values are assigned based on the similar user stories, done in the past, and a ceremony called \"planning poker\". The number of story points the team can do within one iteration is called project velocity. It is measured based on the \"Yesterday's weather\" rule. "
   ]
  },
  {
   "cell_type": "markdown",
   "metadata": {},
   "source": [
    "The number of story points completed varies in the past iterations, so it is natural to use statistical methods to model the project velocity. Initially I started using Normal distribution once to estimate a story point duration, but then I noticed, that for some developers the variance was so high, that the left tail would go into the negative territory (the task would take negative time to complete!). So I have to choose a distribution that has support $x \\in [0, \\infty]$.\n",
    "\n",
    "I can choose a very popular Gamma distribution, but a better choice is [Log-Normal distribution](https://en.wikipedia.org/wiki/Log-normal_distribution).\n",
    "\n",
    "$$ p(x | \\mu,\\sigma) = \\frac{1}{x \\sigma \\sqrt{2 \\pi}} e^{-\\frac{(\\ln x - \\mu)^2}{2 \\sigma^2}}$$\n",
    "\n",
    "The best property of this distribution is that the inverse distribution is also a Log-normal distribution with the same parameter $\\sigma$ and a reversed parameter $-\\mu$. This means, that if the story duration is a log-normal distribution, then the project velocity is also a log-normal distribution!"
   ]
  },
  {
   "cell_type": "markdown",
   "metadata": {},
   "source": [
    "Let's take an artificial example (that, however, based on my experience) that after five iterations we have the following number of story points completed: 14, 12, 7, 14, 13:"
   ]
  },
  {
   "cell_type": "code",
   "execution_count": 13,
   "metadata": {},
   "outputs": [],
   "source": [
    "import numpy as np\n",
    "from scipy.stats import lognorm\n",
    "data=np.array([14, 12,  7, 14, 13])"
   ]
  },
  {
   "cell_type": "markdown",
   "metadata": {},
   "source": [
    "We will use function `fit()` to infer the most likely parameters of the distribution"
   ]
  },
  {
   "cell_type": "code",
   "execution_count": 14,
   "metadata": {},
   "outputs": [
    {
     "name": "stdout",
     "output_type": "stream",
     "text": [
      "Mean: 12.046405137951629\n",
      "Median 11.643812098634315\n",
      "Standard deviation 3.195066701596986\n"
     ]
    }
   ],
   "source": [
    "shape, loc, scale = lognorm.fit(data, floc=0)\n",
    "fitted = lognorm(shape, loc, scale)\n",
    "print(f'Mean: {fitted.mean()}')\n",
    "print(f'Median {fitted.median()}')\n",
    "print(f'Standard deviation {fitted.std()}')"
   ]
  },
  {
   "cell_type": "markdown",
   "metadata": {},
   "source": [
    "What you can see that, unlike the Normal distribution, mean here is not equal to median. The median indicates that there is 50% chance we will be able to complete 12 story points in an iteration.  Is this what the management is asking for? Probably not. They want a commitment, or at least, 95% confidence. We can also easily get that:"
   ]
  },
  {
   "cell_type": "code",
   "execution_count": 15,
   "metadata": {},
   "outputs": [
    {
     "name": "stdout",
     "output_type": "stream",
     "text": [
      "95% confidence: 7.582961342994959\n"
     ]
    }
   ],
   "source": [
    "print(f'95% confidence: {fitted.ppf(0.05)}')"
   ]
  },
  {
   "cell_type": "markdown",
   "metadata": {},
   "source": [
    "This means, that we can report to the management, that with 95% confidence we can complete 7 story points within one iteration.\n",
    "\n",
    "The project velocity may have a systematic error if the individual developers' velocity is drastically different. A good Agile project not only tracks the team velocity, but also developer velocity, and adjust the former based on the latter.\n",
    "\n",
    "The project velocity may also depend on other factors. The developers are getting better in estimating the stories, the team is becoming faster, so it may not makes sense to use all historical data equally, but use techniques lime moving average or exponential moving average.\n",
    "\n",
    "Finally, let's plot the graph:"
   ]
  },
  {
   "cell_type": "code",
   "execution_count": 16,
   "metadata": {},
   "outputs": [
    {
     "data": {
      "image/png": "[encoded data removed]",
      "text/plain": [
       "<matplotlib.figure.Figure at 0x2019feb9630>"
      ]
     },
     "metadata": {
      "needs_background": "light"
     },
     "output_type": "display_data"
    }
   ],
   "source": [
    "#Let's plot it\n",
    "%matplotlib inline\n",
    "import matplotlib.pyplot as plt\n",
    "def plot_dist(frozen):\n",
    "    fig, ax = plt.subplots(1, 1)\n",
    "    x = np.linspace(5, 22, 100)\n",
    "    ax.plot(x, frozen.pdf(x), 'r-', lw=5, alpha=0.6, label='lognorm pdf')\n",
    "plot_dist(fitted);"
   ]
  },
  {
   "cell_type": "markdown",
   "metadata": {},
   "source": [
    "We can see that there are long tails in this distribution, either indicating a team of junior developers, or a team that is struggling with unknown technology. Let's use the data from a different team of more senior developers, that are also more familiar with the technology:"
   ]
  },
  {
   "cell_type": "code",
   "execution_count": 17,
   "metadata": {},
   "outputs": [
    {
     "name": "stdout",
     "output_type": "stream",
     "text": [
      "Mean: 11.000080762503776\n",
      "Standard deviation 0.8202233434986027\n",
      "Median 10.969627629371379\n",
      "95% confidence: 9.705099227490399\n"
     ]
    }
   ],
   "source": [
    "data1=np.array([10, 11,  12, 10, 11, 12])\n",
    "shape1, loc1, scale1 = lognorm.fit(data1, floc=0)\n",
    "fitted1 = lognorm(shape1, loc1, scale1)\n",
    "print(f'Mean: {fitted1.mean()}')\n",
    "print(f'Standard deviation {fitted1.std()}')\n",
    "print(f'Median {fitted1.median()}')\n",
    "print(f'95% confidence: {fitted1.ppf(0.05)}')"
   ]
  },
  {
   "cell_type": "code",
   "execution_count": 18,
   "metadata": {},
   "outputs": [
    {
     "data": {
      "image/png": "[encoded data removed]",
      "text/plain": [
       "<matplotlib.figure.Figure at 0x2019ff42518>"
      ]
     },
     "metadata": {
      "needs_background": "light"
     },
     "output_type": "display_data"
    }
   ],
   "source": [
    "plot_dist(fitted1);"
   ]
  },
  {
   "cell_type": "markdown",
   "metadata": {},
   "source": [
    "We see, that even though the velocity of this team is lower, than of the first team, if the manager asks you for 95% confidence, you can pick the second team, because it can reliably do more story points in the iteration."
   ]
  }
 ],
 "metadata": {
  "kernelspec": {
   "display_name": "Python 3",
   "language": "python",
   "name": "python3"
  },
  "language_info": {
   "codemirror_mode": {
    "name": "ipython",
    "version": 3
   },
   "file_extension": ".py",
   "mimetype": "text/x-python",
   "name": "python",
   "nbconvert_exporter": "python",
   "pygments_lexer": "ipython3",
   "version": "3.6.4"
  }
 },
 "nbformat": 4,
 "nbformat_minor": 2
}
