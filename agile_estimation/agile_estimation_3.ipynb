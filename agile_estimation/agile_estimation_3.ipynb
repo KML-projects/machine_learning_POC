{
 "cells": [
  {
   "cell_type": "markdown",
   "metadata": {},
   "source": [
    "# Agile Estimation: missed opportunity and missed deadlines #\n",
    "\n",
    "Why the companies care when their development projects will be completed? Obviously, to get some benefit from the project sooner. It may be increase of sales or profit, or reduction of cost. We call is missed opportunity, and it has a cost in dollars. \n",
    "\n",
    "Calculating missed opportunity is easier and more straightforward and, what is more important, much less misleading, than calculating ROI. Just think about how many times the actual ROI from the software project was several orders of magnitude less than the projected? Using missed opportunity calculation also helps you prioritize the projects.\n",
    "\n",
    "In this notebook we will try to estimate the probability distribution of the missed opportunity of a single project based on the number of story points the team can complete in one iteration. \n",
    "As discussed in [the previous notebook](agile_estimation_2.ipynb), we will use Log-Normal distribution to estimate project velocity."
   ]
  },
  {
   "cell_type": "code",
   "execution_count": 56,
   "metadata": {},
   "outputs": [],
   "source": [
    "import numpy as np\n",
    "from scipy.stats import lognorm\n",
    "data=np.array([14, 12,  7, 14, 13])\n",
    "shape, loc, scale = lognorm.fit(data, floc=0)"
   ]
  },
  {
   "cell_type": "markdown",
   "metadata": {},
   "source": [
    "Here we took the information about the past iteration of the team (14, 12,  7, 14, 13 story points respectively) and fitted it to the log-normal distribution. We are interested the question: How many iterations will a given number of story point(in this example 70) take. Again, we use the wonderful property of the log-normal distribution, that the inverse is also log-normal with the same parameter $\\sigma$ and inversed parameter $-\\mu$"
   ]
  },
  {
   "cell_type": "code",
   "execution_count": 57,
   "metadata": {},
   "outputs": [
    {
     "name": "stdout",
     "output_type": "stream",
     "text": [
      "Mean: 6.219638285087961\n",
      "Median 6.011776848254893\n",
      "Standard deviation 1.6496339740439272\n"
     ]
    }
   ],
   "source": [
    "num_points = 70\n",
    "dist_iterations = lognorm(shape, loc, num_points/scale)\n",
    "print(f'Mean: {dist_iterations.mean()}')\n",
    "print(f'Median {dist_iterations.median()}')\n",
    "print(f'Standard deviation {dist_iterations.std()}')"
   ]
  },
  {
   "cell_type": "code",
   "execution_count": 58,
   "metadata": {},
   "outputs": [
    {
     "data": {
      "image/png": "[encoded data removed]",
      "text/plain": [
       "<matplotlib.figure.Figure at 0x29ab008c908>"
      ]
     },
     "metadata": {
      "needs_background": "light"
     },
     "output_type": "display_data"
    }
   ],
   "source": [
    "#We plot the distribution\n",
    "%matplotlib inline\n",
    "import matplotlib.pyplot as plt\n",
    "def plot_dist(frozen, low=0, high=14):\n",
    "    fig, ax = plt.subplots(1, 1)\n",
    "    x = np.linspace(low, high, 100)\n",
    "    ax.plot(x, frozen.pdf(x), 'r-', lw=5, alpha=0.6, label='lognorm pdf')\n",
    "plot_dist(dist_iterations);"
   ]
  },
  {
   "cell_type": "markdown",
   "metadata": {},
   "source": [
    "So we see that we have a good chance to complete it within 7 iterations, but there is a chance it may take up to 12 iterations! Let's say the business is losing $10,000 per iteration as missed opportunity. Then the distribution of missed opportunity will be the following:"
   ]
  },
  {
   "cell_type": "code",
   "execution_count": 59,
   "metadata": {},
   "outputs": [
    {
     "name": "stdout",
     "output_type": "stream",
     "text": [
      "Mean: 62196.382850879614\n",
      "Median 60117.768482548934\n",
      "Standard deviation 16496.33974043927\n"
     ]
    },
    {
     "data": {
      "image/png": "[encoded data removed]",
      "text/plain": [
       "<matplotlib.figure.Figure at 0x29aafc46208>"
      ]
     },
     "metadata": {
      "needs_background": "light"
     },
     "output_type": "display_data"
    }
   ],
   "source": [
    "missed_opportunity_per_iteration = 10000\n",
    "missed_opportunity = lognorm(shape, loc, num_points/scale*missed_opportunity_per_iteration)\n",
    "print(f'Mean: {missed_opportunity.mean()}')\n",
    "print(f'Median {missed_opportunity.median()}')\n",
    "print(f'Standard deviation {missed_opportunity.std()}')\n",
    "plot_dist(missed_opportunity, 0, 140000);"
   ]
  },
  {
   "cell_type": "markdown",
   "metadata": {},
   "source": [
    "As we see, we have all incentives to complete the project sooner to move the curve to the left. Maybe we add more developers to increase velocity? We may also want to reduce scope to reduce the number of story points.\n",
    "\n",
    "Finally, despite what some Agile theorists say, the business sets deadline for a reason. When a software project is done, the business has to do UAT, reach out to some of the customers and ask them to provide feedback, etc. The business would also like to plan this in advance, and since the closure activities have a fixed cost, if the project is not delivered on time, this will add to the project cost. We call it cost of delay.\n",
    "\n",
    "If the missed opportunity cost is zero, then to avoid the cost of delay we plan the closure activities to as late as possible. But if it is non-zero, then there will be trade-off between two costs. So if $C$ is a closure cost, $C_o$ is the missed opportunity cost, $N$ is the actual number of iterations and $M$ is the number if iterations planned, then the total cost will be:\n",
    "\n",
    "$$ T_c = M C_o + C P(N > M) $$\n",
    "\n",
    "We need to minimize this cost over $M$"
   ]
  },
  {
   "cell_type": "markdown",
   "metadata": {},
   "source": [
    "We can take a derivative with respect to M. Note, that $P(N > M)$ is what is called survival function, or $1 - CDF$, where CDF is the cumulative density function. The derivative of the survival function is negative probability density function. Thus the optimal value of M is defined by the equation:\n",
    "\n",
    "$$ C_o - C p(M) = 0 $$\n",
    "\n",
    "In this example we guess that the delay cost is $95,000"
   ]
  },
  {
   "cell_type": "code",
   "execution_count": 60,
   "metadata": {},
   "outputs": [
    {
     "data": {
      "text/plain": [
       "7.994986056462073"
      ]
     },
     "execution_count": 60,
     "metadata": {},
     "output_type": "execute_result"
    }
   ],
   "source": [
    "#We solve the equation numerically:\n",
    "from scipy.optimize import *\n",
    "delay_cost = 95000\n",
    "def to_optimize(m):\n",
    "    return missed_opportunity_per_iteration - delay_cost*dist_iterations.pdf(m)\n",
    "roots = newton_krylov(to_optimize, 8.0)\n",
    "float(roots)"
   ]
  },
  {
   "cell_type": "markdown",
   "metadata": {},
   "source": [
    "This shows us, that even though the team will most likely complete project in six iterations, but due to the high cost of delay, it is better to schedule closure activities after eight iterations. \n",
    "\n",
    "In practice, the iterations are filled with so called \"slack\", i.e. low priority stories, that team does when all high priority stories are completed. If indeed the team is done in six iterations, it can work on the slack stories or address technical debt."
   ]
  }
 ],
 "metadata": {
  "kernelspec": {
   "display_name": "Python 3",
   "language": "python",
   "name": "python3"
  },
  "language_info": {
   "codemirror_mode": {
    "name": "ipython",
    "version": 3
   },
   "file_extension": ".py",
   "mimetype": "text/x-python",
   "name": "python",
   "nbconvert_exporter": "python",
   "pygments_lexer": "ipython3",
   "version": "3.6.4"
  }
 },
 "nbformat": 4,
 "nbformat_minor": 2
}
