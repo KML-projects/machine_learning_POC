{
 "cells": [
  {
   "cell_type": "markdown",
   "metadata": {
    "_uuid": "332fa118684da9a9278d2caf565620686fd73a68",
    "colab_type": "text",
    "id": "qAVSzAxbf-Ri"
   },
   "source": [
    "# Graph CNN and Permutation inviriance\n",
    "This notebook contains extensions of the basic learning aggregate function approach. We will try to learn max() function by varying the dimension of latent space. "
   ]
  },
  {
   "cell_type": "code",
   "execution_count": 0,
   "metadata": {
    "_cell_guid": "b1076dfc-b9ad-4769-8c92-a6c4dae69d19",
    "_kg_hide-input": true,
    "_uuid": "8f2839f25d086af736a60e9eeb907d3b93b6e0e5",
    "colab": {},
    "colab_type": "code",
    "id": "hvwYNTZbf-Rk"
   },
   "outputs": [],
   "source": [
    "import numpy as np \n",
    "import pandas as pd \n",
    "import matplotlib.pyplot as plt\n",
    "import seaborn as sns\n",
    "%matplotlib inline"
   ]
  },
  {
   "cell_type": "code",
   "execution_count": 0,
   "metadata": {
    "_uuid": "966e0c48990fc8ac5c9606848533dff68957d471",
    "colab": {},
    "colab_type": "code",
    "id": "kvVdnWPGf-Rm"
   },
   "outputs": [],
   "source": [
    "import random\n",
    "seed = 1387\n",
    "random.seed(seed)\n",
    "np.random.seed(seed)"
   ]
  },
  {
   "cell_type": "markdown",
   "metadata": {
    "colab_type": "text",
    "id": "OMtLmVQUhX69"
   },
   "source": [
    "We will asume we have 100 customers with varying number of orders. We will see if we can successfully learn the max of the order amount for every customer."
   ]
  },
  {
   "cell_type": "code",
   "execution_count": 0,
   "metadata": {
    "_uuid": "b6b5a505bfecabd70c6dac0ee30386d074b03953",
    "colab": {},
    "colab_type": "code",
    "id": "CXVsPTQ5f-Ro"
   },
   "outputs": [],
   "source": [
    "#The probabilities that the customer orders something:\n",
    "probs = np.linspace(2, 50, 100)\n",
    "orders = []\n",
    "for customer_id, prob in enumerate(probs):\n",
    "  num_orders = np.random.poisson(prob)\n",
    "  orders += [[customer_id, abs(amount)] for amount in np.random.normal(100, 20, num_orders)]\n",
    "\n",
    "orders = pd.DataFrame(orders, columns=['customer_id', 'order_amount'])"
   ]
  },
  {
   "cell_type": "markdown",
   "metadata": {
    "colab_type": "text",
    "id": "kBzxqH6AaQD3"
   },
   "source": [
    "First we will do some exploratory data analysis. We will see the distribution of the max order amount among the customers."
   ]
  },
  {
   "cell_type": "code",
   "execution_count": 5,
   "metadata": {
    "colab": {
     "base_uri": "https://localhost:8080/",
     "height": 265
    },
    "colab_type": "code",
    "executionInfo": {
     "elapsed": 1075,
     "status": "ok",
     "timestamp": 1575141999036,
     "user": {
      "displayName": "Michael Larionov",
      "photoUrl": "https://lh3.googleusercontent.com/a-/AAuE7mAORPwOaeXOkclrjZdhGirYqvFmck-2QECooilbnQ=s64",
      "userId": "13037426546441787573"
     },
     "user_tz": 360
    },
    "id": "Sh0JnjqsaItM",
    "outputId": "f00b5911-6f7d-4d3e-e626-94db66845e89"
   },
   "outputs": [
    {
     "data": {
      "image/png": "[encoded data removed]",
      "text/plain": [
       "<Figure size 432x288 with 1 Axes>"
      ]
     },
     "metadata": {
      "tags": []
     },
     "output_type": "display_data"
    }
   ],
   "source": [
    "grouped_customers = orders.groupby('customer_id').agg({'order_amount': 'max'}) \n",
    "grouped_customers.order_amount.hist(bins=50);"
   ]
  },
  {
   "cell_type": "code",
   "execution_count": 6,
   "metadata": {
    "colab": {
     "base_uri": "https://localhost:8080/",
     "height": 198
    },
    "colab_type": "code",
    "executionInfo": {
     "elapsed": 1068,
     "status": "ok",
     "timestamp": 1575141999036,
     "user": {
      "displayName": "Michael Larionov",
      "photoUrl": "https://lh3.googleusercontent.com/a-/AAuE7mAORPwOaeXOkclrjZdhGirYqvFmck-2QECooilbnQ=s64",
      "userId": "13037426546441787573"
     },
     "user_tz": 360
    },
    "id": "bywaN4WAfIGz",
    "outputId": "16f4fad9-2ff8-4bb2-b27d-945b058462fe",
    "scrolled": true
   },
   "outputs": [
    {
     "data": {
      "text/html": [
       "<div>\n",
       "<style scoped>\n",
       "    .dataframe tbody tr th:only-of-type {\n",
       "        vertical-align: middle;\n",
       "    }\n",
       "\n",
       "    .dataframe tbody tr th {\n",
       "        vertical-align: top;\n",
       "    }\n",
       "\n",
       "    .dataframe thead th {\n",
       "        text-align: right;\n",
       "    }\n",
       "</style>\n",
       "<table border=\"1\" class=\"dataframe\">\n",
       "  <thead>\n",
       "    <tr style=\"text-align: right;\">\n",
       "      <th></th>\n",
       "      <th>customer_id</th>\n",
       "      <th>order_amount</th>\n",
       "    </tr>\n",
       "  </thead>\n",
       "  <tbody>\n",
       "    <tr>\n",
       "      <th>0</th>\n",
       "      <td>0</td>\n",
       "      <td>124.137100</td>\n",
       "    </tr>\n",
       "    <tr>\n",
       "      <th>1</th>\n",
       "      <td>1</td>\n",
       "      <td>114.322688</td>\n",
       "    </tr>\n",
       "    <tr>\n",
       "      <th>2</th>\n",
       "      <td>2</td>\n",
       "      <td>102.327380</td>\n",
       "    </tr>\n",
       "    <tr>\n",
       "      <th>3</th>\n",
       "      <td>3</td>\n",
       "      <td>92.735173</td>\n",
       "    </tr>\n",
       "    <tr>\n",
       "      <th>4</th>\n",
       "      <td>4</td>\n",
       "      <td>110.932746</td>\n",
       "    </tr>\n",
       "  </tbody>\n",
       "</table>\n",
       "</div>"
      ],
      "text/plain": [
       "   customer_id  order_amount\n",
       "0            0    124.137100\n",
       "1            1    114.322688\n",
       "2            2    102.327380\n",
       "3            3     92.735173\n",
       "4            4    110.932746"
      ]
     },
     "execution_count": 6,
     "metadata": {
      "tags": []
     },
     "output_type": "execute_result"
    }
   ],
   "source": [
    "grouped_customers = grouped_customers.reset_index()\n",
    "grouped_customers.head()"
   ]
  },
  {
   "cell_type": "code",
   "execution_count": 7,
   "metadata": {
    "colab": {
     "base_uri": "https://localhost:8080/",
     "height": 80
    },
    "colab_type": "code",
    "executionInfo": {
     "elapsed": 2633,
     "status": "ok",
     "timestamp": 1575142000609,
     "user": {
      "displayName": "Michael Larionov",
      "photoUrl": "https://lh3.googleusercontent.com/a-/AAuE7mAORPwOaeXOkclrjZdhGirYqvFmck-2QECooilbnQ=s64",
      "userId": "13037426546441787573"
     },
     "user_tz": 360
    },
    "id": "6jQp7DDcjt46",
    "outputId": "e7db6ada-2a7e-484b-bd0f-3797ad0c2880"
   },
   "outputs": [
    {
     "name": "stderr",
     "output_type": "stream",
     "text": [
      "Using TensorFlow backend.\n"
     ]
    },
    {
     "data": {
      "text/html": [
       "<p style=\"color: red;\">\n",
       "The default version of TensorFlow in Colab will soon switch to TensorFlow 2.x.<br>\n",
       "We recommend you <a href=\"https://www.tensorflow.org/guide/migrate\" target=\"_blank\">upgrade</a> now \n",
       "or ensure your notebook will continue to use TensorFlow 1.x via the <code>%tensorflow_version 1.x</code> magic:\n",
       "<a href=\"https://colab.research.google.com/notebooks/tensorflow_version.ipynb\" target=\"_blank\">more info</a>.</p>\n"
      ],
      "text/plain": [
       "<IPython.core.display.HTML object>"
      ]
     },
     "metadata": {
      "tags": []
     },
     "output_type": "display_data"
    }
   ],
   "source": [
    "\n",
    "from keras import backend as K \n",
    "def r2_keras(y_true, y_pred):\n",
    "    SS_res =  K.sum(K.square(y_true - y_pred)) \n",
    "    SS_tot = K.sum(K.square(y_true - K.mean(y_true))) \n",
    "    return ( 1 - SS_res/(SS_tot + K.epsilon()) )"
   ]
  },
  {
   "cell_type": "code",
   "execution_count": 0,
   "metadata": {
    "colab": {},
    "colab_type": "code",
    "id": "buiQHViDf-Ry"
   },
   "outputs": [],
   "source": [
    "import tensorflow as tf\n",
    "import keras.layers as L\n",
    "\n",
    "def train_minibatch(seq, latent_space_dimension, learning_rate=1E-3, num_epochs = 2000, sample_fraction = 0.1, verbose=False):\n",
    "    'Train the neural network'\n",
    "    \n",
    "    \n",
    "    tf.reset_default_graph()\n",
    "    X = tf.placeholder('float', shape=(None,1), name='X')\n",
    "    Y = tf.placeholder('float', shape=(None,1), name='Y')\n",
    "    cid = tf.placeholder('int64', shape=(None), name='card_ids')\n",
    "    \n",
    "    #For this POC we use linear units. In reality, we should add non-linearity\n",
    "    pre1 = L.Dense(64, activation=\"elu\")(X)\n",
    "    pre2 = L.Dense(128, activation=\"elu\")(pre1)\n",
    "    pre3 = L.Dense(latent_space_dimension, activation=\"elu\")(pre2)\n",
    "    \n",
    "    #segment_sum() will do a group-by operation for us.\n",
    "    reduced = tf.segment_sum(data=pre3, segment_ids=cid, name='segment_sum')\n",
    "    \n",
    "    post1 = L.Dense(64, activation='elu')(reduced)\n",
    "    post2 = L.Dense(128, activation='elu')(post1)\n",
    "    post3 = L.Dense(256, activation='elu')(post2)\n",
    "    #Again using linear units\n",
    "    predicted = L.Dense(1, activation=None)(post3)\n",
    "    \n",
    "    cost = tf.losses.mean_squared_error(labels=Y, predictions=predicted)\n",
    "\n",
    "    r_squared = r2_keras(Y, predicted)\n",
    "    \n",
    "    #Using Adam optimizer here, even though I could not get optimal performance with it\n",
    "    optimizer = tf.train.AdamOptimizer(learning_rate = learning_rate)\n",
    "    #optimizer = tf.train.GradientDescentOptimizer(learning_rate = learning_rate)\n",
    "    train = optimizer.minimize(cost)\n",
    "    \n",
    "    init = tf.global_variables_initializer()\n",
    "    \n",
    "    losses = []\n",
    "    with tf.Session() as sess:\n",
    "        sess.run(init)\n",
    "        for epoch in range(num_epochs):\n",
    "            \n",
    "            #The way we feed data is as follows:\n",
    "            # 1. Take a sample of \"cards\" (grouped data)\n",
    "            # 2. Create a numeric sequence number, becasue segment_sum() requires it\n",
    "            # 3. Join with the data set to label each record of the sample with the sequence number\n",
    "            cards = seq.sample(frac=sample_fraction)\n",
    "            cards['sequence_number'] = range(cards.shape[0])\n",
    "            merged = pd.merge(orders, cards, on='customer_id', how='inner').sort_values(by='sequence_number')\n",
    "            \n",
    "            x_value = merged.order_amount_x.values.reshape([-1,1])\n",
    "            y_value = cards.order_amount.values.reshape([-1,1])\n",
    "            card_ids = merged.sequence_number\n",
    "            \n",
    "            _ , minibatch_cost, r2_value, prediction_values = \\\n",
    "              sess.run([train, cost, r_squared, predicted], feed_dict={X: x_value, Y: y_value, cid: card_ids})\n",
    "            losses.append(minibatch_cost)\n",
    "\n",
    "            if verbose and epoch % 1000 == 0:\n",
    "                print (\"Cost after epoch %i: %f, R^2 is %f\" % (epoch, minibatch_cost, r2_value))\n",
    "\n",
    "    return losses, prediction_values"
   ]
  },
  {
   "cell_type": "code",
   "execution_count": 36,
   "metadata": {
    "_uuid": "d5d209fd50fa4601c9ce534cf393c55ccc0bc31c",
    "colab": {
     "base_uri": "https://localhost:8080/",
     "height": 726
    },
    "colab_type": "code",
    "executionInfo": {
     "elapsed": 352427,
     "status": "ok",
     "timestamp": 1575150746134,
     "user": {
      "displayName": "Michael Larionov",
      "photoUrl": "https://lh3.googleusercontent.com/a-/AAuE7mAORPwOaeXOkclrjZdhGirYqvFmck-2QECooilbnQ=s64",
      "userId": "13037426546441787573"
     },
     "user_tz": 360
    },
    "id": "g0xa6H9Jf-R0",
    "outputId": "7420f2d1-231a-4c97-d350-3aa5813b5232",
    "scrolled": true
   },
   "outputs": [
    {
     "name": "stdout",
     "output_type": "stream",
     "text": [
      "Cost after epoch 0: 33619.304688, R^2 is -331.295227\n",
      "Cost after epoch 1000: 89.127716, R^2 is 0.532251\n",
      "Cost after epoch 2000: 52.573833, R^2 is 0.701442\n",
      "Cost after epoch 3000: 78.377823, R^2 is 0.552219\n",
      "Cost after epoch 4000: 88.847351, R^2 is 0.605079\n",
      "Cost after epoch 5000: 61.930248, R^2 is 0.636346\n",
      "Cost after epoch 6000: 38.807571, R^2 is 0.755275\n",
      "Cost after epoch 7000: 44.269352, R^2 is 0.749114\n",
      "Cost after epoch 8000: 63.332882, R^2 is 0.703017\n",
      "Cost after epoch 9000: 14.726912, R^2 is 0.915783\n",
      "Cost after epoch 10000: 28.504545, R^2 is 0.821205\n",
      "Cost after epoch 11000: 3.435288, R^2 is 0.979198\n",
      "Cost after epoch 12000: 1.664624, R^2 is 0.992348\n",
      "Cost after epoch 13000: 1.507223, R^2 is 0.992144\n",
      "Cost after epoch 14000: 1.546011, R^2 is 0.990933\n",
      "Cost after epoch 15000: 129.024017, R^2 is -0.049392\n",
      "Cost after epoch 16000: 15.578131, R^2 is 0.889465\n",
      "Cost after epoch 17000: 10.231650, R^2 is 0.932671\n",
      "Cost after epoch 18000: 11.742932, R^2 is 0.925244\n",
      "Cost after epoch 19000: 1.852210, R^2 is 0.990156\n",
      "Cost after epoch 20000: 3.154371, R^2 is 0.985959\n",
      "Cost after epoch 21000: 2.498873, R^2 is 0.985363\n",
      "Cost after epoch 22000: 1.224245, R^2 is 0.994470\n",
      "Cost after epoch 23000: 1.421246, R^2 is 0.991609\n",
      "Cost after epoch 24000: 0.554890, R^2 is 0.997476\n",
      "Cost after epoch 25000: 0.337686, R^2 is 0.998062\n",
      "Cost after epoch 26000: 0.605424, R^2 is 0.997593\n",
      "Cost after epoch 27000: 0.554581, R^2 is 0.996122\n",
      "Cost after epoch 28000: 1.162491, R^2 is 0.991852\n",
      "Cost after epoch 29000: 0.083897, R^2 is 0.999504\n",
      "Cost after epoch 30000: 0.076278, R^2 is 0.999570\n",
      "Cost after epoch 31000: 2.813896, R^2 is 0.985462\n",
      "Cost after epoch 32000: 0.103248, R^2 is 0.999122\n",
      "Cost after epoch 33000: 0.017202, R^2 is 0.999918\n",
      "Cost after epoch 34000: 0.010540, R^2 is 0.999941\n",
      "Cost after epoch 35000: 0.754681, R^2 is 0.995166\n",
      "Cost after epoch 36000: 0.368751, R^2 is 0.997639\n",
      "Cost after epoch 37000: 0.033247, R^2 is 0.999833\n",
      "Cost after epoch 38000: 0.010280, R^2 is 0.999941\n",
      "Cost after epoch 39000: 0.007657, R^2 is 0.999960\n",
      "Cost after epoch 40000: 0.012702, R^2 is 0.999948\n"
     ]
    }
   ],
   "source": [
    "#Check if we can learn to count\n",
    "#count_cards = pd.DataFrame(dummied.groupby('customer_id').count().purchase_amount)\n",
    "losses, predictions = train_minibatch(grouped_customers, latent_space_dimension=500, \n",
    "                                      learning_rate=1E-3, num_epochs=40001, sample_fraction=0.5, verbose=True)\n",
    "#plt.plot(losses);"
   ]
  },
  {
   "cell_type": "markdown",
   "metadata": {},
   "source": [
    "Now let us try to explore the model performance for different values of the latent space dimensionality"
   ]
  },
  {
   "cell_type": "code",
   "execution_count": 0,
   "metadata": {
    "colab": {},
    "colab_type": "code",
    "id": "uCaU31tm1zy-"
   },
   "outputs": [],
   "source": [
    "results = [[dimensionality, train_minibatch(grouped_customers, latent_space_dimension=dimensionality, \n",
    "        learning_rate=1E-3, num_epochs=20001, sample_fraction=0.5)] for dimensionality in [25, 50, 75, 100, 125, 150, 175, 200]]\n"
   ]
  },
  {
   "cell_type": "code",
   "execution_count": 0,
   "metadata": {
    "colab": {},
    "colab_type": "code",
    "id": "u_tgfifd2ksC"
   },
   "outputs": [],
   "source": [
    "results_df = pd.DataFrame([(dim, min(res[0])) for dim, res in results], columns=[\"dimension\", \"mse\"])"
   ]
  },
  {
   "cell_type": "code",
   "execution_count": 45,
   "metadata": {
    "colab": {
     "base_uri": "https://localhost:8080/",
     "height": 288
    },
    "colab_type": "code",
    "executionInfo": {
     "elapsed": 522,
     "status": "ok",
     "timestamp": 1575152467598,
     "user": {
      "displayName": "Michael Larionov",
      "photoUrl": "https://lh3.googleusercontent.com/a-/AAuE7mAORPwOaeXOkclrjZdhGirYqvFmck-2QECooilbnQ=s64",
      "userId": "13037426546441787573"
     },
     "user_tz": 360
    },
    "id": "qdEV_YS3Hng5",
    "outputId": "e8a74222-4ba8-42f9-ad1b-38be559b419b"
   },
   "outputs": [
    {
     "data": {
      "text/html": [
       "<div>\n",
       "<style scoped>\n",
       "    .dataframe tbody tr th:only-of-type {\n",
       "        vertical-align: middle;\n",
       "    }\n",
       "\n",
       "    .dataframe tbody tr th {\n",
       "        vertical-align: top;\n",
       "    }\n",
       "\n",
       "    .dataframe thead th {\n",
       "        text-align: right;\n",
       "    }\n",
       "</style>\n",
       "<table border=\"1\" class=\"dataframe\">\n",
       "  <thead>\n",
       "    <tr style=\"text-align: right;\">\n",
       "      <th></th>\n",
       "      <th>dimension</th>\n",
       "      <th>mse</th>\n",
       "    </tr>\n",
       "  </thead>\n",
       "  <tbody>\n",
       "    <tr>\n",
       "      <th>0</th>\n",
       "      <td>25</td>\n",
       "      <td>0.183349</td>\n",
       "    </tr>\n",
       "    <tr>\n",
       "      <th>1</th>\n",
       "      <td>50</td>\n",
       "      <td>0.018074</td>\n",
       "    </tr>\n",
       "    <tr>\n",
       "      <th>2</th>\n",
       "      <td>75</td>\n",
       "      <td>0.036218</td>\n",
       "    </tr>\n",
       "    <tr>\n",
       "      <th>3</th>\n",
       "      <td>100</td>\n",
       "      <td>0.178824</td>\n",
       "    </tr>\n",
       "    <tr>\n",
       "      <th>4</th>\n",
       "      <td>125</td>\n",
       "      <td>0.029192</td>\n",
       "    </tr>\n",
       "    <tr>\n",
       "      <th>5</th>\n",
       "      <td>150</td>\n",
       "      <td>0.005710</td>\n",
       "    </tr>\n",
       "    <tr>\n",
       "      <th>6</th>\n",
       "      <td>175</td>\n",
       "      <td>0.015270</td>\n",
       "    </tr>\n",
       "    <tr>\n",
       "      <th>7</th>\n",
       "      <td>200</td>\n",
       "      <td>0.051442</td>\n",
       "    </tr>\n",
       "  </tbody>\n",
       "</table>\n",
       "</div>"
      ],
      "text/plain": [
       "   dimension       mse\n",
       "0         25  0.183349\n",
       "1         50  0.018074\n",
       "2         75  0.036218\n",
       "3        100  0.178824\n",
       "4        125  0.029192\n",
       "5        150  0.005710\n",
       "6        175  0.015270\n",
       "7        200  0.051442"
      ]
     },
     "execution_count": 45,
     "metadata": {
      "tags": []
     },
     "output_type": "execute_result"
    }
   ],
   "source": [
    "results_df"
   ]
  },
  {
   "cell_type": "markdown",
   "metadata": {
    "colab_type": "text",
    "id": "2m0UNvQTaCcr"
   },
   "source": [
    "In general, we get pretty low MSE. It seems that the neural network fits the data well. We can also observe that we get unexpected spike of MSE for 100-dimensional latent space. It is possible that the model overfits, because due to several hidden layers we have a lot of parameters for this model. Futher investigation is required to rune it, pick the best activation function and the model architecture\n",
    "\n",
    "\n"
   ]
  }
 ],
 "metadata": {
  "accelerator": "GPU",
  "colab": {
   "collapsed_sections": [],
   "name": "kolmogorov_arnold.ipynb",
   "provenance": [
    {
     "file_id": "https://github.com/mlarionov/machine_learning_POC/blob/master/aggregate_functions/basic_aggregate_function_learning.ipynb",
     "timestamp": 1575070212891
    }
   ]
  },
  "kernelspec": {
   "display_name": "Python 3",
   "language": "python",
   "name": "python3"
  },
  "language_info": {
   "codemirror_mode": {
    "name": "ipython",
    "version": 3
   },
   "file_extension": ".py",
   "mimetype": "text/x-python",
   "name": "python",
   "nbconvert_exporter": "python",
   "pygments_lexer": "ipython3",
   "version": "3.7.3"
  }
 },
 "nbformat": 4,
 "nbformat_minor": 1
}
