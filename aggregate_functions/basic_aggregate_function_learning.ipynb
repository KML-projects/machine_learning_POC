{
 "cells": [
  {
   "cell_type": "markdown",
   "metadata": {
    "_uuid": "332fa118684da9a9278d2caf565620686fd73a68"
   },
   "source": [
    "# Learning aggregate functions #\n",
    "\n"
   ]
  },
  {
   "cell_type": "code",
   "execution_count": 1,
   "metadata": {
    "_cell_guid": "b1076dfc-b9ad-4769-8c92-a6c4dae69d19",
    "_kg_hide-input": true,
    "_uuid": "8f2839f25d086af736a60e9eeb907d3b93b6e0e5"
   },
   "outputs": [],
   "source": [
    "import numpy as np \n",
    "import pandas as pd \n",
    "import matplotlib.pyplot as plt\n",
    "import seaborn as sns\n",
    "%matplotlib inline"
   ]
  },
  {
   "cell_type": "code",
   "execution_count": 2,
   "metadata": {
    "_uuid": "966e0c48990fc8ac5c9606848533dff68957d471"
   },
   "outputs": [],
   "source": [
    "import random\n",
    "seed = 1387\n",
    "random.seed(seed)\n",
    "np.random.seed(seed)"
   ]
  },
  {
   "cell_type": "markdown",
   "metadata": {
    "_uuid": "6a059a8dcf9d93a650f1ccaa8e2bfa3e087219f3"
   },
   "source": [
    "## 1. Loading the data ##\n",
    "\n",
    "First, we load the `new_merchant_transactions.csv` and `historical_transactions.csv`. In practice, these two files contain the same variables and the difference between the two tables only concern the position with respect to a reference date.  Also, booleans features are made numeric:"
   ]
  },
  {
   "cell_type": "code",
   "execution_count": 3,
   "metadata": {
    "_uuid": "b6b5a505bfecabd70c6dac0ee30386d074b03953"
   },
   "outputs": [
    {
     "data": {
      "text/html": [
       "<div>\n",
       "<style scoped>\n",
       "    .dataframe tbody tr th:only-of-type {\n",
       "        vertical-align: middle;\n",
       "    }\n",
       "\n",
       "    .dataframe tbody tr th {\n",
       "        vertical-align: top;\n",
       "    }\n",
       "\n",
       "    .dataframe thead th {\n",
       "        text-align: right;\n",
       "    }\n",
       "</style>\n",
       "<table border=\"1\" class=\"dataframe\">\n",
       "  <thead>\n",
       "    <tr style=\"text-align: right;\">\n",
       "      <th></th>\n",
       "      <th>authorized_flag</th>\n",
       "      <th>card_id</th>\n",
       "      <th>city_id</th>\n",
       "      <th>category_1</th>\n",
       "      <th>installments</th>\n",
       "      <th>category_3</th>\n",
       "      <th>merchant_category_id</th>\n",
       "      <th>merchant_id</th>\n",
       "      <th>month_lag</th>\n",
       "      <th>purchase_amount</th>\n",
       "      <th>purchase_date</th>\n",
       "      <th>category_2</th>\n",
       "      <th>state_id</th>\n",
       "      <th>subsector_id</th>\n",
       "    </tr>\n",
       "  </thead>\n",
       "  <tbody>\n",
       "    <tr>\n",
       "      <th>22775109</th>\n",
       "      <td>N</td>\n",
       "      <td>C_ID_473b843c9d</td>\n",
       "      <td>333</td>\n",
       "      <td>N</td>\n",
       "      <td>0</td>\n",
       "      <td>A</td>\n",
       "      <td>437</td>\n",
       "      <td>M_ID_c0deafd324</td>\n",
       "      <td>-3</td>\n",
       "      <td>-0.713729</td>\n",
       "      <td>2017-08-21 15:38:00</td>\n",
       "      <td>1.0</td>\n",
       "      <td>9</td>\n",
       "      <td>15</td>\n",
       "    </tr>\n",
       "    <tr>\n",
       "      <th>10227162</th>\n",
       "      <td>Y</td>\n",
       "      <td>C_ID_71cb477648</td>\n",
       "      <td>304</td>\n",
       "      <td>N</td>\n",
       "      <td>0</td>\n",
       "      <td>A</td>\n",
       "      <td>80</td>\n",
       "      <td>M_ID_e6bc585098</td>\n",
       "      <td>-1</td>\n",
       "      <td>-0.736765</td>\n",
       "      <td>2018-01-19 21:52:31</td>\n",
       "      <td>5.0</td>\n",
       "      <td>20</td>\n",
       "      <td>37</td>\n",
       "    </tr>\n",
       "  </tbody>\n",
       "</table>\n",
       "</div>"
      ],
      "text/plain": [
       "         authorized_flag          card_id  city_id category_1  installments  \\\n",
       "22775109               N  C_ID_473b843c9d      333          N             0   \n",
       "10227162               Y  C_ID_71cb477648      304          N             0   \n",
       "\n",
       "         category_3  merchant_category_id      merchant_id  month_lag  \\\n",
       "22775109          A                   437  M_ID_c0deafd324         -3   \n",
       "10227162          A                    80  M_ID_e6bc585098         -1   \n",
       "\n",
       "          purchase_amount       purchase_date  category_2  state_id  \\\n",
       "22775109        -0.713729 2017-08-21 15:38:00         1.0         9   \n",
       "10227162        -0.736765 2018-01-19 21:52:31         5.0        20   \n",
       "\n",
       "          subsector_id  \n",
       "22775109            15  \n",
       "10227162            37  "
      ]
     },
     "execution_count": 3,
     "metadata": {},
     "output_type": "execute_result"
    }
   ],
   "source": [
    "#new_transactions = pd.read_csv('../input/new_merchant_transactions.csv', parse_dates=['purchase_date'])\n",
    "historical_transactions = pd.read_csv('../input/historical_transactions.csv', parse_dates=['purchase_date'])\n",
    "#all_transactions = pd.concat([historical_transactions,new_transactions])\n",
    "all_transactions = historical_transactions.sample(frac=0.1, random_state=seed)\n",
    "all_transactions.head(2)"
   ]
  },
  {
   "cell_type": "code",
   "execution_count": 4,
   "metadata": {
    "_uuid": "32962c68daff5f4571d4ea158f5c66e7a3173197"
   },
   "outputs": [
    {
     "name": "stderr",
     "output_type": "stream",
     "text": [
      "C:\\Anaconda\\lib\\site-packages\\matplotlib\\axes\\_axes.py:6462: UserWarning: The 'normed' kwarg is deprecated, and has been replaced by the 'density' kwarg.\n",
      "  warnings.warn(\"The 'normed' kwarg is deprecated, and has been \"\n"
     ]
    },
    {
     "data": {
      "image/png": "[encoded data removed]",
      "text/plain": [
       "<Figure size 432x288 with 1 Axes>"
      ]
     },
     "metadata": {},
     "output_type": "display_data"
    }
   ],
   "source": [
    "sns.distplot(np.log2(all_transactions.groupby('card_id').agg({'card_id': 'count'}).values), kde=False);"
   ]
  },
  {
   "cell_type": "code",
   "execution_count": 5,
   "metadata": {
    "_uuid": "4d557a96bf192bb777e58f5940d281bef9025334"
   },
   "outputs": [],
   "source": [
    "all_transactions.authorized_flag = all_transactions.authorized_flag == 'Y'\n",
    "all_transactions.category_1 = all_transactions.category_1 == 'Y'\n",
    "dummied = all_transactions\n",
    "dummied = pd.get_dummies(dummied, dummy_na=True, drop_first=True, columns=['category_2'])\n",
    "dummied = pd.get_dummies(dummied, dummy_na=True, drop_first=True, columns=['category_3'])\n",
    "dummied = pd.get_dummies(dummied, dummy_na=True, drop_first=True, columns=['city_id'])\n",
    "dummied = pd.get_dummies(dummied, dummy_na=True, drop_first=True, columns=['state_id'])\n",
    "dummied = pd.get_dummies(dummied, dummy_na=True, drop_first=True, columns=['subsector_id'])\n",
    "dummied = dummied.drop(columns=['installments', 'merchant_category_id', 'merchant_id', 'month_lag', 'purchase_date'])"
   ]
  },
  {
   "cell_type": "code",
   "execution_count": 6,
   "metadata": {
    "_uuid": "2af87bee33a85a2c150146688834754ea1eecad1"
   },
   "outputs": [],
   "source": [
    "from sklearn.preprocessing import StandardScaler\n",
    "dummied.purchase_amount = StandardScaler().fit_transform(dummied.purchase_amount.values.reshape(-1, 1))"
   ]
  },
  {
   "cell_type": "code",
   "execution_count": 8,
   "metadata": {},
   "outputs": [],
   "source": [
    "import tensorflow as tf\n",
    "\n",
    "def train_minibatch(seq, learning_rate=1E-3, num_epochs = 2000):\n",
    "    'Train the neural network'\n",
    "    \n",
    "    #For proof of concept we user only one unit, but in reality we should add multiple units.\n",
    "    #This sill permit us to learn multiple aggregate functions at the same time\n",
    "    num_units1 = 1\n",
    "    \n",
    "    sample_fraction = 1E-3\n",
    "    tf.reset_default_graph()\n",
    "    X = tf.placeholder('float', shape=(None,dummied.shape[1]-1), name='X')\n",
    "    Y = tf.placeholder('float', shape=(None,1), name='Y')\n",
    "    cid = tf.placeholder('int64', shape=(None), name='card_ids')\n",
    "    \n",
    "    #For this POC we use linear units. In reality, we should add non-linearity\n",
    "    layer1 = tf.contrib.layers.fully_connected(inputs=X, num_outputs=num_units1, \n",
    "                                               activation_fn=None, scope='layer1') #tf.nn.relu\n",
    "    \n",
    "    #segment_sum() will do a group-by operation for us.\n",
    "    reduced = tf.segment_sum(data=layer1, segment_ids=cid, name='segment_sum')\n",
    "    \n",
    "    #Again using linear units\n",
    "    predicted = tf.contrib.layers.fully_connected(inputs=reduced, num_outputs=1, activation_fn=None, scope='layer2')\n",
    "    \n",
    "    cost = tf.losses.mean_squared_error(labels=Y, predictions=predicted)\n",
    "    \n",
    "    #Using Adam optimizer here, even though I could not get optimal performance with it\n",
    "    optimizer = tf.train.AdamOptimizer(learning_rate = learning_rate)\n",
    "    train = optimizer.minimize(cost)\n",
    "    \n",
    "    init = tf.global_variables_initializer()\n",
    "    \n",
    "    losses = []\n",
    "    with tf.Session() as sess:\n",
    "        sess.run(init)\n",
    "        for epoch in range(num_epochs):\n",
    "            \n",
    "            #The way we feed data is as follows:\n",
    "            # 1. Take a sample of \"cards\" (grouped data)\n",
    "            # 2. Create a numeric sequence number, becasue segment_sum() requires it\n",
    "            # 3. Join with the data set to label each record of the sample with the sequence number\n",
    "            cards = seq.sample(frac=sample_fraction)\n",
    "            cards = cards.rename({cards.columns[0]:'target'})\n",
    "            cards_df = pd.DataFrame(index=cards.index, data={'target': cards.values.reshape([-1])})\n",
    "            cards_df['sequence_number'] = range(cards.shape[0])\n",
    "            joined_df = dummied.join(cards_df, on='card_id', how='inner').sort_values(by='sequence_number')\n",
    "            \n",
    "            x_value = joined_df.drop(columns=['card_id', 'target', 'sequence_number']).values\n",
    "            y_value = cards_df.target.values.reshape([-1,1])\n",
    "            card_ids = joined_df.sequence_number\n",
    "            \n",
    "            _ , minibatch_cost = sess.run([train, cost], feed_dict={X: x_value, Y: y_value, cid: card_ids})\n",
    "            losses.append(minibatch_cost)\n",
    "\n",
    "            if epoch % 100 == 0:\n",
    "                print (\"Cost after epoch %i: %f\" % (epoch, minibatch_cost))\n",
    "    return losses"
   ]
  },
  {
   "cell_type": "code",
   "execution_count": 9,
   "metadata": {
    "_uuid": "d5d209fd50fa4601c9ce534cf393c55ccc0bc31c"
   },
   "outputs": [
    {
     "name": "stdout",
     "output_type": "stream",
     "text": [
      "Cost after epoch 0: 187.700562\n",
      "Cost after epoch 100: 0.741461\n",
      "Cost after epoch 200: 0.234625\n",
      "Cost after epoch 300: 0.346947\n",
      "Cost after epoch 400: 0.082935\n",
      "Cost after epoch 500: 0.197804\n",
      "Cost after epoch 600: 0.059093\n",
      "Cost after epoch 700: 0.057192\n",
      "Cost after epoch 800: 0.036180\n",
      "Cost after epoch 900: 0.037890\n",
      "Cost after epoch 1000: 0.048509\n",
      "Cost after epoch 1100: 0.034636\n",
      "Cost after epoch 1200: 0.023873\n",
      "Cost after epoch 1300: 0.052844\n",
      "Cost after epoch 1400: 0.024490\n",
      "Cost after epoch 1500: 0.021363\n",
      "Cost after epoch 1600: 0.018440\n",
      "Cost after epoch 1700: 0.016469\n",
      "Cost after epoch 1800: 0.018164\n",
      "Cost after epoch 1900: 0.016391\n",
      "Cost after epoch 2000: 0.011880\n"
     ]
    },
    {
     "data": {
      "image/png": "[encoded data removed]",
      "text/plain": [
       "<Figure size 432x288 with 1 Axes>"
      ]
     },
     "metadata": {},
     "output_type": "display_data"
    }
   ],
   "source": [
    "#Check if we can learn to count\n",
    "count_cards = pd.DataFrame(dummied.groupby('card_id').count().purchase_amount)\n",
    "losses = train_minibatch(count_cards, learning_rate=1E-2, num_epochs=2001)\n",
    "plt.plot(losses);"
   ]
  },
  {
   "cell_type": "code",
   "execution_count": 10,
   "metadata": {},
   "outputs": [
    {
     "name": "stdout",
     "output_type": "stream",
     "text": [
      "Cost after epoch 0: 8.718903\n",
      "Cost after epoch 100: 0.052751\n",
      "Cost after epoch 200: 0.097307\n",
      "Cost after epoch 300: 0.206612\n",
      "Cost after epoch 400: 0.060864\n",
      "Cost after epoch 500: 0.209325\n",
      "Cost after epoch 600: 0.458591\n",
      "Cost after epoch 700: 0.807105\n",
      "Cost after epoch 800: 0.133156\n",
      "Cost after epoch 900: 0.026491\n",
      "Cost after epoch 1000: 3.841630\n",
      "Cost after epoch 1100: 0.423557\n",
      "Cost after epoch 1200: 0.209481\n",
      "Cost after epoch 1300: 0.054792\n",
      "Cost after epoch 1400: 0.031808\n",
      "Cost after epoch 1500: 0.053614\n",
      "Cost after epoch 1600: 0.024091\n",
      "Cost after epoch 1700: 0.111102\n",
      "Cost after epoch 1800: 0.026337\n",
      "Cost after epoch 1900: 0.024871\n",
      "Cost after epoch 2000: 0.155583\n"
     ]
    },
    {
     "data": {
      "image/png": "[encoded data removed]",
      "text/plain": [
       "<Figure size 432x288 with 1 Axes>"
      ]
     },
     "metadata": {},
     "output_type": "display_data"
    }
   ],
   "source": [
    "#Check if we can learn sum\n",
    "amount_sum_cards = pd.DataFrame(dummied.groupby('card_id').agg({'purchase_amount': 'sum'}))\n",
    "losses = train_minibatch(amount_sum_cards, learning_rate=1E-2, num_epochs=2001)\n",
    "plt.plot(losses);"
   ]
  }
 ],
 "metadata": {
  "kernelspec": {
   "display_name": "Python 3",
   "language": "python",
   "name": "python3"
  },
  "language_info": {
   "codemirror_mode": {
    "name": "ipython",
    "version": 3
   },
   "file_extension": ".py",
   "mimetype": "text/x-python",
   "name": "python",
   "nbconvert_exporter": "python",
   "pygments_lexer": "ipython3",
   "version": "3.6.5"
  }
 },
 "nbformat": 4,
 "nbformat_minor": 1
}
