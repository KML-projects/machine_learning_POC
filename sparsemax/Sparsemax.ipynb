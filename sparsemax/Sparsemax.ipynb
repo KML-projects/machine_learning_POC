{
 "cells": [
  {
   "cell_type": "markdown",
   "metadata": {},
   "source": [
    "# Sparsemax function\n",
    "\n",
    "This notebook has an implementation of the sparsemax function, defined in the paper [From Softmax to Sparsemax:\n",
    "A Sparse Model of Attention and Multi-Label Classification](http://proceedings.mlr.press/v48/martins16.pdf) by André F. T. Martins and Ramón F. Astudillo."
   ]
  },
  {
   "cell_type": "code",
   "execution_count": 52,
   "metadata": {},
   "outputs": [],
   "source": [
    "import numpy as np\n",
    "def softmax(z):\n",
    "    z_exp = np.exp(z)\n",
    "    return z_exp / z_exp.sum()"
   ]
  },
  {
   "cell_type": "code",
   "execution_count": 67,
   "metadata": {},
   "outputs": [],
   "source": [
    "def sparsemax(z):\n",
    "    sum_all_z = sum(z)\n",
    "    z_sorted = sorted(z, reverse=True)\n",
    "    k = np.arange(len(z))\n",
    "    k_array = 1 + k * z_sorted\n",
    "    z_cumsum = np.cumsum(z_sorted) - z_sorted\n",
    "    k_selected = k_array > z_cumsum\n",
    "    k_max = np.where(k_selected)[0].max() + 1\n",
    "    threshold = (z_cumsum[k_max] - 1) / k_max\n",
    "    return np.maximum(z-threshold, 0)"
   ]
  },
  {
   "cell_type": "code",
   "execution_count": 68,
   "metadata": {
    "scrolled": true
   },
   "outputs": [
    {
     "data": {
      "text/plain": [
       "array([0. , 0.9, 0. , 0.1])"
      ]
     },
     "execution_count": 68,
     "metadata": {},
     "output_type": "execute_result"
    }
   ],
   "source": [
    "np.around(sparsemax([0.1,  1.1, 0.2, 0.3]), decimals=3)"
   ]
  },
  {
   "cell_type": "code",
   "execution_count": 70,
   "metadata": {},
   "outputs": [
    {
     "data": {
      "text/plain": [
       "array([0.165, 0.45 , 0.183, 0.202])"
      ]
     },
     "execution_count": 70,
     "metadata": {},
     "output_type": "execute_result"
    }
   ],
   "source": [
    "np.around(softmax([0.1,  1.1, 0.2, 0.3]), decimals=3)"
   ]
  },
  {
   "cell_type": "code",
   "execution_count": null,
   "metadata": {},
   "outputs": [],
   "source": []
  }
 ],
 "metadata": {
  "kernelspec": {
   "display_name": "Python 3",
   "language": "python",
   "name": "python3"
  },
  "language_info": {
   "codemirror_mode": {
    "name": "ipython",
    "version": 3
   },
   "file_extension": ".py",
   "mimetype": "text/x-python",
   "name": "python",
   "nbconvert_exporter": "python",
   "pygments_lexer": "ipython3",
   "version": "3.7.1"
  }
 },
 "nbformat": 4,
 "nbformat_minor": 2
}
