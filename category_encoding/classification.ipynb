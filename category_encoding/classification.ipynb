{
 "cells": [
  {
   "cell_type": "code",
   "execution_count": 1,
   "metadata": {},
   "outputs": [],
   "source": [
    "%load_ext autoreload\n",
    "import numpy as np\n",
    "import pandas as pd\n",
    "from matplotlib import pyplot as plt\n",
    "%matplotlib inline"
   ]
  },
  {
   "cell_type": "code",
   "execution_count": 2,
   "metadata": {},
   "outputs": [],
   "source": [
    "import sys,os, pathlib\n",
    "current = pathlib.Path(os.getcwd())\n",
    "base = current.parent.parent\n",
    "catenc = base.joinpath('categorical-encoding')\n",
    "sys.path.append(str(catenc))"
   ]
  },
  {
   "cell_type": "markdown",
   "metadata": {},
   "source": [
    "# Binary classification problem\n",
    "\n"
   ]
  },
  {
   "cell_type": "code",
   "execution_count": 3,
   "metadata": {},
   "outputs": [],
   "source": [
    "rs_split = 8379\n",
    "rs_enc = 1179\n",
    "rs_rf = 5991\n",
    "n_samples = 10000"
   ]
  },
  {
   "cell_type": "code",
   "execution_count": 4,
   "metadata": {},
   "outputs": [],
   "source": [
    "from sklearn.datasets import make_classification\n",
    "X_h, y_h = make_classification(n_samples = n_samples, n_features=10, n_informative=5, n_redundant=0, \n",
    "                               class_sep = 0.01, random_state=2834)"
   ]
  },
  {
   "cell_type": "code",
   "execution_count": 5,
   "metadata": {},
   "outputs": [],
   "source": [
    "#Now convert the last column to the categorical\n",
    "from sklearn.preprocessing import KBinsDiscretizer\n",
    "disczr1 = KBinsDiscretizer(n_bins=20, encode='ordinal', strategy='uniform')\n",
    "cat_column1 = disczr1.fit_transform(X_h[:,-1].reshape(-1, 1)) * 193 % 20 #We want to break the monotonicity\n",
    "disczr2 = KBinsDiscretizer(n_bins=15, encode='ordinal', strategy='uniform')\n",
    "cat_column2 = disczr2.fit_transform(X_h[:,-2].reshape(-1, 1)) * 173 % 20 #We want to break the monotonicity"
   ]
  },
  {
   "cell_type": "code",
   "execution_count": 6,
   "metadata": {},
   "outputs": [
    {
     "data": {
      "text/html": [
       "<div>\n",
       "<style scoped>\n",
       "    .dataframe tbody tr th:only-of-type {\n",
       "        vertical-align: middle;\n",
       "    }\n",
       "\n",
       "    .dataframe tbody tr th {\n",
       "        vertical-align: top;\n",
       "    }\n",
       "\n",
       "    .dataframe thead th {\n",
       "        text-align: right;\n",
       "    }\n",
       "</style>\n",
       "<table border=\"1\" class=\"dataframe\">\n",
       "  <thead>\n",
       "    <tr style=\"text-align: right;\">\n",
       "      <th></th>\n",
       "      <th>col_0</th>\n",
       "      <th>col_1</th>\n",
       "      <th>col_2</th>\n",
       "      <th>col_3</th>\n",
       "      <th>col_4</th>\n",
       "      <th>col_5</th>\n",
       "      <th>col_6</th>\n",
       "      <th>col_7</th>\n",
       "      <th>cat1</th>\n",
       "      <th>cat2</th>\n",
       "    </tr>\n",
       "  </thead>\n",
       "  <tbody>\n",
       "    <tr>\n",
       "      <th>0</th>\n",
       "      <td>-0.487295</td>\n",
       "      <td>-0.147595</td>\n",
       "      <td>0.702684</td>\n",
       "      <td>-0.980724</td>\n",
       "      <td>-2.212259</td>\n",
       "      <td>-0.705400</td>\n",
       "      <td>1.487825</td>\n",
       "      <td>0.482706</td>\n",
       "      <td>16.0</td>\n",
       "      <td>18.0</td>\n",
       "    </tr>\n",
       "    <tr>\n",
       "      <th>1</th>\n",
       "      <td>0.639721</td>\n",
       "      <td>-1.635640</td>\n",
       "      <td>0.643382</td>\n",
       "      <td>0.953232</td>\n",
       "      <td>-0.178569</td>\n",
       "      <td>0.332062</td>\n",
       "      <td>2.076369</td>\n",
       "      <td>-0.756664</td>\n",
       "      <td>16.0</td>\n",
       "      <td>11.0</td>\n",
       "    </tr>\n",
       "    <tr>\n",
       "      <th>2</th>\n",
       "      <td>-0.894759</td>\n",
       "      <td>1.810931</td>\n",
       "      <td>1.427439</td>\n",
       "      <td>-0.638438</td>\n",
       "      <td>2.661236</td>\n",
       "      <td>-0.263417</td>\n",
       "      <td>1.359360</td>\n",
       "      <td>-0.759298</td>\n",
       "      <td>16.0</td>\n",
       "      <td>10.0</td>\n",
       "    </tr>\n",
       "  </tbody>\n",
       "</table>\n",
       "</div>"
      ],
      "text/plain": [
       "      col_0     col_1     col_2     col_3     col_4     col_5     col_6  \\\n",
       "0 -0.487295 -0.147595  0.702684 -0.980724 -2.212259 -0.705400  1.487825   \n",
       "1  0.639721 -1.635640  0.643382  0.953232 -0.178569  0.332062  2.076369   \n",
       "2 -0.894759  1.810931  1.427439 -0.638438  2.661236 -0.263417  1.359360   \n",
       "\n",
       "      col_7  cat1  cat2  \n",
       "0  0.482706  16.0  18.0  \n",
       "1 -0.756664  16.0  11.0  \n",
       "2 -0.759298  16.0  10.0  "
      ]
     },
     "execution_count": 6,
     "metadata": {},
     "output_type": "execute_result"
    }
   ],
   "source": [
    "predictors = pd.DataFrame(X_h[:, 0:-2], columns=[f'col_{i}' for i in range(8)])\n",
    "predictors['cat1'] = cat_column1\n",
    "predictors['cat2'] = cat_column2\n",
    "#predictors['cat1_orig'] = cat_column1\n",
    "#predictors['cat2_orig'] = cat_column2\n",
    "predictors.head(3)"
   ]
  },
  {
   "cell_type": "code",
   "execution_count": 7,
   "metadata": {},
   "outputs": [],
   "source": [
    "y_h[y_h<0] = 0"
   ]
  },
  {
   "cell_type": "code",
   "execution_count": 8,
   "metadata": {},
   "outputs": [],
   "source": [
    "from sklearn.model_selection import train_test_split\n",
    "X_train, X_test, y_train, y_test = train_test_split(predictors.values, y_h, test_size=0.2, random_state=rs_split)"
   ]
  },
  {
   "cell_type": "code",
   "execution_count": 9,
   "metadata": {},
   "outputs": [
    {
     "name": "stdout",
     "output_type": "stream",
     "text": [
      "Train accuracy:  0.68975\n",
      "Test accuracy:  0.6735\n",
      "AUC:  0.7250086016859303\n"
     ]
    }
   ],
   "source": [
    "from sklearn.ensemble import RandomForestClassifier\n",
    "from sklearn.metrics import accuracy_score, roc_auc_score\n",
    "model = RandomForestClassifier(n_estimators=100, max_depth=2, max_features=3, min_samples_leaf=1,\n",
    "                               random_state=rs_rf, n_jobs=-1) \n",
    "model.fit(X_train, y_train)\n",
    "preds = model.predict_proba(X_test)[:,1]\n",
    "\n",
    "print('Train accuracy: ', accuracy_score(y_train, model.predict(X_train)))\n",
    "print('Test accuracy: ', accuracy_score(y_test, preds.round()))\n",
    "print('AUC: ', roc_auc_score(y_test, preds))"
   ]
  },
  {
   "cell_type": "code",
   "execution_count": 10,
   "metadata": {},
   "outputs": [
    {
     "data": {
      "text/plain": [
       "array([0.00766255, 0.12502227, 0.20512611, 0.18482931, 0.01124271,\n",
       "       0.4187756 , 0.00490739, 0.0112219 , 0.        , 0.03121215])"
      ]
     },
     "execution_count": 10,
     "metadata": {},
     "output_type": "execute_result"
    }
   ],
   "source": [
    "model.feature_importances_"
   ]
  },
  {
   "cell_type": "markdown",
   "metadata": {},
   "source": [
    "OK, Now we will try to use the probabilistic target encoder\n"
   ]
  },
  {
   "cell_type": "markdown",
   "metadata": {},
   "source": [
    "## Cross-validation\n",
    "\n",
    "We really should use cross-validation to avoid overfitting"
   ]
  },
  {
   "cell_type": "markdown",
   "metadata": {},
   "source": [
    "### Cross-validation of the target encoding model\n",
    "\n",
    "First we will train a model using target encoding"
   ]
  },
  {
   "cell_type": "code",
   "execution_count": 31,
   "metadata": {},
   "outputs": [
    {
     "name": "stderr",
     "output_type": "stream",
     "text": [
      "[I 2020-05-17 21:30:39,105] Finished trial#1 with value: 0.5625 with parameters: {'loo__sigma': 0.00013358802142716134, 'rf__max_depth': 27, 'rf__max_features': 7, 'rf__min_samples_leaf': 3}. Best is trial#1 with value: 0.5625.\n",
      "[I 2020-05-17 21:30:39,554] Finished trial#4 with value: 0.5945 with parameters: {'loo__sigma': 1.1934830195163982e-05, 'rf__max_depth': 14, 'rf__max_features': 5, 'rf__min_samples_leaf': 2}. Best is trial#4 with value: 0.5945.\n",
      "[I 2020-05-17 21:30:42,241] Finished trial#7 with value: 0.7358750000000001 with parameters: {'loo__sigma': 0.0007755343629811461, 'rf__max_depth': 17, 'rf__max_features': 3, 'rf__min_samples_leaf': 3}. Best is trial#7 with value: 0.7358750000000001.\n",
      "[I 2020-05-17 21:30:43,633] Finished trial#0 with value: 0.663125 with parameters: {'loo__sigma': 0.00022028426661920117, 'rf__max_depth': 40, 'rf__max_features': 3, 'rf__min_samples_leaf': 2}. Best is trial#7 with value: 0.7358750000000001.\n",
      "[I 2020-05-17 21:30:44,400] Finished trial#2 with value: 0.620125 with parameters: {'loo__sigma': 0.0006413614662573853, 'rf__max_depth': 27, 'rf__max_features': 9, 'rf__min_samples_leaf': 3}. Best is trial#7 with value: 0.7358750000000001.\n",
      "[I 2020-05-17 21:30:46,488] Finished trial#10 with value: 0.8106249999999999 with parameters: {'loo__sigma': 0.005944562447716489, 'rf__max_depth': 14, 'rf__max_features': 4, 'rf__min_samples_leaf': 1}. Best is trial#10 with value: 0.8106249999999999.\n",
      "[I 2020-05-17 21:30:48,241] Finished trial#9 with value: 0.7986249999999999 with parameters: {'loo__sigma': 0.0019290212138061674, 'rf__max_depth': 36, 'rf__max_features': 5, 'rf__min_samples_leaf': 3}. Best is trial#10 with value: 0.8106249999999999.\n",
      "[I 2020-05-17 21:30:50,743] Finished trial#3 with value: 0.78925 with parameters: {'loo__sigma': 0.021086899640902185, 'rf__max_depth': 11, 'rf__max_features': 9, 'rf__min_samples_leaf': 1}. Best is trial#10 with value: 0.8106249999999999.\n",
      "[I 2020-05-17 21:30:52,214] Finished trial#8 with value: 0.7823749999999999 with parameters: {'loo__sigma': 0.001505606569212239, 'rf__max_depth': 23, 'rf__max_features': 7, 'rf__min_samples_leaf': 3}. Best is trial#10 with value: 0.8106249999999999.\n",
      "[I 2020-05-17 21:30:55,165] Finished trial#6 with value: 0.81875 with parameters: {'loo__sigma': 0.004359753231527078, 'rf__max_depth': 31, 'rf__max_features': 6, 'rf__min_samples_leaf': 1}. Best is trial#6 with value: 0.81875.\n",
      "[I 2020-05-17 21:30:58,725] Finished trial#11 with value: 0.806625 with parameters: {'loo__sigma': 0.007846335375686488, 'rf__max_depth': 22, 'rf__max_features': 10, 'rf__min_samples_leaf': 2}. Best is trial#6 with value: 0.81875.\n",
      "[I 2020-05-17 21:31:00,089] Finished trial#5 with value: 0.805 with parameters: {'loo__sigma': 0.008608701609487502, 'rf__max_depth': 33, 'rf__max_features': 10, 'rf__min_samples_leaf': 2}. Best is trial#6 with value: 0.81875.\n",
      "[I 2020-05-17 21:32:03,185] Finished trial#12 with value: 0.7290000000000001 with parameters: {'loo__sigma': 0.011862343004759529, 'rf__max_depth': 5, 'rf__max_features': 2, 'rf__min_samples_leaf': 1}. Best is trial#6 with value: 0.81875.\n",
      "[I 2020-05-17 21:32:19,418] Finished trial#13 with value: 0.710375 with parameters: {'loo__sigma': 0.000612541419413274, 'rf__max_depth': 13, 'rf__max_features': 3, 'rf__min_samples_leaf': 2}. Best is trial#6 with value: 0.81875.\n",
      "[I 2020-05-17 21:32:21,614] Finished trial#14 with value: 0.6773750000000002 with parameters: {'loo__sigma': 0.0005952185021210315, 'rf__max_depth': 35, 'rf__max_features': 5, 'rf__min_samples_leaf': 2}. Best is trial#6 with value: 0.81875.\n",
      "[I 2020-05-17 21:32:22,175] Finished trial#22 with value: 0.7102499999999999 with parameters: {'loo__sigma': 0.08040083237922528, 'rf__max_depth': 6, 'rf__max_features': 1, 'rf__min_samples_leaf': 1}. Best is trial#6 with value: 0.81875.\n",
      "[I 2020-05-17 21:32:23,416] Finished trial#18 with value: 0.666625 with parameters: {'loo__sigma': 0.00013036339985119318, 'rf__max_depth': 12, 'rf__max_features': 2, 'rf__min_samples_leaf': 1}. Best is trial#6 with value: 0.81875.\n",
      "[I 2020-05-17 21:32:25,730] Finished trial#23 with value: 0.7217499999999999 with parameters: {'loo__sigma': 0.08849867391713423, 'rf__max_depth': 8, 'rf__max_features': 1, 'rf__min_samples_leaf': 1}. Best is trial#6 with value: 0.81875.\n",
      "[I 2020-05-17 21:32:26,843] Finished trial#15 with value: 0.68675 with parameters: {'loo__sigma': 0.0002526646219518481, 'rf__max_depth': 30, 'rf__max_features': 2, 'rf__min_samples_leaf': 1}. Best is trial#6 with value: 0.81875.\n",
      "[I 2020-05-17 21:32:30,487] Finished trial#16 with value: 0.811375 with parameters: {'loo__sigma': 0.0028264003121189, 'rf__max_depth': 34, 'rf__max_features': 3, 'rf__min_samples_leaf': 3}. Best is trial#6 with value: 0.81875.\n",
      "[I 2020-05-17 21:32:32,435] Finished trial#17 with value: 0.779875 with parameters: {'loo__sigma': 0.0029451193350030387, 'rf__max_depth': 20, 'rf__max_features': 1, 'rf__min_samples_leaf': 1}. Best is trial#6 with value: 0.81875.\n",
      "[I 2020-05-17 21:32:38,073] Finished trial#20 with value: 0.7364999999999999 with parameters: {'loo__sigma': 0.0010834676705311522, 'rf__max_depth': 19, 'rf__max_features': 8, 'rf__min_samples_leaf': 1}. Best is trial#6 with value: 0.81875.\n",
      "[I 2020-05-17 21:32:42,570] Finished trial#19 with value: 0.7939999999999999 with parameters: {'loo__sigma': 0.0017571576468114172, 'rf__max_depth': 21, 'rf__max_features': 8, 'rf__min_samples_leaf': 2}. Best is trial#6 with value: 0.81875.\n",
      "[I 2020-05-17 21:32:45,082] Finished trial#21 with value: 0.757375 with parameters: {'loo__sigma': 0.09799237175780086, 'rf__max_depth': 33, 'rf__max_features': 1, 'rf__min_samples_leaf': 1}. Best is trial#6 with value: 0.81875.\n",
      "[I 2020-05-17 21:33:32,756] Finished trial#24 with value: 0.7377499999999999 with parameters: {'loo__sigma': 0.08953077900946761, 'rf__max_depth': 5, 'rf__max_features': 6, 'rf__min_samples_leaf': 1}. Best is trial#6 with value: 0.81875.\n",
      "[I 2020-05-17 21:33:51,885] Finished trial#25 with value: 0.7382500000000001 with parameters: {'loo__sigma': 0.07135654612038735, 'rf__max_depth': 5, 'rf__max_features': 6, 'rf__min_samples_leaf': 1}. Best is trial#6 with value: 0.81875.\n",
      "[I 2020-05-17 21:34:02,578] Finished trial#26 with value: 0.7522500000000001 with parameters: {'loo__sigma': 0.08973592626491333, 'rf__max_depth': 6, 'rf__max_features': 7, 'rf__min_samples_leaf': 1}. Best is trial#6 with value: 0.81875.\n",
      "[I 2020-05-17 21:34:21,568] Finished trial#28 with value: 0.7873749999999999 with parameters: {'loo__sigma': 0.0662796319368301, 'rf__max_depth': 30, 'rf__max_features': 7, 'rf__min_samples_leaf': 1}. Best is trial#6 with value: 0.81875.\n",
      "[I 2020-05-17 21:34:22,581] Finished trial#27 with value: 0.7831250000000001 with parameters: {'loo__sigma': 0.08421376555481852, 'rf__max_depth': 19, 'rf__max_features': 7, 'rf__min_samples_leaf': 1}. Best is trial#6 with value: 0.81875.\n",
      "[I 2020-05-17 21:34:25,854] Finished trial#29 with value: 0.8170000000000002 with parameters: {'loo__sigma': 0.003541201869018329, 'rf__max_depth': 19, 'rf__max_features': 7, 'rf__min_samples_leaf': 1}. Best is trial#6 with value: 0.81875.\n",
      "[I 2020-05-17 21:34:27,581] Finished trial#30 with value: 0.8158750000000001 with parameters: {'loo__sigma': 0.0033987752317451133, 'rf__max_depth': 19, 'rf__max_features': 7, 'rf__min_samples_leaf': 1}. Best is trial#6 with value: 0.81875.\n",
      "[I 2020-05-17 21:34:28,215] Finished trial#31 with value: 0.8151250000000001 with parameters: {'loo__sigma': 0.003409146972429749, 'rf__max_depth': 40, 'rf__max_features': 7, 'rf__min_samples_leaf': 3}. Best is trial#6 with value: 0.81875.\n",
      "[I 2020-05-17 21:34:30,292] Finished trial#33 with value: 0.820375 with parameters: {'loo__sigma': 0.004047611774928666, 'rf__max_depth': 39, 'rf__max_features': 4, 'rf__min_samples_leaf': 1}. Best is trial#33 with value: 0.820375.\n",
      "[I 2020-05-17 21:34:30,491] Finished trial#32 with value: 0.81975 with parameters: {'loo__sigma': 0.004018320357976346, 'rf__max_depth': 40, 'rf__max_features': 6, 'rf__min_samples_leaf': 1}. Best is trial#33 with value: 0.820375.\n"
     ]
    },
    {
     "name": "stderr",
     "output_type": "stream",
     "text": [
      "[I 2020-05-17 21:34:31,779] Finished trial#35 with value: 0.79775 with parameters: {'loo__sigma': 0.03027019818799291, 'rf__max_depth': 39, 'rf__max_features': 4, 'rf__min_samples_leaf': 1}. Best is trial#33 with value: 0.820375.\n",
      "[I 2020-05-17 21:34:32,350] Finished trial#34 with value: 0.798 with parameters: {'loo__sigma': 0.028304162672556598, 'rf__max_depth': 37, 'rf__max_features': 4, 'rf__min_samples_leaf': 1}. Best is trial#33 with value: 0.820375.\n",
      "[I 2020-05-17 21:34:38,680] Finished trial#36 with value: 0.8167500000000001 with parameters: {'loo__sigma': 0.0045936944383394495, 'rf__max_depth': 40, 'rf__max_features': 4, 'rf__min_samples_leaf': 3}. Best is trial#33 with value: 0.820375.\n",
      "[I 2020-05-17 21:34:40,028] Finished trial#37 with value: 0.8166249999999999 with parameters: {'loo__sigma': 0.004823173862804704, 'rf__max_depth': 40, 'rf__max_features': 4, 'rf__min_samples_leaf': 3}. Best is trial#33 with value: 0.820375.\n"
     ]
    },
    {
     "name": "stdout",
     "output_type": "stream",
     "text": [
      "Best parameter (CV score=0.820):\n",
      "{'loo__sigma': 0.004047611774928666, 'rf__max_depth': 39, 'rf__max_features': 4, 'rf__min_samples_leaf': 1}\n",
      "Wall time: 5min 47s\n"
     ]
    }
   ],
   "source": [
    "%%time\n",
    "from sklearn.pipeline import make_pipeline, Pipeline\n",
    "from sklearn.model_selection import cross_val_score\n",
    "from category_encoders.leave_one_out import LeaveOneOutEncoder\n",
    "import optuna\n",
    "from optuna.distributions import *\n",
    "\n",
    "loo = LeaveOneOutEncoder(cols=['cat1', 'cat2'], sigma=0.05, random_state=2834)\n",
    "rf = RandomForestClassifier(n_estimators=400, random_state=2834, n_jobs=-1) \n",
    "pipe = Pipeline(steps=[('loo',loo), ('rf',rf)])\n",
    "\n",
    "param_distribution = {\n",
    "    'loo__sigma': LogUniformDistribution(1E-5, 1E-1),\n",
    "    'rf__max_depth': IntUniformDistribution(5,40),\n",
    "    'rf__max_features' : IntUniformDistribution(1,10),\n",
    "    'rf__min_samples_leaf': IntUniformDistribution(1,3)\n",
    "}\n",
    "\n",
    "X_train, X_test, y_train, y_test = train_test_split(predictors.values, y_h, test_size=0.2, random_state=2834)\n",
    "X_train = pd.DataFrame(X_train, columns=predictors.columns)\n",
    "X_test = pd.DataFrame(X_test, columns=predictors.columns)\n",
    "\n",
    "loo_search = optuna.integration.OptunaSearchCV(pipe, param_distribution, \n",
    "                cv=5, n_jobs=-1, random_state=514, n_trials=None, timeout= 5*60, scoring='accuracy')\n",
    "\n",
    "loo_search.fit(X_train, y_train)\n",
    "print(\"Best parameter (CV score=%0.3f):\" % loo_search.best_score_)\n",
    "print(loo_search.best_params_)\n"
   ]
  },
  {
   "cell_type": "code",
   "execution_count": 32,
   "metadata": {},
   "outputs": [
    {
     "name": "stdout",
     "output_type": "stream",
     "text": [
      "Test accuracy:  0.818\n"
     ]
    }
   ],
   "source": [
    "test_predict = loo_search.best_estimator_.predict(X_test)\n",
    "print('Test accuracy: ', accuracy_score(y_test, test_predict))"
   ]
  },
  {
   "cell_type": "code",
   "execution_count": null,
   "metadata": {},
   "outputs": [],
   "source": []
  },
  {
   "cell_type": "markdown",
   "metadata": {},
   "source": [
    "### Cross-validation of the probabilistic encoder\n",
    "\n",
    "First we create a class that makes it easier for us to run sklearn cross validation"
   ]
  },
  {
   "cell_type": "code",
   "execution_count": 13,
   "metadata": {},
   "outputs": [],
   "source": [
    "from category_encoders.posterior_imputation_bc import PosteriorImputationEncoderBC  \n",
    "from category_encoders.pte_utils import EncoderWrapper"
   ]
  },
  {
   "cell_type": "code",
   "execution_count": 14,
   "metadata": {},
   "outputs": [
    {
     "name": "stderr",
     "output_type": "stream",
     "text": [
      "[I 2020-05-17 10:57:57,813] Finished trial#10 with value: 0.756625 with parameters: {'encoder__prior_samples_ratio': 8.404266964662115e-07, 'encoder__n_draws': 15, 'encoder__leave_one_out': False, 'classifier__max_depth': 14, 'classifier__max_features': 1, 'classifier__min_samples_leaf': 9}. Best is trial#10 with value: 0.756625.\n",
      "[I 2020-05-17 11:06:25,743] Finished trial#2 with value: 0.7826249999999999 with parameters: {'encoder__prior_samples_ratio': 0.08482114247808023, 'encoder__n_draws': 21, 'encoder__leave_one_out': False, 'classifier__max_depth': 28, 'classifier__max_features': 5, 'classifier__min_samples_leaf': 8}. Best is trial#2 with value: 0.7826249999999999.\n",
      "[I 2020-05-17 11:06:34,461] Finished trial#4 with value: 0.7819999999999999 with parameters: {'encoder__prior_samples_ratio': 1.4320384297743452e-08, 'encoder__n_draws': 20, 'encoder__leave_one_out': False, 'classifier__max_depth': 23, 'classifier__max_features': 7, 'classifier__min_samples_leaf': 2}. Best is trial#2 with value: 0.7826249999999999.\n",
      "[I 2020-05-17 11:08:46,207] Finished trial#3 with value: 0.7586250000000001 with parameters: {'encoder__prior_samples_ratio': 0.04319612931339959, 'encoder__n_draws': 18, 'encoder__leave_one_out': False, 'classifier__max_depth': 26, 'classifier__max_features': 10, 'classifier__min_samples_leaf': 9}. Best is trial#2 with value: 0.7826249999999999.\n",
      "[I 2020-05-17 11:09:33,125] Finished trial#0 with value: 0.7747499999999998 with parameters: {'encoder__prior_samples_ratio': 2.738424004103615e-09, 'encoder__n_draws': 24, 'encoder__leave_one_out': False, 'classifier__max_depth': 12, 'classifier__max_features': 8, 'classifier__min_samples_leaf': 7}. Best is trial#2 with value: 0.7826249999999999.\n",
      "[I 2020-05-17 11:11:48,287] Finished trial#12 with value: 0.7856249999999999 with parameters: {'encoder__prior_samples_ratio': 0.00018792665508852286, 'encoder__n_draws': 30, 'encoder__leave_one_out': False, 'classifier__max_depth': 40, 'classifier__max_features': 2, 'classifier__min_samples_leaf': 10}. Best is trial#12 with value: 0.7856249999999999.\n",
      "[I 2020-05-17 11:15:36,904] Finished trial#1 with value: 0.76725 with parameters: {'encoder__prior_samples_ratio': 1.8684238863041783e-09, 'encoder__n_draws': 26, 'encoder__leave_one_out': False, 'classifier__max_depth': 16, 'classifier__max_features': 9, 'classifier__min_samples_leaf': 3}. Best is trial#12 with value: 0.7856249999999999.\n",
      "[I 2020-05-17 11:16:48,976] Finished trial#5 with value: 0.787375 with parameters: {'encoder__prior_samples_ratio': 0.007865353914610781, 'encoder__n_draws': 36, 'encoder__leave_one_out': False, 'classifier__max_depth': 15, 'classifier__max_features': 6, 'classifier__min_samples_leaf': 7}. Best is trial#5 with value: 0.787375.\n",
      "[I 2020-05-17 11:19:42,109] Finished trial#15 with value: 0.779 with parameters: {'encoder__prior_samples_ratio': 0.003612498107841402, 'encoder__n_draws': 27, 'encoder__leave_one_out': False, 'classifier__max_depth': 9, 'classifier__max_features': 6, 'classifier__min_samples_leaf': 5}. Best is trial#5 with value: 0.787375.\n",
      "[I 2020-05-17 11:20:24,484] Finished trial#13 with value: 0.787625 with parameters: {'encoder__prior_samples_ratio': 2.436310566976062e-07, 'encoder__n_draws': 28, 'encoder__leave_one_out': False, 'classifier__max_depth': 20, 'classifier__max_features': 6, 'classifier__min_samples_leaf': 10}. Best is trial#13 with value: 0.787625.\n",
      "[I 2020-05-17 11:22:48,834] Finished trial#21 with value: 0.7693749999999999 with parameters: {'encoder__prior_samples_ratio': 4.994705558320128e-07, 'encoder__n_draws': 1, 'encoder__leave_one_out': True, 'classifier__max_depth': 34, 'classifier__max_features': 4, 'classifier__min_samples_leaf': 5}. Best is trial#13 with value: 0.787625.\n",
      "[I 2020-05-17 11:26:15,013] Finished trial#18 with value: 0.7896249999999999 with parameters: {'encoder__prior_samples_ratio': 2.2560080049858412e-05, 'encoder__n_draws': 9, 'encoder__leave_one_out': True, 'classifier__max_depth': 40, 'classifier__max_features': 6, 'classifier__min_samples_leaf': 5}. Best is trial#18 with value: 0.7896249999999999.\n",
      "[I 2020-05-17 11:27:15,801] Finished trial#20 with value: 0.772875 with parameters: {'encoder__prior_samples_ratio': 0.0006887197599658258, 'encoder__n_draws': 6, 'encoder__leave_one_out': True, 'classifier__max_depth': 25, 'classifier__max_features': 10, 'classifier__min_samples_leaf': 3}. Best is trial#18 with value: 0.7896249999999999.\n",
      "[I 2020-05-17 11:30:15,102] Finished trial#14 with value: 0.756875 with parameters: {'encoder__prior_samples_ratio': 1.9007618219070945e-09, 'encoder__n_draws': 16, 'encoder__leave_one_out': True, 'classifier__max_depth': 35, 'classifier__max_features': 10, 'classifier__min_samples_leaf': 4}. Best is trial#18 with value: 0.7896249999999999.\n",
      "[I 2020-05-17 11:31:30,689] Finished trial#16 with value: 0.729875 with parameters: {'encoder__prior_samples_ratio': 0.0263857514925666, 'encoder__n_draws': 22, 'encoder__leave_one_out': True, 'classifier__max_depth': 6, 'classifier__max_features': 2, 'classifier__min_samples_leaf': 6}. Best is trial#18 with value: 0.7896249999999999.\n",
      "[I 2020-05-17 11:32:52,070] Finished trial#23 with value: 0.7929999999999999 with parameters: {'encoder__prior_samples_ratio': 1.9623393835328507e-05, 'encoder__n_draws': 6, 'encoder__leave_one_out': True, 'classifier__max_depth': 40, 'classifier__max_features': 4, 'classifier__min_samples_leaf': 4}. Best is trial#23 with value: 0.7929999999999999.\n",
      "[I 2020-05-17 11:35:04,809] Finished trial#6 with value: 0.7809999999999999 with parameters: {'encoder__prior_samples_ratio': 5.2501449846333696e-09, 'encoder__n_draws': 31, 'encoder__leave_one_out': True, 'classifier__max_depth': 12, 'classifier__max_features': 3, 'classifier__min_samples_leaf': 10}. Best is trial#23 with value: 0.7929999999999999.\n",
      "[I 2020-05-17 11:36:14,700] Finished trial#7 with value: 0.782375 with parameters: {'encoder__prior_samples_ratio': 6.794849096101992e-08, 'encoder__n_draws': 29, 'encoder__leave_one_out': True, 'classifier__max_depth': 12, 'classifier__max_features': 6, 'classifier__min_samples_leaf': 1}. Best is trial#23 with value: 0.7929999999999999.\n",
      "[I 2020-05-17 11:36:36,743] Finished trial#8 with value: 0.788375 with parameters: {'encoder__prior_samples_ratio': 1.0724703945783586e-06, 'encoder__n_draws': 30, 'encoder__leave_one_out': True, 'classifier__max_depth': 27, 'classifier__max_features': 4, 'classifier__min_samples_leaf': 5}. Best is trial#23 with value: 0.7929999999999999.\n",
      "[I 2020-05-17 11:37:50,619] Finished trial#24 with value: 0.7882499999999999 with parameters: {'encoder__prior_samples_ratio': 1.20860850688676e-05, 'encoder__n_draws': 11, 'encoder__leave_one_out': True, 'classifier__max_depth': 33, 'classifier__max_features': 3, 'classifier__min_samples_leaf': 6}. Best is trial#23 with value: 0.7929999999999999.\n",
      "[I 2020-05-17 11:39:26,198] Finished trial#26 with value: 0.792125 with parameters: {'encoder__prior_samples_ratio': 5.748481737222436e-06, 'encoder__n_draws': 8, 'encoder__leave_one_out': True, 'classifier__max_depth': 18, 'classifier__max_features': 4, 'classifier__min_samples_leaf': 1}. Best is trial#23 with value: 0.7929999999999999.\n",
      "[I 2020-05-17 11:39:33,009] Finished trial#17 with value: 0.7772499999999999 with parameters: {'encoder__prior_samples_ratio': 0.0008815803036697301, 'encoder__n_draws': 27, 'encoder__leave_one_out': True, 'classifier__max_depth': 10, 'classifier__max_features': 3, 'classifier__min_samples_leaf': 1}. Best is trial#23 with value: 0.7929999999999999.\n",
      "[I 2020-05-17 11:39:36,172] Finished trial#31 with value: 0.78625 with parameters: {'encoder__prior_samples_ratio': 1.8531311917489446e-05, 'encoder__n_draws': 1, 'encoder__leave_one_out': True, 'classifier__max_depth': 39, 'classifier__max_features': 8, 'classifier__min_samples_leaf': 4}. Best is trial#23 with value: 0.7929999999999999.\n"
     ]
    },
    {
     "name": "stderr",
     "output_type": "stream",
     "text": [
      "[I 2020-05-17 11:39:47,892] Finished trial#25 with value: 0.793875 with parameters: {'encoder__prior_samples_ratio': 1.564487878296161e-05, 'encoder__n_draws': 9, 'encoder__leave_one_out': True, 'classifier__max_depth': 19, 'classifier__max_features': 4, 'classifier__min_samples_leaf': 1}. Best is trial#25 with value: 0.793875.\n",
      "[I 2020-05-17 11:40:58,194] Finished trial#9 with value: 0.7827500000000001 with parameters: {'encoder__prior_samples_ratio': 0.0008192105388735917, 'encoder__n_draws': 39, 'encoder__leave_one_out': True, 'classifier__max_depth': 25, 'classifier__max_features': 2, 'classifier__min_samples_leaf': 6}. Best is trial#25 with value: 0.793875.\n",
      "[I 2020-05-17 11:41:19,840] Finished trial#33 with value: 0.7942500000000001 with parameters: {'encoder__prior_samples_ratio': 1.173750715694586e-05, 'encoder__n_draws': 2, 'encoder__leave_one_out': True, 'classifier__max_depth': 40, 'classifier__max_features': 5, 'classifier__min_samples_leaf': 3}. Best is trial#33 with value: 0.7942500000000001.\n",
      "[I 2020-05-17 11:41:34,379] Finished trial#27 with value: 0.7943749999999999 with parameters: {'encoder__prior_samples_ratio': 2.3053438771532336e-05, 'encoder__n_draws': 9, 'encoder__leave_one_out': True, 'classifier__max_depth': 40, 'classifier__max_features': 4, 'classifier__min_samples_leaf': 1}. Best is trial#27 with value: 0.7943749999999999.\n",
      "[I 2020-05-17 11:41:36,972] Finished trial#11 with value: 0.782125 with parameters: {'encoder__prior_samples_ratio': 0.0017139992611697249, 'encoder__n_draws': 37, 'encoder__leave_one_out': True, 'classifier__max_depth': 39, 'classifier__max_features': 6, 'classifier__min_samples_leaf': 8}. Best is trial#27 with value: 0.7943749999999999.\n",
      "[I 2020-05-17 11:45:04,549] Finished trial#19 with value: 0.783 with parameters: {'encoder__prior_samples_ratio': 3.2136699086727533e-06, 'encoder__n_draws': 27, 'encoder__leave_one_out': True, 'classifier__max_depth': 11, 'classifier__max_features': 5, 'classifier__min_samples_leaf': 9}. Best is trial#27 with value: 0.7943749999999999.\n",
      "[I 2020-05-17 11:45:26,328] Finished trial#35 with value: 0.79025 with parameters: {'encoder__prior_samples_ratio': 7.803469073784797e-05, 'encoder__n_draws': 5, 'encoder__leave_one_out': True, 'classifier__max_depth': 19, 'classifier__max_features': 4, 'classifier__min_samples_leaf': 2}. Best is trial#27 with value: 0.7943749999999999.\n",
      "[I 2020-05-17 11:45:29,948] Finished trial#28 with value: 0.7907500000000001 with parameters: {'encoder__prior_samples_ratio': 2.4274465518244942e-05, 'encoder__n_draws': 9, 'encoder__leave_one_out': True, 'classifier__max_depth': 39, 'classifier__max_features': 4, 'classifier__min_samples_leaf': 1}. Best is trial#27 with value: 0.7943749999999999.\n",
      "[I 2020-05-17 11:45:41,614] Finished trial#38 with value: 0.79125 with parameters: {'encoder__prior_samples_ratio': 0.00011374311596572488, 'encoder__n_draws': 3, 'encoder__leave_one_out': True, 'classifier__max_depth': 31, 'classifier__max_features': 5, 'classifier__min_samples_leaf': 2}. Best is trial#27 with value: 0.7943749999999999.\n",
      "[I 2020-05-17 11:45:48,405] Finished trial#39 with value: 0.7933749999999999 with parameters: {'encoder__prior_samples_ratio': 8.330269905297452e-05, 'encoder__n_draws': 3, 'encoder__leave_one_out': True, 'classifier__max_depth': 32, 'classifier__max_features': 5, 'classifier__min_samples_leaf': 2}. Best is trial#27 with value: 0.7943749999999999.\n",
      "[I 2020-05-17 11:46:05,395] Finished trial#32 with value: 0.7917500000000001 with parameters: {'encoder__prior_samples_ratio': 1.4197946072309123e-05, 'encoder__n_draws': 6, 'encoder__leave_one_out': True, 'classifier__max_depth': 39, 'classifier__max_features': 4, 'classifier__min_samples_leaf': 1}. Best is trial#27 with value: 0.7943749999999999.\n",
      "[I 2020-05-17 11:46:31,352] Finished trial#36 with value: 0.790375 with parameters: {'encoder__prior_samples_ratio': 0.00011452199177804368, 'encoder__n_draws': 5, 'encoder__leave_one_out': True, 'classifier__max_depth': 19, 'classifier__max_features': 4, 'classifier__min_samples_leaf': 2}. Best is trial#27 with value: 0.7943749999999999.\n",
      "[I 2020-05-17 11:47:31,254] Finished trial#29 with value: 0.79075 with parameters: {'encoder__prior_samples_ratio': 1.5614571473462603e-05, 'encoder__n_draws': 10, 'encoder__leave_one_out': True, 'classifier__max_depth': 40, 'classifier__max_features': 4, 'classifier__min_samples_leaf': 4}. Best is trial#27 with value: 0.7943749999999999.\n",
      "[I 2020-05-17 11:47:34,365] Finished trial#37 with value: 0.7925 with parameters: {'encoder__prior_samples_ratio': 7.231515877102198e-05, 'encoder__n_draws': 5, 'encoder__leave_one_out': True, 'classifier__max_depth': 30, 'classifier__max_features': 5, 'classifier__min_samples_leaf': 2}. Best is trial#27 with value: 0.7943749999999999.\n",
      "[I 2020-05-17 11:47:41,218] Finished trial#30 with value: 0.789375 with parameters: {'encoder__prior_samples_ratio': 2.2097833595737558e-05, 'encoder__n_draws': 10, 'encoder__leave_one_out': True, 'classifier__max_depth': 38, 'classifier__max_features': 4, 'classifier__min_samples_leaf': 4}. Best is trial#27 with value: 0.7943749999999999.\n",
      "[I 2020-05-17 11:48:31,066] Finished trial#34 with value: 0.79025 with parameters: {'encoder__prior_samples_ratio': 5.367737725660608e-05, 'encoder__n_draws': 8, 'encoder__leave_one_out': True, 'classifier__max_depth': 19, 'classifier__max_features': 5, 'classifier__min_samples_leaf': 2}. Best is trial#27 with value: 0.7943749999999999.\n",
      "[I 2020-05-17 11:48:34,113] Finished trial#42 with value: 0.7957500000000001 with parameters: {'encoder__prior_samples_ratio': 8.867199092009807e-05, 'encoder__n_draws': 3, 'encoder__leave_one_out': True, 'classifier__max_depth': 36, 'classifier__max_features': 5, 'classifier__min_samples_leaf': 2}. Best is trial#42 with value: 0.7957500000000001.\n",
      "[I 2020-05-17 11:49:09,478] Finished trial#40 with value: 0.795625 with parameters: {'encoder__prior_samples_ratio': 0.00011197810490285842, 'encoder__n_draws': 4, 'encoder__leave_one_out': True, 'classifier__max_depth': 32, 'classifier__max_features': 5, 'classifier__min_samples_leaf': 2}. Best is trial#42 with value: 0.7957500000000001.\n",
      "[I 2020-05-17 12:03:17,279] Finished trial#46 with value: 0.7908750000000001 with parameters: {'encoder__prior_samples_ratio': 2.589679202017685e-06, 'encoder__n_draws': 13, 'encoder__leave_one_out': True, 'classifier__max_depth': 36, 'classifier__max_features': 5, 'classifier__min_samples_leaf': 3}. Best is trial#42 with value: 0.7957500000000001.\n",
      "[I 2020-05-17 12:03:18,408] Finished trial#43 with value: 0.7893749999999999 with parameters: {'encoder__prior_samples_ratio': 1.9891577722317627e-06, 'encoder__n_draws': 13, 'encoder__leave_one_out': True, 'classifier__max_depth': 36, 'classifier__max_features': 3, 'classifier__min_samples_leaf': 3}. Best is trial#42 with value: 0.7957500000000001.\n",
      "[I 2020-05-17 12:03:20,325] Finished trial#41 with value: 0.79 with parameters: {'encoder__prior_samples_ratio': 8.359223701266674e-05, 'encoder__n_draws': 13, 'encoder__leave_one_out': True, 'classifier__max_depth': 30, 'classifier__max_features': 5, 'classifier__min_samples_leaf': 2}. Best is trial#42 with value: 0.7957500000000001.\n",
      "[I 2020-05-17 12:03:21,659] Finished trial#44 with value: 0.790625 with parameters: {'encoder__prior_samples_ratio': 2.9981657639548123e-06, 'encoder__n_draws': 13, 'encoder__leave_one_out': True, 'classifier__max_depth': 36, 'classifier__max_features': 5, 'classifier__min_samples_leaf': 3}. Best is trial#42 with value: 0.7957500000000001.\n",
      "[I 2020-05-17 12:03:25,035] Finished trial#45 with value: 0.78825 with parameters: {'encoder__prior_samples_ratio': 3.0583860293158927e-06, 'encoder__n_draws': 14, 'encoder__leave_one_out': True, 'classifier__max_depth': 36, 'classifier__max_features': 5, 'classifier__min_samples_leaf': 3}. Best is trial#42 with value: 0.7957500000000001.\n"
     ]
    },
    {
     "name": "stderr",
     "output_type": "stream",
     "text": [
      "[I 2020-05-17 12:05:10,020] Finished trial#22 with value: 0.7893749999999999 with parameters: {'encoder__prior_samples_ratio': 2.5907360076560736e-05, 'encoder__n_draws': 40, 'encoder__leave_one_out': True, 'classifier__max_depth': 19, 'classifier__max_features': 4, 'classifier__min_samples_leaf': 7}. Best is trial#42 with value: 0.7957500000000001.\n",
      "[I 2020-05-17 12:06:33,887] Finished trial#53 with value: 0.7926249999999999 with parameters: {'encoder__prior_samples_ratio': 0.00021827271298742058, 'encoder__n_draws': 2, 'encoder__leave_one_out': True, 'classifier__max_depth': 36, 'classifier__max_features': 7, 'classifier__min_samples_leaf': 3}. Best is trial#42 with value: 0.7957500000000001.\n",
      "[I 2020-05-17 12:06:37,405] Finished trial#47 with value: 0.7841250000000001 with parameters: {'encoder__prior_samples_ratio': 2.5781911037009394e-06, 'encoder__n_draws': 13, 'encoder__leave_one_out': True, 'classifier__max_depth': 36, 'classifier__max_features': 7, 'classifier__min_samples_leaf': 3}. Best is trial#42 with value: 0.7957500000000001.\n",
      "[I 2020-05-17 12:07:30,551] Finished trial#52 with value: 0.781625 with parameters: {'encoder__prior_samples_ratio': 2.7514377214232598e-06, 'encoder__n_draws': 12, 'encoder__leave_one_out': True, 'classifier__max_depth': 36, 'classifier__max_features': 7, 'classifier__min_samples_leaf': 3}. Best is trial#42 with value: 0.7957500000000001.\n",
      "[I 2020-05-17 12:08:49,010] Finished trial#49 with value: 0.78175 with parameters: {'encoder__prior_samples_ratio': 1.91955231746354e-06, 'encoder__n_draws': 13, 'encoder__leave_one_out': True, 'classifier__max_depth': 22, 'classifier__max_features': 7, 'classifier__min_samples_leaf': 3}. Best is trial#42 with value: 0.7957500000000001.\n",
      "[I 2020-05-17 12:08:49,386] Finished trial#51 with value: 0.7822500000000001 with parameters: {'encoder__prior_samples_ratio': 2.4230787006836246e-06, 'encoder__n_draws': 13, 'encoder__leave_one_out': True, 'classifier__max_depth': 36, 'classifier__max_features': 7, 'classifier__min_samples_leaf': 3}. Best is trial#42 with value: 0.7957500000000001.\n",
      "[I 2020-05-17 12:09:13,876] Finished trial#61 with value: 0.7895000000000001 with parameters: {'encoder__prior_samples_ratio': 0.00020985755812462056, 'encoder__n_draws': 3, 'encoder__leave_one_out': False, 'classifier__max_depth': 16, 'classifier__max_features': 3, 'classifier__min_samples_leaf': 1}. Best is trial#42 with value: 0.7957500000000001.\n",
      "[I 2020-05-17 12:09:17,489] Finished trial#48 with value: 0.782375 with parameters: {'encoder__prior_samples_ratio': 3.6365210883810844e-06, 'encoder__n_draws': 13, 'encoder__leave_one_out': True, 'classifier__max_depth': 22, 'classifier__max_features': 7, 'classifier__min_samples_leaf': 3}. Best is trial#42 with value: 0.7957500000000001.\n",
      "[I 2020-05-17 12:09:56,906] Finished trial#50 with value: 0.7825000000000001 with parameters: {'encoder__prior_samples_ratio': 2.8342343569733256e-06, 'encoder__n_draws': 14, 'encoder__leave_one_out': True, 'classifier__max_depth': 36, 'classifier__max_features': 7, 'classifier__min_samples_leaf': 3}. Best is trial#42 with value: 0.7957500000000001.\n",
      "[I 2020-05-17 12:11:18,271] Finished trial#62 with value: 0.7935 with parameters: {'encoder__prior_samples_ratio': 0.0003281194077049997, 'encoder__n_draws': 3, 'encoder__leave_one_out': False, 'classifier__max_depth': 33, 'classifier__max_features': 6, 'classifier__min_samples_leaf': 1}. Best is trial#42 with value: 0.7957500000000001.\n",
      "[I 2020-05-17 12:11:18,506] Finished trial#63 with value: 0.79425 with parameters: {'encoder__prior_samples_ratio': 0.00033393002270743285, 'encoder__n_draws': 3, 'encoder__leave_one_out': False, 'classifier__max_depth': 32, 'classifier__max_features': 6, 'classifier__min_samples_leaf': 1}. Best is trial#42 with value: 0.7957500000000001.\n",
      "[I 2020-05-17 12:11:27,586] Finished trial#60 with value: 0.7917500000000001 with parameters: {'encoder__prior_samples_ratio': 0.0003121961564672186, 'encoder__n_draws': 18, 'encoder__leave_one_out': False, 'classifier__max_depth': 22, 'classifier__max_features': 3, 'classifier__min_samples_leaf': 1}. Best is trial#42 with value: 0.7957500000000001.\n",
      "[I 2020-05-17 12:11:46,724] Finished trial#59 with value: 0.781625 with parameters: {'encoder__prior_samples_ratio': 0.0006534788012894175, 'encoder__n_draws': 18, 'encoder__leave_one_out': False, 'classifier__max_depth': 22, 'classifier__max_features': 7, 'classifier__min_samples_leaf': 1}. Best is trial#42 with value: 0.7957500000000001.\n",
      "[I 2020-05-17 12:12:06,504] Finished trial#68 with value: 0.770625 with parameters: {'encoder__prior_samples_ratio': 0.0004807931088118267, 'encoder__n_draws': 1, 'encoder__leave_one_out': False, 'classifier__max_depth': 28, 'classifier__max_features': 6, 'classifier__min_samples_leaf': 1}. Best is trial#42 with value: 0.7957500000000001.\n",
      "[I 2020-05-17 12:12:17,029] Finished trial#69 with value: 0.780375 with parameters: {'encoder__prior_samples_ratio': 0.0022399583923209264, 'encoder__n_draws': 1, 'encoder__leave_one_out': False, 'classifier__max_depth': 28, 'classifier__max_features': 6, 'classifier__min_samples_leaf': 1}. Best is trial#42 with value: 0.7957500000000001.\n",
      "[I 2020-05-17 12:12:38,093] Finished trial#55 with value: 0.7889999999999999 with parameters: {'encoder__prior_samples_ratio': 0.0002039925541825195, 'encoder__n_draws': 3, 'encoder__leave_one_out': True, 'classifier__max_depth': 37, 'classifier__max_features': 7, 'classifier__min_samples_leaf': 3}. Best is trial#42 with value: 0.7957500000000001.\n",
      "[I 2020-05-17 12:12:41,223] Finished trial#57 with value: 0.785875 with parameters: {'encoder__prior_samples_ratio': 0.00031092981224935284, 'encoder__n_draws': 3, 'encoder__leave_one_out': True, 'classifier__max_depth': 21, 'classifier__max_features': 7, 'classifier__min_samples_leaf': 1}. Best is trial#42 with value: 0.7957500000000001.\n",
      "[I 2020-05-17 12:12:56,504] Finished trial#54 with value: 0.786875 with parameters: {'encoder__prior_samples_ratio': 5.3525564357567204e-06, 'encoder__n_draws': 3, 'encoder__leave_one_out': True, 'classifier__max_depth': 37, 'classifier__max_features': 7, 'classifier__min_samples_leaf': 3}. Best is trial#42 with value: 0.7957500000000001.\n",
      "[I 2020-05-17 12:12:56,785] Finished trial#56 with value: 0.79475 with parameters: {'encoder__prior_samples_ratio': 0.00037749887700464944, 'encoder__n_draws': 3, 'encoder__leave_one_out': True, 'classifier__max_depth': 22, 'classifier__max_features': 7, 'classifier__min_samples_leaf': 1}. Best is trial#42 with value: 0.7957500000000001.\n",
      "[I 2020-05-17 12:15:40,252] Finished trial#67 with value: 0.7885 with parameters: {'encoder__prior_samples_ratio': 0.0003494816463501243, 'encoder__n_draws': 7, 'encoder__leave_one_out': False, 'classifier__max_depth': 26, 'classifier__max_features': 6, 'classifier__min_samples_leaf': 1}. Best is trial#42 with value: 0.7957500000000001.\n",
      "[I 2020-05-17 12:16:12,620] Finished trial#72 with value: 0.794125 with parameters: {'encoder__prior_samples_ratio': 4.1715110075538355e-05, 'encoder__n_draws': 4, 'encoder__leave_one_out': False, 'classifier__max_depth': 34, 'classifier__max_features': 6, 'classifier__min_samples_leaf': 2}. Best is trial#42 with value: 0.7957500000000001.\n",
      "[I 2020-05-17 12:16:51,066] Finished trial#71 with value: 0.7875 with parameters: {'encoder__prior_samples_ratio': 0.007380018584521519, 'encoder__n_draws': 7, 'encoder__leave_one_out': False, 'classifier__max_depth': 38, 'classifier__max_features': 6, 'classifier__min_samples_leaf': 2}. Best is trial#42 with value: 0.7957500000000001.\n",
      "[I 2020-05-17 12:16:51,486] Finished trial#70 with value: 0.78775 with parameters: {'encoder__prior_samples_ratio': 0.005196582405080934, 'encoder__n_draws': 7, 'encoder__leave_one_out': False, 'classifier__max_depth': 28, 'classifier__max_features': 6, 'classifier__min_samples_leaf': 2}. Best is trial#42 with value: 0.7957500000000001.\n"
     ]
    },
    {
     "name": "stderr",
     "output_type": "stream",
     "text": [
      "[I 2020-05-17 12:18:13,641] Finished trial#73 with value: 0.7928750000000001 with parameters: {'encoder__prior_samples_ratio': 4.3410780355573535e-05, 'encoder__n_draws': 7, 'encoder__leave_one_out': False, 'classifier__max_depth': 34, 'classifier__max_features': 6, 'classifier__min_samples_leaf': 2}. Best is trial#42 with value: 0.7957500000000001.\n",
      "[I 2020-05-17 12:18:30,694] Finished trial#58 with value: 0.792125 with parameters: {'encoder__prior_samples_ratio': 0.00035539874002480325, 'encoder__n_draws': 3, 'encoder__leave_one_out': True, 'classifier__max_depth': 21, 'classifier__max_features': 7, 'classifier__min_samples_leaf': 1}. Best is trial#42 with value: 0.7957500000000001.\n",
      "[I 2020-05-17 12:19:27,073] Finished trial#74 with value: 0.787 with parameters: {'encoder__prior_samples_ratio': 8.20604296902793e-06, 'encoder__n_draws': 8, 'encoder__leave_one_out': False, 'classifier__max_depth': 34, 'classifier__max_features': 6, 'classifier__min_samples_leaf': 2}. Best is trial#42 with value: 0.7957500000000001.\n",
      "[I 2020-05-17 12:19:32,389] Finished trial#76 with value: 0.782625 with parameters: {'encoder__prior_samples_ratio': 3.8601023332452065e-05, 'encoder__n_draws': 7, 'encoder__leave_one_out': False, 'classifier__max_depth': 24, 'classifier__max_features': 8, 'classifier__min_samples_leaf': 2}. Best is trial#42 with value: 0.7957500000000001.\n",
      "[I 2020-05-17 12:19:32,608] Finished trial#75 with value: 0.7848750000000001 with parameters: {'encoder__prior_samples_ratio': 4.178791661789637e-05, 'encoder__n_draws': 7, 'encoder__leave_one_out': False, 'classifier__max_depth': 24, 'classifier__max_features': 8, 'classifier__min_samples_leaf': 2}. Best is trial#42 with value: 0.7957500000000001.\n",
      "[I 2020-05-17 12:21:46,182] Finished trial#80 with value: 0.7855000000000001 with parameters: {'encoder__prior_samples_ratio': 5.764688106629956e-05, 'encoder__n_draws': 5, 'encoder__leave_one_out': False, 'classifier__max_depth': 24, 'classifier__max_features': 8, 'classifier__min_samples_leaf': 2}. Best is trial#42 with value: 0.7957500000000001.\n",
      "[I 2020-05-17 12:21:55,828] Finished trial#79 with value: 0.780625 with parameters: {'encoder__prior_samples_ratio': 4.7313818238334184e-05, 'encoder__n_draws': 5, 'encoder__leave_one_out': False, 'classifier__max_depth': 34, 'classifier__max_features': 9, 'classifier__min_samples_leaf': 2}. Best is trial#42 with value: 0.7957500000000001.\n",
      "[I 2020-05-17 12:22:02,999] Finished trial#81 with value: 0.7946250000000001 with parameters: {'encoder__prior_samples_ratio': 0.0012285304038262017, 'encoder__n_draws': 5, 'encoder__leave_one_out': False, 'classifier__max_depth': 33, 'classifier__max_features': 5, 'classifier__min_samples_leaf': 2}. Best is trial#42 with value: 0.7957500000000001.\n",
      "[I 2020-05-17 12:22:04,365] Finished trial#82 with value: 0.798875 with parameters: {'encoder__prior_samples_ratio': 8.392614866847138e-06, 'encoder__n_draws': 5, 'encoder__leave_one_out': False, 'classifier__max_depth': 17, 'classifier__max_features': 5, 'classifier__min_samples_leaf': 2}. Best is trial#82 with value: 0.798875.\n",
      "[I 2020-05-17 12:22:05,740] Finished trial#78 with value: 0.7775000000000001 with parameters: {'encoder__prior_samples_ratio': 0.0013655138189946113, 'encoder__n_draws': 7, 'encoder__leave_one_out': False, 'classifier__max_depth': 33, 'classifier__max_features': 9, 'classifier__min_samples_leaf': 2}. Best is trial#82 with value: 0.798875.\n",
      "[I 2020-05-17 12:22:11,282] Finished trial#83 with value: 0.7967500000000001 with parameters: {'encoder__prior_samples_ratio': 0.001421421077308975, 'encoder__n_draws': 5, 'encoder__leave_one_out': False, 'classifier__max_depth': 25, 'classifier__max_features': 5, 'classifier__min_samples_leaf': 2}. Best is trial#82 with value: 0.798875.\n",
      "[I 2020-05-17 12:22:31,384] Finished trial#65 with value: 0.792625 with parameters: {'encoder__prior_samples_ratio': 0.00041112030354915576, 'encoder__n_draws': 3, 'encoder__leave_one_out': True, 'classifier__max_depth': 32, 'classifier__max_features': 6, 'classifier__min_samples_leaf': 1}. Best is trial#82 with value: 0.798875.\n",
      "[I 2020-05-17 12:22:33,227] Finished trial#64 with value: 0.7902500000000001 with parameters: {'encoder__prior_samples_ratio': 0.0005404684408870116, 'encoder__n_draws': 3, 'encoder__leave_one_out': True, 'classifier__max_depth': 32, 'classifier__max_features': 6, 'classifier__min_samples_leaf': 1}. Best is trial#82 with value: 0.798875.\n",
      "[I 2020-05-17 12:24:01,175] Finished trial#84 with value: 0.79025 with parameters: {'encoder__prior_samples_ratio': 3.326319183989759e-05, 'encoder__n_draws': 5, 'encoder__leave_one_out': True, 'classifier__max_depth': 17, 'classifier__max_features': 5, 'classifier__min_samples_leaf': 1}. Best is trial#82 with value: 0.798875.\n",
      "[I 2020-05-17 12:24:08,944] Finished trial#85 with value: 0.7957500000000001 with parameters: {'encoder__prior_samples_ratio': 0.0011498068131063136, 'encoder__n_draws': 5, 'encoder__leave_one_out': True, 'classifier__max_depth': 32, 'classifier__max_features': 5, 'classifier__min_samples_leaf': 1}. Best is trial#82 with value: 0.798875.\n",
      "[I 2020-05-17 12:24:21,876] Finished trial#77 with value: 0.777625 with parameters: {'encoder__prior_samples_ratio': 0.009106545976724625, 'encoder__n_draws': 7, 'encoder__leave_one_out': True, 'classifier__max_depth': 14, 'classifier__max_features': 8, 'classifier__min_samples_leaf': 2}. Best is trial#82 with value: 0.798875.\n",
      "[I 2020-05-17 12:25:01,607] Finished trial#66 with value: 0.781 with parameters: {'encoder__prior_samples_ratio': 0.00038273852990952076, 'encoder__n_draws': 17, 'encoder__leave_one_out': True, 'classifier__max_depth': 32, 'classifier__max_features': 6, 'classifier__min_samples_leaf': 2}. Best is trial#82 with value: 0.798875.\n"
     ]
    },
    {
     "name": "stdout",
     "output_type": "stream",
     "text": [
      "Best parameter (CV score=0.799):\n",
      "{'encoder__prior_samples_ratio': 8.392614866847138e-06, 'encoder__n_draws': 5, 'encoder__leave_one_out': False, 'classifier__max_depth': 17, 'classifier__max_features': 5, 'classifier__min_samples_leaf': 2}\n",
      "Wall time: 1h 35min 6s\n"
     ]
    }
   ],
   "source": [
    "%%time\n",
    "from sklearn.model_selection import cross_val_score\n",
    "import optuna\n",
    "from optuna.distributions import *\n",
    "\n",
    "\n",
    "pte = PosteriorImputationEncoderBC(cols=['cat1', 'cat2'], n_draws=5, random_state=2834, prior_samples_ratio=0)\n",
    "model = RandomForestClassifier(n_estimators=400, max_depth=30, max_features=1, \n",
    "                               random_state=2834, n_jobs=-1) \n",
    "wrapper_model = EncoderWrapper(pte, model)\n",
    "\n",
    "param_distribution = {\n",
    "    'encoder__prior_samples_ratio': LogUniformDistribution(1E-9, 1E-1),\n",
    "    'encoder__n_draws': IntUniformDistribution(1,40),\n",
    "    'encoder__leave_one_out': CategoricalDistribution([False, True]),\n",
    "    'classifier__max_depth': IntUniformDistribution(5,40),\n",
    "    'classifier__max_features' : IntUniformDistribution(1,10),\n",
    "    'classifier__min_samples_leaf': IntUniformDistribution(1,10)\n",
    "}\n",
    "\n",
    "\n",
    "X_train, X_test, y_train, y_test = train_test_split(predictors.values, y_h, test_size=0.2, random_state=2834)\n",
    "X_train = pd.DataFrame(X_train, columns=predictors.columns)\n",
    "X_test = pd.DataFrame(X_test, columns=predictors.columns)\n",
    "\n",
    "search = optuna.integration.OptunaSearchCV(wrapper_model, param_distribution, \n",
    "            cv=5, n_jobs=-1, random_state=514, n_trials=None, timeout= 90*60, scoring='accuracy')\n",
    "search.fit(X_train, y_train)\n",
    "print(\"Best parameter (CV score=%0.3f):\" % search.best_score_)\n",
    "print(search.best_params_)"
   ]
  },
  {
   "cell_type": "code",
   "execution_count": 15,
   "metadata": {},
   "outputs": [
    {
     "name": "stdout",
     "output_type": "stream",
     "text": [
      "Test accuracy:  0.797\n"
     ]
    }
   ],
   "source": [
    "test_predict = search.best_estimator_.predict(X_test)\n",
    "print('Test accuracy: ', accuracy_score(y_test, test_predict))"
   ]
  },
  {
   "cell_type": "markdown",
   "metadata": {},
   "source": [
    "### Study how hyperparameters influence the model performance"
   ]
  },
  {
   "cell_type": "markdown",
   "metadata": {},
   "source": [
    "#### Leave one out or not?"
   ]
  },
  {
   "cell_type": "code",
   "execution_count": 16,
   "metadata": {},
   "outputs": [
    {
     "name": "stdout",
     "output_type": "stream",
     "text": [
      "[0.795  0.7945]\n",
      "[0.00368697 0.01074128]\n"
     ]
    }
   ],
   "source": [
    "from sklearn.model_selection import GridSearchCV\n",
    "pte = PosteriorImputationEncoderBC(cols=['cat1', 'cat2'], \n",
    "                                   n_draws=search.best_params_['encoder__n_draws'], \n",
    "                                   random_state=2834, \n",
    "                                   prior_samples_ratio=search.best_params_['encoder__prior_samples_ratio'],\n",
    "                                   leave_one_out=search.best_params_['encoder__leave_one_out'])\n",
    "model = RandomForestClassifier(n_estimators=400, \n",
    "                               max_depth=search.best_params_['classifier__max_depth'], \n",
    "                               max_features=search.best_params_['classifier__max_features'], \n",
    "                               min_samples_leaf=search.best_params_['classifier__min_samples_leaf'], \n",
    "                               random_state=2834, n_jobs=-1) \n",
    "wrapper_model = EncoderWrapper(pte, model)\n",
    "\n",
    "\n",
    "X_train, X_test, y_train, y_test = train_test_split(predictors.values, y_h, test_size=0.2, random_state=2834)\n",
    "X_train = pd.DataFrame(X_train, columns=predictors.columns)\n",
    "X_test = pd.DataFrame(X_test, columns=predictors.columns)\n",
    "\n",
    "\n",
    "search1 = GridSearchCV(estimator=wrapper_model, param_grid={'encoder__leave_one_out' : [False, True]})\n",
    "\n",
    "search1.fit(X_train, y_train)\n",
    "print(search1.cv_results_['mean_test_score'])\n",
    "print(search1.cv_results_['std_test_score'])"
   ]
  },
  {
   "cell_type": "code",
   "execution_count": null,
   "metadata": {},
   "outputs": [],
   "source": []
  },
  {
   "cell_type": "code",
   "execution_count": 17,
   "metadata": {},
   "outputs": [
    {
     "ename": "NameError",
     "evalue": "name 'results1' is not defined",
     "output_type": "error",
     "traceback": [
      "\u001b[1;31m---------------------------------------------------------------------------\u001b[0m",
      "\u001b[1;31mNameError\u001b[0m                                 Traceback (most recent call last)",
      "\u001b[1;32m<timed exec>\u001b[0m in \u001b[0;36m<module>\u001b[1;34m\u001b[0m\n",
      "\u001b[1;31mNameError\u001b[0m: name 'results1' is not defined"
     ]
    }
   ],
   "source": [
    "%%time\n",
    "X_train, X_test, y_train, y_test = train_test_split(predictors.values, y_h, test_size=0.2, random_state=2834)\n",
    "X_train = pd.DataFrame(X_train, columns=predictors.columns)\n",
    "X_test = pd.DataFrame(X_test, columns=predictors.columns)\n",
    "\n",
    "pte = PosteriorImputationEncoderBC(cols=['cat1', 'cat2'], \n",
    "                               n_draws=search.best_params_['encoder__n_draws'], \n",
    "                               random_state=2834, \n",
    "                               prior_samples_ratio=search.best_params_['encoder__prior_samples_ratio'],\n",
    "                               leave_one_out=search.best_params_['encoder__leave_one_out'])\n",
    "model = RandomForestClassifier(n_estimators=400, \n",
    "                           max_depth=search.best_params_['classifier__max_depth'], \n",
    "                           max_features=search.best_params_['classifier__max_features'], \n",
    "                           min_samples_leaf=search.best_params_['classifier__min_samples_leaf'], \n",
    "                           random_state=2834, n_jobs=-1) \n",
    "wrapper_model = EncoderWrapper(pte, model)\n",
    "\n",
    "param_range = range(2, 20)\n",
    "search2 = GridSearchCV(estimator=wrapper_model, param_grid={'encoder__n_draws' : param_range})\n",
    "\n",
    "search2.fit(X_train, y_train)\n",
    "results2 = search2.cv_results_['mean_test_score']    \n",
    "results_std2 = search2.cv_results_['std_test_score']\n",
    "    \n",
    "print(results1)\n",
    "plt.figure(1, figsize=(15, 10))\n",
    "plt.plot(list(param_range), results, 'b-o')\n",
    "plt.fill_between(list(param_range), results - search2.cv_results_['std_test_score'],\n",
    "                 results + search2.cv_results_['std_test_score'], color='lightgrey')\n",
    "plt.show();"
   ]
  },
  {
   "cell_type": "code",
   "execution_count": 20,
   "metadata": {},
   "outputs": [
    {
     "data": {
      "text/plain": [
       "{'mean_fit_time': array([ 2.35578599,  3.32319574,  4.17339096,  4.61597075,  5.36120629,\n",
       "         6.15056906,  6.97721138,  7.79360218,  8.68319569,  9.56141443,\n",
       "        10.51798115, 11.44299402, 12.42344346, 13.40461235, 14.43117862,\n",
       "        15.52882628, 16.59537649, 17.5909946 ]),\n",
       " 'std_fit_time': array([0.02910035, 0.05563373, 0.04787264, 0.05725923, 0.02222918,\n",
       "        0.04965407, 0.07951735, 0.04818342, 0.04900018, 0.04921231,\n",
       "        0.12135459, 0.09288278, 0.09062887, 0.07774549, 0.13364666,\n",
       "        0.16641947, 0.10449466, 0.137611  ]),\n",
       " 'mean_score_time': array([0.23412576, 0.3166811 , 0.31851001, 0.31947703, 0.32105341,\n",
       "        0.36439505, 0.42511554, 0.42765322, 0.42903533, 0.43128147,\n",
       "        0.41189198, 0.43403826, 0.41543798, 0.43754692, 0.43858242,\n",
       "        0.44118752, 0.46174364, 0.42274289]),\n",
       " 'std_score_time': array([0.04093703, 0.00080299, 0.00055568, 0.00089621, 0.00106992,\n",
       "        0.04870156, 0.00074221, 0.00140349, 0.00116351, 0.00109357,\n",
       "        0.03945598, 0.00084903, 0.04076243, 0.00265504, 0.00188186,\n",
       "        0.00119372, 0.03966611, 0.0404245 ]),\n",
       " 'param_encoder__n_draws': masked_array(data=[2, 3, 4, 5, 6, 7, 8, 9, 10, 11, 12, 13, 14, 15, 16, 17,\n",
       "                    18, 19],\n",
       "              mask=[False, False, False, False, False, False, False, False,\n",
       "                    False, False, False, False, False, False, False, False,\n",
       "                    False, False],\n",
       "        fill_value='?',\n",
       "             dtype=object),\n",
       " 'params': [{'encoder__n_draws': 2},\n",
       "  {'encoder__n_draws': 3},\n",
       "  {'encoder__n_draws': 4},\n",
       "  {'encoder__n_draws': 5},\n",
       "  {'encoder__n_draws': 6},\n",
       "  {'encoder__n_draws': 7},\n",
       "  {'encoder__n_draws': 8},\n",
       "  {'encoder__n_draws': 9},\n",
       "  {'encoder__n_draws': 10},\n",
       "  {'encoder__n_draws': 11},\n",
       "  {'encoder__n_draws': 12},\n",
       "  {'encoder__n_draws': 13},\n",
       "  {'encoder__n_draws': 14},\n",
       "  {'encoder__n_draws': 15},\n",
       "  {'encoder__n_draws': 16},\n",
       "  {'encoder__n_draws': 17},\n",
       "  {'encoder__n_draws': 18},\n",
       "  {'encoder__n_draws': 19}],\n",
       " 'split0_test_score': array([0.785625, 0.8175  , 0.799375, 0.801875, 0.796875, 0.789375,\n",
       "        0.7975  , 0.790625, 0.7925  , 0.79125 , 0.8     , 0.800625,\n",
       "        0.786875, 0.79875 , 0.790625, 0.79875 , 0.7975  , 0.796875]),\n",
       " 'split1_test_score': array([0.791875, 0.79125 , 0.789375, 0.798125, 0.8     , 0.79875 ,\n",
       "        0.791875, 0.790625, 0.79125 , 0.7925  , 0.790625, 0.785625,\n",
       "        0.784375, 0.79125 , 0.7875  , 0.785   , 0.79625 , 0.784375]),\n",
       " 'split2_test_score': array([0.803125, 0.80125 , 0.80125 , 0.798125, 0.793125, 0.800625,\n",
       "        0.7925  , 0.794375, 0.796875, 0.79375 , 0.79125 , 0.79875 ,\n",
       "        0.793125, 0.795   , 0.789375, 0.7925  , 0.79375 , 0.799375]),\n",
       " 'split3_test_score': array([0.7975  , 0.789375, 0.78875 , 0.79375 , 0.78875 , 0.781875,\n",
       "        0.7925  , 0.793125, 0.786875, 0.79    , 0.790625, 0.79125 ,\n",
       "        0.79    , 0.791875, 0.7925  , 0.791875, 0.789375, 0.78375 ]),\n",
       " 'split4_test_score': array([0.793125, 0.813125, 0.799375, 0.80625 , 0.798125, 0.805   ,\n",
       "        0.8075  , 0.800625, 0.798125, 0.79875 , 0.79875 , 0.798125,\n",
       "        0.803125, 0.796875, 0.79625 , 0.7925  , 0.79125 , 0.8     ]),\n",
       " 'mean_test_score': array([0.79425 , 0.8025  , 0.795625, 0.799625, 0.795375, 0.795125,\n",
       "        0.796375, 0.793875, 0.793125, 0.79325 , 0.79425 , 0.794875,\n",
       "        0.7915  , 0.79475 , 0.79125 , 0.792125, 0.793625, 0.792875]),\n",
       " 'std_test_score': array([0.00584166, 0.01129851, 0.00540544, 0.00419449, 0.0040039 ,\n",
       "        0.008361  , 0.00592136, 0.00367423, 0.00405046, 0.00302076,\n",
       "        0.00420936, 0.0056097 , 0.00651441, 0.00286684, 0.00298433,\n",
       "        0.0043589 , 0.00302076, 0.00727367]),\n",
       " 'rank_test_score': array([ 9,  1,  4,  2,  5,  6,  3, 11, 14, 13,  9,  7, 17,  8, 18, 16, 12,\n",
       "        15])}"
      ]
     },
     "execution_count": 20,
     "metadata": {},
     "output_type": "execute_result"
    }
   ],
   "source": [
    "search2.cv_results_"
   ]
  },
  {
   "cell_type": "code",
   "execution_count": 19,
   "metadata": {},
   "outputs": [
    {
     "ename": "ValueError",
     "evalue": "x and y must have same first dimension, but have shapes (38,) and (18,)",
     "output_type": "error",
     "traceback": [
      "\u001b[1;31m---------------------------------------------------------------------------\u001b[0m",
      "\u001b[1;31mValueError\u001b[0m                                Traceback (most recent call last)",
      "\u001b[1;32m<ipython-input-19-0678ae927b21>\u001b[0m in \u001b[0;36m<module>\u001b[1;34m\u001b[0m\n\u001b[0;32m      2\u001b[0m \u001b[0mresults\u001b[0m \u001b[1;33m=\u001b[0m \u001b[0msearch2\u001b[0m\u001b[1;33m.\u001b[0m\u001b[0mcv_results_\u001b[0m\u001b[1;33m[\u001b[0m\u001b[1;34m'mean_test_score'\u001b[0m\u001b[1;33m]\u001b[0m\u001b[1;33m\u001b[0m\u001b[1;33m\u001b[0m\u001b[0m\n\u001b[0;32m      3\u001b[0m \u001b[0mplt\u001b[0m\u001b[1;33m.\u001b[0m\u001b[0mfigure\u001b[0m\u001b[1;33m(\u001b[0m\u001b[1;36m1\u001b[0m\u001b[1;33m,\u001b[0m \u001b[0mfigsize\u001b[0m\u001b[1;33m=\u001b[0m\u001b[1;33m(\u001b[0m\u001b[1;36m15\u001b[0m\u001b[1;33m,\u001b[0m \u001b[1;36m10\u001b[0m\u001b[1;33m)\u001b[0m\u001b[1;33m)\u001b[0m\u001b[1;33m\u001b[0m\u001b[1;33m\u001b[0m\u001b[0m\n\u001b[1;32m----> 4\u001b[1;33m \u001b[0mplt\u001b[0m\u001b[1;33m.\u001b[0m\u001b[0mplot\u001b[0m\u001b[1;33m(\u001b[0m\u001b[0mlist\u001b[0m\u001b[1;33m(\u001b[0m\u001b[0mparam_range\u001b[0m\u001b[1;33m)\u001b[0m\u001b[1;33m,\u001b[0m \u001b[0mresults\u001b[0m\u001b[1;33m,\u001b[0m \u001b[1;34m'b-o'\u001b[0m\u001b[1;33m)\u001b[0m\u001b[1;33m\u001b[0m\u001b[1;33m\u001b[0m\u001b[0m\n\u001b[0m\u001b[0;32m      5\u001b[0m plt.fill_between(list(param_range), results - search2.cv_results_['std_test_score'],\n\u001b[0;32m      6\u001b[0m                  results + search2.cv_results_['std_test_score'], color='lightgrey')\n",
      "\u001b[1;32m~\\AppData\\Local\\Continuum\\anaconda3\\envs\\cat_enc\\lib\\site-packages\\matplotlib\\pyplot.py\u001b[0m in \u001b[0;36mplot\u001b[1;34m(scalex, scaley, data, *args, **kwargs)\u001b[0m\n\u001b[0;32m   2794\u001b[0m     return gca().plot(\n\u001b[0;32m   2795\u001b[0m         *args, scalex=scalex, scaley=scaley, **({\"data\": data} if data\n\u001b[1;32m-> 2796\u001b[1;33m         is not None else {}), **kwargs)\n\u001b[0m\u001b[0;32m   2797\u001b[0m \u001b[1;33m\u001b[0m\u001b[0m\n\u001b[0;32m   2798\u001b[0m \u001b[1;33m\u001b[0m\u001b[0m\n",
      "\u001b[1;32m~\\AppData\\Local\\Continuum\\anaconda3\\envs\\cat_enc\\lib\\site-packages\\matplotlib\\axes\\_axes.py\u001b[0m in \u001b[0;36mplot\u001b[1;34m(self, scalex, scaley, data, *args, **kwargs)\u001b[0m\n\u001b[0;32m   1663\u001b[0m         \"\"\"\n\u001b[0;32m   1664\u001b[0m         \u001b[0mkwargs\u001b[0m \u001b[1;33m=\u001b[0m \u001b[0mcbook\u001b[0m\u001b[1;33m.\u001b[0m\u001b[0mnormalize_kwargs\u001b[0m\u001b[1;33m(\u001b[0m\u001b[0mkwargs\u001b[0m\u001b[1;33m,\u001b[0m \u001b[0mmlines\u001b[0m\u001b[1;33m.\u001b[0m\u001b[0mLine2D\u001b[0m\u001b[1;33m.\u001b[0m\u001b[0m_alias_map\u001b[0m\u001b[1;33m)\u001b[0m\u001b[1;33m\u001b[0m\u001b[1;33m\u001b[0m\u001b[0m\n\u001b[1;32m-> 1665\u001b[1;33m         \u001b[0mlines\u001b[0m \u001b[1;33m=\u001b[0m \u001b[1;33m[\u001b[0m\u001b[1;33m*\u001b[0m\u001b[0mself\u001b[0m\u001b[1;33m.\u001b[0m\u001b[0m_get_lines\u001b[0m\u001b[1;33m(\u001b[0m\u001b[1;33m*\u001b[0m\u001b[0margs\u001b[0m\u001b[1;33m,\u001b[0m \u001b[0mdata\u001b[0m\u001b[1;33m=\u001b[0m\u001b[0mdata\u001b[0m\u001b[1;33m,\u001b[0m \u001b[1;33m**\u001b[0m\u001b[0mkwargs\u001b[0m\u001b[1;33m)\u001b[0m\u001b[1;33m]\u001b[0m\u001b[1;33m\u001b[0m\u001b[1;33m\u001b[0m\u001b[0m\n\u001b[0m\u001b[0;32m   1666\u001b[0m         \u001b[1;32mfor\u001b[0m \u001b[0mline\u001b[0m \u001b[1;32min\u001b[0m \u001b[0mlines\u001b[0m\u001b[1;33m:\u001b[0m\u001b[1;33m\u001b[0m\u001b[1;33m\u001b[0m\u001b[0m\n\u001b[0;32m   1667\u001b[0m             \u001b[0mself\u001b[0m\u001b[1;33m.\u001b[0m\u001b[0madd_line\u001b[0m\u001b[1;33m(\u001b[0m\u001b[0mline\u001b[0m\u001b[1;33m)\u001b[0m\u001b[1;33m\u001b[0m\u001b[1;33m\u001b[0m\u001b[0m\n",
      "\u001b[1;32m~\\AppData\\Local\\Continuum\\anaconda3\\envs\\cat_enc\\lib\\site-packages\\matplotlib\\axes\\_base.py\u001b[0m in \u001b[0;36m__call__\u001b[1;34m(self, *args, **kwargs)\u001b[0m\n\u001b[0;32m    223\u001b[0m                 \u001b[0mthis\u001b[0m \u001b[1;33m+=\u001b[0m \u001b[0margs\u001b[0m\u001b[1;33m[\u001b[0m\u001b[1;36m0\u001b[0m\u001b[1;33m]\u001b[0m\u001b[1;33m,\u001b[0m\u001b[1;33m\u001b[0m\u001b[1;33m\u001b[0m\u001b[0m\n\u001b[0;32m    224\u001b[0m                 \u001b[0margs\u001b[0m \u001b[1;33m=\u001b[0m \u001b[0margs\u001b[0m\u001b[1;33m[\u001b[0m\u001b[1;36m1\u001b[0m\u001b[1;33m:\u001b[0m\u001b[1;33m]\u001b[0m\u001b[1;33m\u001b[0m\u001b[1;33m\u001b[0m\u001b[0m\n\u001b[1;32m--> 225\u001b[1;33m             \u001b[1;32myield\u001b[0m \u001b[1;32mfrom\u001b[0m \u001b[0mself\u001b[0m\u001b[1;33m.\u001b[0m\u001b[0m_plot_args\u001b[0m\u001b[1;33m(\u001b[0m\u001b[0mthis\u001b[0m\u001b[1;33m,\u001b[0m \u001b[0mkwargs\u001b[0m\u001b[1;33m)\u001b[0m\u001b[1;33m\u001b[0m\u001b[1;33m\u001b[0m\u001b[0m\n\u001b[0m\u001b[0;32m    226\u001b[0m \u001b[1;33m\u001b[0m\u001b[0m\n\u001b[0;32m    227\u001b[0m     \u001b[1;32mdef\u001b[0m \u001b[0mget_next_color\u001b[0m\u001b[1;33m(\u001b[0m\u001b[0mself\u001b[0m\u001b[1;33m)\u001b[0m\u001b[1;33m:\u001b[0m\u001b[1;33m\u001b[0m\u001b[1;33m\u001b[0m\u001b[0m\n",
      "\u001b[1;32m~\\AppData\\Local\\Continuum\\anaconda3\\envs\\cat_enc\\lib\\site-packages\\matplotlib\\axes\\_base.py\u001b[0m in \u001b[0;36m_plot_args\u001b[1;34m(self, tup, kwargs)\u001b[0m\n\u001b[0;32m    389\u001b[0m             \u001b[0mx\u001b[0m\u001b[1;33m,\u001b[0m \u001b[0my\u001b[0m \u001b[1;33m=\u001b[0m \u001b[0mindex_of\u001b[0m\u001b[1;33m(\u001b[0m\u001b[0mtup\u001b[0m\u001b[1;33m[\u001b[0m\u001b[1;33m-\u001b[0m\u001b[1;36m1\u001b[0m\u001b[1;33m]\u001b[0m\u001b[1;33m)\u001b[0m\u001b[1;33m\u001b[0m\u001b[1;33m\u001b[0m\u001b[0m\n\u001b[0;32m    390\u001b[0m \u001b[1;33m\u001b[0m\u001b[0m\n\u001b[1;32m--> 391\u001b[1;33m         \u001b[0mx\u001b[0m\u001b[1;33m,\u001b[0m \u001b[0my\u001b[0m \u001b[1;33m=\u001b[0m \u001b[0mself\u001b[0m\u001b[1;33m.\u001b[0m\u001b[0m_xy_from_xy\u001b[0m\u001b[1;33m(\u001b[0m\u001b[0mx\u001b[0m\u001b[1;33m,\u001b[0m \u001b[0my\u001b[0m\u001b[1;33m)\u001b[0m\u001b[1;33m\u001b[0m\u001b[1;33m\u001b[0m\u001b[0m\n\u001b[0m\u001b[0;32m    392\u001b[0m \u001b[1;33m\u001b[0m\u001b[0m\n\u001b[0;32m    393\u001b[0m         \u001b[1;32mif\u001b[0m \u001b[0mself\u001b[0m\u001b[1;33m.\u001b[0m\u001b[0mcommand\u001b[0m \u001b[1;33m==\u001b[0m \u001b[1;34m'plot'\u001b[0m\u001b[1;33m:\u001b[0m\u001b[1;33m\u001b[0m\u001b[1;33m\u001b[0m\u001b[0m\n",
      "\u001b[1;32m~\\AppData\\Local\\Continuum\\anaconda3\\envs\\cat_enc\\lib\\site-packages\\matplotlib\\axes\\_base.py\u001b[0m in \u001b[0;36m_xy_from_xy\u001b[1;34m(self, x, y)\u001b[0m\n\u001b[0;32m    268\u001b[0m         \u001b[1;32mif\u001b[0m \u001b[0mx\u001b[0m\u001b[1;33m.\u001b[0m\u001b[0mshape\u001b[0m\u001b[1;33m[\u001b[0m\u001b[1;36m0\u001b[0m\u001b[1;33m]\u001b[0m \u001b[1;33m!=\u001b[0m \u001b[0my\u001b[0m\u001b[1;33m.\u001b[0m\u001b[0mshape\u001b[0m\u001b[1;33m[\u001b[0m\u001b[1;36m0\u001b[0m\u001b[1;33m]\u001b[0m\u001b[1;33m:\u001b[0m\u001b[1;33m\u001b[0m\u001b[1;33m\u001b[0m\u001b[0m\n\u001b[0;32m    269\u001b[0m             raise ValueError(\"x and y must have same first dimension, but \"\n\u001b[1;32m--> 270\u001b[1;33m                              \"have shapes {} and {}\".format(x.shape, y.shape))\n\u001b[0m\u001b[0;32m    271\u001b[0m         \u001b[1;32mif\u001b[0m \u001b[0mx\u001b[0m\u001b[1;33m.\u001b[0m\u001b[0mndim\u001b[0m \u001b[1;33m>\u001b[0m \u001b[1;36m2\u001b[0m \u001b[1;32mor\u001b[0m \u001b[0my\u001b[0m\u001b[1;33m.\u001b[0m\u001b[0mndim\u001b[0m \u001b[1;33m>\u001b[0m \u001b[1;36m2\u001b[0m\u001b[1;33m:\u001b[0m\u001b[1;33m\u001b[0m\u001b[1;33m\u001b[0m\u001b[0m\n\u001b[0;32m    272\u001b[0m             raise ValueError(\"x and y can be no greater than 2-D, but have \"\n",
      "\u001b[1;31mValueError\u001b[0m: x and y must have same first dimension, but have shapes (38,) and (18,)"
     ]
    },
    {
     "data": {
      "image/png": "[encoded data removed]",
      "text/plain": [
       "<Figure size 1080x720 with 1 Axes>"
      ]
     },
     "metadata": {
      "needs_background": "light"
     },
     "output_type": "display_data"
    }
   ],
   "source": [
    "param_range = range(2, 40)\n",
    "results = search2.cv_results_['mean_test_score']   \n",
    "plt.figure(1, figsize=(15, 10))\n",
    "plt.plot(list(param_range), results, 'b-o')\n",
    "plt.fill_between(list(param_range), results - search2.cv_results_['std_test_score'],\n",
    "                 results + search2.cv_results_['std_test_score'], color='lightgrey')\n",
    "plt.show();"
   ]
  },
  {
   "cell_type": "code",
   "execution_count": 21,
   "metadata": {},
   "outputs": [
    {
     "name": "stdout",
     "output_type": "stream",
     "text": [
      "[0.79425  0.8025   0.795625 0.799625 0.795375 0.795125 0.796375 0.793875\n",
      " 0.793125 0.79325  0.79425  0.794875 0.7915   0.79475  0.79125  0.792125\n",
      " 0.793625 0.792875]\n"
     ]
    },
    {
     "ename": "ValueError",
     "evalue": "x and y must have same first dimension, but have shapes (9,) and (18,)",
     "output_type": "error",
     "traceback": [
      "\u001b[1;31m---------------------------------------------------------------------------\u001b[0m",
      "\u001b[1;31mValueError\u001b[0m                                Traceback (most recent call last)",
      "\u001b[1;32m<timed exec>\u001b[0m in \u001b[0;36m<module>\u001b[1;34m\u001b[0m\n",
      "\u001b[1;32m~\\AppData\\Local\\Continuum\\anaconda3\\envs\\cat_enc\\lib\\site-packages\\matplotlib\\pyplot.py\u001b[0m in \u001b[0;36mplot\u001b[1;34m(scalex, scaley, data, *args, **kwargs)\u001b[0m\n\u001b[0;32m   2794\u001b[0m     return gca().plot(\n\u001b[0;32m   2795\u001b[0m         *args, scalex=scalex, scaley=scaley, **({\"data\": data} if data\n\u001b[1;32m-> 2796\u001b[1;33m         is not None else {}), **kwargs)\n\u001b[0m\u001b[0;32m   2797\u001b[0m \u001b[1;33m\u001b[0m\u001b[0m\n\u001b[0;32m   2798\u001b[0m \u001b[1;33m\u001b[0m\u001b[0m\n",
      "\u001b[1;32m~\\AppData\\Local\\Continuum\\anaconda3\\envs\\cat_enc\\lib\\site-packages\\matplotlib\\axes\\_axes.py\u001b[0m in \u001b[0;36mplot\u001b[1;34m(self, scalex, scaley, data, *args, **kwargs)\u001b[0m\n\u001b[0;32m   1663\u001b[0m         \"\"\"\n\u001b[0;32m   1664\u001b[0m         \u001b[0mkwargs\u001b[0m \u001b[1;33m=\u001b[0m \u001b[0mcbook\u001b[0m\u001b[1;33m.\u001b[0m\u001b[0mnormalize_kwargs\u001b[0m\u001b[1;33m(\u001b[0m\u001b[0mkwargs\u001b[0m\u001b[1;33m,\u001b[0m \u001b[0mmlines\u001b[0m\u001b[1;33m.\u001b[0m\u001b[0mLine2D\u001b[0m\u001b[1;33m.\u001b[0m\u001b[0m_alias_map\u001b[0m\u001b[1;33m)\u001b[0m\u001b[1;33m\u001b[0m\u001b[1;33m\u001b[0m\u001b[0m\n\u001b[1;32m-> 1665\u001b[1;33m         \u001b[0mlines\u001b[0m \u001b[1;33m=\u001b[0m \u001b[1;33m[\u001b[0m\u001b[1;33m*\u001b[0m\u001b[0mself\u001b[0m\u001b[1;33m.\u001b[0m\u001b[0m_get_lines\u001b[0m\u001b[1;33m(\u001b[0m\u001b[1;33m*\u001b[0m\u001b[0margs\u001b[0m\u001b[1;33m,\u001b[0m \u001b[0mdata\u001b[0m\u001b[1;33m=\u001b[0m\u001b[0mdata\u001b[0m\u001b[1;33m,\u001b[0m \u001b[1;33m**\u001b[0m\u001b[0mkwargs\u001b[0m\u001b[1;33m)\u001b[0m\u001b[1;33m]\u001b[0m\u001b[1;33m\u001b[0m\u001b[1;33m\u001b[0m\u001b[0m\n\u001b[0m\u001b[0;32m   1666\u001b[0m         \u001b[1;32mfor\u001b[0m \u001b[0mline\u001b[0m \u001b[1;32min\u001b[0m \u001b[0mlines\u001b[0m\u001b[1;33m:\u001b[0m\u001b[1;33m\u001b[0m\u001b[1;33m\u001b[0m\u001b[0m\n\u001b[0;32m   1667\u001b[0m             \u001b[0mself\u001b[0m\u001b[1;33m.\u001b[0m\u001b[0madd_line\u001b[0m\u001b[1;33m(\u001b[0m\u001b[0mline\u001b[0m\u001b[1;33m)\u001b[0m\u001b[1;33m\u001b[0m\u001b[1;33m\u001b[0m\u001b[0m\n",
      "\u001b[1;32m~\\AppData\\Local\\Continuum\\anaconda3\\envs\\cat_enc\\lib\\site-packages\\matplotlib\\axes\\_base.py\u001b[0m in \u001b[0;36m__call__\u001b[1;34m(self, *args, **kwargs)\u001b[0m\n\u001b[0;32m    223\u001b[0m                 \u001b[0mthis\u001b[0m \u001b[1;33m+=\u001b[0m \u001b[0margs\u001b[0m\u001b[1;33m[\u001b[0m\u001b[1;36m0\u001b[0m\u001b[1;33m]\u001b[0m\u001b[1;33m,\u001b[0m\u001b[1;33m\u001b[0m\u001b[1;33m\u001b[0m\u001b[0m\n\u001b[0;32m    224\u001b[0m                 \u001b[0margs\u001b[0m \u001b[1;33m=\u001b[0m \u001b[0margs\u001b[0m\u001b[1;33m[\u001b[0m\u001b[1;36m1\u001b[0m\u001b[1;33m:\u001b[0m\u001b[1;33m]\u001b[0m\u001b[1;33m\u001b[0m\u001b[1;33m\u001b[0m\u001b[0m\n\u001b[1;32m--> 225\u001b[1;33m             \u001b[1;32myield\u001b[0m \u001b[1;32mfrom\u001b[0m \u001b[0mself\u001b[0m\u001b[1;33m.\u001b[0m\u001b[0m_plot_args\u001b[0m\u001b[1;33m(\u001b[0m\u001b[0mthis\u001b[0m\u001b[1;33m,\u001b[0m \u001b[0mkwargs\u001b[0m\u001b[1;33m)\u001b[0m\u001b[1;33m\u001b[0m\u001b[1;33m\u001b[0m\u001b[0m\n\u001b[0m\u001b[0;32m    226\u001b[0m \u001b[1;33m\u001b[0m\u001b[0m\n\u001b[0;32m    227\u001b[0m     \u001b[1;32mdef\u001b[0m \u001b[0mget_next_color\u001b[0m\u001b[1;33m(\u001b[0m\u001b[0mself\u001b[0m\u001b[1;33m)\u001b[0m\u001b[1;33m:\u001b[0m\u001b[1;33m\u001b[0m\u001b[1;33m\u001b[0m\u001b[0m\n",
      "\u001b[1;32m~\\AppData\\Local\\Continuum\\anaconda3\\envs\\cat_enc\\lib\\site-packages\\matplotlib\\axes\\_base.py\u001b[0m in \u001b[0;36m_plot_args\u001b[1;34m(self, tup, kwargs)\u001b[0m\n\u001b[0;32m    389\u001b[0m             \u001b[0mx\u001b[0m\u001b[1;33m,\u001b[0m \u001b[0my\u001b[0m \u001b[1;33m=\u001b[0m \u001b[0mindex_of\u001b[0m\u001b[1;33m(\u001b[0m\u001b[0mtup\u001b[0m\u001b[1;33m[\u001b[0m\u001b[1;33m-\u001b[0m\u001b[1;36m1\u001b[0m\u001b[1;33m]\u001b[0m\u001b[1;33m)\u001b[0m\u001b[1;33m\u001b[0m\u001b[1;33m\u001b[0m\u001b[0m\n\u001b[0;32m    390\u001b[0m \u001b[1;33m\u001b[0m\u001b[0m\n\u001b[1;32m--> 391\u001b[1;33m         \u001b[0mx\u001b[0m\u001b[1;33m,\u001b[0m \u001b[0my\u001b[0m \u001b[1;33m=\u001b[0m \u001b[0mself\u001b[0m\u001b[1;33m.\u001b[0m\u001b[0m_xy_from_xy\u001b[0m\u001b[1;33m(\u001b[0m\u001b[0mx\u001b[0m\u001b[1;33m,\u001b[0m \u001b[0my\u001b[0m\u001b[1;33m)\u001b[0m\u001b[1;33m\u001b[0m\u001b[1;33m\u001b[0m\u001b[0m\n\u001b[0m\u001b[0;32m    392\u001b[0m \u001b[1;33m\u001b[0m\u001b[0m\n\u001b[0;32m    393\u001b[0m         \u001b[1;32mif\u001b[0m \u001b[0mself\u001b[0m\u001b[1;33m.\u001b[0m\u001b[0mcommand\u001b[0m \u001b[1;33m==\u001b[0m \u001b[1;34m'plot'\u001b[0m\u001b[1;33m:\u001b[0m\u001b[1;33m\u001b[0m\u001b[1;33m\u001b[0m\u001b[0m\n",
      "\u001b[1;32m~\\AppData\\Local\\Continuum\\anaconda3\\envs\\cat_enc\\lib\\site-packages\\matplotlib\\axes\\_base.py\u001b[0m in \u001b[0;36m_xy_from_xy\u001b[1;34m(self, x, y)\u001b[0m\n\u001b[0;32m    268\u001b[0m         \u001b[1;32mif\u001b[0m \u001b[0mx\u001b[0m\u001b[1;33m.\u001b[0m\u001b[0mshape\u001b[0m\u001b[1;33m[\u001b[0m\u001b[1;36m0\u001b[0m\u001b[1;33m]\u001b[0m \u001b[1;33m!=\u001b[0m \u001b[0my\u001b[0m\u001b[1;33m.\u001b[0m\u001b[0mshape\u001b[0m\u001b[1;33m[\u001b[0m\u001b[1;36m0\u001b[0m\u001b[1;33m]\u001b[0m\u001b[1;33m:\u001b[0m\u001b[1;33m\u001b[0m\u001b[1;33m\u001b[0m\u001b[0m\n\u001b[0;32m    269\u001b[0m             raise ValueError(\"x and y must have same first dimension, but \"\n\u001b[1;32m--> 270\u001b[1;33m                              \"have shapes {} and {}\".format(x.shape, y.shape))\n\u001b[0m\u001b[0;32m    271\u001b[0m         \u001b[1;32mif\u001b[0m \u001b[0mx\u001b[0m\u001b[1;33m.\u001b[0m\u001b[0mndim\u001b[0m \u001b[1;33m>\u001b[0m \u001b[1;36m2\u001b[0m \u001b[1;32mor\u001b[0m \u001b[0my\u001b[0m\u001b[1;33m.\u001b[0m\u001b[0mndim\u001b[0m \u001b[1;33m>\u001b[0m \u001b[1;36m2\u001b[0m\u001b[1;33m:\u001b[0m\u001b[1;33m\u001b[0m\u001b[1;33m\u001b[0m\u001b[0m\n\u001b[0;32m    272\u001b[0m             raise ValueError(\"x and y can be no greater than 2-D, but have \"\n",
      "\u001b[1;31mValueError\u001b[0m: x and y must have same first dimension, but have shapes (9,) and (18,)"
     ]
    },
    {
     "data": {
      "image/png": "[encoded data removed]",
      "text/plain": [
       "<Figure size 1080x720 with 1 Axes>"
      ]
     },
     "metadata": {
      "needs_background": "light"
     },
     "output_type": "display_data"
    }
   ],
   "source": [
    "%%time\n",
    "X_train, X_test, y_train, y_test = train_test_split(predictors.values, y_h, test_size=0.2, random_state=2834)\n",
    "X_train = pd.DataFrame(X_train, columns=predictors.columns)\n",
    "X_test = pd.DataFrame(X_test, columns=predictors.columns)\n",
    "\n",
    "pte = PosteriorImputationEncoderBC(cols=['cat1', 'cat2'], \n",
    "                               n_draws=search.best_params_['encoder__n_draws'], \n",
    "                               random_state=2834, \n",
    "                               prior_samples_ratio=search.best_params_['encoder__prior_samples_ratio'],\n",
    "                               leave_one_out=search.best_params_['encoder__leave_one_out'])\n",
    "model = RandomForestClassifier(n_estimators=400, \n",
    "                           max_depth=search.best_params_['classifier__max_depth'], \n",
    "                           max_features=search.best_params_['classifier__max_features'], \n",
    "                           min_samples_leaf=search.best_params_['classifier__min_samples_leaf'], \n",
    "                           random_state=2834, n_jobs=-1) \n",
    "wrapper_model = EncoderWrapper(pte, model)\n",
    "\n",
    "param_range =  range(-10, -1)\n",
    "search3 = GridSearchCV(estimator=wrapper_model, param_grid={'encoder__prior_samples_ratio' : [10**i for i in param_range]})\n",
    "\n",
    "search3.fit(X_train, y_train)\n",
    "    \n",
    "results3 = search2.cv_results_['mean_test_score']    \n",
    "results_std3 = search2.cv_results_['std_test_score']\n",
    "    \n",
    "print(results)\n",
    "plt.figure(1, figsize=(15, 10))\n",
    "plt.plot(list(param_range), results, 'b-o')\n",
    "plt.fill_between(list(param_range), results - search3.cv_results_['std_test_score'],\n",
    "                 results + search3.cv_results_['std_test_score'], color='lightgrey')\n",
    "plt.show();"
   ]
  },
  {
   "cell_type": "code",
   "execution_count": 22,
   "metadata": {},
   "outputs": [
    {
     "data": {
      "text/plain": [
       "{'mean_fit_time': array([4.50678844, 4.47201796, 4.52320228, 4.63338213, 4.6687788 ,\n",
       "        4.67578816, 4.66562748, 4.65751662, 4.60330057]),\n",
       " 'std_fit_time': array([0.09866571, 0.02971118, 0.06583173, 0.07443556, 0.03798292,\n",
       "        0.05823376, 0.08388171, 0.1112733 , 0.01915959]),\n",
       " 'mean_score_time': array([0.3193449 , 0.31795311, 0.31917744, 0.38133879, 0.4013001 ,\n",
       "        0.34045691, 0.31973209, 0.319561  , 0.36084905]),\n",
       " 'std_score_time': array([0.00128665, 0.00080121, 0.00117117, 0.08271606, 0.04063737,\n",
       "        0.03983765, 0.00083768, 0.00076381, 0.04905848]),\n",
       " 'param_encoder__prior_samples_ratio': masked_array(data=[1e-10, 1e-09, 1e-08, 1e-07, 1e-06, 1e-05, 0.0001,\n",
       "                    0.001, 0.01],\n",
       "              mask=[False, False, False, False, False, False, False, False,\n",
       "                    False],\n",
       "        fill_value='?',\n",
       "             dtype=object),\n",
       " 'params': [{'encoder__prior_samples_ratio': 1e-10},\n",
       "  {'encoder__prior_samples_ratio': 1e-09},\n",
       "  {'encoder__prior_samples_ratio': 1e-08},\n",
       "  {'encoder__prior_samples_ratio': 1e-07},\n",
       "  {'encoder__prior_samples_ratio': 1e-06},\n",
       "  {'encoder__prior_samples_ratio': 1e-05},\n",
       "  {'encoder__prior_samples_ratio': 0.0001},\n",
       "  {'encoder__prior_samples_ratio': 0.001},\n",
       "  {'encoder__prior_samples_ratio': 0.01}],\n",
       " 'split0_test_score': array([0.793125, 0.7925  , 0.794375, 0.791875, 0.791875, 0.795625,\n",
       "        0.79875 , 0.80125 , 0.801875]),\n",
       " 'split1_test_score': array([0.79375 , 0.795   , 0.7975  , 0.79    , 0.78625 , 0.786875,\n",
       "        0.79875 , 0.795625, 0.8025  ]),\n",
       " 'split2_test_score': array([0.788125, 0.7975  , 0.801875, 0.7925  , 0.795625, 0.79    ,\n",
       "        0.795625, 0.804375, 0.798125]),\n",
       " 'split3_test_score': array([0.7875  , 0.78875 , 0.7925  , 0.78625 , 0.785   , 0.793125,\n",
       "        0.789375, 0.784375, 0.79    ]),\n",
       " 'split4_test_score': array([0.81625 , 0.805625, 0.80625 , 0.795   , 0.803125, 0.799375,\n",
       "        0.80625 , 0.8025  , 0.8025  ]),\n",
       " 'mean_test_score': array([0.79575 , 0.795875, 0.7985  , 0.791125, 0.792375, 0.793   ,\n",
       "        0.79775 , 0.797625, 0.799   ]),\n",
       " 'std_test_score': array([0.01055788, 0.00566789, 0.00500937, 0.00291548, 0.00660729,\n",
       "        0.00433734, 0.00545722, 0.00723922, 0.00478605]),\n",
       " 'rank_test_score': array([6, 5, 2, 9, 8, 7, 3, 4, 1])}"
      ]
     },
     "execution_count": 22,
     "metadata": {},
     "output_type": "execute_result"
    }
   ],
   "source": [
    "search3.cv_results_"
   ]
  },
  {
   "cell_type": "code",
   "execution_count": 30,
   "metadata": {},
   "outputs": [],
   "source": [
    "import pickle\n",
    "with open('classification_search1.pickle', 'wb') as pickle_file:\n",
    "    pickle.dump(search1.cv_results_, pickle_file)\n",
    "with open('classification_search2.pickle', 'wb') as pickle_file:\n",
    "    pickle.dump(search2.cv_results_, pickle_file)\n",
    "with open('classification_search3.pickle', 'wb') as pickle_file:\n",
    "    pickle.dump(search3.cv_results_, pickle_file)"
   ]
  },
  {
   "cell_type": "code",
   "execution_count": 40,
   "metadata": {},
   "outputs": [
    {
     "data": {
      "text/plain": [
       "array([0.0549712 , 0.14388096, 0.12816001, 0.1448246 , 0.05131392,\n",
       "       0.2015114 , 0.05158135, 0.0508333 , 0.06575204, 0.10717121])"
      ]
     },
     "execution_count": 40,
     "metadata": {},
     "output_type": "execute_result"
    }
   ],
   "source": [
    "loo_search.best_estimator_['rf'].feature_importances_"
   ]
  },
  {
   "cell_type": "code",
   "execution_count": 42,
   "metadata": {},
   "outputs": [
    {
     "data": {
      "text/plain": [
       "array([0.0577605 , 0.17682848, 0.14722262, 0.16281221, 0.05303048,\n",
       "       0.22826332, 0.05332863, 0.05230191, 0.01431999, 0.05413187])"
      ]
     },
     "execution_count": 42,
     "metadata": {},
     "output_type": "execute_result"
    }
   ],
   "source": [
    "search.best_estimator_.classifier.feature_importances_"
   ]
  },
  {
   "cell_type": "code",
   "execution_count": 50,
   "metadata": {},
   "outputs": [],
   "source": [
    "with open('class_loo_import.pickle', 'wb') as f:\n",
    "    pickle.dump(loo_search.best_estimator_['rf'].feature_importances_, f)\n",
    "with open('class_sam_import.pickle', 'wb') as f:\n",
    "    pickle.dump(search.best_estimator_.classifier.feature_importances_, f)"
   ]
  },
  {
   "cell_type": "code",
   "execution_count": null,
   "metadata": {},
   "outputs": [],
   "source": []
  }
 ],
 "metadata": {
  "kernelspec": {
   "display_name": "Python 3",
   "language": "python",
   "name": "python3"
  },
  "language_info": {
   "codemirror_mode": {
    "name": "ipython",
    "version": 3
   },
   "file_extension": ".py",
   "mimetype": "text/x-python",
   "name": "python",
   "nbconvert_exporter": "python",
   "pygments_lexer": "ipython3",
   "version": "3.7.1"
  }
 },
 "nbformat": 4,
 "nbformat_minor": 2
}
