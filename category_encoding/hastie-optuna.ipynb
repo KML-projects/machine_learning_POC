{
 "cells": [
  {
   "cell_type": "markdown",
   "metadata": {},
   "source": [
    "# Simulation studies using Hastie's data\n",
    "\n",
    "The goal of this simulation study is to see how the performance of the Bayesian-encoded model varies for different values of the hyperparameters. \n"
   ]
  },
  {
   "cell_type": "code",
   "execution_count": 1,
   "metadata": {},
   "outputs": [],
   "source": [
    "%load_ext autoreload\n",
    "import numpy as np\n",
    "import pandas as pd\n",
    "from matplotlib import pyplot as plt\n",
    "%matplotlib inline"
   ]
  },
  {
   "cell_type": "code",
   "execution_count": 2,
   "metadata": {},
   "outputs": [],
   "source": [
    "import sys,os, pathlib\n",
    "current = pathlib.Path(os.getcwd())\n",
    "base = current.parent.parent\n",
    "catenc = base.joinpath('categorical-encoding')\n",
    "sys.path.append(str(catenc))"
   ]
  },
  {
   "cell_type": "markdown",
   "metadata": {},
   "source": [
    "# Binary classification problem\n",
    "\n",
    "For Binary classifier we will work with the example 10.2 of T. Hastie, R. Tibshirani and J. Friedman, \"Elements of Statistical Learning Ed. 2\", Springer, 2009."
   ]
  },
  {
   "cell_type": "code",
   "execution_count": 3,
   "metadata": {},
   "outputs": [],
   "source": [
    "from sklearn.datasets import make_hastie_10_2\n",
    "X_h, y_h = make_hastie_10_2(random_state=2834)\n",
    "X_h = X_h.astype('float16')\n",
    "y_h[y_h==-1]=0"
   ]
  },
  {
   "cell_type": "code",
   "execution_count": 4,
   "metadata": {},
   "outputs": [],
   "source": [
    "#Now convert the last column to the categorical\n",
    "from sklearn.preprocessing import KBinsDiscretizer\n",
    "disczr1 = KBinsDiscretizer(n_bins=20, encode='ordinal', strategy='uniform')\n",
    "cat_column1 = disczr1.fit_transform(X_h[:,-1].reshape(-1, 1)) * 193 % 20 #We want to break the monotonicity\n",
    "disczr2 = KBinsDiscretizer(n_bins=15, encode='ordinal', strategy='uniform')\n",
    "cat_column2 = disczr2.fit_transform(X_h[:,-2].reshape(-1, 1)) * 173 % 20 #We want to break the monotonicity"
   ]
  },
  {
   "cell_type": "code",
   "execution_count": 5,
   "metadata": {},
   "outputs": [
    {
     "data": {
      "text/html": [
       "<div>\n",
       "<style scoped>\n",
       "    .dataframe tbody tr th:only-of-type {\n",
       "        vertical-align: middle;\n",
       "    }\n",
       "\n",
       "    .dataframe tbody tr th {\n",
       "        vertical-align: top;\n",
       "    }\n",
       "\n",
       "    .dataframe thead th {\n",
       "        text-align: right;\n",
       "    }\n",
       "</style>\n",
       "<table border=\"1\" class=\"dataframe\">\n",
       "  <thead>\n",
       "    <tr style=\"text-align: right;\">\n",
       "      <th></th>\n",
       "      <th>col_0</th>\n",
       "      <th>col_1</th>\n",
       "      <th>col_2</th>\n",
       "      <th>col_3</th>\n",
       "      <th>col_4</th>\n",
       "      <th>col_5</th>\n",
       "      <th>col_6</th>\n",
       "      <th>col_7</th>\n",
       "      <th>cat1</th>\n",
       "      <th>cat2</th>\n",
       "    </tr>\n",
       "  </thead>\n",
       "  <tbody>\n",
       "    <tr>\n",
       "      <th>0</th>\n",
       "      <td>-1.373047</td>\n",
       "      <td>-2.091797</td>\n",
       "      <td>1.708984</td>\n",
       "      <td>-0.275146</td>\n",
       "      <td>-0.398926</td>\n",
       "      <td>1.024414</td>\n",
       "      <td>-0.765137</td>\n",
       "      <td>-0.189331</td>\n",
       "      <td>4.0</td>\n",
       "      <td>11.0</td>\n",
       "    </tr>\n",
       "    <tr>\n",
       "      <th>1</th>\n",
       "      <td>0.469238</td>\n",
       "      <td>1.482422</td>\n",
       "      <td>0.573730</td>\n",
       "      <td>1.517578</td>\n",
       "      <td>-0.036804</td>\n",
       "      <td>-0.188110</td>\n",
       "      <td>-0.654785</td>\n",
       "      <td>1.072266</td>\n",
       "      <td>17.0</td>\n",
       "      <td>18.0</td>\n",
       "    </tr>\n",
       "    <tr>\n",
       "      <th>2</th>\n",
       "      <td>-0.405518</td>\n",
       "      <td>0.231201</td>\n",
       "      <td>-1.037109</td>\n",
       "      <td>-0.901855</td>\n",
       "      <td>-2.525391</td>\n",
       "      <td>0.429199</td>\n",
       "      <td>-1.176758</td>\n",
       "      <td>-0.426025</td>\n",
       "      <td>17.0</td>\n",
       "      <td>11.0</td>\n",
       "    </tr>\n",
       "  </tbody>\n",
       "</table>\n",
       "</div>"
      ],
      "text/plain": [
       "      col_0     col_1     col_2     col_3     col_4     col_5     col_6  \\\n",
       "0 -1.373047 -2.091797  1.708984 -0.275146 -0.398926  1.024414 -0.765137   \n",
       "1  0.469238  1.482422  0.573730  1.517578 -0.036804 -0.188110 -0.654785   \n",
       "2 -0.405518  0.231201 -1.037109 -0.901855 -2.525391  0.429199 -1.176758   \n",
       "\n",
       "      col_7  cat1  cat2  \n",
       "0 -0.189331   4.0  11.0  \n",
       "1  1.072266  17.0  18.0  \n",
       "2 -0.426025  17.0  11.0  "
      ]
     },
     "execution_count": 5,
     "metadata": {},
     "output_type": "execute_result"
    }
   ],
   "source": [
    "predictors = pd.DataFrame(X_h[:, 0:-2], columns=[f'col_{i}' for i in range(8)])\n",
    "predictors['cat1'] = cat_column1\n",
    "predictors['cat2'] = cat_column2\n",
    "#predictors['cat1_orig'] = cat_column1\n",
    "#predictors['cat2_orig'] = cat_column2\n",
    "predictors.head(3)"
   ]
  },
  {
   "cell_type": "code",
   "execution_count": 6,
   "metadata": {},
   "outputs": [],
   "source": [
    "from sklearn.model_selection import train_test_split\n",
    "X_train, X_test, y_train, y_test = train_test_split(predictors.values, y_h, test_size=0.2, random_state=2834)"
   ]
  },
  {
   "cell_type": "code",
   "execution_count": 7,
   "metadata": {},
   "outputs": [
    {
     "name": "stdout",
     "output_type": "stream",
     "text": [
      "Train accuracy:  1.0\n",
      "Test accuracy:  0.84875\n",
      "AUC:  0.9255\n"
     ]
    }
   ],
   "source": [
    "from sklearn.ensemble import RandomForestClassifier\n",
    "from sklearn.metrics import accuracy_score, roc_auc_score\n",
    "model = RandomForestClassifier(n_estimators=400, max_depth=40, random_state=2834, n_jobs=-1) \n",
    "model.fit(X_train, y_train)\n",
    "preds = model.predict_proba(X_test)[:,1]\n",
    "\n",
    "print('Train accuracy: ', accuracy_score(y_train, model.predict(X_train)))\n",
    "print('Test accuracy: ', accuracy_score(y_test, preds.round()))\n",
    "print('AUC: ', roc_auc_score(y_test, preds).round(4))"
   ]
  },
  {
   "cell_type": "markdown",
   "metadata": {},
   "source": [
    "Hyperparameter tuning: optimizing for AUC\n",
    "estimators: 400\n",
    "max depth:\n",
    "* 15 | 0.9334 \n",
    "* 17 | 0.9384\n",
    "* 19 | 0.9398\n",
    "* 21 | 0.9415\n",
    "* 25 | 0.9449\n",
    "* 30 | 0.947\n",
    "* 10 | 0.9476"
   ]
  },
  {
   "cell_type": "markdown",
   "metadata": {},
   "source": [
    "## Cross-validation\n",
    "\n",
    "We really should use cross-validation to avoid overfitting"
   ]
  },
  {
   "cell_type": "markdown",
   "metadata": {},
   "source": [
    "### Cross-validation of the target encoding model\n",
    "\n",
    "First we will train a model using target encoding"
   ]
  },
  {
   "cell_type": "code",
   "execution_count": 11,
   "metadata": {},
   "outputs": [
    {
     "name": "stderr",
     "output_type": "stream",
     "text": [
      "[I 2020-05-14 10:33:04,925] Finished trial#4 with value: 0.741875 with parameters: {'loo__sigma': 2.9187650446232032e-05, 'rf__max_depth': 24, 'rf__max_features': 2, 'rf__min_samples_leaf': 3}. Best is trial#4 with value: 0.741875.\n",
      "[I 2020-05-14 10:33:05,020] Finished trial#5 with value: 0.7292708333333332 with parameters: {'loo__sigma': 0.03526495972850996, 'rf__max_depth': 5, 'rf__max_features': 6, 'rf__min_samples_leaf': 2}. Best is trial#4 with value: 0.741875.\n",
      "[I 2020-05-14 10:33:05,616] Finished trial#3 with value: 0.5557291666666667 with parameters: {'loo__sigma': 1.8763034185685176e-05, 'rf__max_depth': 25, 'rf__max_features': 6, 'rf__min_samples_leaf': 2}. Best is trial#4 with value: 0.741875.\n",
      "[I 2020-05-14 10:33:07,355] Finished trial#2 with value: 0.5701041666666666 with parameters: {'loo__sigma': 0.0002265731008098769, 'rf__max_depth': 11, 'rf__max_features': 8, 'rf__min_samples_leaf': 2}. Best is trial#4 with value: 0.741875.\n",
      "[I 2020-05-14 10:33:09,364] Finished trial#8 with value: 0.8294791666666667 with parameters: {'loo__sigma': 0.03132235752595001, 'rf__max_depth': 10, 'rf__max_features': 5, 'rf__min_samples_leaf': 1}. Best is trial#8 with value: 0.8294791666666667.\n",
      "[I 2020-05-14 10:33:10,579] Finished trial#6 with value: 0.5777083333333334 with parameters: {'loo__sigma': 4.615939129297601e-05, 'rf__max_depth': 33, 'rf__max_features': 10, 'rf__min_samples_leaf': 1}. Best is trial#8 with value: 0.8294791666666667.\n",
      "[I 2020-05-14 10:33:11,043] Finished trial#0 with value: 0.8842708333333335 with parameters: {'loo__sigma': 0.009134530125583178, 'rf__max_depth': 28, 'rf__max_features': 3, 'rf__min_samples_leaf': 3}. Best is trial#0 with value: 0.8842708333333335.\n",
      "[I 2020-05-14 10:33:12,238] Finished trial#9 with value: 0.5788541666666667 with parameters: {'loo__sigma': 0.0005727658338244922, 'rf__max_depth': 7, 'rf__max_features': 10, 'rf__min_samples_leaf': 1}. Best is trial#0 with value: 0.8842708333333335.\n",
      "[I 2020-05-14 10:33:14,548] Finished trial#7 with value: 0.8800000000000001 with parameters: {'loo__sigma': 0.020162554190078754, 'rf__max_depth': 26, 'rf__max_features': 5, 'rf__min_samples_leaf': 3}. Best is trial#0 with value: 0.8842708333333335.\n",
      "[I 2020-05-14 10:33:14,847] Finished trial#1 with value: 0.8799999999999999 with parameters: {'loo__sigma': 0.005353658947495613, 'rf__max_depth': 30, 'rf__max_features': 5, 'rf__min_samples_leaf': 3}. Best is trial#0 with value: 0.8842708333333335.\n"
     ]
    },
    {
     "name": "stdout",
     "output_type": "stream",
     "text": [
      "Best parameter (CV score=0.884):\n",
      "{'loo__sigma': 0.009134530125583178, 'rf__max_depth': 28, 'rf__max_features': 3, 'rf__min_samples_leaf': 3}\n",
      "Test accuracy:  0.88\n"
     ]
    }
   ],
   "source": [
    "%%time\n",
    "from sklearn.pipeline import make_pipeline, Pipeline\n",
    "from sklearn.model_selection import cross_val_score\n",
    "from category_encoders.leave_one_out import LeaveOneOutEncoder\n",
    "import optuna\n",
    "from optuna.distributions import *\n",
    "\n",
    "loo = LeaveOneOutEncoder(cols=['cat1', 'cat2'], sigma=0.05, random_state=2834)\n",
    "rf = RandomForestClassifier(n_estimators=400, max_depth=30, max_features=1, min_samples_leaf=1,\n",
    "                            random_state=2834, n_jobs=-1) \n",
    "pipe = Pipeline(steps=[('loo',loo), ('rf',rf)])\n",
    "\n",
    "param_distribution = {\n",
    "    'loo__sigma': LogUniformDistribution(1E-5, 1E-1),\n",
    "    'rf__max_depth': IntUniformDistribution(5,40),\n",
    "    'rf__max_features' : IntUniformDistribution(1,10),\n",
    "    'rf__min_samples_leaf': IntUniformDistribution(1,3)\n",
    "}\n",
    "\n",
    "X_train, X_test, y_train, y_test = train_test_split(predictors.values, y_h, test_size=0.2, random_state=2834)\n",
    "X_train = pd.DataFrame(X_train, columns=predictors.columns)\n",
    "X_test = pd.DataFrame(X_test, columns=predictors.columns)\n",
    "search = optuna.integration.OptunaSearchCV(pipe, param_distribution, \n",
    "                                           cv=5, n_jobs=-1, random_state=514, timeout= 5*60, scoring='accuracy')\n",
    "search.fit(X_train, y_train)\n",
    "print(\"Best parameter (CV score=%0.3f):\" % search.best_score_)\n",
    "print(search.best_params_)\n",
    "test_predict = search.best_estimator_.predict(X_test)\n",
    "print('Test accuracy: ', accuracy_score(y_test, test_predict))"
   ]
  },
  {
   "cell_type": "markdown",
   "metadata": {},
   "source": [
    "### Cross-validation of the probabilistic encoder\n",
    "\n",
    "First we create a class that makes it easier for us to run sklearn cross validation"
   ]
  },
  {
   "cell_type": "code",
   "execution_count": 13,
   "metadata": {},
   "outputs": [],
   "source": [
    "from category_encoders.pte_utils import EncoderWrapper\n",
    "from category_encoders.posterior_imputation_bc import PosteriorImputationEncoderBC"
   ]
  },
  {
   "cell_type": "code",
   "execution_count": 18,
   "metadata": {},
   "outputs": [
    {
     "name": "stderr",
     "output_type": "stream",
     "text": [
      "[I 2020-05-14 18:50:12,130] Finished trial#4 with value: 0.804375 with parameters: {'encoder__prior_samples_ratio': 0.0008804974198945059, 'encoder__n_draws': 3, 'encoder__leave_one_out': False, 'classifier__max_depth': 9, 'classifier__max_features': 4, 'classifier__min_samples_leaf': 2}. Best is trial#4 with value: 0.804375.\n",
      "[I 2020-05-14 18:54:16,022] Finished trial#6 with value: 0.8636458333333333 with parameters: {'encoder__prior_samples_ratio': 3.6693380836667034e-06, 'encoder__n_draws': 3, 'encoder__leave_one_out': False, 'classifier__max_depth': 19, 'classifier__max_features': 10, 'classifier__min_samples_leaf': 3}. Best is trial#6 with value: 0.8636458333333333.\n",
      "[I 2020-05-14 18:55:09,327] Finished trial#7 with value: 0.7891666666666668 with parameters: {'encoder__prior_samples_ratio': 2.809575169413967e-07, 'encoder__n_draws': 7, 'encoder__leave_one_out': True, 'classifier__max_depth': 9, 'classifier__max_features': 5, 'classifier__min_samples_leaf': 2}. Best is trial#6 with value: 0.8636458333333333.\n",
      "[I 2020-05-14 18:55:26,309] Finished trial#2 with value: 0.7778125 with parameters: {'encoder__prior_samples_ratio': 0.05332212546527568, 'encoder__n_draws': 9, 'encoder__leave_one_out': False, 'classifier__max_depth': 9, 'classifier__max_features': 7, 'classifier__min_samples_leaf': 2}. Best is trial#6 with value: 0.8636458333333333.\n",
      "[I 2020-05-14 18:57:50,400] Finished trial#1 with value: 0.8098958333333334 with parameters: {'encoder__prior_samples_ratio': 1.795548486309563e-07, 'encoder__n_draws': 15, 'encoder__leave_one_out': True, 'classifier__max_depth': 11, 'classifier__max_features': 4, 'classifier__min_samples_leaf': 3}. Best is trial#6 with value: 0.8636458333333333.\n",
      "[I 2020-05-14 18:59:58,879] Finished trial#0 with value: 0.869375 with parameters: {'encoder__prior_samples_ratio': 9.247009134582107e-10, 'encoder__n_draws': 15, 'encoder__leave_one_out': False, 'classifier__max_depth': 25, 'classifier__max_features': 5, 'classifier__min_samples_leaf': 1}. Best is trial#0 with value: 0.869375.\n",
      "[I 2020-05-14 19:01:16,207] Finished trial#9 with value: 0.8489583333333334 with parameters: {'encoder__prior_samples_ratio': 1.208866942690696e-10, 'encoder__n_draws': 16, 'encoder__leave_one_out': False, 'classifier__max_depth': 17, 'classifier__max_features': 7, 'classifier__min_samples_leaf': 2}. Best is trial#0 with value: 0.869375.\n",
      "[I 2020-05-14 19:01:28,695] Finished trial#3 with value: 0.8609375 with parameters: {'encoder__prior_samples_ratio': 1.1428495180990505e-10, 'encoder__n_draws': 20, 'encoder__leave_one_out': False, 'classifier__max_depth': 19, 'classifier__max_features': 5, 'classifier__min_samples_leaf': 1}. Best is trial#0 with value: 0.869375.\n",
      "[I 2020-05-14 19:04:02,909] Finished trial#5 with value: 0.8486458333333333 with parameters: {'encoder__prior_samples_ratio': 0.006265935357577405, 'encoder__n_draws': 24, 'encoder__leave_one_out': False, 'classifier__max_depth': 19, 'classifier__max_features': 7, 'classifier__min_samples_leaf': 1}. Best is trial#0 with value: 0.869375.\n",
      "[I 2020-05-14 19:04:35,441] Finished trial#8 with value: 0.8488541666666667 with parameters: {'encoder__prior_samples_ratio': 0.009369202474231992, 'encoder__n_draws': 24, 'encoder__leave_one_out': False, 'classifier__max_depth': 25, 'classifier__max_features': 7, 'classifier__min_samples_leaf': 2}. Best is trial#0 with value: 0.869375.\n"
     ]
    },
    {
     "name": "stdout",
     "output_type": "stream",
     "text": [
      "Best parameter (CV score=0.869):\n",
      "{'encoder__prior_samples_ratio': 9.247009134582107e-10, 'encoder__n_draws': 15, 'encoder__leave_one_out': False, 'classifier__max_depth': 25, 'classifier__max_features': 5, 'classifier__min_samples_leaf': 1}\n",
      "Test accuracy:  0.8683333333333333\n",
      "Wall time: 19min 9s\n"
     ]
    }
   ],
   "source": [
    "%%time\n",
    "from sklearn.model_selection import cross_val_score\n",
    "\n",
    "pte = PosteriorImputationEncoderBC(cols=['cat1', 'cat2'], random_state=2834)\n",
    "model = RandomForestClassifier(n_estimators=400, random_state=2834, n_jobs=-1) \n",
    "wrapper_model = EncoderWrapper(pte, model)\n",
    "\n",
    "\n",
    "param_distribution = {\n",
    "    'encoder__prior_samples_ratio': LogUniformDistribution(1E-10, 1E-1),\n",
    "    'encoder__n_draws': IntUniformDistribution(1,25),\n",
    "    'encoder__leave_one_out': CategoricalDistribution([False, True]),\n",
    "    'classifier__max_depth': IntUniformDistribution(5,40),\n",
    "    'classifier__max_features' : IntUniformDistribution(1,10),\n",
    "    'classifier__min_samples_leaf': IntUniformDistribution(1,3)\n",
    "}\n",
    "\n",
    "\n",
    "X_train, X_test, y_train, y_test = train_test_split(predictors.values, y_h, test_size=0.2, random_state=2834)\n",
    "X_train = pd.DataFrame(X_train, columns=predictors.columns)\n",
    "X_test = pd.DataFrame(X_test, columns=predictors.columns)\n",
    "\n",
    "search = optuna.integration.OptunaSearchCV(wrapper_model, param_distribution, \n",
    "                                           cv=5, n_jobs=-1, random_state=514, timeout=30*60, scoring='accuracy')\n",
    "\n",
    "search.fit(X_train, y_train)\n",
    "print(\"Best parameter (CV score=%0.3f):\" % search.best_score_)\n",
    "print(search.best_params_)\n",
    "\n",
    "test_predict = search.best_estimator_.predict(X_test)\n",
    "print('Test accuracy: ', accuracy_score(y_test, test_predict))\n"
   ]
  },
  {
   "cell_type": "markdown",
   "metadata": {},
   "source": [
    "## Study how hyperparameters influence the model"
   ]
  },
  {
   "cell_type": "markdown",
   "metadata": {},
   "source": [
    "First we check whether leave one out even matters"
   ]
  },
  {
   "cell_type": "code",
   "execution_count": 20,
   "metadata": {},
   "outputs": [
    {
     "data": {
      "text/plain": [
       "array([0.00703106, 0.01555889])"
      ]
     },
     "execution_count": 20,
     "metadata": {},
     "output_type": "execute_result"
    }
   ],
   "source": [
    "from sklearn.model_selection import GridSearchCV\n",
    "pte = PosteriorImputationEncoderBC(cols=['cat1', 'cat2'], \n",
    "                                   n_draws=search.best_params_['encoder__n_draws'], \n",
    "                                   random_state=2834, \n",
    "                                   prior_samples_ratio=search.best_params_['encoder__prior_samples_ratio'],\n",
    "                                   leave_one_out=search.best_params_['encoder__leave_one_out'])\n",
    "model = RandomForestClassifier(n_estimators=400, \n",
    "                               max_depth=search.best_params_['classifier__max_depth'], \n",
    "                               max_features=search.best_params_['classifier__max_features'], \n",
    "                               min_samples_leaf=search.best_params_['classifier__min_samples_leaf'], \n",
    "                               random_state=2834, n_jobs=-1) \n",
    "wrapper_model = EncoderWrapper(pte, model)\n",
    "\n",
    "\n",
    "X_train, X_test, y_train, y_test = train_test_split(predictors.values, y_h, test_size=0.2, random_state=2834)\n",
    "X_train = pd.DataFrame(X_train, columns=predictors.columns)\n",
    "X_test = pd.DataFrame(X_test, columns=predictors.columns)\n",
    "\n",
    "\n",
    "search1 = GridSearchCV(estimator=wrapper_model, param_grid={'encoder__leave_one_out' : [False, True]})\n",
    "\n",
    "search1.fit(X_train, y_train)\n",
    "print(search1.cv_results_['mean_test_score'])\n",
    "print(search1.cv_results_['std_test_score'])"
   ]
  },
  {
   "cell_type": "code",
   "execution_count": 21,
   "metadata": {},
   "outputs": [
    {
     "name": "stdout",
     "output_type": "stream",
     "text": [
      "[0.86854167 0.8609375 ]\n",
      "[0.00703106 0.01555889]\n"
     ]
    }
   ],
   "source": [
    "print(search1.cv_results_['mean_test_score'])\n",
    "print(search1.cv_results_['std_test_score'])"
   ]
  },
  {
   "cell_type": "markdown",
   "metadata": {},
   "source": [
    "Seems like both results are equal within the statistical error\n",
    "\n",
    "Now we will check number of samples"
   ]
  },
  {
   "cell_type": "code",
   "execution_count": 22,
   "metadata": {},
   "outputs": [
    {
     "name": "stdout",
     "output_type": "stream",
     "text": [
      "[0.8759375  0.87239583 0.87270833 0.87010417 0.87020833 0.8703125\n",
      " 0.868125   0.86885417 0.868125   0.86875    0.86802083 0.86979167\n",
      " 0.86708333 0.86770833 0.86739583 0.86729167 0.86697917 0.86625\n",
      " 0.86666667 0.8671875  0.86625    0.8678125  0.8653125  0.86552083\n",
      " 0.86385417 0.86489583 0.86510417 0.86625    0.86458333 0.86645833\n",
      " 0.86625    0.8675     0.86520833 0.86447917 0.86635417 0.86375\n",
      " 0.866875   0.86395833]\n"
     ]
    },
    {
     "data": {
      "image/png": "[encoded data removed]",
      "text/plain": [
       "<Figure size 432x288 with 1 Axes>"
      ]
     },
     "metadata": {
      "needs_background": "light"
     },
     "output_type": "display_data"
    },
    {
     "name": "stdout",
     "output_type": "stream",
     "text": [
      "Wall time: 1h 57min 55s\n"
     ]
    }
   ],
   "source": [
    "%%time\n",
    "X_train, X_test, y_train, y_test = train_test_split(predictors.values, y_h, test_size=0.2, random_state=2834)\n",
    "X_train = pd.DataFrame(X_train, columns=predictors.columns)\n",
    "X_test = pd.DataFrame(X_test, columns=predictors.columns)\n",
    "\n",
    "pte = PosteriorImputationEncoderBC(cols=['cat1', 'cat2'], \n",
    "                               n_draws=search.best_params_['encoder__n_draws'], \n",
    "                               random_state=2834, \n",
    "                               prior_samples_ratio=search.best_params_['encoder__prior_samples_ratio'],\n",
    "                               leave_one_out=search.best_params_['encoder__leave_one_out'])\n",
    "model = RandomForestClassifier(n_estimators=400, \n",
    "                           max_depth=search.best_params_['classifier__max_depth'], \n",
    "                           max_features=search.best_params_['classifier__max_features'], \n",
    "                           min_samples_leaf=search.best_params_['classifier__min_samples_leaf'], \n",
    "                           random_state=2834, n_jobs=-1) \n",
    "wrapper_model = EncoderWrapper(pte, model)\n",
    "\n",
    "param_range = range(2, 40)\n",
    "search2 = GridSearchCV(estimator=wrapper_model, param_grid={'encoder__n_draws' : param_range})\n",
    "\n",
    "search2.fit(X_train, y_train)\n",
    "results = search2.cv_results_['mean_test_score']    \n",
    "    \n",
    "print(results)\n",
    "plt.plot(list(param_range), results, '-o')\n",
    "plt.plot(list(param_range), results + search2.cv_results_['std_test_score'] , '-o');\n",
    "plt.plot(list(param_range), results - search2.cv_results_['std_test_score'] , '-o');\n",
    "plt.show();"
   ]
  },
  {
   "cell_type": "markdown",
   "metadata": {},
   "source": [
    "Seems like the algorithm favors small samples and not large samples, but above 5 the results are statistically the same\n",
    "\n",
    "Now we will check how the prior distribution affects the accuracy\n"
   ]
  },
  {
   "cell_type": "code",
   "execution_count": 23,
   "metadata": {},
   "outputs": [
    {
     "name": "stdout",
     "output_type": "stream",
     "text": [
      "[0.8684375  0.86677083 0.87041667 0.86635417 0.86708333 0.866875\n",
      " 0.86729167 0.86614583 0.85416667]\n"
     ]
    },
    {
     "data": {
      "image/png": "[encoded data removed]",
      "text/plain": [
       "<Figure size 432x288 with 1 Axes>"
      ]
     },
     "metadata": {
      "needs_background": "light"
     },
     "output_type": "display_data"
    },
    {
     "name": "stdout",
     "output_type": "stream",
     "text": [
      "Wall time: 18min 46s\n"
     ]
    }
   ],
   "source": [
    "%%time\n",
    "X_train, X_test, y_train, y_test = train_test_split(predictors.values, y_h, test_size=0.2, random_state=2834)\n",
    "X_train = pd.DataFrame(X_train, columns=predictors.columns)\n",
    "X_test = pd.DataFrame(X_test, columns=predictors.columns)\n",
    "\n",
    "pte = PosteriorImputationEncoderBC(cols=['cat1', 'cat2'], \n",
    "                               n_draws=search.best_params_['encoder__n_draws'], \n",
    "                               random_state=2834, \n",
    "                               prior_samples_ratio=search.best_params_['encoder__prior_samples_ratio'],\n",
    "                               leave_one_out=search.best_params_['encoder__leave_one_out'])\n",
    "model = RandomForestClassifier(n_estimators=400, \n",
    "                           max_depth=search.best_params_['classifier__max_depth'], \n",
    "                           max_features=search.best_params_['classifier__max_features'], \n",
    "                           min_samples_leaf=search.best_params_['classifier__min_samples_leaf'], \n",
    "                           random_state=2834, n_jobs=-1) \n",
    "wrapper_model = EncoderWrapper(pte, model)\n",
    "\n",
    "param_range =  range(-10, -1)\n",
    "search3 = GridSearchCV(estimator=wrapper_model, param_grid={'encoder__prior_samples_ratio' : [10**i for i in param_range]})\n",
    "\n",
    "search3.fit(X_train, y_train)\n",
    "    \n",
    "results = search3.cv_results_['mean_test_score']    \n",
    "    \n",
    "print(results)\n",
    "plt.plot(list(param_range), results, '-o')\n",
    "plt.plot(list(param_range), results + search3.cv_results_['std_test_score'] , '-o');\n",
    "plt.plot(list(param_range), results - search3.cv_results_['std_test_score'] , '-o');\n",
    "plt.show();"
   ]
  },
  {
   "cell_type": "markdown",
   "metadata": {},
   "source": [
    "Seems like the algorithm favors the prior below $10^{-3}$ and within that range the results are not statistically different"
   ]
  }
 ],
 "metadata": {
  "kernelspec": {
   "display_name": "Python 3",
   "language": "python",
   "name": "python3"
  },
  "language_info": {
   "codemirror_mode": {
    "name": "ipython",
    "version": 3
   },
   "file_extension": ".py",
   "mimetype": "text/x-python",
   "name": "python",
   "nbconvert_exporter": "python",
   "pygments_lexer": "ipython3",
   "version": "3.7.1"
  }
 },
 "nbformat": 4,
 "nbformat_minor": 2
}
