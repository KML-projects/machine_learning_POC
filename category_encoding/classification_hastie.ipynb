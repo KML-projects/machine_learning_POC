{
 "cells": [
  {
   "cell_type": "markdown",
   "metadata": {},
   "source": [
    "# Simulation studies using Hastie's data\n",
    "\n",
    "The goal of this simulation study is to see how the performance of the Bayesian-encoded model varies for different values of the hyperparameters. \n"
   ]
  },
  {
   "cell_type": "code",
   "execution_count": 1,
   "metadata": {},
   "outputs": [],
   "source": [
    "%load_ext autoreload\n",
    "import numpy as np\n",
    "import pandas as pd\n",
    "from matplotlib import pyplot as plt\n",
    "%matplotlib inline"
   ]
  },
  {
   "cell_type": "code",
   "execution_count": 2,
   "metadata": {},
   "outputs": [],
   "source": [
    "import sys,os, pathlib\n",
    "current = pathlib.Path(os.getcwd())\n",
    "base = current.parent.parent\n",
    "catenc = base.joinpath('categorical-encoding')\n",
    "sys.path.append(str(catenc))"
   ]
  },
  {
   "cell_type": "markdown",
   "metadata": {},
   "source": [
    "# Binary classification problem\n",
    "\n",
    "For Binary classifier we will work with the example 10.2 of T. Hastie, R. Tibshirani and J. Friedman, \"Elements of Statistical Learning Ed. 2\", Springer, 2009."
   ]
  },
  {
   "cell_type": "code",
   "execution_count": 3,
   "metadata": {},
   "outputs": [],
   "source": [
    "from sklearn.datasets import make_hastie_10_2\n",
    "X_h, y_h = make_hastie_10_2(random_state=2834)\n",
    "X_h = X_h.astype('float16')\n",
    "y_h[y_h==-1]=0"
   ]
  },
  {
   "cell_type": "code",
   "execution_count": 4,
   "metadata": {},
   "outputs": [],
   "source": [
    "#Now convert the last column to the categorical\n",
    "from sklearn.preprocessing import KBinsDiscretizer\n",
    "disczr1 = KBinsDiscretizer(n_bins=20, encode='ordinal', strategy='uniform')\n",
    "cat_column1 = disczr1.fit_transform(X_h[:,-1].reshape(-1, 1)) * 193 % 20 #We want to break the monotonicity\n",
    "disczr2 = KBinsDiscretizer(n_bins=15, encode='ordinal', strategy='uniform')\n",
    "cat_column2 = disczr2.fit_transform(X_h[:,-2].reshape(-1, 1)) * 173 % 20 #We want to break the monotonicity"
   ]
  },
  {
   "cell_type": "code",
   "execution_count": 5,
   "metadata": {},
   "outputs": [
    {
     "data": {
      "text/html": [
       "<div>\n",
       "<style scoped>\n",
       "    .dataframe tbody tr th:only-of-type {\n",
       "        vertical-align: middle;\n",
       "    }\n",
       "\n",
       "    .dataframe tbody tr th {\n",
       "        vertical-align: top;\n",
       "    }\n",
       "\n",
       "    .dataframe thead th {\n",
       "        text-align: right;\n",
       "    }\n",
       "</style>\n",
       "<table border=\"1\" class=\"dataframe\">\n",
       "  <thead>\n",
       "    <tr style=\"text-align: right;\">\n",
       "      <th></th>\n",
       "      <th>col_0</th>\n",
       "      <th>col_1</th>\n",
       "      <th>col_2</th>\n",
       "      <th>col_3</th>\n",
       "      <th>col_4</th>\n",
       "      <th>col_5</th>\n",
       "      <th>col_6</th>\n",
       "      <th>col_7</th>\n",
       "      <th>cat1</th>\n",
       "      <th>cat2</th>\n",
       "    </tr>\n",
       "  </thead>\n",
       "  <tbody>\n",
       "    <tr>\n",
       "      <th>0</th>\n",
       "      <td>-1.373047</td>\n",
       "      <td>-2.091797</td>\n",
       "      <td>1.708984</td>\n",
       "      <td>-0.275146</td>\n",
       "      <td>-0.398926</td>\n",
       "      <td>1.024414</td>\n",
       "      <td>-0.765137</td>\n",
       "      <td>-0.189331</td>\n",
       "      <td>4.0</td>\n",
       "      <td>11.0</td>\n",
       "    </tr>\n",
       "    <tr>\n",
       "      <th>1</th>\n",
       "      <td>0.469238</td>\n",
       "      <td>1.482422</td>\n",
       "      <td>0.573730</td>\n",
       "      <td>1.517578</td>\n",
       "      <td>-0.036804</td>\n",
       "      <td>-0.188110</td>\n",
       "      <td>-0.654785</td>\n",
       "      <td>1.072266</td>\n",
       "      <td>17.0</td>\n",
       "      <td>18.0</td>\n",
       "    </tr>\n",
       "    <tr>\n",
       "      <th>2</th>\n",
       "      <td>-0.405518</td>\n",
       "      <td>0.231201</td>\n",
       "      <td>-1.037109</td>\n",
       "      <td>-0.901855</td>\n",
       "      <td>-2.525391</td>\n",
       "      <td>0.429199</td>\n",
       "      <td>-1.176758</td>\n",
       "      <td>-0.426025</td>\n",
       "      <td>17.0</td>\n",
       "      <td>11.0</td>\n",
       "    </tr>\n",
       "  </tbody>\n",
       "</table>\n",
       "</div>"
      ],
      "text/plain": [
       "      col_0     col_1     col_2     col_3     col_4     col_5     col_6  \\\n",
       "0 -1.373047 -2.091797  1.708984 -0.275146 -0.398926  1.024414 -0.765137   \n",
       "1  0.469238  1.482422  0.573730  1.517578 -0.036804 -0.188110 -0.654785   \n",
       "2 -0.405518  0.231201 -1.037109 -0.901855 -2.525391  0.429199 -1.176758   \n",
       "\n",
       "      col_7  cat1  cat2  \n",
       "0 -0.189331   4.0  11.0  \n",
       "1  1.072266  17.0  18.0  \n",
       "2 -0.426025  17.0  11.0  "
      ]
     },
     "execution_count": 5,
     "metadata": {},
     "output_type": "execute_result"
    }
   ],
   "source": [
    "predictors = pd.DataFrame(X_h[:, 0:-2], columns=[f'col_{i}' for i in range(8)])\n",
    "predictors['cat1'] = cat_column1\n",
    "predictors['cat2'] = cat_column2\n",
    "#predictors['cat1_orig'] = cat_column1\n",
    "#predictors['cat2_orig'] = cat_column2\n",
    "predictors.head(3)"
   ]
  },
  {
   "cell_type": "code",
   "execution_count": 6,
   "metadata": {},
   "outputs": [],
   "source": [
    "from sklearn.model_selection import train_test_split\n",
    "X_train, X_test, y_train, y_test = train_test_split(predictors.values, y_h, test_size=0.2, random_state=2834)"
   ]
  },
  {
   "cell_type": "code",
   "execution_count": 7,
   "metadata": {},
   "outputs": [
    {
     "name": "stdout",
     "output_type": "stream",
     "text": [
      "Train accuracy:  1.0\n",
      "Test accuracy:  0.84875\n",
      "AUC:  0.9255\n"
     ]
    }
   ],
   "source": [
    "from sklearn.ensemble import RandomForestClassifier\n",
    "from sklearn.metrics import accuracy_score, roc_auc_score\n",
    "model = RandomForestClassifier(n_estimators=400, max_depth=40, random_state=2834, n_jobs=-1) \n",
    "model.fit(X_train, y_train)\n",
    "preds = model.predict_proba(X_test)[:,1]\n",
    "\n",
    "print('Train accuracy: ', accuracy_score(y_train, model.predict(X_train)))\n",
    "print('Test accuracy: ', accuracy_score(y_test, preds.round()))\n",
    "print('AUC: ', roc_auc_score(y_test, preds).round(4))"
   ]
  },
  {
   "cell_type": "markdown",
   "metadata": {},
   "source": [
    "Hyperparameter tuning: optimizing for AUC\n",
    "estimators: 400\n",
    "max depth:\n",
    "* 15 | 0.9334 \n",
    "* 17 | 0.9384\n",
    "* 19 | 0.9398\n",
    "* 21 | 0.9415\n",
    "* 25 | 0.9449\n",
    "* 30 | 0.947\n",
    "* 10 | 0.9476"
   ]
  },
  {
   "cell_type": "markdown",
   "metadata": {},
   "source": [
    "## Cross-validation\n",
    "\n",
    "We really should use cross-validation to avoid overfitting"
   ]
  },
  {
   "cell_type": "markdown",
   "metadata": {},
   "source": [
    "### Cross-validation of the target encoding model\n",
    "\n",
    "First we will train a model using target encoding"
   ]
  },
  {
   "cell_type": "code",
   "execution_count": 25,
   "metadata": {},
   "outputs": [
    {
     "name": "stderr",
     "output_type": "stream",
     "text": [
      "[I 2020-05-15 18:25:20,698] Finished trial#3 with value: 0.7517708333333333 with parameters: {'loo__sigma': 1.1404293223371326e-05, 'rf__max_depth': 6, 'rf__max_features': 1, 'rf__min_samples_leaf': 8}. Best is trial#3 with value: 0.7517708333333333.\n",
      "[I 2020-05-15 18:25:21,804] Finished trial#5 with value: 0.5525 with parameters: {'loo__sigma': 1.1755777640624622e-05, 'rf__max_depth': 20, 'rf__max_features': 7, 'rf__min_samples_leaf': 3}. Best is trial#3 with value: 0.7517708333333333.\n",
      "[I 2020-05-15 18:25:21,979] Finished trial#0 with value: 0.8363541666666666 with parameters: {'loo__sigma': 0.006693641748475297, 'rf__max_depth': 8, 'rf__max_features': 2, 'rf__min_samples_leaf': 3}. Best is trial#0 with value: 0.8363541666666666.\n",
      "[I 2020-05-15 18:25:22,835] Finished trial#9 with value: 0.5701041666666666 with parameters: {'loo__sigma': 0.00011942439775362347, 'rf__max_depth': 27, 'rf__max_features': 9, 'rf__min_samples_leaf': 3}. Best is trial#0 with value: 0.8363541666666666.\n",
      "[I 2020-05-15 18:25:24,845] Finished trial#1 with value: 0.5654166666666667 with parameters: {'loo__sigma': 1.848225748142321e-05, 'rf__max_depth': 30, 'rf__max_features': 5, 'rf__min_samples_leaf': 5}. Best is trial#0 with value: 0.8363541666666666.\n",
      "[I 2020-05-15 18:25:26,309] Finished trial#8 with value: 0.5916666666666666 with parameters: {'loo__sigma': 3.44488097799534e-05, 'rf__max_depth': 38, 'rf__max_features': 4, 'rf__min_samples_leaf': 7}. Best is trial#0 with value: 0.8363541666666666.\n",
      "[I 2020-05-15 18:25:32,544] Finished trial#10 with value: 0.8939583333333332 with parameters: {'loo__sigma': 0.0015711937740382454, 'rf__max_depth': 25, 'rf__max_features': 1, 'rf__min_samples_leaf': 5}. Best is trial#10 with value: 0.8939583333333332.\n",
      "[I 2020-05-15 18:25:37,061] Finished trial#6 with value: 0.8746875 with parameters: {'loo__sigma': 0.008851439371054272, 'rf__max_depth': 29, 'rf__max_features': 3, 'rf__min_samples_leaf': 9}. Best is trial#10 with value: 0.8939583333333332.\n",
      "[I 2020-05-15 18:25:41,880] Finished trial#2 with value: 0.6813541666666667 with parameters: {'loo__sigma': 0.0006640655718223867, 'rf__max_depth': 29, 'rf__max_features': 6, 'rf__min_samples_leaf': 7}. Best is trial#10 with value: 0.8939583333333332.\n",
      "[I 2020-05-15 18:25:45,041] Finished trial#4 with value: 0.8705208333333333 with parameters: {'loo__sigma': 0.03976409945814811, 'rf__max_depth': 16, 'rf__max_features': 5, 'rf__min_samples_leaf': 5}. Best is trial#10 with value: 0.8939583333333332.\n",
      "[I 2020-05-15 18:25:51,414] Finished trial#11 with value: 0.8679166666666667 with parameters: {'loo__sigma': 0.004807658803275752, 'rf__max_depth': 17, 'rf__max_features': 8, 'rf__min_samples_leaf': 1}. Best is trial#10 with value: 0.8939583333333332.\n",
      "[I 2020-05-15 18:25:53,896] Finished trial#7 with value: 0.8792708333333333 with parameters: {'loo__sigma': 0.005276895538863388, 'rf__max_depth': 35, 'rf__max_features': 6, 'rf__min_samples_leaf': 1}. Best is trial#10 with value: 0.8939583333333332.\n",
      "[I 2020-05-15 18:27:21,185] Finished trial#14 with value: 0.7119791666666666 with parameters: {'loo__sigma': 3.372220491520226e-05, 'rf__max_depth': 12, 'rf__max_features': 2, 'rf__min_samples_leaf': 3}. Best is trial#10 with value: 0.8939583333333332.\n",
      "[I 2020-05-15 18:27:26,634] Finished trial#18 with value: 0.5706249999999999 with parameters: {'loo__sigma': 2.9733426454606103e-05, 'rf__max_depth': 28, 'rf__max_features': 9, 'rf__min_samples_leaf': 6}. Best is trial#10 with value: 0.8939583333333332.\n",
      "[I 2020-05-15 18:27:32,242] Finished trial#15 with value: 0.8864583333333332 with parameters: {'loo__sigma': 0.0036157390363639186, 'rf__max_depth': 26, 'rf__max_features': 2, 'rf__min_samples_leaf': 2}. Best is trial#10 with value: 0.8939583333333332.\n",
      "[I 2020-05-15 18:27:33,117] Finished trial#13 with value: 0.8755208333333332 with parameters: {'loo__sigma': 0.007017325757180134, 'rf__max_depth': 18, 'rf__max_features': 5, 'rf__min_samples_leaf': 2}. Best is trial#10 with value: 0.8939583333333332.\n",
      "[I 2020-05-15 18:27:40,932] Finished trial#16 with value: 0.8842708333333332 with parameters: {'loo__sigma': 0.0077416375908647955, 'rf__max_depth': 28, 'rf__max_features': 4, 'rf__min_samples_leaf': 1}. Best is trial#10 with value: 0.8939583333333332.\n",
      "[I 2020-05-15 18:27:44,439] Finished trial#20 with value: 0.8321875000000001 with parameters: {'loo__sigma': 0.0906954493394139, 'rf__max_depth': 9, 'rf__max_features': 3, 'rf__min_samples_leaf': 4}. Best is trial#10 with value: 0.8939583333333332.\n",
      "[I 2020-05-15 18:27:46,289] Finished trial#17 with value: 0.8758333333333332 with parameters: {'loo__sigma': 0.006695005550805374, 'rf__max_depth': 20, 'rf__max_features': 7, 'rf__min_samples_leaf': 2}. Best is trial#10 with value: 0.8939583333333332.\n",
      "[I 2020-05-15 18:27:48,261] Finished trial#12 with value: 0.8669791666666666 with parameters: {'loo__sigma': 0.0026818656262541005, 'rf__max_depth': 25, 'rf__max_features': 10, 'rf__min_samples_leaf': 3}. Best is trial#10 with value: 0.8939583333333332.\n",
      "[I 2020-05-15 18:27:58,910] Finished trial#19 with value: 0.8872916666666667 with parameters: {'loo__sigma': 0.006674683429076905, 'rf__max_depth': 40, 'rf__max_features': 3, 'rf__min_samples_leaf': 2}. Best is trial#10 with value: 0.8939583333333332.\n",
      "[I 2020-05-15 18:28:03,191] Finished trial#22 with value: 0.8714583333333332 with parameters: {'loo__sigma': 0.08317886794530888, 'rf__max_depth': 37, 'rf__max_features': 3, 'rf__min_samples_leaf': 10}. Best is trial#10 with value: 0.8939583333333332.\n",
      "[I 2020-05-15 18:28:07,144] Finished trial#21 with value: 0.7376041666666667 with parameters: {'loo__sigma': 0.0007273006334405576, 'rf__max_depth': 40, 'rf__max_features': 10, 'rf__min_samples_leaf': 1}. Best is trial#10 with value: 0.8939583333333332.\n",
      "[I 2020-05-15 18:28:24,408] Finished trial#23 with value: 0.8514583333333334 with parameters: {'loo__sigma': 0.0014871034264793113, 'rf__max_depth': 36, 'rf__max_features': 7, 'rf__min_samples_leaf': 1}. Best is trial#10 with value: 0.8939583333333332.\n",
      "[I 2020-05-15 18:29:34,505] Finished trial#24 with value: 0.8047916666666666 with parameters: {'loo__sigma': 0.0008966359043988807, 'rf__max_depth': 40, 'rf__max_features': 7, 'rf__min_samples_leaf': 1}. Best is trial#10 with value: 0.8939583333333332.\n",
      "[I 2020-05-15 18:29:40,464] Finished trial#26 with value: 0.8892708333333333 with parameters: {'loo__sigma': 0.0007451377599148954, 'rf__max_depth': 23, 'rf__max_features': 1, 'rf__min_samples_leaf': 10}. Best is trial#10 with value: 0.8939583333333332.\n",
      "[I 2020-05-15 18:29:40,646] Finished trial#27 with value: 0.8852083333333333 with parameters: {'loo__sigma': 0.0009055985730795337, 'rf__max_depth': 23, 'rf__max_features': 1, 'rf__min_samples_leaf': 10}. Best is trial#10 with value: 0.8939583333333332.\n",
      "[I 2020-05-15 18:29:43,095] Finished trial#25 with value: 0.7261458333333334 with parameters: {'loo__sigma': 0.0006880671812326054, 'rf__max_depth': 39, 'rf__max_features': 7, 'rf__min_samples_leaf': 1}. Best is trial#10 with value: 0.8939583333333332.\n",
      "[I 2020-05-15 18:29:45,513] Finished trial#28 with value: 0.8861458333333333 with parameters: {'loo__sigma': 0.0009824930386816437, 'rf__max_depth': 23, 'rf__max_features': 1, 'rf__min_samples_leaf': 10}. Best is trial#10 with value: 0.8939583333333332.\n",
      "[I 2020-05-15 18:29:46,491] Finished trial#29 with value: 0.8853125000000001 with parameters: {'loo__sigma': 0.0008790282836493935, 'rf__max_depth': 25, 'rf__max_features': 1, 'rf__min_samples_leaf': 10}. Best is trial#10 with value: 0.8939583333333332.\n",
      "[I 2020-05-15 18:29:47,675] Finished trial#30 with value: 0.8863541666666667 with parameters: {'loo__sigma': 0.0007234083316751715, 'rf__max_depth': 24, 'rf__max_features': 1, 'rf__min_samples_leaf': 10}. Best is trial#10 with value: 0.8939583333333332.\n",
      "[I 2020-05-15 18:29:49,312] Finished trial#31 with value: 0.88375 with parameters: {'loo__sigma': 0.0006393937088188762, 'rf__max_depth': 34, 'rf__max_features': 1, 'rf__min_samples_leaf': 10}. Best is trial#10 with value: 0.8939583333333332.\n",
      "[I 2020-05-15 18:30:02,635] Finished trial#32 with value: 0.8846875000000001 with parameters: {'loo__sigma': 0.0008226368350579373, 'rf__max_depth': 35, 'rf__max_features': 1, 'rf__min_samples_leaf': 10}. Best is trial#10 with value: 0.8939583333333332.\n",
      "[I 2020-05-15 18:30:11,732] Finished trial#33 with value: 0.8922916666666667 with parameters: {'loo__sigma': 0.0011566125692304744, 'rf__max_depth': 33, 'rf__max_features': 1, 'rf__min_samples_leaf': 4}. Best is trial#10 with value: 0.8939583333333332.\n",
      "[I 2020-05-15 18:30:16,033] Finished trial#34 with value: 0.8930208333333333 with parameters: {'loo__sigma': 0.02380484450585067, 'rf__max_depth': 33, 'rf__max_features': 1, 'rf__min_samples_leaf': 4}. Best is trial#10 with value: 0.8939583333333332.\n",
      "[I 2020-05-15 18:30:25,076] Finished trial#35 with value: 0.8404166666666667 with parameters: {'loo__sigma': 0.00020272135322507872, 'rf__max_depth': 23, 'rf__max_features': 1, 'rf__min_samples_leaf': 4}. Best is trial#10 with value: 0.8939583333333332.\n",
      "[I 2020-05-15 18:31:25,612] Finished trial#38 with value: 0.811875 with parameters: {'loo__sigma': 0.00020837069433665142, 'rf__max_depth': 13, 'rf__max_features': 1, 'rf__min_samples_leaf': 6}. Best is trial#10 with value: 0.8939583333333332.\n",
      "[I 2020-05-15 18:31:33,322] Finished trial#36 with value: 0.8943749999999999 with parameters: {'loo__sigma': 0.023494941207494884, 'rf__max_depth': 33, 'rf__max_features': 1, 'rf__min_samples_leaf': 4}. Best is trial#36 with value: 0.8943749999999999.\n",
      "[I 2020-05-15 18:31:34,980] Finished trial#37 with value: 0.8585416666666668 with parameters: {'loo__sigma': 0.0003195330301091297, 'rf__max_depth': 32, 'rf__max_features': 1, 'rf__min_samples_leaf': 6}. Best is trial#36 with value: 0.8943749999999999.\n",
      "[I 2020-05-15 18:31:37,360] Finished trial#39 with value: 0.8451041666666665 with parameters: {'loo__sigma': 0.00021228181002852354, 'rf__max_depth': 33, 'rf__max_features': 1, 'rf__min_samples_leaf': 6}. Best is trial#36 with value: 0.8943749999999999.\n",
      "[I 2020-05-15 18:31:37,826] Finished trial#40 with value: 0.7636458333333332 with parameters: {'loo__sigma': 0.0002844154980261175, 'rf__max_depth': 32, 'rf__max_features': 2, 'rf__min_samples_leaf': 6}. Best is trial#36 with value: 0.8943749999999999.\n",
      "[I 2020-05-15 18:31:40,686] Finished trial#41 with value: 0.759375 with parameters: {'loo__sigma': 0.0002728850334961931, 'rf__max_depth': 33, 'rf__max_features': 2, 'rf__min_samples_leaf': 4}. Best is trial#36 with value: 0.8943749999999999.\n",
      "[I 2020-05-15 18:31:44,183] Finished trial#43 with value: 0.7582291666666666 with parameters: {'loo__sigma': 0.0002474949510668081, 'rf__max_depth': 31, 'rf__max_features': 2, 'rf__min_samples_leaf': 4}. Best is trial#36 with value: 0.8943749999999999.\n",
      "[I 2020-05-15 18:31:54,807] Finished trial#42 with value: 0.8864583333333332 with parameters: {'loo__sigma': 0.016747447716047442, 'rf__max_depth': 33, 'rf__max_features': 2, 'rf__min_samples_leaf': 4}. Best is trial#36 with value: 0.8943749999999999.\n",
      "[I 2020-05-15 18:31:59,681] Finished trial#44 with value: 0.76 with parameters: {'loo__sigma': 0.00024883782487267284, 'rf__max_depth': 31, 'rf__max_features': 2, 'rf__min_samples_leaf': 4}. Best is trial#36 with value: 0.8943749999999999.\n",
      "[I 2020-05-15 18:32:07,723] Finished trial#45 with value: 0.8834375 with parameters: {'loo__sigma': 0.019254341982594837, 'rf__max_depth': 32, 'rf__max_features': 2, 'rf__min_samples_leaf': 5}. Best is trial#36 with value: 0.8943749999999999.\n",
      "[I 2020-05-15 18:32:10,560] Finished trial#46 with value: 0.7530208333333333 with parameters: {'loo__sigma': 0.0002174702733865818, 'rf__max_depth': 32, 'rf__max_features': 2, 'rf__min_samples_leaf': 5}. Best is trial#36 with value: 0.8943749999999999.\n",
      "[I 2020-05-15 18:32:24,787] Finished trial#47 with value: 0.8839583333333334 with parameters: {'loo__sigma': 0.02155286535105237, 'rf__max_depth': 32, 'rf__max_features': 2, 'rf__min_samples_leaf': 5}. Best is trial#36 with value: 0.8943749999999999.\n",
      "[I 2020-05-15 18:33:44,849] Finished trial#48 with value: 0.8855208333333333 with parameters: {'loo__sigma': 0.030803661555392808, 'rf__max_depth': 32, 'rf__max_features': 2, 'rf__min_samples_leaf': 4}. Best is trial#36 with value: 0.8943749999999999.\n",
      "[I 2020-05-15 18:33:52,265] Finished trial#49 with value: 0.8859375 with parameters: {'loo__sigma': 0.017814953995237044, 'rf__max_depth': 31, 'rf__max_features': 2, 'rf__min_samples_leaf': 4}. Best is trial#36 with value: 0.8943749999999999.\n",
      "[I 2020-05-15 18:33:55,062] Finished trial#50 with value: 0.8858333333333333 with parameters: {'loo__sigma': 0.020545707892602464, 'rf__max_depth': 33, 'rf__max_features': 2, 'rf__min_samples_leaf': 4}. Best is trial#36 with value: 0.8943749999999999.\n",
      "[I 2020-05-15 18:33:56,919] Finished trial#53 with value: 0.8857291666666667 with parameters: {'loo__sigma': 0.017276050969800196, 'rf__max_depth': 30, 'rf__max_features': 2, 'rf__min_samples_leaf': 5}. Best is trial#36 with value: 0.8943749999999999.\n",
      "[I 2020-05-15 18:34:02,384] Finished trial#51 with value: 0.8867708333333333 with parameters: {'loo__sigma': 0.019427637611667464, 'rf__max_depth': 31, 'rf__max_features': 2, 'rf__min_samples_leaf': 4}. Best is trial#36 with value: 0.8943749999999999.\n",
      "[I 2020-05-15 18:34:03,106] Finished trial#52 with value: 0.8863541666666667 with parameters: {'loo__sigma': 0.014931411522153144, 'rf__max_depth': 30, 'rf__max_features': 2, 'rf__min_samples_leaf': 4}. Best is trial#36 with value: 0.8943749999999999.\n",
      "[I 2020-05-15 18:34:03,928] Finished trial#54 with value: 0.88375 with parameters: {'loo__sigma': 0.020961671441549763, 'rf__max_depth': 30, 'rf__max_features': 2, 'rf__min_samples_leaf': 5}. Best is trial#36 with value: 0.8943749999999999.\n",
      "[I 2020-05-15 18:34:10,868] Finished trial#55 with value: 0.8769791666666666 with parameters: {'loo__sigma': 0.01859575593911866, 'rf__max_depth': 21, 'rf__max_features': 4, 'rf__min_samples_leaf': 5}. Best is trial#36 with value: 0.8943749999999999.\n",
      "[I 2020-05-15 18:34:16,407] Finished trial#56 with value: 0.8797916666666665 with parameters: {'loo__sigma': 0.014935746322789755, 'rf__max_depth': 20, 'rf__max_features': 3, 'rf__min_samples_leaf': 5}. Best is trial#36 with value: 0.8943749999999999.\n",
      "[I 2020-05-15 18:34:26,804] Finished trial#57 with value: 0.8648958333333333 with parameters: {'loo__sigma': 0.001890051365565679, 'rf__max_depth': 21, 'rf__max_features': 4, 'rf__min_samples_leaf': 5}. Best is trial#36 with value: 0.8943749999999999.\n",
      "[I 2020-05-15 18:34:28,272] Finished trial#58 with value: 0.8633333333333333 with parameters: {'loo__sigma': 0.0022758685292737823, 'rf__max_depth': 20, 'rf__max_features': 4, 'rf__min_samples_leaf': 8}. Best is trial#36 with value: 0.8943749999999999.\n",
      "[I 2020-05-15 18:34:42,714] Finished trial#59 with value: 0.859375 with parameters: {'loo__sigma': 0.001597558258613149, 'rf__max_depth': 29, 'rf__max_features': 4, 'rf__min_samples_leaf': 7}. Best is trial#36 with value: 0.8943749999999999.\n",
      "[I 2020-05-15 18:36:00,136] Finished trial#60 with value: 0.8660416666666666 with parameters: {'loo__sigma': 0.0016511531001503106, 'rf__max_depth': 20, 'rf__max_features': 3, 'rf__min_samples_leaf': 7}. Best is trial#36 with value: 0.8943749999999999.\n",
      "[I 2020-05-15 18:36:08,156] Finished trial#61 with value: 0.8606250000000001 with parameters: {'loo__sigma': 0.0018428363084686036, 'rf__max_depth': 21, 'rf__max_features': 4, 'rf__min_samples_leaf': 7}. Best is trial#36 with value: 0.8943749999999999.\n",
      "[I 2020-05-15 18:36:10,529] Finished trial#62 with value: 0.8719791666666667 with parameters: {'loo__sigma': 0.0019712697664526413, 'rf__max_depth': 20, 'rf__max_features': 3, 'rf__min_samples_leaf': 3}. Best is trial#36 with value: 0.8943749999999999.\n",
      "[I 2020-05-15 18:36:10,954] Finished trial#63 with value: 0.8705208333333333 with parameters: {'loo__sigma': 0.0016827664110457725, 'rf__max_depth': 20, 'rf__max_features': 3, 'rf__min_samples_leaf': 3}. Best is trial#36 with value: 0.8943749999999999.\n"
     ]
    },
    {
     "name": "stderr",
     "output_type": "stream",
     "text": [
      "[I 2020-05-15 18:36:16,720] Finished trial#65 with value: 0.8632291666666665 with parameters: {'loo__sigma': 0.001783404459574755, 'rf__max_depth': 21, 'rf__max_features': 4, 'rf__min_samples_leaf': 3}. Best is trial#36 with value: 0.8943749999999999.\n",
      "[I 2020-05-15 18:36:16,889] Finished trial#66 with value: 0.8721875000000001 with parameters: {'loo__sigma': 0.0020766721036475652, 'rf__max_depth': 20, 'rf__max_features': 3, 'rf__min_samples_leaf': 3}. Best is trial#36 with value: 0.8943749999999999.\n",
      "[I 2020-05-15 18:36:17,427] Finished trial#64 with value: 0.8661458333333334 with parameters: {'loo__sigma': 0.0020872888457059507, 'rf__max_depth': 20, 'rf__max_features': 4, 'rf__min_samples_leaf': 3}. Best is trial#36 with value: 0.8943749999999999.\n",
      "[I 2020-05-15 18:36:29,927] Finished trial#67 with value: 0.8711458333333333 with parameters: {'loo__sigma': 0.0017731302800484603, 'rf__max_depth': 38, 'rf__max_features': 3, 'rf__min_samples_leaf': 3}. Best is trial#36 with value: 0.8943749999999999.\n",
      "[I 2020-05-15 18:36:32,607] Finished trial#68 with value: 0.8710416666666667 with parameters: {'loo__sigma': 0.0017984159313557326, 'rf__max_depth': 27, 'rf__max_features': 3, 'rf__min_samples_leaf': 3}. Best is trial#36 with value: 0.8943749999999999.\n",
      "[I 2020-05-15 18:36:46,212] Finished trial#69 with value: 0.8801041666666667 with parameters: {'loo__sigma': 0.061886647149512045, 'rf__max_depth': 27, 'rf__max_features': 3, 'rf__min_samples_leaf': 3}. Best is trial#36 with value: 0.8943749999999999.\n",
      "[I 2020-05-15 18:36:50,383] Finished trial#70 with value: 0.8813541666666665 with parameters: {'loo__sigma': 0.07031371872793746, 'rf__max_depth': 27, 'rf__max_features': 3, 'rf__min_samples_leaf': 3}. Best is trial#36 with value: 0.8943749999999999.\n",
      "[I 2020-05-15 18:37:02,559] Finished trial#71 with value: 0.8848958333333332 with parameters: {'loo__sigma': 0.0042297494079514214, 'rf__max_depth': 38, 'rf__max_features': 3, 'rf__min_samples_leaf': 3}. Best is trial#36 with value: 0.8943749999999999.\n",
      "[I 2020-05-15 18:38:12,514] Finished trial#74 with value: 0.8959374999999999 with parameters: {'loo__sigma': 0.04942928430477293, 'rf__max_depth': 27, 'rf__max_features': 1, 'rf__min_samples_leaf': 2}. Best is trial#74 with value: 0.8959374999999999.\n",
      "[I 2020-05-15 18:38:13,926] Finished trial#72 with value: 0.8830208333333334 with parameters: {'loo__sigma': 0.004553828875604427, 'rf__max_depth': 27, 'rf__max_features': 3, 'rf__min_samples_leaf': 3}. Best is trial#74 with value: 0.8959374999999999.\n",
      "[I 2020-05-15 18:38:17,438] Finished trial#73 with value: 0.883125 with parameters: {'loo__sigma': 0.0526742578381106, 'rf__max_depth': 27, 'rf__max_features': 3, 'rf__min_samples_leaf': 3}. Best is trial#74 with value: 0.8959374999999999.\n",
      "[I 2020-05-15 18:38:20,095] Finished trial#76 with value: 0.8977083333333333 with parameters: {'loo__sigma': 0.04452302008403877, 'rf__max_depth': 27, 'rf__max_features': 1, 'rf__min_samples_leaf': 2}. Best is trial#76 with value: 0.8977083333333333.\n",
      "[I 2020-05-15 18:38:20,255] Finished trial#75 with value: 0.8983333333333334 with parameters: {'loo__sigma': 0.06555915821845174, 'rf__max_depth': 26, 'rf__max_features': 1, 'rf__min_samples_leaf': 2}. Best is trial#75 with value: 0.8983333333333334.\n",
      "[I 2020-05-15 18:38:22,694] Finished trial#78 with value: 0.8966666666666667 with parameters: {'loo__sigma': 0.047719061405253414, 'rf__max_depth': 27, 'rf__max_features': 1, 'rf__min_samples_leaf': 2}. Best is trial#75 with value: 0.8983333333333334.\n",
      "[I 2020-05-15 18:38:26,956] Finished trial#77 with value: 0.8960416666666667 with parameters: {'loo__sigma': 0.04770911176654193, 'rf__max_depth': 27, 'rf__max_features': 1, 'rf__min_samples_leaf': 2}. Best is trial#75 with value: 0.8983333333333334.\n",
      "[I 2020-05-15 18:38:32,161] Finished trial#79 with value: 0.8895833333333334 with parameters: {'loo__sigma': 0.05852231550331365, 'rf__max_depth': 26, 'rf__max_features': 1, 'rf__min_samples_leaf': 9}. Best is trial#75 with value: 0.8983333333333334.\n",
      "[I 2020-05-15 18:38:39,595] Finished trial#80 with value: 0.8969791666666665 with parameters: {'loo__sigma': 0.05902909447845641, 'rf__max_depth': 35, 'rf__max_features': 1, 'rf__min_samples_leaf': 2}. Best is trial#75 with value: 0.8983333333333334.\n",
      "[I 2020-05-15 18:38:58,610] Finished trial#81 with value: 0.8973958333333334 with parameters: {'loo__sigma': 0.01010164782062941, 'rf__max_depth': 36, 'rf__max_features': 1, 'rf__min_samples_leaf': 2}. Best is trial#75 with value: 0.8983333333333334.\n",
      "[I 2020-05-15 18:38:59,468] Finished trial#82 with value: 0.8997916666666667 with parameters: {'loo__sigma': 0.0037110198599129706, 'rf__max_depth': 25, 'rf__max_features': 1, 'rf__min_samples_leaf': 2}. Best is trial#82 with value: 0.8997916666666667.\n",
      "[I 2020-05-15 18:39:13,102] Finished trial#83 with value: 0.8970833333333333 with parameters: {'loo__sigma': 0.003445555200686107, 'rf__max_depth': 24, 'rf__max_features': 1, 'rf__min_samples_leaf': 2}. Best is trial#82 with value: 0.8997916666666667.\n",
      "[I 2020-05-15 18:40:20,395] Finished trial#84 with value: 0.8982291666666666 with parameters: {'loo__sigma': 0.009671879301898806, 'rf__max_depth': 25, 'rf__max_features': 1, 'rf__min_samples_leaf': 2}. Best is trial#82 with value: 0.8997916666666667.\n",
      "[I 2020-05-15 18:40:33,293] Finished trial#86 with value: 0.8976041666666668 with parameters: {'loo__sigma': 0.008930884368235829, 'rf__max_depth': 25, 'rf__max_features': 1, 'rf__min_samples_leaf': 2}. Best is trial#82 with value: 0.8997916666666667.\n",
      "[I 2020-05-15 18:40:34,899] Finished trial#85 with value: 0.8991666666666667 with parameters: {'loo__sigma': 0.010455169145372334, 'rf__max_depth': 25, 'rf__max_features': 1, 'rf__min_samples_leaf': 2}. Best is trial#82 with value: 0.8997916666666667.\n",
      "[I 2020-05-15 18:40:35,216] Finished trial#87 with value: 0.8740625 with parameters: {'loo__sigma': 0.00045058674941977114, 'rf__max_depth': 24, 'rf__max_features': 1, 'rf__min_samples_leaf': 2}. Best is trial#82 with value: 0.8997916666666667.\n",
      "[I 2020-05-15 18:40:38,474] Finished trial#89 with value: 0.8985416666666666 with parameters: {'loo__sigma': 0.036764804001187895, 'rf__max_depth': 25, 'rf__max_features': 1, 'rf__min_samples_leaf': 2}. Best is trial#82 with value: 0.8997916666666667.\n",
      "[I 2020-05-15 18:40:43,878] Finished trial#88 with value: 0.8758333333333335 with parameters: {'loo__sigma': 0.00046537332407788214, 'rf__max_depth': 25, 'rf__max_features': 1, 'rf__min_samples_leaf': 2}. Best is trial#82 with value: 0.8997916666666667.\n",
      "[I 2020-05-15 18:40:45,551] Finished trial#91 with value: 0.8995833333333334 with parameters: {'loo__sigma': 0.03674495554528371, 'rf__max_depth': 25, 'rf__max_features': 1, 'rf__min_samples_leaf': 2}. Best is trial#82 with value: 0.8997916666666667.\n",
      "[I 2020-05-15 18:40:48,243] Finished trial#90 with value: 0.8993749999999998 with parameters: {'loo__sigma': 0.037361786469805966, 'rf__max_depth': 25, 'rf__max_features': 1, 'rf__min_samples_leaf': 2}. Best is trial#82 with value: 0.8997916666666667.\n",
      "[I 2020-05-15 18:41:02,499] Finished trial#92 with value: 0.8967708333333333 with parameters: {'loo__sigma': 0.031745868880463865, 'rf__max_depth': 25, 'rf__max_features': 1, 'rf__min_samples_leaf': 2}. Best is trial#82 with value: 0.8997916666666667.\n",
      "[I 2020-05-15 18:41:15,689] Finished trial#93 with value: 0.8991666666666667 with parameters: {'loo__sigma': 0.03889889470031995, 'rf__max_depth': 25, 'rf__max_features': 1, 'rf__min_samples_leaf': 2}. Best is trial#82 with value: 0.8997916666666667.\n",
      "[I 2020-05-15 18:41:15,762] Finished trial#94 with value: 0.8980208333333334 with parameters: {'loo__sigma': 0.043623612882008306, 'rf__max_depth': 24, 'rf__max_features': 1, 'rf__min_samples_leaf': 2}. Best is trial#82 with value: 0.8997916666666667.\n",
      "[I 2020-05-15 18:41:27,618] Finished trial#95 with value: 0.8980208333333334 with parameters: {'loo__sigma': 0.043025584870206156, 'rf__max_depth': 24, 'rf__max_features': 1, 'rf__min_samples_leaf': 2}. Best is trial#82 with value: 0.8997916666666667.\n",
      "[I 2020-05-15 18:42:17,969] Finished trial#96 with value: 0.8984375 with parameters: {'loo__sigma': 0.010525556290483363, 'rf__max_depth': 24, 'rf__max_features': 1, 'rf__min_samples_leaf': 2}. Best is trial#82 with value: 0.8997916666666667.\n",
      "[I 2020-05-15 18:42:29,423] Finished trial#97 with value: 0.8983333333333334 with parameters: {'loo__sigma': 0.0031424671854794455, 'rf__max_depth': 24, 'rf__max_features': 1, 'rf__min_samples_leaf': 2}. Best is trial#82 with value: 0.8997916666666667.\n",
      "[I 2020-05-15 18:42:29,684] Finished trial#98 with value: 0.8986458333333335 with parameters: {'loo__sigma': 0.010733029524814083, 'rf__max_depth': 24, 'rf__max_features': 1, 'rf__min_samples_leaf': 2}. Best is trial#82 with value: 0.8997916666666667.\n",
      "[I 2020-05-15 18:42:33,447] Finished trial#99 with value: 0.8975 with parameters: {'loo__sigma': 0.009219197961339338, 'rf__max_depth': 24, 'rf__max_features': 1, 'rf__min_samples_leaf': 2}. Best is trial#82 with value: 0.8997916666666667.\n",
      "[I 2020-05-15 18:42:38,918] Finished trial#100 with value: 0.8971875 with parameters: {'loo__sigma': 0.01007750476120802, 'rf__max_depth': 25, 'rf__max_features': 1, 'rf__min_samples_leaf': 1}. Best is trial#82 with value: 0.8997916666666667.\n",
      "[I 2020-05-15 18:42:43,155] Finished trial#101 with value: 0.8970833333333333 with parameters: {'loo__sigma': 0.00909878114776074, 'rf__max_depth': 24, 'rf__max_features': 1, 'rf__min_samples_leaf': 1}. Best is trial#82 with value: 0.8997916666666667.\n",
      "[I 2020-05-15 18:42:44,219] Finished trial#103 with value: 0.8985416666666666 with parameters: {'loo__sigma': 0.010256885614023225, 'rf__max_depth': 22, 'rf__max_features': 1, 'rf__min_samples_leaf': 1}. Best is trial#82 with value: 0.8997916666666667.\n",
      "[I 2020-05-15 18:42:45,761] Finished trial#102 with value: 0.8977083333333333 with parameters: {'loo__sigma': 0.010858665484895069, 'rf__max_depth': 24, 'rf__max_features': 1, 'rf__min_samples_leaf': 1}. Best is trial#82 with value: 0.8997916666666667.\n",
      "[I 2020-05-15 18:42:56,471] Finished trial#104 with value: 0.8984375 with parameters: {'loo__sigma': 0.01027833967050237, 'rf__max_depth': 22, 'rf__max_features': 1, 'rf__min_samples_leaf': 1}. Best is trial#82 with value: 0.8997916666666667.\n",
      "[I 2020-05-15 18:43:13,236] Finished trial#106 with value: 0.898125 with parameters: {'loo__sigma': 0.0342555585426032, 'rf__max_depth': 22, 'rf__max_features': 1, 'rf__min_samples_leaf': 1}. Best is trial#82 with value: 0.8997916666666667.\n",
      "[I 2020-05-15 18:43:19,996] Finished trial#105 with value: 0.8983333333333332 with parameters: {'loo__sigma': 0.035520808838090265, 'rf__max_depth': 26, 'rf__max_features': 1, 'rf__min_samples_leaf': 1}. Best is trial#82 with value: 0.8997916666666667.\n",
      "[I 2020-05-15 18:43:27,559] Finished trial#107 with value: 0.8976041666666668 with parameters: {'loo__sigma': 0.03474866391199363, 'rf__max_depth': 23, 'rf__max_features': 1, 'rf__min_samples_leaf': 1}. Best is trial#82 with value: 0.8997916666666667.\n",
      "[I 2020-05-15 18:44:41,663] Finished trial#108 with value: 0.8775000000000001 with parameters: {'loo__sigma': 0.011419601102882317, 'rf__max_depth': 22, 'rf__max_features': 6, 'rf__min_samples_leaf': 1}. Best is trial#82 with value: 0.8997916666666667.\n",
      "[I 2020-05-15 18:44:51,321] Finished trial#110 with value: 0.8764583333333332 with parameters: {'loo__sigma': 0.028697491362020072, 'rf__max_depth': 22, 'rf__max_features': 6, 'rf__min_samples_leaf': 1}. Best is trial#82 with value: 0.8997916666666667.\n",
      "[I 2020-05-15 18:44:53,033] Finished trial#111 with value: 0.8871874999999999 with parameters: {'loo__sigma': 0.011968552480111255, 'rf__max_depth': 22, 'rf__max_features': 2, 'rf__min_samples_leaf': 1}. Best is trial#82 with value: 0.8997916666666667.\n",
      "[I 2020-05-15 18:44:53,839] Finished trial#109 with value: 0.8713541666666667 with parameters: {'loo__sigma': 0.0994618221891722, 'rf__max_depth': 22, 'rf__max_features': 6, 'rf__min_samples_leaf': 1}. Best is trial#82 with value: 0.8997916666666667.\n",
      "[I 2020-05-15 18:44:59,299] Finished trial#112 with value: 0.875 with parameters: {'loo__sigma': 0.012725894136195494, 'rf__max_depth': 22, 'rf__max_features': 6, 'rf__min_samples_leaf': 1}. Best is trial#82 with value: 0.8997916666666667.\n",
      "[I 2020-05-15 18:44:59,829] Finished trial#114 with value: 0.8885416666666666 with parameters: {'loo__sigma': 0.03298118591897771, 'rf__max_depth': 22, 'rf__max_features': 2, 'rf__min_samples_leaf': 1}. Best is trial#82 with value: 0.8997916666666667.\n",
      "[I 2020-05-15 18:45:00,478] Finished trial#115 with value: 0.8878125000000001 with parameters: {'loo__sigma': 0.005877077097131692, 'rf__max_depth': 22, 'rf__max_features': 2, 'rf__min_samples_leaf': 1}. Best is trial#82 with value: 0.8997916666666667.\n",
      "[I 2020-05-15 18:45:01,142] Finished trial#113 with value: 0.878125 with parameters: {'loo__sigma': 0.01277248214123569, 'rf__max_depth': 26, 'rf__max_features': 6, 'rf__min_samples_leaf': 1}. Best is trial#82 with value: 0.8997916666666667.\n",
      "[I 2020-05-15 18:45:03,127] Finished trial#116 with value: 0.8858333333333335 with parameters: {'loo__sigma': 0.005716226783994687, 'rf__max_depth': 22, 'rf__max_features': 2, 'rf__min_samples_leaf': 1}. Best is trial#82 with value: 0.8997916666666667.\n",
      "[I 2020-05-15 18:45:05,021] Finished trial#117 with value: 0.8884375 with parameters: {'loo__sigma': 0.00603738446926155, 'rf__max_depth': 22, 'rf__max_features': 2, 'rf__min_samples_leaf': 1}. Best is trial#82 with value: 0.8997916666666667.\n",
      "[I 2020-05-15 18:45:08,131] Finished trial#118 with value: 0.8727083333333333 with parameters: {'loo__sigma': 0.005912915322347791, 'rf__max_depth': 18, 'rf__max_features': 6, 'rf__min_samples_leaf': 1}. Best is trial#82 with value: 0.8997916666666667.\n",
      "[I 2020-05-15 18:45:09,152] Finished trial#119 with value: 0.8773958333333333 with parameters: {'loo__sigma': 0.005661537400936773, 'rf__max_depth': 22, 'rf__max_features': 6, 'rf__min_samples_leaf': 1}. Best is trial#82 with value: 0.8997916666666667.\n"
     ]
    },
    {
     "name": "stdout",
     "output_type": "stream",
     "text": [
      "Best parameter (CV score=0.900):\n",
      "{'loo__sigma': 0.0037110198599129706, 'rf__max_depth': 25, 'rf__max_features': 1, 'rf__min_samples_leaf': 2}\n",
      "Test accuracy:  0.8958333333333334\n",
      "Wall time: 21min 23s\n"
     ]
    }
   ],
   "source": [
    "%%time\n",
    "from sklearn.pipeline import make_pipeline, Pipeline\n",
    "from sklearn.model_selection import cross_val_score\n",
    "from category_encoders.leave_one_out import LeaveOneOutEncoder\n",
    "import optuna\n",
    "from optuna.distributions import *\n",
    "\n",
    "loo = LeaveOneOutEncoder(cols=['cat1', 'cat2'], sigma=0.05, random_state=2834)\n",
    "rf = RandomForestClassifier(n_estimators=400, max_depth=30, max_features=1, min_samples_leaf=1,\n",
    "                            random_state=2834, n_jobs=-1) \n",
    "pipe = Pipeline(steps=[('loo',loo), ('rf',rf)])\n",
    "\n",
    "param_distribution = {\n",
    "    'loo__sigma': LogUniformDistribution(1E-5, 1E-1),\n",
    "    'rf__max_depth': IntUniformDistribution(5,40),\n",
    "    'rf__max_features' : IntUniformDistribution(1,10),\n",
    "    'rf__min_samples_leaf': IntUniformDistribution(1,10)\n",
    "}\n",
    "\n",
    "X_train, X_test, y_train, y_test = train_test_split(predictors.values, y_h, test_size=0.2, random_state=2834)\n",
    "X_train = pd.DataFrame(X_train, columns=predictors.columns)\n",
    "X_test = pd.DataFrame(X_test, columns=predictors.columns)\n",
    "search = optuna.integration.OptunaSearchCV(pipe, param_distribution, \n",
    "                    cv=5, n_jobs=-1, random_state=514, n_trials=None, timeout= 20*60, scoring='accuracy')\n",
    "search.fit(X_train, y_train)\n",
    "print(\"Best parameter (CV score=%0.3f):\" % search.best_score_)\n",
    "print(search.best_params_)\n",
    "test_predict = search.best_estimator_.predict(X_test)\n",
    "print('Test accuracy: ', accuracy_score(y_test, test_predict))"
   ]
  },
  {
   "cell_type": "markdown",
   "metadata": {},
   "source": [
    "### Cross-validation of the probabilistic encoder\n",
    "\n",
    "First we create a class that makes it easier for us to run sklearn cross validation"
   ]
  },
  {
   "cell_type": "code",
   "execution_count": 10,
   "metadata": {},
   "outputs": [],
   "source": [
    "from category_encoders.pte_utils import EncoderWrapper\n",
    "from category_encoders.posterior_imputation_bc import PosteriorImputationEncoderBC"
   ]
  },
  {
   "cell_type": "code",
   "execution_count": 11,
   "metadata": {},
   "outputs": [],
   "source": [
    "best_params = {'encoder__prior_samples_ratio': 2.649927356403324e-07, 'encoder__n_draws': 39, 'encoder__leave_one_out': False, \n",
    "               'classifier__max_depth': 38, 'classifier__max_features': 1, 'classifier__min_samples_leaf': 10} "
   ]
  },
  {
   "cell_type": "code",
   "execution_count": 27,
   "metadata": {},
   "outputs": [
    {
     "name": "stderr",
     "output_type": "stream",
     "text": [
      "[I 2020-05-15 18:58:15,898] Finished trial#2 with value: 0.7058333333333333 with parameters: {'encoder__prior_samples_ratio': 0.0002369969128669313, 'encoder__n_draws': 16, 'encoder__leave_one_out': False, 'classifier__max_depth': 6, 'classifier__max_features': 10, 'classifier__min_samples_leaf': 6}. Best is trial#2 with value: 0.7058333333333333.\n",
      "[I 2020-05-15 18:59:31,686] Finished trial#3 with value: 0.8501041666666668 with parameters: {'encoder__prior_samples_ratio': 0.003008351656142808, 'encoder__n_draws': 4, 'encoder__leave_one_out': True, 'classifier__max_depth': 21, 'classifier__max_features': 10, 'classifier__min_samples_leaf': 1}. Best is trial#3 with value: 0.8501041666666668.\n",
      "[I 2020-05-15 19:05:42,450] Finished trial#13 with value: 0.8715624999999999 with parameters: {'encoder__prior_samples_ratio': 1.2359127489781735e-10, 'encoder__n_draws': 3, 'encoder__leave_one_out': False, 'classifier__max_depth': 26, 'classifier__max_features': 8, 'classifier__min_samples_leaf': 4}. Best is trial#13 with value: 0.8715624999999999.\n",
      "[I 2020-05-15 19:07:51,912] Finished trial#14 with value: 0.815625 with parameters: {'encoder__prior_samples_ratio': 0.05932486724766825, 'encoder__n_draws': 1, 'encoder__leave_one_out': False, 'classifier__max_depth': 13, 'classifier__max_features': 8, 'classifier__min_samples_leaf': 8}. Best is trial#13 with value: 0.8715624999999999.\n",
      "[I 2020-05-15 19:09:03,866] Finished trial#1 with value: 0.8547916666666667 with parameters: {'encoder__prior_samples_ratio': 0.00020815895640845095, 'encoder__n_draws': 29, 'encoder__leave_one_out': False, 'classifier__max_depth': 18, 'classifier__max_features': 6, 'classifier__min_samples_leaf': 9}. Best is trial#13 with value: 0.8715624999999999.\n",
      "[I 2020-05-15 19:11:01,235] Finished trial#16 with value: 0.8867708333333333 with parameters: {'encoder__prior_samples_ratio': 0.0001783794664606944, 'encoder__n_draws': 1, 'encoder__leave_one_out': False, 'classifier__max_depth': 33, 'classifier__max_features': 1, 'classifier__min_samples_leaf': 8}. Best is trial#16 with value: 0.8867708333333333.\n",
      "[I 2020-05-15 19:11:49,459] Finished trial#6 with value: 0.8279166666666666 with parameters: {'encoder__prior_samples_ratio': 0.006936670217033665, 'encoder__n_draws': 12, 'encoder__leave_one_out': True, 'classifier__max_depth': 15, 'classifier__max_features': 7, 'classifier__min_samples_leaf': 3}. Best is trial#16 with value: 0.8867708333333333.\n",
      "[I 2020-05-15 19:16:22,363] Finished trial#9 with value: 0.8503125 with parameters: {'encoder__prior_samples_ratio': 5.301381527997477e-09, 'encoder__n_draws': 13, 'encoder__leave_one_out': True, 'classifier__max_depth': 20, 'classifier__max_features': 8, 'classifier__min_samples_leaf': 7}. Best is trial#16 with value: 0.8867708333333333.\n",
      "[I 2020-05-15 19:19:15,741] Finished trial#15 with value: 0.8582291666666666 with parameters: {'encoder__prior_samples_ratio': 1.2702159990435263e-08, 'encoder__n_draws': 3, 'encoder__leave_one_out': True, 'classifier__max_depth': 20, 'classifier__max_features': 10, 'classifier__min_samples_leaf': 7}. Best is trial#16 with value: 0.8867708333333333.\n",
      "[I 2020-05-15 19:21:35,591] Finished trial#17 with value: 0.7618750000000001 with parameters: {'encoder__prior_samples_ratio': 8.075838520022143e-06, 'encoder__n_draws': 19, 'encoder__leave_one_out': False, 'classifier__max_depth': 9, 'classifier__max_features': 7, 'classifier__min_samples_leaf': 9}. Best is trial#16 with value: 0.8867708333333333.\n",
      "[I 2020-05-15 19:33:57,963] Finished trial#4 with value: 0.8513541666666666 with parameters: {'encoder__prior_samples_ratio': 6.900327622527257e-06, 'encoder__n_draws': 19, 'encoder__leave_one_out': True, 'classifier__max_depth': 34, 'classifier__max_features': 7, 'classifier__min_samples_leaf': 6}. Best is trial#16 with value: 0.8867708333333333.\n",
      "[I 2020-05-15 19:35:16,258] Finished trial#20 with value: 0.8463541666666667 with parameters: {'encoder__prior_samples_ratio': 0.04535483734295611, 'encoder__n_draws': 17, 'encoder__leave_one_out': False, 'classifier__max_depth': 26, 'classifier__max_features': 6, 'classifier__min_samples_leaf': 10}. Best is trial#16 with value: 0.8867708333333333.\n",
      "[I 2020-05-15 19:41:37,571] Finished trial#8 with value: 0.7665625 with parameters: {'encoder__prior_samples_ratio': 2.2238398955691894e-06, 'encoder__n_draws': 25, 'encoder__leave_one_out': True, 'classifier__max_depth': 10, 'classifier__max_features': 8, 'classifier__min_samples_leaf': 6}. Best is trial#16 with value: 0.8867708333333333.\n",
      "[I 2020-05-15 19:42:47,150] Finished trial#7 with value: 0.8572916666666666 with parameters: {'encoder__prior_samples_ratio': 0.012922333946434822, 'encoder__n_draws': 26, 'encoder__leave_one_out': True, 'classifier__max_depth': 27, 'classifier__max_features': 3, 'classifier__min_samples_leaf': 8}. Best is trial#16 with value: 0.8867708333333333.\n",
      "[I 2020-05-15 19:43:38,373] Finished trial#21 with value: 0.88125 with parameters: {'encoder__prior_samples_ratio': 6.169865302998868e-07, 'encoder__n_draws': 39, 'encoder__leave_one_out': False, 'classifier__max_depth': 39, 'classifier__max_features': 2, 'classifier__min_samples_leaf': 10}. Best is trial#16 with value: 0.8867708333333333.\n",
      "[I 2020-05-15 19:46:28,807] Finished trial#10 with value: 0.8541666666666666 with parameters: {'encoder__prior_samples_ratio': 7.284090064770614e-09, 'encoder__n_draws': 26, 'encoder__leave_one_out': True, 'classifier__max_depth': 40, 'classifier__max_features': 6, 'classifier__min_samples_leaf': 2}. Best is trial#16 with value: 0.8867708333333333.\n",
      "[I 2020-05-15 19:47:25,059] Finished trial#18 with value: 0.7383333333333333 with parameters: {'encoder__prior_samples_ratio': 0.055815910638077594, 'encoder__n_draws': 16, 'encoder__leave_one_out': True, 'classifier__max_depth': 8, 'classifier__max_features': 10, 'classifier__min_samples_leaf': 9}. Best is trial#16 with value: 0.8867708333333333.\n",
      "[I 2020-05-15 19:54:42,585] Finished trial#11 with value: 0.8761458333333334 with parameters: {'encoder__prior_samples_ratio': 0.003500056092059746, 'encoder__n_draws': 38, 'encoder__leave_one_out': True, 'classifier__max_depth': 19, 'classifier__max_features': 1, 'classifier__min_samples_leaf': 3}. Best is trial#16 with value: 0.8867708333333333.\n",
      "[I 2020-05-15 19:58:16,631] Finished trial#22 with value: 0.89125 with parameters: {'encoder__prior_samples_ratio': 2.091185763876865e-10, 'encoder__n_draws': 39, 'encoder__leave_one_out': False, 'classifier__max_depth': 31, 'classifier__max_features': 1, 'classifier__min_samples_leaf': 4}. Best is trial#22 with value: 0.89125.\n",
      "[I 2020-05-15 20:02:08,483] Finished trial#5 with value: 0.8217708333333335 with parameters: {'encoder__prior_samples_ratio': 0.06818041252284851, 'encoder__n_draws': 31, 'encoder__leave_one_out': True, 'classifier__max_depth': 27, 'classifier__max_features': 10, 'classifier__min_samples_leaf': 7}. Best is trial#22 with value: 0.89125.\n",
      "[I 2020-05-15 20:04:31,689] Finished trial#23 with value: 0.8932291666666666 with parameters: {'encoder__prior_samples_ratio': 1.6358580266312422e-10, 'encoder__n_draws': 39, 'encoder__leave_one_out': False, 'classifier__max_depth': 38, 'classifier__max_features': 1, 'classifier__min_samples_leaf': 4}. Best is trial#23 with value: 0.8932291666666666.\n",
      "[I 2020-05-15 20:13:13,034] Finished trial#0 with value: 0.8367708333333332 with parameters: {'encoder__prior_samples_ratio': 2.4791357568327525e-10, 'encoder__n_draws': 31, 'encoder__leave_one_out': True, 'classifier__max_depth': 37, 'classifier__max_features': 10, 'classifier__min_samples_leaf': 7}. Best is trial#23 with value: 0.8932291666666666.\n",
      "[I 2020-05-15 20:14:24,360] Finished trial#19 with value: 0.7452083333333334 with parameters: {'encoder__prior_samples_ratio': 1.4170823821100723e-09, 'encoder__n_draws': 34, 'encoder__leave_one_out': True, 'classifier__max_depth': 8, 'classifier__max_features': 7, 'classifier__min_samples_leaf': 4}. Best is trial#23 with value: 0.8932291666666666.\n",
      "[I 2020-05-15 20:14:55,945] Finished trial#12 with value: 0.8662500000000002 with parameters: {'encoder__prior_samples_ratio': 1.6976140684133832e-09, 'encoder__n_draws': 35, 'encoder__leave_one_out': True, 'classifier__max_depth': 26, 'classifier__max_features': 3, 'classifier__min_samples_leaf': 5}. Best is trial#23 with value: 0.8932291666666666.\n",
      "[I 2020-05-15 20:14:59,118] Finished trial#31 with value: 0.8741666666666668 with parameters: {'encoder__prior_samples_ratio': 2.1698224050203529e-10, 'encoder__n_draws': 8, 'encoder__leave_one_out': False, 'classifier__max_depth': 34, 'classifier__max_features': 4, 'classifier__min_samples_leaf': 4}. Best is trial#23 with value: 0.8932291666666666.\n",
      "[I 2020-05-15 20:17:25,412] Finished trial#24 with value: 0.8928125 with parameters: {'encoder__prior_samples_ratio': 1.0459764616430934e-10, 'encoder__n_draws': 36, 'encoder__leave_one_out': False, 'classifier__max_depth': 40, 'classifier__max_features': 1, 'classifier__min_samples_leaf': 4}. Best is trial#23 with value: 0.8932291666666666.\n",
      "[I 2020-05-15 20:18:25,073] Finished trial#25 with value: 0.8919791666666667 with parameters: {'encoder__prior_samples_ratio': 3.1132482201055686e-10, 'encoder__n_draws': 36, 'encoder__leave_one_out': False, 'classifier__max_depth': 38, 'classifier__max_features': 1, 'classifier__min_samples_leaf': 4}. Best is trial#23 with value: 0.8932291666666666.\n",
      "[I 2020-05-15 20:25:33,919] Finished trial#27 with value: 0.891875 with parameters: {'encoder__prior_samples_ratio': 2.9995730135615543e-07, 'encoder__n_draws': 38, 'encoder__leave_one_out': False, 'classifier__max_depth': 38, 'classifier__max_features': 1, 'classifier__min_samples_leaf': 10}. Best is trial#23 with value: 0.8932291666666666.\n",
      "[I 2020-05-15 20:25:58,320] Finished trial#28 with value: 0.8919791666666667 with parameters: {'encoder__prior_samples_ratio': 2.879858629194475e-07, 'encoder__n_draws': 38, 'encoder__leave_one_out': False, 'classifier__max_depth': 40, 'classifier__max_features': 1, 'classifier__min_samples_leaf': 10}. Best is trial#23 with value: 0.8932291666666666.\n",
      "[I 2020-05-15 20:26:04,401] Finished trial#26 with value: 0.8932291666666667 with parameters: {'encoder__prior_samples_ratio': 2.649927356403324e-07, 'encoder__n_draws': 39, 'encoder__leave_one_out': False, 'classifier__max_depth': 38, 'classifier__max_features': 1, 'classifier__min_samples_leaf': 10}. Best is trial#26 with value: 0.8932291666666667.\n",
      "[I 2020-05-15 20:26:05,380] Finished trial#35 with value: 0.891875 with parameters: {'encoder__prior_samples_ratio': 9.555568868306326e-08, 'encoder__n_draws': 9, 'encoder__leave_one_out': False, 'classifier__max_depth': 33, 'classifier__max_features': 1, 'classifier__min_samples_leaf': 4}. Best is trial#26 with value: 0.8932291666666667.\n",
      "[I 2020-05-15 20:29:08,252] Finished trial#30 with value: 0.8705208333333333 with parameters: {'encoder__prior_samples_ratio': 1.338028321384615e-10, 'encoder__n_draws': 34, 'encoder__leave_one_out': False, 'classifier__max_depth': 33, 'classifier__max_features': 4, 'classifier__min_samples_leaf': 4}. Best is trial#26 with value: 0.8932291666666667.\n",
      "[I 2020-05-15 20:30:06,718] Finished trial#29 with value: 0.891875 with parameters: {'encoder__prior_samples_ratio': 4.119329538139137e-07, 'encoder__n_draws': 40, 'encoder__leave_one_out': False, 'classifier__max_depth': 40, 'classifier__max_features': 1, 'classifier__min_samples_leaf': 10}. Best is trial#26 with value: 0.8932291666666667.\n",
      "[I 2020-05-15 20:34:14,732] Finished trial#32 with value: 0.8738541666666666 with parameters: {'encoder__prior_samples_ratio': 1.177473303370217e-10, 'encoder__n_draws': 35, 'encoder__leave_one_out': False, 'classifier__max_depth': 34, 'classifier__max_features': 3, 'classifier__min_samples_leaf': 4}. Best is trial#26 with value: 0.8932291666666667.\n",
      "[I 2020-05-15 20:34:42,175] Finished trial#36 with value: 0.8927083333333334 with parameters: {'encoder__prior_samples_ratio': 7.28621749626394e-08, 'encoder__n_draws': 40, 'encoder__leave_one_out': False, 'classifier__max_depth': 31, 'classifier__max_features': 1, 'classifier__min_samples_leaf': 5}. Best is trial#26 with value: 0.8932291666666667.\n",
      "[I 2020-05-15 20:36:16,155] Finished trial#33 with value: 0.8754166666666666 with parameters: {'encoder__prior_samples_ratio': 9.915217698971818e-10, 'encoder__n_draws': 36, 'encoder__leave_one_out': False, 'classifier__max_depth': 32, 'classifier__max_features': 3, 'classifier__min_samples_leaf': 4}. Best is trial#26 with value: 0.8932291666666667.\n",
      "[I 2020-05-15 20:36:42,934] Finished trial#34 with value: 0.8752083333333334 with parameters: {'encoder__prior_samples_ratio': 0.00010136905725843978, 'encoder__n_draws': 40, 'encoder__leave_one_out': False, 'classifier__max_depth': 32, 'classifier__max_features': 3, 'classifier__min_samples_leaf': 4}. Best is trial#26 with value: 0.8932291666666667.\n"
     ]
    },
    {
     "name": "stdout",
     "output_type": "stream",
     "text": [
      "Best parameter (CV score=0.893):\n",
      "{'encoder__prior_samples_ratio': 2.649927356403324e-07, 'encoder__n_draws': 39, 'encoder__leave_one_out': False, 'classifier__max_depth': 38, 'classifier__max_features': 1, 'classifier__min_samples_leaf': 10}\n",
      "Test accuracy:  0.8920833333333333\n",
      "Wall time: 1h 52min 13s\n"
     ]
    }
   ],
   "source": [
    "%%time\n",
    "from sklearn.model_selection import cross_val_score\n",
    "\n",
    "if best_params is None:\n",
    "\n",
    "    pte = PosteriorImputationEncoderBC(cols=['cat1', 'cat2'], random_state=2834)\n",
    "    model = RandomForestClassifier(n_estimators=400, random_state=2834, n_jobs=-1) \n",
    "    wrapper_model = EncoderWrapper(pte, model)\n",
    "\n",
    "\n",
    "    param_distribution = {\n",
    "        'encoder__prior_samples_ratio': LogUniformDistribution(1E-10, 1E-1),\n",
    "        'encoder__n_draws': IntUniformDistribution(1,40),\n",
    "        'encoder__leave_one_out': CategoricalDistribution([False, True]),\n",
    "        'classifier__max_depth': IntUniformDistribution(5,40),\n",
    "        'classifier__max_features' : IntUniformDistribution(1,10),\n",
    "        'classifier__min_samples_leaf': IntUniformDistribution(1,10)\n",
    "    }\n",
    "\n",
    "\n",
    "    X_train, X_test, y_train, y_test = train_test_split(predictors.values, y_h, test_size=0.2, random_state=2834)\n",
    "    X_train = pd.DataFrame(X_train, columns=predictors.columns)\n",
    "    X_test = pd.DataFrame(X_test, columns=predictors.columns)\n",
    "\n",
    "    search = optuna.integration.OptunaSearchCV(wrapper_model, param_distribution, \n",
    "                            cv=5, n_jobs=-1, random_state=514, n_trials=None, timeout=90*60, scoring='accuracy')\n",
    "\n",
    "    search.fit(X_train, y_train)\n",
    "    print(\"Best parameter (CV score=%0.3f):\" % search.best_score_)\n",
    "    print(search.best_params_)\n",
    "\n",
    "    test_predict = search.best_estimator_.predict(X_test)\n",
    "    print('Test accuracy: ', accuracy_score(y_test, test_predict))\n",
    "    \n",
    "    best_params = search.best_params_\n"
   ]
  },
  {
   "cell_type": "markdown",
   "metadata": {},
   "source": [
    "## Study how hyperparameters influence the model"
   ]
  },
  {
   "cell_type": "markdown",
   "metadata": {},
   "source": [
    "First we check whether leave one out even matters"
   ]
  },
  {
   "cell_type": "code",
   "execution_count": 12,
   "metadata": {},
   "outputs": [
    {
     "name": "stdout",
     "output_type": "stream",
     "text": [
      "[0.8925     0.88104167]\n",
      "[0.0041484  0.02244447]\n"
     ]
    }
   ],
   "source": [
    "from sklearn.model_selection import GridSearchCV\n",
    "pte = PosteriorImputationEncoderBC(cols=['cat1', 'cat2'], \n",
    "                                   n_draws=best_params['encoder__n_draws'], \n",
    "                                   random_state=2834, \n",
    "                                   prior_samples_ratio=best_params['encoder__prior_samples_ratio'],\n",
    "                                   leave_one_out=best_params['encoder__leave_one_out'])\n",
    "model = RandomForestClassifier(n_estimators=400, \n",
    "                               max_depth=best_params['classifier__max_depth'], \n",
    "                               max_features=best_params['classifier__max_features'], \n",
    "                               min_samples_leaf=best_params['classifier__min_samples_leaf'], \n",
    "                               random_state=2834, n_jobs=-1) \n",
    "wrapper_model = EncoderWrapper(pte, model)\n",
    "\n",
    "\n",
    "X_train, X_test, y_train, y_test = train_test_split(predictors.values, y_h, test_size=0.2, random_state=2834)\n",
    "X_train = pd.DataFrame(X_train, columns=predictors.columns)\n",
    "X_test = pd.DataFrame(X_test, columns=predictors.columns)\n",
    "\n",
    "\n",
    "search1 = GridSearchCV(estimator=wrapper_model, param_grid={'encoder__leave_one_out' : [False, True]})\n",
    "\n",
    "search1.fit(X_train, y_train)\n",
    "print(search1.cv_results_['mean_test_score'])\n",
    "print(search1.cv_results_['std_test_score'])"
   ]
  },
  {
   "cell_type": "code",
   "execution_count": 13,
   "metadata": {},
   "outputs": [
    {
     "name": "stdout",
     "output_type": "stream",
     "text": [
      "[0.8925     0.88104167]\n",
      "[0.0041484  0.02244447]\n"
     ]
    }
   ],
   "source": [
    "print(search1.cv_results_['mean_test_score'])\n",
    "print(search1.cv_results_['std_test_score'])"
   ]
  },
  {
   "cell_type": "markdown",
   "metadata": {},
   "source": [
    "Seems like both results are equal within the statistical error\n",
    "\n",
    "Now we will check number of samples"
   ]
  },
  {
   "cell_type": "code",
   "execution_count": 14,
   "metadata": {},
   "outputs": [
    {
     "data": {
      "image/png": "[encoded data removed]",
      "text/plain": [
       "<Figure size 1080x720 with 1 Axes>"
      ]
     },
     "metadata": {
      "needs_background": "light"
     },
     "output_type": "display_data"
    },
    {
     "name": "stdout",
     "output_type": "stream",
     "text": [
      "Wall time: 9min 1s\n"
     ]
    }
   ],
   "source": [
    "%%time\n",
    "X_train, X_test, y_train, y_test = train_test_split(predictors.values, y_h, test_size=0.2, random_state=2834)\n",
    "X_train = pd.DataFrame(X_train, columns=predictors.columns)\n",
    "X_test = pd.DataFrame(X_test, columns=predictors.columns)\n",
    "\n",
    "pte = PosteriorImputationEncoderBC(cols=['cat1', 'cat2'], \n",
    "                                   n_draws=best_params['encoder__n_draws'], \n",
    "                                   random_state=2834, \n",
    "                                   prior_samples_ratio=best_params['encoder__prior_samples_ratio'],\n",
    "                                   leave_one_out=best_params['encoder__leave_one_out'])\n",
    "model = RandomForestClassifier(n_estimators=400, \n",
    "                               max_depth=best_params['classifier__max_depth'], \n",
    "                               max_features=best_params['classifier__max_features'], \n",
    "                               min_samples_leaf=best_params['classifier__min_samples_leaf'], \n",
    "                               random_state=2834, n_jobs=-1) \n",
    "wrapper_model = EncoderWrapper(pte, model)\n",
    "\n",
    "param_range = range(2, 20)\n",
    "search2 = GridSearchCV(estimator=wrapper_model, param_grid={'encoder__n_draws' : param_range})\n",
    "\n",
    "search2.fit(X_train, y_train)\n",
    "results = search2.cv_results_['mean_test_score']    \n",
    "    \n",
    "\n",
    "plt.figure(1, figsize=(15, 10))\n",
    "plt.plot(list(param_range), results, 'b-o')\n",
    "plt.fill_between(list(param_range), results - search2.cv_results_['std_test_score'],\n",
    "                 results + search2.cv_results_['std_test_score'], color='lightgrey')\n",
    "plt.show();"
   ]
  },
  {
   "cell_type": "markdown",
   "metadata": {},
   "source": [
    "Seems like the algorithm favors small samples and not large samples, but above 5 the results are statistically the same\n",
    "\n",
    "Now we will check how the prior distribution affects the accuracy\n"
   ]
  },
  {
   "cell_type": "code",
   "execution_count": 15,
   "metadata": {},
   "outputs": [
    {
     "data": {
      "image/png": "[encoded data removed]",
      "text/plain": [
       "<Figure size 1080x720 with 1 Axes>"
      ]
     },
     "metadata": {
      "needs_background": "light"
     },
     "output_type": "display_data"
    },
    {
     "name": "stdout",
     "output_type": "stream",
     "text": [
      "Wall time: 22min 50s\n"
     ]
    }
   ],
   "source": [
    "%%time\n",
    "X_train, X_test, y_train, y_test = train_test_split(predictors.values, y_h, test_size=0.2, random_state=2834)\n",
    "X_train = pd.DataFrame(X_train, columns=predictors.columns)\n",
    "X_test = pd.DataFrame(X_test, columns=predictors.columns)\n",
    "\n",
    "pte = PosteriorImputationEncoderBC(cols=['cat1', 'cat2'], \n",
    "                                   n_draws=best_params['encoder__n_draws'], \n",
    "                                   random_state=2834, \n",
    "                                   prior_samples_ratio=best_params['encoder__prior_samples_ratio'],\n",
    "                                   leave_one_out=best_params['encoder__leave_one_out'])\n",
    "model = RandomForestClassifier(n_estimators=400, \n",
    "                               max_depth=best_params['classifier__max_depth'], \n",
    "                               max_features=best_params['classifier__max_features'], \n",
    "                               min_samples_leaf=best_params['classifier__min_samples_leaf'], \n",
    "                               random_state=2834, n_jobs=-1) \n",
    "wrapper_model = EncoderWrapper(pte, model)\n",
    "\n",
    "param_range =  range(-10, -1)\n",
    "search3 = GridSearchCV(estimator=wrapper_model, param_grid={'encoder__prior_samples_ratio' : [10**i for i in param_range]})\n",
    "\n",
    "search3.fit(X_train, y_train)\n",
    "    \n",
    "results = search3.cv_results_['mean_test_score']    \n",
    "    \n",
    "\n",
    "plt.figure(1, figsize=(15, 10))\n",
    "plt.plot(list(param_range), results, 'b-o')\n",
    "plt.fill_between(list(param_range), results - search3.cv_results_['std_test_score'],\n",
    "                 results + search3.cv_results_['std_test_score'], color='lightgrey')\n",
    "plt.show();"
   ]
  },
  {
   "cell_type": "markdown",
   "metadata": {},
   "source": [
    "Seems like the algorithm favors the prior below $10^{-3}$ and within that range the results are not statistically different"
   ]
  },
  {
   "cell_type": "code",
   "execution_count": 17,
   "metadata": {},
   "outputs": [],
   "source": [
    "import pickle\n",
    "with open('hastie_search1.pickle', 'wb') as pickle_file:\n",
    "    pickle.dump(search1.cv_results_, pickle_file)\n",
    "with open('hastie_search2.pickle', 'wb') as pickle_file:\n",
    "    pickle.dump(search2.cv_results_, pickle_file)\n",
    "with open('hastie_search3.pickle', 'wb') as pickle_file:\n",
    "    pickle.dump(search3.cv_results_, pickle_file)"
   ]
  },
  {
   "cell_type": "code",
   "execution_count": null,
   "metadata": {},
   "outputs": [],
   "source": []
  }
 ],
 "metadata": {
  "kernelspec": {
   "display_name": "Python 3",
   "language": "python",
   "name": "python3"
  },
  "language_info": {
   "codemirror_mode": {
    "name": "ipython",
    "version": 3
   },
   "file_extension": ".py",
   "mimetype": "text/x-python",
   "name": "python",
   "nbconvert_exporter": "python",
   "pygments_lexer": "ipython3",
   "version": "3.7.1"
  }
 },
 "nbformat": 4,
 "nbformat_minor": 2
}
