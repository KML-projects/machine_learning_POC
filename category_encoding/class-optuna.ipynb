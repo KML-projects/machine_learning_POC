{
 "cells": [
  {
   "cell_type": "code",
   "execution_count": 1,
   "metadata": {},
   "outputs": [],
   "source": [
    "%load_ext autoreload\n",
    "import numpy as np\n",
    "import pandas as pd\n",
    "from matplotlib import pyplot as plt\n",
    "%matplotlib inline"
   ]
  },
  {
   "cell_type": "code",
   "execution_count": 2,
   "metadata": {},
   "outputs": [],
   "source": [
    "import sys,os, pathlib\n",
    "current = pathlib.Path(os.getcwd())\n",
    "base = current.parent.parent\n",
    "catenc = base.joinpath('categorical-encoding')\n",
    "sys.path.append(str(catenc))"
   ]
  },
  {
   "cell_type": "markdown",
   "metadata": {},
   "source": [
    "# Binary classification problem\n",
    "\n"
   ]
  },
  {
   "cell_type": "code",
   "execution_count": 3,
   "metadata": {},
   "outputs": [],
   "source": [
    "rs_split = 8379\n",
    "rs_enc = 1179\n",
    "rs_rf = 5991\n",
    "n_samples = 10000"
   ]
  },
  {
   "cell_type": "code",
   "execution_count": 4,
   "metadata": {},
   "outputs": [],
   "source": [
    "from sklearn.datasets import make_classification\n",
    "X_h, y_h = make_classification(n_samples = n_samples, n_features=10, n_informative=5, n_redundant=0, \n",
    "                               class_sep = 0.01, random_state=2834)"
   ]
  },
  {
   "cell_type": "code",
   "execution_count": 5,
   "metadata": {},
   "outputs": [],
   "source": [
    "#Now convert the last column to the categorical\n",
    "from sklearn.preprocessing import KBinsDiscretizer\n",
    "disczr1 = KBinsDiscretizer(n_bins=20, encode='ordinal', strategy='uniform')\n",
    "cat_column1 = disczr1.fit_transform(X_h[:,-1].reshape(-1, 1)) * 193 % 20 #We want to break the monotonicity\n",
    "disczr2 = KBinsDiscretizer(n_bins=15, encode='ordinal', strategy='uniform')\n",
    "cat_column2 = disczr2.fit_transform(X_h[:,-2].reshape(-1, 1)) * 173 % 20 #We want to break the monotonicity"
   ]
  },
  {
   "cell_type": "code",
   "execution_count": 6,
   "metadata": {},
   "outputs": [
    {
     "data": {
      "text/html": [
       "<div>\n",
       "<style scoped>\n",
       "    .dataframe tbody tr th:only-of-type {\n",
       "        vertical-align: middle;\n",
       "    }\n",
       "\n",
       "    .dataframe tbody tr th {\n",
       "        vertical-align: top;\n",
       "    }\n",
       "\n",
       "    .dataframe thead th {\n",
       "        text-align: right;\n",
       "    }\n",
       "</style>\n",
       "<table border=\"1\" class=\"dataframe\">\n",
       "  <thead>\n",
       "    <tr style=\"text-align: right;\">\n",
       "      <th></th>\n",
       "      <th>col_0</th>\n",
       "      <th>col_1</th>\n",
       "      <th>col_2</th>\n",
       "      <th>col_3</th>\n",
       "      <th>col_4</th>\n",
       "      <th>col_5</th>\n",
       "      <th>col_6</th>\n",
       "      <th>col_7</th>\n",
       "      <th>cat1</th>\n",
       "      <th>cat2</th>\n",
       "    </tr>\n",
       "  </thead>\n",
       "  <tbody>\n",
       "    <tr>\n",
       "      <th>0</th>\n",
       "      <td>-0.487295</td>\n",
       "      <td>-0.147595</td>\n",
       "      <td>0.702684</td>\n",
       "      <td>-0.980724</td>\n",
       "      <td>-2.212259</td>\n",
       "      <td>-0.705400</td>\n",
       "      <td>1.487825</td>\n",
       "      <td>0.482706</td>\n",
       "      <td>16.0</td>\n",
       "      <td>18.0</td>\n",
       "    </tr>\n",
       "    <tr>\n",
       "      <th>1</th>\n",
       "      <td>0.639721</td>\n",
       "      <td>-1.635640</td>\n",
       "      <td>0.643382</td>\n",
       "      <td>0.953232</td>\n",
       "      <td>-0.178569</td>\n",
       "      <td>0.332062</td>\n",
       "      <td>2.076369</td>\n",
       "      <td>-0.756664</td>\n",
       "      <td>16.0</td>\n",
       "      <td>11.0</td>\n",
       "    </tr>\n",
       "    <tr>\n",
       "      <th>2</th>\n",
       "      <td>-0.894759</td>\n",
       "      <td>1.810931</td>\n",
       "      <td>1.427439</td>\n",
       "      <td>-0.638438</td>\n",
       "      <td>2.661236</td>\n",
       "      <td>-0.263417</td>\n",
       "      <td>1.359360</td>\n",
       "      <td>-0.759298</td>\n",
       "      <td>16.0</td>\n",
       "      <td>10.0</td>\n",
       "    </tr>\n",
       "  </tbody>\n",
       "</table>\n",
       "</div>"
      ],
      "text/plain": [
       "      col_0     col_1     col_2     col_3     col_4     col_5     col_6  \\\n",
       "0 -0.487295 -0.147595  0.702684 -0.980724 -2.212259 -0.705400  1.487825   \n",
       "1  0.639721 -1.635640  0.643382  0.953232 -0.178569  0.332062  2.076369   \n",
       "2 -0.894759  1.810931  1.427439 -0.638438  2.661236 -0.263417  1.359360   \n",
       "\n",
       "      col_7  cat1  cat2  \n",
       "0  0.482706  16.0  18.0  \n",
       "1 -0.756664  16.0  11.0  \n",
       "2 -0.759298  16.0  10.0  "
      ]
     },
     "execution_count": 6,
     "metadata": {},
     "output_type": "execute_result"
    }
   ],
   "source": [
    "predictors = pd.DataFrame(X_h[:, 0:-2], columns=[f'col_{i}' for i in range(8)])\n",
    "predictors['cat1'] = cat_column1\n",
    "predictors['cat2'] = cat_column2\n",
    "#predictors['cat1_orig'] = cat_column1\n",
    "#predictors['cat2_orig'] = cat_column2\n",
    "predictors.head(3)"
   ]
  },
  {
   "cell_type": "code",
   "execution_count": 7,
   "metadata": {},
   "outputs": [],
   "source": [
    "y_h[y_h<0] = 0"
   ]
  },
  {
   "cell_type": "code",
   "execution_count": 8,
   "metadata": {},
   "outputs": [],
   "source": [
    "from sklearn.model_selection import train_test_split\n",
    "X_train, X_test, y_train, y_test = train_test_split(predictors.values, y_h, test_size=0.2, random_state=rs_split)"
   ]
  },
  {
   "cell_type": "code",
   "execution_count": 9,
   "metadata": {},
   "outputs": [
    {
     "name": "stdout",
     "output_type": "stream",
     "text": [
      "Train accuracy:  0.68975\n",
      "Test accuracy:  0.6735\n",
      "AUC:  0.7250086016859303\n"
     ]
    }
   ],
   "source": [
    "from sklearn.ensemble import RandomForestClassifier\n",
    "from sklearn.metrics import accuracy_score, roc_auc_score\n",
    "model = RandomForestClassifier(n_estimators=100, max_depth=2, max_features=3, min_samples_leaf=1,\n",
    "                               random_state=rs_rf, n_jobs=-1) \n",
    "model.fit(X_train, y_train)\n",
    "preds = model.predict_proba(X_test)[:,1]\n",
    "\n",
    "print('Train accuracy: ', accuracy_score(y_train, model.predict(X_train)))\n",
    "print('Test accuracy: ', accuracy_score(y_test, preds.round()))\n",
    "print('AUC: ', roc_auc_score(y_test, preds))"
   ]
  },
  {
   "cell_type": "code",
   "execution_count": 10,
   "metadata": {},
   "outputs": [
    {
     "data": {
      "text/plain": [
       "array([0.00766255, 0.12502227, 0.20512611, 0.18482931, 0.01124271,\n",
       "       0.4187756 , 0.00490739, 0.0112219 , 0.        , 0.03121215])"
      ]
     },
     "execution_count": 10,
     "metadata": {},
     "output_type": "execute_result"
    }
   ],
   "source": [
    "model.feature_importances_"
   ]
  },
  {
   "cell_type": "markdown",
   "metadata": {},
   "source": [
    "OK, Now we will try to use the probabilistic target encoder\n"
   ]
  },
  {
   "cell_type": "markdown",
   "metadata": {},
   "source": [
    "## Cross-validation\n",
    "\n",
    "We really should use cross-validation to avoid overfitting"
   ]
  },
  {
   "cell_type": "markdown",
   "metadata": {},
   "source": [
    "### Cross-validation of the target encoding model\n",
    "\n",
    "First we will train a model using target encoding"
   ]
  },
  {
   "cell_type": "code",
   "execution_count": 14,
   "metadata": {},
   "outputs": [
    {
     "name": "stderr",
     "output_type": "stream",
     "text": [
      "C:\\Users\\michael.larionov\\AppData\\Local\\Continuum\\anaconda3\\envs\\cat_enc\\lib\\site-packages\\sklearn\\utils\\deprecation.py:144: FutureWarning: The sklearn.metrics.scorer module is  deprecated in version 0.22 and will be removed in version 0.24. The corresponding classes / functions should instead be imported from sklearn.metrics. Anything that cannot be imported from sklearn.metrics is now part of the private API.\n",
      "  warnings.warn(message, FutureWarning)\n",
      "[I 2020-05-14 11:26:01,121] Finished trial#8 with value: 0.640125 with parameters: {'loo__sigma': 3.26601115505556e-05, 'rf__max_depth': 10, 'rf__max_features': 3, 'rf__min_samples_leaf': 2}. Best is trial#8 with value: 0.640125.\n",
      "[I 2020-05-14 11:26:01,416] Finished trial#3 with value: 0.7532500000000001 with parameters: {'loo__sigma': 0.023134332310978896, 'rf__max_depth': 13, 'rf__max_features': 1, 'rf__min_samples_leaf': 1}. Best is trial#3 with value: 0.7532500000000001.\n",
      "[I 2020-05-14 11:26:01,611] Finished trial#5 with value: 0.5145000000000001 with parameters: {'loo__sigma': 0.00011485176719291399, 'rf__max_depth': 17, 'rf__max_features': 10, 'rf__min_samples_leaf': 2}. Best is trial#3 with value: 0.7532500000000001.\n",
      "[I 2020-05-14 11:26:01,768] Finished trial#7 with value: 0.62625 with parameters: {'loo__sigma': 0.00013034201376377905, 'rf__max_depth': 17, 'rf__max_features': 4, 'rf__min_samples_leaf': 1}. Best is trial#3 with value: 0.7532500000000001.\n",
      "[I 2020-05-14 11:26:01,810] Finished trial#6 with value: 0.5479999999999999 with parameters: {'loo__sigma': 2.671686100871038e-05, 'rf__max_depth': 27, 'rf__max_features': 8, 'rf__min_samples_leaf': 1}. Best is trial#3 with value: 0.7532500000000001.\n",
      "[I 2020-05-14 11:26:01,878] Finished trial#2 with value: 0.6681250000000001 with parameters: {'loo__sigma': 0.00011231686905523785, 'rf__max_depth': 37, 'rf__max_features': 2, 'rf__min_samples_leaf': 2}. Best is trial#3 with value: 0.7532500000000001.\n",
      "[I 2020-05-14 11:26:02,025] Finished trial#0 with value: 0.516875 with parameters: {'loo__sigma': 7.18306149094181e-05, 'rf__max_depth': 34, 'rf__max_features': 10, 'rf__min_samples_leaf': 2}. Best is trial#3 with value: 0.7532500000000001.\n",
      "[I 2020-05-14 11:26:02,276] Finished trial#9 with value: 0.772375 with parameters: {'loo__sigma': 0.001096088732684695, 'rf__max_depth': 32, 'rf__max_features': 3, 'rf__min_samples_leaf': 3}. Best is trial#9 with value: 0.772375.\n",
      "[I 2020-05-14 11:26:02,338] Finished trial#1 with value: 0.51625 with parameters: {'loo__sigma': 9.22250068159117e-05, 'rf__max_depth': 29, 'rf__max_features': 10, 'rf__min_samples_leaf': 1}. Best is trial#9 with value: 0.772375.\n",
      "[I 2020-05-14 11:26:03,767] Finished trial#4 with value: 0.793625 with parameters: {'loo__sigma': 0.0399969357010434, 'rf__max_depth': 22, 'rf__max_features': 6, 'rf__min_samples_leaf': 1}. Best is trial#4 with value: 0.793625.\n"
     ]
    },
    {
     "name": "stdout",
     "output_type": "stream",
     "text": [
      "Best parameter (CV score=0.794):\n",
      "{'loo__sigma': 0.0399969357010434, 'rf__max_depth': 22, 'rf__max_features': 6, 'rf__min_samples_leaf': 1}\n",
      "Wall time: 1min 5s\n"
     ]
    }
   ],
   "source": [
    "%%time\n",
    "from sklearn.pipeline import make_pipeline, Pipeline\n",
    "from sklearn.model_selection import cross_val_score\n",
    "from category_encoders.leave_one_out import LeaveOneOutEncoder\n",
    "import optuna\n",
    "from optuna.distributions import *\n",
    "\n",
    "loo = LeaveOneOutEncoder(cols=['cat1', 'cat2'], sigma=0.05, random_state=2834)\n",
    "rf = RandomForestClassifier(n_estimators=400, random_state=2834, n_jobs=-1) \n",
    "pipe = Pipeline(steps=[('loo',loo), ('rf',rf)])\n",
    "\n",
    "param_distribution = {\n",
    "    'loo__sigma': LogUniformDistribution(1E-5, 1E-1),\n",
    "    'rf__max_depth': IntUniformDistribution(5,40),\n",
    "    'rf__max_features' : IntUniformDistribution(1,10),\n",
    "    'rf__min_samples_leaf': IntUniformDistribution(1,3)\n",
    "}\n",
    "\n",
    "X_train, X_test, y_train, y_test = train_test_split(predictors.values, y_h, test_size=0.2, random_state=2834)\n",
    "X_train = pd.DataFrame(X_train, columns=predictors.columns)\n",
    "X_test = pd.DataFrame(X_test, columns=predictors.columns)\n",
    "\n",
    "search = optuna.integration.OptunaSearchCV(pipe, param_distribution, \n",
    "                                           cv=5, n_jobs=-1, random_state=514, timeout= 5*60, scoring='accuracy')\n",
    "\n",
    "search.fit(X_train, y_train)\n",
    "print(\"Best parameter (CV score=%0.3f):\" % search.best_score_)\n",
    "print(search.best_params_)\n"
   ]
  },
  {
   "cell_type": "code",
   "execution_count": 15,
   "metadata": {},
   "outputs": [
    {
     "name": "stdout",
     "output_type": "stream",
     "text": [
      "Test accuracy:  0.7925\n"
     ]
    }
   ],
   "source": [
    "test_predict = search.best_estimator_.predict(X_test)\n",
    "print('Test accuracy: ', accuracy_score(y_test, test_predict))"
   ]
  },
  {
   "cell_type": "markdown",
   "metadata": {},
   "source": [
    "### Cross-validation of the probabilistic encoder\n",
    "\n",
    "First we create a class that makes it easier for us to run sklearn cross validation"
   ]
  },
  {
   "cell_type": "code",
   "execution_count": 16,
   "metadata": {},
   "outputs": [],
   "source": [
    "from category_encoders.posterior_imputation_bc import PosteriorImputationEncoderBC  \n",
    "from category_encoders.pte_utils import EncoderWrapper"
   ]
  },
  {
   "cell_type": "code",
   "execution_count": 21,
   "metadata": {},
   "outputs": [
    {
     "name": "stderr",
     "output_type": "stream",
     "text": [
      "[I 2020-05-14 12:00:47,626] Finished trial#5 with value: 0.7859999999999999 with parameters: {'encoder__prior_samples_ratio': 1.0219421774514838e-07, 'encoder__n_draws': 4, 'encoder__leave_one_out': False, 'classifier__max_depth': 15, 'classifier__max_features': 8, 'classifier__min_samples_leaf': 4}. Best is trial#5 with value: 0.7859999999999999.\n",
      "[I 2020-05-14 12:02:16,438] Finished trial#1 with value: 0.78975 with parameters: {'encoder__prior_samples_ratio': 1.7390727657842863e-08, 'encoder__n_draws': 15, 'encoder__leave_one_out': False, 'classifier__max_depth': 13, 'classifier__max_features': 3, 'classifier__min_samples_leaf': 5}. Best is trial#1 with value: 0.78975.\n",
      "[I 2020-05-14 12:02:56,357] Finished trial#7 with value: 0.788625 with parameters: {'encoder__prior_samples_ratio': 2.1337212146785846e-09, 'encoder__n_draws': 4, 'encoder__leave_one_out': True, 'classifier__max_depth': 20, 'classifier__max_features': 6, 'classifier__min_samples_leaf': 4}. Best is trial#1 with value: 0.78975.\n",
      "[I 2020-05-14 12:03:55,055] Finished trial#2 with value: 0.781125 with parameters: {'encoder__prior_samples_ratio': 6.27296897291122e-08, 'encoder__n_draws': 15, 'encoder__leave_one_out': False, 'classifier__max_depth': 11, 'classifier__max_features': 7, 'classifier__min_samples_leaf': 3}. Best is trial#1 with value: 0.78975.\n",
      "[I 2020-05-14 12:03:57,208] Finished trial#9 with value: 0.7936249999999999 with parameters: {'encoder__prior_samples_ratio': 1.60207280240633e-07, 'encoder__n_draws': 6, 'encoder__leave_one_out': True, 'classifier__max_depth': 32, 'classifier__max_features': 4, 'classifier__min_samples_leaf': 2}. Best is trial#9 with value: 0.7936249999999999.\n",
      "[I 2020-05-14 12:04:52,228] Finished trial#3 with value: 0.7921250000000001 with parameters: {'encoder__prior_samples_ratio': 3.1628115486870155e-08, 'encoder__n_draws': 10, 'encoder__leave_one_out': True, 'classifier__max_depth': 16, 'classifier__max_features': 4, 'classifier__min_samples_leaf': 4}. Best is trial#9 with value: 0.7936249999999999.\n",
      "[I 2020-05-14 12:07:29,181] Finished trial#0 with value: 0.7877500000000001 with parameters: {'encoder__prior_samples_ratio': 1.507660782471438e-06, 'encoder__n_draws': 28, 'encoder__leave_one_out': False, 'classifier__max_depth': 27, 'classifier__max_features': 6, 'classifier__min_samples_leaf': 5}. Best is trial#9 with value: 0.7936249999999999.\n",
      "[I 2020-05-14 12:07:30,805] Finished trial#4 with value: 0.74925 with parameters: {'encoder__prior_samples_ratio': 1.3885691900535777e-08, 'encoder__n_draws': 20, 'encoder__leave_one_out': True, 'classifier__max_depth': 6, 'classifier__max_features': 6, 'classifier__min_samples_leaf': 1}. Best is trial#9 with value: 0.7936249999999999.\n",
      "[I 2020-05-14 12:07:35,574] Finished trial#6 with value: 0.784 with parameters: {'encoder__prior_samples_ratio': 4.605546101571424e-08, 'encoder__n_draws': 22, 'encoder__leave_one_out': True, 'classifier__max_depth': 30, 'classifier__max_features': 2, 'classifier__min_samples_leaf': 4}. Best is trial#9 with value: 0.7936249999999999.\n",
      "[I 2020-05-14 12:10:03,437] Finished trial#8 with value: 0.782625 with parameters: {'encoder__prior_samples_ratio': 3.399064754962656e-09, 'encoder__n_draws': 37, 'encoder__leave_one_out': True, 'classifier__max_depth': 25, 'classifier__max_features': 6, 'classifier__min_samples_leaf': 5}. Best is trial#9 with value: 0.7936249999999999.\n"
     ]
    },
    {
     "name": "stdout",
     "output_type": "stream",
     "text": [
      "Best parameter (CV score=0.794):\n",
      "{'encoder__prior_samples_ratio': 1.60207280240633e-07, 'encoder__n_draws': 6, 'encoder__leave_one_out': True, 'classifier__max_depth': 32, 'classifier__max_features': 4, 'classifier__min_samples_leaf': 2}\n",
      "Wall time: 13min 10s\n"
     ]
    }
   ],
   "source": [
    "%%time\n",
    "from sklearn.model_selection import cross_val_score\n",
    "\n",
    "pte = PosteriorImputationEncoderBC(cols=['cat1', 'cat2'], n_draws=5, random_state=2834, prior_samples_ratio=0)\n",
    "model = RandomForestClassifier(n_estimators=400, max_depth=30, max_features=1, \n",
    "                               random_state=2834, n_jobs=-1) \n",
    "wrapper_model = EncoderWrapper(pte, model)\n",
    "\n",
    "param_distribution = {\n",
    "    'encoder__prior_samples_ratio': LogUniformDistribution(1E-9, 1E-5),\n",
    "    'encoder__n_draws': IntUniformDistribution(1,40),\n",
    "    'encoder__leave_one_out': CategoricalDistribution([False, True]),\n",
    "    'classifier__max_depth': IntUniformDistribution(5,40),\n",
    "    'classifier__max_features' : IntUniformDistribution(1,10),\n",
    "    'classifier__min_samples_leaf': IntUniformDistribution(1,5)\n",
    "}\n",
    "\n",
    "\n",
    "X_train, X_test, y_train, y_test = train_test_split(predictors.values, y_h, test_size=0.2, random_state=2834)\n",
    "X_train = pd.DataFrame(X_train, columns=predictors.columns)\n",
    "X_test = pd.DataFrame(X_test, columns=predictors.columns)\n",
    "\n",
    "search = optuna.integration.OptunaSearchCV(wrapper_model, param_distribution, \n",
    "                                           cv=5, n_jobs=-1, random_state=514, timeout= 30*60, scoring='accuracy')\n",
    "search.fit(X_train, y_train)\n",
    "print(\"Best parameter (CV score=%0.3f):\" % search.best_score_)\n",
    "print(search.best_params_)"
   ]
  },
  {
   "cell_type": "code",
   "execution_count": 22,
   "metadata": {},
   "outputs": [
    {
     "name": "stdout",
     "output_type": "stream",
     "text": [
      "Test accuracy:  0.7955\n"
     ]
    }
   ],
   "source": [
    "test_predict = search.best_estimator_.predict(X_test)\n",
    "print('Test accuracy: ', accuracy_score(y_test, test_predict))"
   ]
  },
  {
   "cell_type": "markdown",
   "metadata": {},
   "source": [
    "### Study how hyperparameters influence the model performance"
   ]
  },
  {
   "cell_type": "markdown",
   "metadata": {},
   "source": [
    "#### Leave one out or not?"
   ]
  },
  {
   "cell_type": "code",
   "execution_count": 44,
   "metadata": {},
   "outputs": [
    {
     "data": {
      "text/plain": [
       "GridSearchCV(cv=None, error_score=nan,\n",
       "             estimator=EncoderWrapper(classifier=RandomForestClassifier(bootstrap=True,\n",
       "                                                                        ccp_alpha=0.0,\n",
       "                                                                        class_weight=None,\n",
       "                                                                        criterion='gini',\n",
       "                                                                        max_depth=32,\n",
       "                                                                        max_features=4,\n",
       "                                                                        max_leaf_nodes=None,\n",
       "                                                                        max_samples=None,\n",
       "                                                                        min_impurity_decrease=0.0,\n",
       "                                                                        min_impurity_split=None,\n",
       "                                                                        min_samples_leaf=2,\n",
       "                                                                        min_samples_split=2,\n",
       "                                                                        min_weight_fraction_leaf=0.0,\n",
       "                                                                        n_estim...\n",
       "                                                                                 'cat2'],\n",
       "                                                                           drop_invariant=False,\n",
       "                                                                           handle_missing='value',\n",
       "                                                                           handle_unknown='value',\n",
       "                                                                           leave_one_out=True,\n",
       "                                                                           n_draws=6,\n",
       "                                                                           prior_samples_ratio=1.60207280240633e-07,\n",
       "                                                                           random_state=2834,\n",
       "                                                                           return_df=True,\n",
       "                                                                           verbose=0)),\n",
       "             iid='deprecated', n_jobs=None,\n",
       "             param_grid={'encoder__leave_one_out': [False, True]},\n",
       "             pre_dispatch='2*n_jobs', refit=True, return_train_score=False,\n",
       "             scoring=None, verbose=0)"
      ]
     },
     "execution_count": 44,
     "metadata": {},
     "output_type": "execute_result"
    }
   ],
   "source": [
    "from sklearn.model_selection import GridSearchCV\n",
    "pte = PosteriorImputationEncoderBC(cols=['cat1', 'cat2'], \n",
    "                                   n_draws=search.best_params_['encoder__n_draws'], \n",
    "                                   random_state=2834, \n",
    "                                   prior_samples_ratio=search.best_params_['encoder__prior_samples_ratio'],\n",
    "                                   leave_one_out=search.best_params_['encoder__leave_one_out'])\n",
    "model = RandomForestClassifier(n_estimators=400, \n",
    "                               max_depth=search.best_params_['classifier__max_depth'], \n",
    "                               max_features=search.best_params_['classifier__max_features'], \n",
    "                               min_samples_leaf=search.best_params_['classifier__min_samples_leaf'], \n",
    "                               random_state=2834, n_jobs=-1) \n",
    "wrapper_model = EncoderWrapper(pte, model)\n",
    "\n",
    "\n",
    "X_train, X_test, y_train, y_test = train_test_split(predictors.values, y_h, test_size=0.2, random_state=2834)\n",
    "X_train = pd.DataFrame(X_train, columns=predictors.columns)\n",
    "X_test = pd.DataFrame(X_test, columns=predictors.columns)\n",
    "\n",
    "\n",
    "search1 = GridSearchCV(estimator=wrapper_model, param_grid={'encoder__leave_one_out' : [False, True]})\n",
    "\n",
    "search1.fit(X_train, y_train)\n",
    "print(search1.cv_results_['mean_test_score'])\n",
    "print(search1.cv_results_['std_test_score'])"
   ]
  },
  {
   "cell_type": "code",
   "execution_count": 50,
   "metadata": {},
   "outputs": [
    {
     "data": {
      "text/plain": [
       "array([0.00691014, 0.00989476])"
      ]
     },
     "execution_count": 50,
     "metadata": {},
     "output_type": "execute_result"
    }
   ],
   "source": []
  },
  {
   "cell_type": "code",
   "execution_count": 48,
   "metadata": {},
   "outputs": [
    {
     "name": "stdout",
     "output_type": "stream",
     "text": [
      "[0.788    0.790625 0.791625 0.794    0.795    0.7935   0.791125 0.792875\n",
      " 0.7915   0.78975  0.790625 0.790875 0.78825  0.792    0.788375 0.790875\n",
      " 0.78975  0.788375 0.786125 0.78875  0.788625 0.7875   0.787375 0.787375\n",
      " 0.785875 0.786    0.7865   0.787    0.787375 0.786    0.789    0.787875\n",
      " 0.789375 0.786    0.785    0.786875 0.78825  0.785875]\n",
      "Wall time: 1h 1min 36s\n"
     ]
    },
    {
     "data": {
      "text/plain": [
       "[<matplotlib.lines.Line2D at 0x1a1bea336a0>]"
      ]
     },
     "execution_count": 48,
     "metadata": {},
     "output_type": "execute_result"
    },
    {
     "data": {
      "image/png": "[encoded data removed]",
      "text/plain": [
       "<Figure size 432x288 with 1 Axes>"
      ]
     },
     "metadata": {
      "needs_background": "light"
     },
     "output_type": "display_data"
    }
   ],
   "source": [
    "%%time\n",
    "X_train, X_test, y_train, y_test = train_test_split(predictors.values, y_h, test_size=0.2, random_state=2834)\n",
    "X_train = pd.DataFrame(X_train, columns=predictors.columns)\n",
    "X_test = pd.DataFrame(X_test, columns=predictors.columns)\n",
    "\n",
    "pte = PosteriorImputationEncoderBC(cols=['cat1', 'cat2'], \n",
    "                               n_draws=search.best_params_['encoder__n_draws'], \n",
    "                               random_state=2834, \n",
    "                               prior_samples_ratio=search.best_params_['encoder__prior_samples_ratio'],\n",
    "                               leave_one_out=search.best_params_['encoder__leave_one_out'])\n",
    "model = RandomForestClassifier(n_estimators=400, \n",
    "                           max_depth=search.best_params_['classifier__max_depth'], \n",
    "                           max_features=search.best_params_['classifier__max_features'], \n",
    "                           min_samples_leaf=search.best_params_['classifier__min_samples_leaf'], \n",
    "                           random_state=2834, n_jobs=-1) \n",
    "wrapper_model = EncoderWrapper(pte, model)\n",
    "\n",
    "param_range = range(2, 40)\n",
    "search2 = GridSearchCV(estimator=wrapper_model, param_grid={'encoder__n_draws' : param_range})\n",
    "\n",
    "search2.fit(X_train, y_train)\n",
    "results = search2.cv_results_['mean_test_score']    \n",
    "    \n",
    "print(results)\n",
    "plt.plot(list(param_range), results, '-o')\n",
    "plt.plot(list(param_range), results + search2.cv_results_['std_test_score'] , '-o');\n",
    "plt.plot(list(param_range), results - search2.cv_results_['std_test_score'] , '-o');\n",
    "plt.show();"
   ]
  },
  {
   "cell_type": "code",
   "execution_count": 53,
   "metadata": {},
   "outputs": [
    {
     "data": {
      "image/png": "[encoded data removed]",
      "text/plain": [
       "<Figure size 432x288 with 1 Axes>"
      ]
     },
     "metadata": {
      "needs_background": "light"
     },
     "output_type": "display_data"
    }
   ],
   "source": [
    "plt.plot(list(param_range), results, '-o')\n",
    "plt.plot(list(param_range), results + search2.cv_results_['std_test_score'] , '-o');\n",
    "plt.plot(list(param_range), results - search2.cv_results_['std_test_score'] , '-o');\n",
    "plt.show();"
   ]
  },
  {
   "cell_type": "code",
   "execution_count": 54,
   "metadata": {},
   "outputs": [
    {
     "name": "stdout",
     "output_type": "stream",
     "text": [
      "[0.795    0.796125 0.792875 0.79125  0.7925   0.791375 0.79275  0.787\n",
      " 0.79025 ]\n"
     ]
    },
    {
     "data": {
      "image/png": "[encoded data removed]",
      "text/plain": [
       "<Figure size 432x288 with 1 Axes>"
      ]
     },
     "metadata": {
      "needs_background": "light"
     },
     "output_type": "display_data"
    },
    {
     "name": "stdout",
     "output_type": "stream",
     "text": [
      "Wall time: 4min 14s\n"
     ]
    }
   ],
   "source": [
    "%%time\n",
    "X_train, X_test, y_train, y_test = train_test_split(predictors.values, y_h, test_size=0.2, random_state=2834)\n",
    "X_train = pd.DataFrame(X_train, columns=predictors.columns)\n",
    "X_test = pd.DataFrame(X_test, columns=predictors.columns)\n",
    "\n",
    "pte = PosteriorImputationEncoderBC(cols=['cat1', 'cat2'], \n",
    "                               n_draws=search.best_params_['encoder__n_draws'], \n",
    "                               random_state=2834, \n",
    "                               prior_samples_ratio=search.best_params_['encoder__prior_samples_ratio'],\n",
    "                               leave_one_out=search.best_params_['encoder__leave_one_out'])\n",
    "model = RandomForestClassifier(n_estimators=400, \n",
    "                           max_depth=search.best_params_['classifier__max_depth'], \n",
    "                           max_features=search.best_params_['classifier__max_features'], \n",
    "                           min_samples_leaf=search.best_params_['classifier__min_samples_leaf'], \n",
    "                           random_state=2834, n_jobs=-1) \n",
    "wrapper_model = EncoderWrapper(pte, model)\n",
    "\n",
    "param_range =  range(-10, -1)\n",
    "search3 = GridSearchCV(estimator=wrapper_model, param_grid={'encoder__prior_samples_ratio' : [10**i for i in param_range]})\n",
    "\n",
    "search3.fit(X_train, y_train)\n",
    "    \n",
    "results = search3.cv_results_['mean_test_score']    \n",
    "    \n",
    "print(results)\n",
    "plt.plot(list(param_range), results, '-o')\n",
    "plt.plot(list(param_range), results + search3.cv_results_['std_test_score'] , '-o');\n",
    "plt.plot(list(param_range), results - search3.cv_results_['std_test_score'] , '-o');\n",
    "plt.show();"
   ]
  },
  {
   "cell_type": "code",
   "execution_count": null,
   "metadata": {},
   "outputs": [],
   "source": []
  }
 ],
 "metadata": {
  "kernelspec": {
   "display_name": "Python 3",
   "language": "python",
   "name": "python3"
  },
  "language_info": {
   "codemirror_mode": {
    "name": "ipython",
    "version": 3
   },
   "file_extension": ".py",
   "mimetype": "text/x-python",
   "name": "python",
   "nbconvert_exporter": "python",
   "pygments_lexer": "ipython3",
   "version": "3.7.1"
  }
 },
 "nbformat": 4,
 "nbformat_minor": 2
}
