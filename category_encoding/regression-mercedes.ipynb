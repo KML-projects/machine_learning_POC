{
 "cells": [
  {
   "cell_type": "code",
   "execution_count": 5,
   "metadata": {},
   "outputs": [
    {
     "name": "stdout",
     "output_type": "stream",
     "text": [
      "The autoreload extension is already loaded. To reload it, use:\n",
      "  %reload_ext autoreload\n"
     ]
    }
   ],
   "source": [
    "%load_ext autoreload\n",
    "import numpy as np\n",
    "import pandas as pd\n",
    "from matplotlib import pyplot as plt\n",
    "%matplotlib inline"
   ]
  },
  {
   "cell_type": "code",
   "execution_count": 6,
   "metadata": {},
   "outputs": [
    {
     "data": {
      "text/html": [
       "<div>\n",
       "<style scoped>\n",
       "    .dataframe tbody tr th:only-of-type {\n",
       "        vertical-align: middle;\n",
       "    }\n",
       "\n",
       "    .dataframe tbody tr th {\n",
       "        vertical-align: top;\n",
       "    }\n",
       "\n",
       "    .dataframe thead th {\n",
       "        text-align: right;\n",
       "    }\n",
       "</style>\n",
       "<table border=\"1\" class=\"dataframe\">\n",
       "  <thead>\n",
       "    <tr style=\"text-align: right;\">\n",
       "      <th></th>\n",
       "      <th>ID</th>\n",
       "      <th>y</th>\n",
       "      <th>X0</th>\n",
       "      <th>X1</th>\n",
       "      <th>X2</th>\n",
       "      <th>X3</th>\n",
       "      <th>X4</th>\n",
       "      <th>X5</th>\n",
       "      <th>X6</th>\n",
       "      <th>X8</th>\n",
       "      <th>...</th>\n",
       "      <th>X375</th>\n",
       "      <th>X376</th>\n",
       "      <th>X377</th>\n",
       "      <th>X378</th>\n",
       "      <th>X379</th>\n",
       "      <th>X380</th>\n",
       "      <th>X382</th>\n",
       "      <th>X383</th>\n",
       "      <th>X384</th>\n",
       "      <th>X385</th>\n",
       "    </tr>\n",
       "  </thead>\n",
       "  <tbody>\n",
       "    <tr>\n",
       "      <th>0</th>\n",
       "      <td>0</td>\n",
       "      <td>130.81</td>\n",
       "      <td>k</td>\n",
       "      <td>v</td>\n",
       "      <td>at</td>\n",
       "      <td>a</td>\n",
       "      <td>d</td>\n",
       "      <td>u</td>\n",
       "      <td>j</td>\n",
       "      <td>o</td>\n",
       "      <td>...</td>\n",
       "      <td>0</td>\n",
       "      <td>0</td>\n",
       "      <td>1</td>\n",
       "      <td>0</td>\n",
       "      <td>0</td>\n",
       "      <td>0</td>\n",
       "      <td>0</td>\n",
       "      <td>0</td>\n",
       "      <td>0</td>\n",
       "      <td>0</td>\n",
       "    </tr>\n",
       "    <tr>\n",
       "      <th>1</th>\n",
       "      <td>6</td>\n",
       "      <td>88.53</td>\n",
       "      <td>k</td>\n",
       "      <td>t</td>\n",
       "      <td>av</td>\n",
       "      <td>e</td>\n",
       "      <td>d</td>\n",
       "      <td>y</td>\n",
       "      <td>l</td>\n",
       "      <td>o</td>\n",
       "      <td>...</td>\n",
       "      <td>1</td>\n",
       "      <td>0</td>\n",
       "      <td>0</td>\n",
       "      <td>0</td>\n",
       "      <td>0</td>\n",
       "      <td>0</td>\n",
       "      <td>0</td>\n",
       "      <td>0</td>\n",
       "      <td>0</td>\n",
       "      <td>0</td>\n",
       "    </tr>\n",
       "  </tbody>\n",
       "</table>\n",
       "<p>2 rows × 378 columns</p>\n",
       "</div>"
      ],
      "text/plain": [
       "   ID       y X0 X1  X2 X3 X4 X5 X6 X8  ...  X375  X376  X377  X378  X379  \\\n",
       "0   0  130.81  k  v  at  a  d  u  j  o  ...     0     0     1     0     0   \n",
       "1   6   88.53  k  t  av  e  d  y  l  o  ...     1     0     0     0     0   \n",
       "\n",
       "   X380  X382  X383  X384  X385  \n",
       "0     0     0     0     0     0  \n",
       "1     0     0     0     0     0  \n",
       "\n",
       "[2 rows x 378 columns]"
      ]
     },
     "execution_count": 6,
     "metadata": {},
     "output_type": "execute_result"
    }
   ],
   "source": [
    "all_data = pd.read_csv('train.csv.zip')\n",
    "all_data.head(2)"
   ]
  },
  {
   "cell_type": "code",
   "execution_count": 7,
   "metadata": {},
   "outputs": [],
   "source": [
    "#Removing duplicate or constant columns as per https://www.kaggle.com/yohanb/categorical-features-encoding-xgb-0-554\n",
    "columns_to_remove = ['X93', 'X107', 'X233', 'X235', 'X268', 'X289', 'X290', 'X293', 'X297', 'X330', 'X347', \n",
    "                     'X382', 'X232', 'X279', 'X35', 'X37', 'X39', 'X302', 'X113', 'X134', 'X147', 'X222', \n",
    "                     'X102', 'X214', 'X239', 'X76', 'X324', 'X248', 'X253', 'X385', 'X172', 'X216', 'X213', \n",
    "                     'X84', 'X244', 'X122', 'X243', 'X320', 'X245', 'X94', 'X242', 'X199', 'X119', 'X227', \n",
    "                     'X146', 'X226', 'X326', 'X360', 'X262', 'X266', 'X247', 'X254', 'X364', 'X365', 'X296', 'X299',\n",
    "                     'X11', 'X93', 'X107', 'X233', 'X235', 'X268', 'X289', 'X290', 'X293', 'X297', 'X330', 'X347']\n",
    "new_columns = [col for col in all_data.columns if col not in columns_to_remove]\n",
    "data1 = all_data[new_columns]"
   ]
  },
  {
   "cell_type": "code",
   "execution_count": 8,
   "metadata": {},
   "outputs": [
    {
     "data": {
      "text/plain": [
       "(4209, 321)"
      ]
     },
     "execution_count": 8,
     "metadata": {},
     "output_type": "execute_result"
    }
   ],
   "source": [
    "data1.shape"
   ]
  },
  {
   "cell_type": "markdown",
   "metadata": {},
   "source": [
    "## Baseline linear regression without categorical features"
   ]
  },
  {
   "cell_type": "code",
   "execution_count": 9,
   "metadata": {},
   "outputs": [],
   "source": [
    "X = data1.iloc[:,10:].values\n",
    "y = data1.iloc[:,1].values"
   ]
  },
  {
   "cell_type": "code",
   "execution_count": 10,
   "metadata": {},
   "outputs": [],
   "source": [
    "from sklearn.model_selection import train_test_split\n",
    "X_train, X_test, y_train, y_test = train_test_split(X, y, test_size=0.2, random_state=2834)"
   ]
  },
  {
   "cell_type": "code",
   "execution_count": 11,
   "metadata": {},
   "outputs": [
    {
     "name": "stdout",
     "output_type": "stream",
     "text": [
      "Train R^2:  0.5843533315823948\n",
      "Test R^2:  -6.160078533586281e+22\n",
      "Test MSE:  9.528489855981273e+24\n"
     ]
    }
   ],
   "source": [
    "from sklearn.linear_model import LinearRegression, Ridge\n",
    "from sklearn.metrics import r2_score, mean_squared_error\n",
    "model = LinearRegression()\n",
    "model.fit(X_train, y_train)\n",
    "preds = model.predict(X_test)\n",
    "print('Train R^2: ', model.score(X_train, y_train))\n",
    "print('Test R^2: ', r2_score(y_test, preds))\n",
    "print('Test MSE: ', mean_squared_error(y_test, preds))\n"
   ]
  },
  {
   "cell_type": "markdown",
   "metadata": {},
   "source": [
    "## Label encoding of all columns\n"
   ]
  },
  {
   "cell_type": "code",
   "execution_count": 12,
   "metadata": {},
   "outputs": [],
   "source": [
    "from sklearn.preprocessing import RobustScaler, LabelEncoder, OrdinalEncoder\n",
    "test_data = pd.read_csv('test.csv.zip')\n",
    "combined = pd.concat([all_data, test_data], axis=0, sort=False)\n",
    "\n",
    "cat_column_names = ['X0', 'X1', 'X2', 'X3', 'X4', 'X5', 'X6', 'X8']\n",
    "\n",
    "label_encoders = {}\n",
    "\n",
    "for col in cat_column_names:\n",
    "    label_encoder = LabelEncoder()\n",
    "    label_encoder.fit(combined[col])\n",
    "    label_encoders[col] = label_encoder\n"
   ]
  },
  {
   "cell_type": "markdown",
   "metadata": {},
   "source": [
    "## Mean encoding of columns\n",
    "Now we will do a naive mean encoding of the categorical columns X0-X8"
   ]
  },
  {
   "cell_type": "code",
   "execution_count": 13,
   "metadata": {},
   "outputs": [],
   "source": [
    "data2 = data1.copy()"
   ]
  },
  {
   "cell_type": "code",
   "execution_count": 14,
   "metadata": {},
   "outputs": [],
   "source": [
    "import sys,os, pathlib\n",
    "current = pathlib.Path(os.getcwd())\n",
    "base = current.parent.parent\n",
    "catenc = base.joinpath('categorical-encoding')\n",
    "sys.path.append(str(catenc))"
   ]
  },
  {
   "cell_type": "code",
   "execution_count": 15,
   "metadata": {},
   "outputs": [
    {
     "name": "stdout",
     "output_type": "stream",
     "text": [
      "Train R^2:  0.5753189141790043\n",
      "Test R^2:  0.5875966381290332\n",
      "Test MSE:  63.79109014170886\n"
     ]
    }
   ],
   "source": [
    "from category_encoders.leave_one_out import LeaveOneOutEncoder\n",
    "from category_encoders.target_encoder import TargetEncoder\n",
    "\n",
    "cat_column_names = ['X0', 'X1', 'X2', 'X3', 'X4', 'X5', 'X6', 'X8']\n",
    "\n",
    "for col in cat_column_names:\n",
    "    data2[col] = label_encoders[col].transform(data2[col])\n",
    "\n",
    "\n",
    "X = data2.iloc[:,2:].values\n",
    "y = data2.iloc[:,1].values\n",
    "\n",
    "X_train, X_test, y_train, y_test = train_test_split(X, y, test_size=0.2, random_state=2834)\n",
    "\n",
    "mean_enc_columns = [data2.columns.get_loc(c) for c in data2.columns if c in cat_column_names]\n",
    "\n",
    "\n",
    "m_encoder = LeaveOneOutEncoder(cols=mean_enc_columns)\n",
    "m_encoder.fit(X_train, y_train)\n",
    "X_train = m_encoder.transform(X_train)\n",
    "X_test = m_encoder.transform(X_test)\n",
    "\n",
    "scaler = RobustScaler()\n",
    "scaler.fit(X_train)\n",
    "X_train = scaler.transform(X_train)\n",
    "X_test = scaler.transform(X_test)\n",
    "\n",
    "model = Ridge(alpha = 20) #Best alpha we could get via hyperparameter tuning\n",
    "model.fit(X_train, y_train)\n",
    "preds = model.predict(X_test)\n",
    "print('Train R^2: ', model.score(X_train, y_train))\n",
    "print('Test R^2: ', r2_score(y_test, preds))\n",
    "print('Test MSE: ', mean_squared_error(y_test, preds))"
   ]
  },
  {
   "cell_type": "code",
   "execution_count": 16,
   "metadata": {},
   "outputs": [
    {
     "name": "stdout",
     "output_type": "stream",
     "text": [
      "Train R^2:  0.5647513986247792\n",
      "Test R^2:  0.5838897210695404\n",
      "Test MSE:  64.36448090946871\n"
     ]
    }
   ],
   "source": [
    "X_train, X_test, y_train, y_test = train_test_split(X, y, test_size=0.2, random_state=2834)\n",
    "\n",
    "m_encoder = LeaveOneOutEncoder(cols=mean_enc_columns)\n",
    "m_encoder.fit(X_train, y_train)\n",
    "X_train = m_encoder.transform(X_train)\n",
    "X_test = m_encoder.transform(X_test)\n",
    "\n",
    "scaler = RobustScaler()\n",
    "scaler.fit(X_train)\n",
    "X_train = scaler.transform(X_train)\n",
    "X_test = scaler.transform(X_test)\n",
    "\n",
    "model = Ridge(alpha=55)\n",
    "model.fit(X_train, y_train)\n",
    "preds = model.predict(X_test)\n",
    "print('Train R^2: ', model.score(X_train, y_train))\n",
    "print('Test R^2: ', r2_score(y_test, preds))\n",
    "print('Test MSE: ', mean_squared_error(y_test, preds))"
   ]
  },
  {
   "cell_type": "markdown",
   "metadata": {},
   "source": [
    "The result is actually worse. Is it because we ignored the standard deviation?\n",
    "\n",
    "We will try to achieve the best result by using random forest"
   ]
  },
  {
   "cell_type": "code",
   "execution_count": 17,
   "metadata": {},
   "outputs": [
    {
     "name": "stdout",
     "output_type": "stream",
     "text": [
      "Train R^2:  0.6028315218920661\n",
      "Test R^2:  0.6168638369298607\n",
      "Test MSE:  59.264001641680935\n"
     ]
    }
   ],
   "source": [
    "from sklearn.ensemble import RandomForestRegressor\n",
    "\n",
    "X_train, X_test, y_train, y_test = train_test_split(X, y, test_size=0.2, random_state=2834)\n",
    "\n",
    "\n",
    "#m_encoder = LeaveOneOutEncoder(cols=mean_enc_columns)\n",
    "m_encoder = TargetEncoder(cols=mean_enc_columns, smoothing=1E-2)\n",
    "m_encoder.fit(X_train, y_train)\n",
    "X_train = m_encoder.transform(X_train)\n",
    "X_test = m_encoder.transform(X_test)\n",
    "\n",
    "\n",
    "model = RandomForestRegressor(n_estimators=300, max_depth=5, random_state=2834, n_jobs=-1) \n",
    "model.fit(X_train, y_train)\n",
    "preds = model.predict(X_test)\n",
    "\n",
    "print('Train R^2: ', model.score(X_train, y_train))\n",
    "print('Test R^2: ', r2_score(y_test, preds))\n",
    "print('Test MSE: ', mean_squared_error(y_test, preds))"
   ]
  },
  {
   "cell_type": "code",
   "execution_count": 18,
   "metadata": {},
   "outputs": [],
   "source": [
    "#generate submission\n",
    "kaggle1 = test_data[new_columns[2:]].copy()\n",
    "\n",
    "for col in cat_column_names:\n",
    "    kaggle1[col] = label_encoders[col].transform(kaggle1[col])\n",
    "    \n",
    "X_kaggle = kaggle1.values"
   ]
  },
  {
   "cell_type": "code",
   "execution_count": 19,
   "metadata": {},
   "outputs": [],
   "source": [
    "X_kaggle_tran = m_encoder.transform(X_kaggle)\n",
    "preds_kaggle = model.predict(X_kaggle_tran)\n",
    "preds_kaggle_df = pd.DataFrame({'ID': test_data.ID, 'y': preds_kaggle, })\n",
    "preds_kaggle_df.head(2)\n",
    "preds_kaggle_df.to_csv('te_submission.csv', index=False)"
   ]
  },
  {
   "cell_type": "markdown",
   "metadata": {},
   "source": [
    "This is much better than Ridge regression, but without limiting the max depth it overfits tremendously"
   ]
  },
  {
   "cell_type": "code",
   "execution_count": 20,
   "metadata": {},
   "outputs": [
    {
     "name": "stdout",
     "output_type": "stream",
     "text": [
      "Train R^2:  0.5902388643573367\n",
      "Test R^2:  0.6133959090884106\n",
      "Test MSE:  59.800425245347164\n"
     ]
    }
   ],
   "source": [
    "#%autoreload 2\n",
    "from category_encoders.posterior_imputation import PosteriorImputationEncoder\n",
    "\n",
    "X_train, X_test, y_train, y_test = train_test_split(X, y, test_size=0.2, random_state=2834)\n",
    "\n",
    "\n",
    "m_encoder = PosteriorImputationEncoder(cols=mean_enc_columns, n_draws=25, prior_samples_ratio=0.01, random_state=2834)\n",
    "m_encoder.fit(X_train, y_train)\n",
    "X_train = m_encoder.transform(X_train)\n",
    "X_test = m_encoder.transform(X_test)\n",
    "y_train = m_encoder.expand_y(y_train)\n",
    "\n",
    "#print(X_train.isnull().mean())\n",
    "\n",
    "model = RandomForestRegressor(n_estimators=300, max_depth=5, random_state=2834, n_jobs=-1) \n",
    "model.fit(X_train, y_train)\n",
    "preds = model.predict(X_test)\n",
    "preds = m_encoder.average_y(preds)\n",
    "\n",
    "print('Train R^2: ', model.score(X_train, y_train))\n",
    "print('Test R^2: ', r2_score(y_test, preds))\n",
    "print('Test MSE: ', mean_squared_error(y_test, preds))"
   ]
  },
  {
   "cell_type": "markdown",
   "metadata": {},
   "source": [
    "I do not see much difference. We need another example where we can prove better effectiveness of this algorithm."
   ]
  },
  {
   "cell_type": "code",
   "execution_count": 21,
   "metadata": {},
   "outputs": [],
   "source": [
    "X_kaggle_tran = m_encoder.transform(X_kaggle)\n",
    "preds_kaggle = model.predict(X_kaggle_tran)\n",
    "preds_kaggle = m_encoder.average_y(preds_kaggle)\n",
    "preds_kaggle_df = pd.DataFrame({'ID': test_data.ID, 'y': preds_kaggle, })\n",
    "preds_kaggle_df.head(2)\n",
    "preds_kaggle_df.to_csv('pm_submission.csv', index=False)"
   ]
  },
  {
   "cell_type": "markdown",
   "metadata": {},
   "source": [
    "## Cross validation\n",
    "\n",
    "We will do cross-validation to ensure validity of comparison between the two approaches"
   ]
  },
  {
   "cell_type": "code",
   "execution_count": 22,
   "metadata": {},
   "outputs": [],
   "source": [
    "mean_enc_column_names = [c for c in data2.columns if c in cat_column_names]"
   ]
  },
  {
   "cell_type": "markdown",
   "metadata": {},
   "source": [
    "### Leave one out encoding"
   ]
  },
  {
   "cell_type": "code",
   "execution_count": 31,
   "metadata": {},
   "outputs": [
    {
     "name": "stderr",
     "output_type": "stream",
     "text": [
      "[I 2020-05-16 14:01:37,521] Finished trial#6 with value: 0.5511313950252014 with parameters: {'loo__sigma': 0.002528886859725847, 'rf__max_depth': 2, 'rf__max_features': 164, 'rf__min_samples_leaf': 1}. Best is trial#6 with value: 0.5511313950252014.\n",
      "[I 2020-05-16 14:01:43,008] Finished trial#10 with value: 0.5013071666467804 with parameters: {'loo__sigma': 4.90590123230136e-05, 'rf__max_depth': 8, 'rf__max_features': 11, 'rf__min_samples_leaf': 14}. Best is trial#6 with value: 0.5511313950252014.\n",
      "[I 2020-05-16 14:01:44,936] Finished trial#4 with value: 0.5242331877383426 with parameters: {'loo__sigma': 0.0006641296922897638, 'rf__max_depth': 39, 'rf__max_features': 8, 'rf__min_samples_leaf': 6}. Best is trial#6 with value: 0.5511313950252014.\n",
      "[I 2020-05-16 14:01:48,822] Finished trial#3 with value: 0.5561280747518056 with parameters: {'loo__sigma': 0.0020542205029519564, 'rf__max_depth': 34, 'rf__max_features': 33, 'rf__min_samples_leaf': 15}. Best is trial#3 with value: 0.5561280747518056.\n",
      "[I 2020-05-16 14:01:55,006] Finished trial#9 with value: 0.5566834988875751 with parameters: {'loo__sigma': 0.0462632266261818, 'rf__max_depth': 16, 'rf__max_features': 76, 'rf__min_samples_leaf': 3}. Best is trial#9 with value: 0.5566834988875751.\n",
      "[I 2020-05-16 14:01:57,985] Finished trial#2 with value: 0.5487169299460636 with parameters: {'loo__sigma': 0.00011662992643489581, 'rf__max_depth': 27, 'rf__max_features': 230, 'rf__min_samples_leaf': 11}. Best is trial#9 with value: 0.5566834988875751.\n",
      "[I 2020-05-16 14:02:00,702] Finished trial#0 with value: 0.5101905298082295 with parameters: {'loo__sigma': 4.253960151908658e-05, 'rf__max_depth': 11, 'rf__max_features': 297, 'rf__min_samples_leaf': 9}. Best is trial#9 with value: 0.5566834988875751.\n",
      "[I 2020-05-16 14:02:05,924] Finished trial#5 with value: 0.5541341757360283 with parameters: {'loo__sigma': 0.005794400263100851, 'rf__max_depth': 31, 'rf__max_features': 315, 'rf__min_samples_leaf': 11}. Best is trial#9 with value: 0.5566834988875751.\n",
      "[I 2020-05-16 14:02:13,335] Finished trial#7 with value: 0.5542304661611153 with parameters: {'loo__sigma': 0.016950189762229347, 'rf__max_depth': 25, 'rf__max_features': 105, 'rf__min_samples_leaf': 1}. Best is trial#9 with value: 0.5566834988875751.\n",
      "[I 2020-05-16 14:02:14,823] Finished trial#1 with value: 0.5471665224421939 with parameters: {'loo__sigma': 0.00010564485939232672, 'rf__max_depth': 13, 'rf__max_features': 248, 'rf__min_samples_leaf': 2}. Best is trial#9 with value: 0.5566834988875751.\n",
      "[I 2020-05-16 14:02:19,463] Finished trial#11 with value: 0.5507340407972612 with parameters: {'loo__sigma': 0.0018537269718872055, 'rf__max_depth': 20, 'rf__max_features': 132, 'rf__min_samples_leaf': 1}. Best is trial#9 with value: 0.5566834988875751.\n",
      "[I 2020-05-16 14:02:35,256] Finished trial#8 with value: 0.5418107888417423 with parameters: {'loo__sigma': 0.0007086463609397512, 'rf__max_depth': 29, 'rf__max_features': 257, 'rf__min_samples_leaf': 1}. Best is trial#9 with value: 0.5566834988875751.\n",
      "[I 2020-05-16 14:02:54,061] Finished trial#12 with value: 0.5503350747990786 with parameters: {'loo__sigma': 0.0001588841677203596, 'rf__max_depth': 16, 'rf__max_features': 40, 'rf__min_samples_leaf': 5}. Best is trial#9 with value: 0.5566834988875751.\n",
      "[I 2020-05-16 14:03:10,553] Finished trial#15 with value: 0.5618212062602559 with parameters: {'loo__sigma': 0.035334713791996444, 'rf__max_depth': 9, 'rf__max_features': 168, 'rf__min_samples_leaf': 2}. Best is trial#15 with value: 0.5618212062602559.\n",
      "[I 2020-05-16 14:03:11,579] Finished trial#17 with value: 0.5574135830360989 with parameters: {'loo__sigma': 0.002934104867109524, 'rf__max_depth': 12, 'rf__max_features': 42, 'rf__min_samples_leaf': 11}. Best is trial#15 with value: 0.5618212062602559.\n",
      "[I 2020-05-16 14:03:17,829] Finished trial#19 with value: 0.556051268000119 with parameters: {'loo__sigma': 0.0008022507392052146, 'rf__max_depth': 15, 'rf__max_features': 55, 'rf__min_samples_leaf': 12}. Best is trial#15 with value: 0.5618212062602559.\n",
      "[I 2020-05-16 14:03:19,558] Finished trial#13 with value: 0.5492498091413596 with parameters: {'loo__sigma': 0.006608036009562548, 'rf__max_depth': 28, 'rf__max_features': 85, 'rf__min_samples_leaf': 1}. Best is trial#15 with value: 0.5618212062602559.\n",
      "[I 2020-05-16 14:03:21,829] Finished trial#14 with value: 0.5507641773983778 with parameters: {'loo__sigma': 0.00012266027088063194, 'rf__max_depth': 31, 'rf__max_features': 179, 'rf__min_samples_leaf': 2}. Best is trial#15 with value: 0.5618212062602559.\n",
      "[I 2020-05-16 14:03:22,150] Finished trial#20 with value: 0.5500192237387362 with parameters: {'loo__sigma': 0.0005426178648512742, 'rf__max_depth': 17, 'rf__max_features': 15, 'rf__min_samples_leaf': 4}. Best is trial#15 with value: 0.5618212062602559.\n",
      "[I 2020-05-16 14:03:28,044] Finished trial#16 with value: 0.5051241329302714 with parameters: {'loo__sigma': 4.392546039705665e-05, 'rf__max_depth': 29, 'rf__max_features': 281, 'rf__min_samples_leaf': 5}. Best is trial#15 with value: 0.5618212062602559.\n",
      "[I 2020-05-16 14:03:29,160] Finished trial#18 with value: 0.5548736717903526 with parameters: {'loo__sigma': 0.0019072066660319222, 'rf__max_depth': 12, 'rf__max_features': 288, 'rf__min_samples_leaf': 6}. Best is trial#15 with value: 0.5618212062602559.\n",
      "[I 2020-05-16 14:03:31,037] Finished trial#21 with value: 0.5569229756764514 with parameters: {'loo__sigma': 0.08038809503602799, 'rf__max_depth': 18, 'rf__max_features': 75, 'rf__min_samples_leaf': 5}. Best is trial#15 with value: 0.5618212062602559.\n",
      "[I 2020-05-16 14:03:35,188] Finished trial#22 with value: 0.556790017262389 with parameters: {'loo__sigma': 0.07252644619175502, 'rf__max_depth': 38, 'rf__max_features': 54, 'rf__min_samples_leaf': 5}. Best is trial#15 with value: 0.5618212062602559.\n",
      "[I 2020-05-16 14:03:44,042] Finished trial#23 with value: 0.5567354330979677 with parameters: {'loo__sigma': 0.09395224197212487, 'rf__max_depth': 39, 'rf__max_features': 68, 'rf__min_samples_leaf': 5}. Best is trial#15 with value: 0.5618212062602559.\n",
      "[I 2020-05-16 14:03:57,703] Finished trial#26 with value: 0.5283772369930345 with parameters: {'loo__sigma': 0.08452922353918246, 'rf__max_depth': 2, 'rf__max_features': 181, 'rf__min_samples_leaf': 12}. Best is trial#15 with value: 0.5618212062602559.\n",
      "[I 2020-05-16 14:03:58,373] Finished trial#25 with value: 0.5497183504436667 with parameters: {'loo__sigma': 0.06585397953068453, 'rf__max_depth': 3, 'rf__max_features': 77, 'rf__min_samples_leaf': 4}. Best is trial#15 with value: 0.5618212062602559.\n",
      "[I 2020-05-16 14:03:58,796] Finished trial#24 with value: 0.5575805033312563 with parameters: {'loo__sigma': 0.06441396166219976, 'rf__max_depth': 39, 'rf__max_features': 76, 'rf__min_samples_leaf': 15}. Best is trial#15 with value: 0.5618212062602559.\n",
      "[I 2020-05-16 14:04:06,903] Finished trial#27 with value: 0.5638662942954322 with parameters: {'loo__sigma': 0.08873581608858151, 'rf__max_depth': 3, 'rf__max_features': 194, 'rf__min_samples_leaf': 8}. Best is trial#27 with value: 0.5638662942954322.\n",
      "[I 2020-05-16 14:04:09,784] Finished trial#29 with value: 0.5638494723092216 with parameters: {'loo__sigma': 0.073364681439255, 'rf__max_depth': 3, 'rf__max_features': 204, 'rf__min_samples_leaf': 8}. Best is trial#27 with value: 0.5638662942954322.\n",
      "[I 2020-05-16 14:04:09,996] Finished trial#30 with value: 0.5626067455852181 with parameters: {'loo__sigma': 0.05241393390051289, 'rf__max_depth': 3, 'rf__max_features': 199, 'rf__min_samples_leaf': 7}. Best is trial#27 with value: 0.5638662942954322.\n",
      "[I 2020-05-16 14:04:10,190] Finished trial#28 with value: 0.5648196772881638 with parameters: {'loo__sigma': 0.08159474571203482, 'rf__max_depth': 4, 'rf__max_features': 180, 'rf__min_samples_leaf': 8}. Best is trial#28 with value: 0.5648196772881638.\n",
      "[I 2020-05-16 14:04:18,446] Finished trial#31 with value: 0.5640545399840554 with parameters: {'loo__sigma': 0.07408438839638991, 'rf__max_depth': 3, 'rf__max_features': 217, 'rf__min_samples_leaf': 8}. Best is trial#28 with value: 0.5648196772881638.\n"
     ]
    },
    {
     "name": "stderr",
     "output_type": "stream",
     "text": [
      "[I 2020-05-16 14:04:21,079] Finished trial#32 with value: 0.5610036901684856 with parameters: {'loo__sigma': 0.04528246865220672, 'rf__max_depth': 6, 'rf__max_features': 78, 'rf__min_samples_leaf': 8}. Best is trial#28 with value: 0.5648196772881638.\n",
      "[I 2020-05-16 14:04:30,040] Finished trial#33 with value: 0.5628098179066445 with parameters: {'loo__sigma': 0.08746514053802604, 'rf__max_depth': 6, 'rf__max_features': 127, 'rf__min_samples_leaf': 8}. Best is trial#28 with value: 0.5648196772881638.\n",
      "[I 2020-05-16 14:04:33,131] Finished trial#34 with value: 0.5617027649214765 with parameters: {'loo__sigma': 0.028902555581829175, 'rf__max_depth': 6, 'rf__max_features': 193, 'rf__min_samples_leaf': 8}. Best is trial#28 with value: 0.5648196772881638.\n",
      "[I 2020-05-16 14:04:44,965] Finished trial#35 with value: 0.5631992502191538 with parameters: {'loo__sigma': 0.02094576505466469, 'rf__max_depth': 5, 'rf__max_features': 203, 'rf__min_samples_leaf': 8}. Best is trial#28 with value: 0.5648196772881638.\n",
      "[I 2020-05-16 14:04:57,948] Finished trial#36 with value: 0.5625487622692404 with parameters: {'loo__sigma': 0.02450517555170529, 'rf__max_depth': 7, 'rf__max_features': 133, 'rf__min_samples_leaf': 7}. Best is trial#28 with value: 0.5648196772881638.\n",
      "[I 2020-05-16 14:05:03,021] Finished trial#38 with value: 0.5616832454504068 with parameters: {'loo__sigma': 0.028248511484159456, 'rf__max_depth': 6, 'rf__max_features': 133, 'rf__min_samples_leaf': 8}. Best is trial#28 with value: 0.5648196772881638.\n",
      "[I 2020-05-16 14:05:04,207] Finished trial#37 with value: 0.5609775988147525 with parameters: {'loo__sigma': 0.026316524077632585, 'rf__max_depth': 7, 'rf__max_features': 131, 'rf__min_samples_leaf': 8}. Best is trial#28 with value: 0.5648196772881638.\n",
      "[I 2020-05-16 14:05:09,001] Finished trial#41 with value: 0.5629843282075118 with parameters: {'loo__sigma': 0.022172168268228203, 'rf__max_depth': 5, 'rf__max_features': 203, 'rf__min_samples_leaf': 8}. Best is trial#28 with value: 0.5648196772881638.\n",
      "[I 2020-05-16 14:05:12,795] Finished trial#39 with value: 0.5616649401563544 with parameters: {'loo__sigma': 0.028780145488127403, 'rf__max_depth': 6, 'rf__max_features': 206, 'rf__min_samples_leaf': 8}. Best is trial#28 with value: 0.5648196772881638.\n",
      "[I 2020-05-16 14:05:19,789] Finished trial#40 with value: 0.5611760545958248 with parameters: {'loo__sigma': 0.025229220883555618, 'rf__max_depth': 7, 'rf__max_features': 196, 'rf__min_samples_leaf': 8}. Best is trial#28 with value: 0.5648196772881638.\n",
      "[I 2020-05-16 14:05:19,836] Finished trial#42 with value: 0.5631202206843883 with parameters: {'loo__sigma': 0.02148948660823747, 'rf__max_depth': 5, 'rf__max_features': 201, 'rf__min_samples_leaf': 8}. Best is trial#28 with value: 0.5648196772881638.\n",
      "[I 2020-05-16 14:05:24,072] Finished trial#43 with value: 0.5608918769861682 with parameters: {'loo__sigma': 0.019794715549926394, 'rf__max_depth': 6, 'rf__max_features': 215, 'rf__min_samples_leaf': 9}. Best is trial#28 with value: 0.5648196772881638.\n",
      "[I 2020-05-16 14:05:33,721] Finished trial#44 with value: 0.5612190092093428 with parameters: {'loo__sigma': 0.03688303861505364, 'rf__max_depth': 6, 'rf__max_features': 214, 'rf__min_samples_leaf': 8}. Best is trial#28 with value: 0.5648196772881638.\n",
      "[I 2020-05-16 14:05:38,175] Finished trial#45 with value: 0.56248549024157 with parameters: {'loo__sigma': 0.017638544365121425, 'rf__max_depth': 5, 'rf__max_features': 214, 'rf__min_samples_leaf': 9}. Best is trial#28 with value: 0.5648196772881638.\n",
      "[I 2020-05-16 14:05:42,335] Finished trial#46 with value: 0.5622247154439753 with parameters: {'loo__sigma': 0.017341937713244077, 'rf__max_depth': 5, 'rf__max_features': 218, 'rf__min_samples_leaf': 9}. Best is trial#28 with value: 0.5648196772881638.\n",
      "[I 2020-05-16 14:06:11,714] Finished trial#47 with value: 0.5579136350479209 with parameters: {'loo__sigma': 0.010968939481955485, 'rf__max_depth': 9, 'rf__max_features': 227, 'rf__min_samples_leaf': 10}. Best is trial#28 with value: 0.5648196772881638.\n",
      "[I 2020-05-16 14:06:27,896] Finished trial#48 with value: 0.5579061869557389 with parameters: {'loo__sigma': 0.01215087918749008, 'rf__max_depth': 10, 'rf__max_features': 226, 'rf__min_samples_leaf': 9}. Best is trial#28 with value: 0.5648196772881638.\n",
      "[I 2020-05-16 14:06:30,720] Finished trial#49 with value: 0.5578416964979349 with parameters: {'loo__sigma': 0.013102766993175289, 'rf__max_depth': 10, 'rf__max_features': 224, 'rf__min_samples_leaf': 10}. Best is trial#28 with value: 0.5648196772881638.\n",
      "[I 2020-05-16 14:06:32,546] Finished trial#50 with value: 0.5582751167968727 with parameters: {'loo__sigma': 0.010849517008416635, 'rf__max_depth': 10, 'rf__max_features': 227, 'rf__min_samples_leaf': 10}. Best is trial#28 with value: 0.5648196772881638.\n",
      "[I 2020-05-16 14:06:39,076] Finished trial#51 with value: 0.5573170617234102 with parameters: {'loo__sigma': 0.008284096480747788, 'rf__max_depth': 10, 'rf__max_features': 225, 'rf__min_samples_leaf': 10}. Best is trial#28 with value: 0.5648196772881638.\n",
      "[I 2020-05-16 14:06:42,910] Finished trial#52 with value: 0.5577013656400347 with parameters: {'loo__sigma': 0.012149241596951372, 'rf__max_depth': 10, 'rf__max_features': 233, 'rf__min_samples_leaf': 10}. Best is trial#28 with value: 0.5648196772881638.\n",
      "[I 2020-05-16 14:06:46,972] Finished trial#53 with value: 0.5587501473393879 with parameters: {'loo__sigma': 0.011120145317581636, 'rf__max_depth': 9, 'rf__max_features': 229, 'rf__min_samples_leaf': 9}. Best is trial#28 with value: 0.5648196772881638.\n",
      "[I 2020-05-16 14:06:51,212] Finished trial#54 with value: 0.5583083693704198 with parameters: {'loo__sigma': 0.011517236488236946, 'rf__max_depth': 10, 'rf__max_features': 229, 'rf__min_samples_leaf': 10}. Best is trial#28 with value: 0.5648196772881638.\n",
      "[I 2020-05-16 14:06:54,381] Finished trial#55 with value: 0.5581933907477358 with parameters: {'loo__sigma': 0.00981119325746254, 'rf__max_depth': 10, 'rf__max_features': 238, 'rf__min_samples_leaf': 10}. Best is trial#28 with value: 0.5648196772881638.\n",
      "[I 2020-05-16 14:06:59,143] Finished trial#56 with value: 0.5575135254664226 with parameters: {'loo__sigma': 0.00819405502329693, 'rf__max_depth': 9, 'rf__max_features': 239, 'rf__min_samples_leaf': 10}. Best is trial#28 with value: 0.5648196772881638.\n",
      "[I 2020-05-16 14:07:01,944] Finished trial#57 with value: 0.557295383660869 with parameters: {'loo__sigma': 0.010157181651298747, 'rf__max_depth': 10, 'rf__max_features': 245, 'rf__min_samples_leaf': 10}. Best is trial#28 with value: 0.5648196772881638.\n",
      "[I 2020-05-16 14:07:05,512] Finished trial#58 with value: 0.5576774072007548 with parameters: {'loo__sigma': 0.011387955756047232, 'rf__max_depth': 10, 'rf__max_features': 237, 'rf__min_samples_leaf': 10}. Best is trial#28 with value: 0.5648196772881638.\n",
      "[I 2020-05-16 14:07:08,991] Finished trial#59 with value: 0.557116736265696 with parameters: {'loo__sigma': 0.008213450769864109, 'rf__max_depth': 2, 'rf__max_features': 254, 'rf__min_samples_leaf': 10}. Best is trial#28 with value: 0.5648196772881638.\n",
      "[I 2020-05-16 14:07:20,897] Finished trial#62 with value: 0.5567988960354204 with parameters: {'loo__sigma': 0.007223421350117252, 'rf__max_depth': 2, 'rf__max_features': 241, 'rf__min_samples_leaf': 7}. Best is trial#28 with value: 0.5648196772881638.\n",
      "[I 2020-05-16 14:07:21,646] Finished trial#60 with value: 0.5567344434564874 with parameters: {'loo__sigma': 0.005530588596320193, 'rf__max_depth': 2, 'rf__max_features': 247, 'rf__min_samples_leaf': 10}. Best is trial#28 with value: 0.5648196772881638.\n",
      "[I 2020-05-16 14:07:21,838] Finished trial#61 with value: 0.5569577386064133 with parameters: {'loo__sigma': 0.00611511368578205, 'rf__max_depth': 2, 'rf__max_features': 254, 'rf__min_samples_leaf': 7}. Best is trial#28 with value: 0.5648196772881638.\n",
      "[I 2020-05-16 14:07:26,684] Finished trial#63 with value: 0.5318784050595321 with parameters: {'loo__sigma': 0.09897590225958708, 'rf__max_depth': 2, 'rf__max_features': 248, 'rf__min_samples_leaf': 7}. Best is trial#28 with value: 0.5648196772881638.\n"
     ]
    },
    {
     "name": "stderr",
     "output_type": "stream",
     "text": [
      "[I 2020-05-16 14:07:33,992] Finished trial#64 with value: 0.5625681781445089 with parameters: {'loo__sigma': 0.050501063869844376, 'rf__max_depth': 3, 'rf__max_features': 249, 'rf__min_samples_leaf': 7}. Best is trial#28 with value: 0.5648196772881638.\n",
      "[I 2020-05-16 14:07:35,832] Finished trial#65 with value: 0.5628693228700768 with parameters: {'loo__sigma': 0.00388392174696119, 'rf__max_depth': 3, 'rf__max_features': 150, 'rf__min_samples_leaf': 7}. Best is trial#28 with value: 0.5648196772881638.\n",
      "[I 2020-05-16 14:07:41,751] Finished trial#66 with value: 0.22079600711054378 with parameters: {'loo__sigma': 1.0540444097081543e-05, 'rf__max_depth': 3, 'rf__max_features': 245, 'rf__min_samples_leaf': 7}. Best is trial#28 with value: 0.5648196772881638.\n",
      "[I 2020-05-16 14:07:44,627] Finished trial#67 with value: 0.556544481287643 with parameters: {'loo__sigma': 0.004029917230939615, 'rf__max_depth': 2, 'rf__max_features': 247, 'rf__min_samples_leaf': 7}. Best is trial#28 with value: 0.5648196772881638.\n",
      "[I 2020-05-16 14:07:46,321] Finished trial#68 with value: 0.5624536429704248 with parameters: {'loo__sigma': 0.0047924167360582776, 'rf__max_depth': 3, 'rf__max_features': 256, 'rf__min_samples_leaf': 7}. Best is trial#28 with value: 0.5648196772881638.\n",
      "[I 2020-05-16 14:07:51,534] Finished trial#69 with value: 0.5639759703109245 with parameters: {'loo__sigma': 0.004088347910526869, 'rf__max_depth': 4, 'rf__max_features': 151, 'rf__min_samples_leaf': 7}. Best is trial#28 with value: 0.5648196772881638.\n",
      "[I 2020-05-16 14:07:55,950] Finished trial#70 with value: 0.3993983794038181 with parameters: {'loo__sigma': 1.0977159778953313e-05, 'rf__max_depth': 3, 'rf__max_features': 149, 'rf__min_samples_leaf': 7}. Best is trial#28 with value: 0.5648196772881638.\n",
      "[I 2020-05-16 14:07:56,178] Finished trial#71 with value: 0.562868932069098 with parameters: {'loo__sigma': 0.004179989828330279, 'rf__max_depth': 3, 'rf__max_features': 163, 'rf__min_samples_leaf': 7}. Best is trial#28 with value: 0.5648196772881638.\n",
      "[I 2020-05-16 14:08:13,255] Finished trial#72 with value: 0.5644324817769729 with parameters: {'loo__sigma': 0.003337391599732661, 'rf__max_depth': 4, 'rf__max_features': 155, 'rf__min_samples_leaf': 6}. Best is trial#28 with value: 0.5648196772881638.\n",
      "[I 2020-05-16 14:08:13,844] Finished trial#74 with value: 0.5648669758577982 with parameters: {'loo__sigma': 0.00399670866829076, 'rf__max_depth': 4, 'rf__max_features': 150, 'rf__min_samples_leaf': 6}. Best is trial#74 with value: 0.5648669758577982.\n",
      "[I 2020-05-16 14:08:14,469] Finished trial#73 with value: 0.5646588279485354 with parameters: {'loo__sigma': 0.003874297588484578, 'rf__max_depth': 4, 'rf__max_features': 177, 'rf__min_samples_leaf': 6}. Best is trial#74 with value: 0.5648669758577982.\n",
      "[I 2020-05-16 14:08:17,972] Finished trial#75 with value: 0.5647686409298436 with parameters: {'loo__sigma': 0.04955475451849609, 'rf__max_depth': 4, 'rf__max_features': 158, 'rf__min_samples_leaf': 6}. Best is trial#74 with value: 0.5648669758577982.\n",
      "[I 2020-05-16 14:08:31,546] Finished trial#76 with value: 0.5643541586419059 with parameters: {'loo__sigma': 0.003622017922037577, 'rf__max_depth': 5, 'rf__max_features': 154, 'rf__min_samples_leaf': 6}. Best is trial#74 with value: 0.5648669758577982.\n",
      "[I 2020-05-16 14:08:34,567] Finished trial#78 with value: 0.5659323385295543 with parameters: {'loo__sigma': 0.055123861810192125, 'rf__max_depth': 4, 'rf__max_features': 178, 'rf__min_samples_leaf': 6}. Best is trial#78 with value: 0.5659323385295543.\n",
      "[I 2020-05-16 14:08:39,095] Finished trial#79 with value: 0.5638545738904798 with parameters: {'loo__sigma': 0.03901155695799195, 'rf__max_depth': 4, 'rf__max_features': 181, 'rf__min_samples_leaf': 6}. Best is trial#78 with value: 0.5659323385295543.\n",
      "[I 2020-05-16 14:08:39,628] Finished trial#80 with value: 0.5659349307894198 with parameters: {'loo__sigma': 0.05632215453758545, 'rf__max_depth': 4, 'rf__max_features': 181, 'rf__min_samples_leaf': 6}. Best is trial#80 with value: 0.5659349307894198.\n",
      "[I 2020-05-16 14:08:46,541] Finished trial#81 with value: 0.5658903090091941 with parameters: {'loo__sigma': 0.06105418367996212, 'rf__max_depth': 4, 'rf__max_features': 169, 'rf__min_samples_leaf': 6}. Best is trial#80 with value: 0.5659349307894198.\n",
      "[I 2020-05-16 14:08:47,523] Finished trial#77 with value: 0.5459698432067949 with parameters: {'loo__sigma': 0.0003487224297491737, 'rf__max_depth': 24, 'rf__max_features': 178, 'rf__min_samples_leaf': 6}. Best is trial#80 with value: 0.5659349307894198.\n",
      "[I 2020-05-16 14:08:51,608] Finished trial#83 with value: 0.5636394791333054 with parameters: {'loo__sigma': 0.03730851894604349, 'rf__max_depth': 4, 'rf__max_features': 183, 'rf__min_samples_leaf': 6}. Best is trial#80 with value: 0.5659349307894198.\n",
      "[I 2020-05-16 14:08:52,334] Finished trial#82 with value: 0.5636072671198794 with parameters: {'loo__sigma': 0.03964934118399352, 'rf__max_depth': 4, 'rf__max_features': 183, 'rf__min_samples_leaf': 6}. Best is trial#80 with value: 0.5659349307894198.\n",
      "[I 2020-05-16 14:09:10,044] Finished trial#85 with value: 0.5633194523967293 with parameters: {'loo__sigma': 0.00103178579718352, 'rf__max_depth': 4, 'rf__max_features': 182, 'rf__min_samples_leaf': 6}. Best is trial#80 with value: 0.5659349307894198.\n",
      "[I 2020-05-16 14:09:10,624] Finished trial#84 with value: 0.5613391199512295 with parameters: {'loo__sigma': 0.0005361502778395157, 'rf__max_depth': 4, 'rf__max_features': 180, 'rf__min_samples_leaf': 6}. Best is trial#80 with value: 0.5659349307894198.\n",
      "[I 2020-05-16 14:09:13,461] Finished trial#86 with value: 0.5634692254555611 with parameters: {'loo__sigma': 0.001190336143156266, 'rf__max_depth': 4, 'rf__max_features': 180, 'rf__min_samples_leaf': 6}. Best is trial#80 with value: 0.5659349307894198.\n",
      "[I 2020-05-16 14:09:17,034] Finished trial#87 with value: 0.5633753697213987 with parameters: {'loo__sigma': 0.0011444678680513985, 'rf__max_depth': 4, 'rf__max_features': 180, 'rf__min_samples_leaf': 6}. Best is trial#80 with value: 0.5659349307894198.\n",
      "[I 2020-05-16 14:09:45,563] Finished trial#89 with value: 0.552938836186079 with parameters: {'loo__sigma': 0.00037048909694026343, 'rf__max_depth': 8, 'rf__max_features': 184, 'rf__min_samples_leaf': 6}. Best is trial#80 with value: 0.5659349307894198.\n",
      "[I 2020-05-16 14:09:47,595] Finished trial#93 with value: 0.5635578584708716 with parameters: {'loo__sigma': 0.0016891794406426184, 'rf__max_depth': 4, 'rf__max_features': 171, 'rf__min_samples_leaf': 6}. Best is trial#80 with value: 0.5659349307894198.\n",
      "[I 2020-05-16 14:09:49,416] Finished trial#88 with value: 0.5553753792388159 with parameters: {'loo__sigma': 0.0015297986389225643, 'rf__max_depth': 25, 'rf__max_features': 181, 'rf__min_samples_leaf': 6}. Best is trial#80 with value: 0.5659349307894198.\n",
      "[I 2020-05-16 14:09:56,418] Finished trial#90 with value: 0.5565929058915454 with parameters: {'loo__sigma': 0.0015707126129904175, 'rf__max_depth': 14, 'rf__max_features': 170, 'rf__min_samples_leaf': 6}. Best is trial#80 with value: 0.5659349307894198.\n",
      "[I 2020-05-16 14:09:58,052] Finished trial#92 with value: 0.5628382307961874 with parameters: {'loo__sigma': 0.002618271917476927, 'rf__max_depth': 8, 'rf__max_features': 175, 'rf__min_samples_leaf': 4}. Best is trial#80 with value: 0.5659349307894198.\n",
      "[I 2020-05-16 14:09:58,783] Finished trial#91 with value: 0.5540415516269814 with parameters: {'loo__sigma': 0.0013306522949960058, 'rf__max_depth': 25, 'rf__max_features': 171, 'rf__min_samples_leaf': 4}. Best is trial#80 with value: 0.5659349307894198.\n",
      "[I 2020-05-16 14:09:59,342] Finished trial#94 with value: 0.5621022036847613 with parameters: {'loo__sigma': 0.001459492027619797, 'rf__max_depth': 8, 'rf__max_features': 115, 'rf__min_samples_leaf': 4}. Best is trial#80 with value: 0.5659349307894198.\n",
      "[I 2020-05-16 14:10:00,602] Finished trial#95 with value: 0.562217059871009 with parameters: {'loo__sigma': 0.001166496866063475, 'rf__max_depth': 8, 'rf__max_features': 113, 'rf__min_samples_leaf': 4}. Best is trial#80 with value: 0.5659349307894198.\n"
     ]
    },
    {
     "name": "stderr",
     "output_type": "stream",
     "text": [
      "[I 2020-05-16 14:10:17,778] Finished trial#97 with value: 0.5624133671600101 with parameters: {'loo__sigma': 0.0015023039236827, 'rf__max_depth': 8, 'rf__max_features': 110, 'rf__min_samples_leaf': 4}. Best is trial#80 with value: 0.5659349307894198.\n",
      "[I 2020-05-16 14:10:18,090] Finished trial#96 with value: 0.5632266735603364 with parameters: {'loo__sigma': 0.002645465288377011, 'rf__max_depth': 8, 'rf__max_features': 112, 'rf__min_samples_leaf': 4}. Best is trial#80 with value: 0.5659349307894198.\n",
      "[I 2020-05-16 14:10:19,035] Finished trial#98 with value: 0.5624178586055498 with parameters: {'loo__sigma': 0.0029615968545737364, 'rf__max_depth': 8, 'rf__max_features': 113, 'rf__min_samples_leaf': 4}. Best is trial#80 with value: 0.5659349307894198.\n",
      "[I 2020-05-16 14:10:19,555] Finished trial#99 with value: 0.5624669949982322 with parameters: {'loo__sigma': 0.0017271458836475848, 'rf__max_depth': 8, 'rf__max_features': 118, 'rf__min_samples_leaf': 4}. Best is trial#80 with value: 0.5659349307894198.\n",
      "[I 2020-05-16 14:10:52,581] Finished trial#101 with value: 0.563698713661961 with parameters: {'loo__sigma': 0.00272018861967866, 'rf__max_depth': 8, 'rf__max_features': 117, 'rf__min_samples_leaf': 4}. Best is trial#80 with value: 0.5659349307894198.\n",
      "[I 2020-05-16 14:10:52,693] Finished trial#100 with value: 0.5612485113787484 with parameters: {'loo__sigma': 0.001645898414707354, 'rf__max_depth': 8, 'rf__max_features': 170, 'rf__min_samples_leaf': 4}. Best is trial#80 with value: 0.5659349307894198.\n",
      "[I 2020-05-16 14:10:53,087] Finished trial#102 with value: 0.5627587566768943 with parameters: {'loo__sigma': 0.0028471754361234954, 'rf__max_depth': 8, 'rf__max_features': 117, 'rf__min_samples_leaf': 5}. Best is trial#80 with value: 0.5659349307894198.\n",
      "[I 2020-05-16 14:10:58,905] Finished trial#104 with value: 0.564504023797293 with parameters: {'loo__sigma': 0.058415238306362374, 'rf__max_depth': 7, 'rf__max_features': 121, 'rf__min_samples_leaf': 5}. Best is trial#80 with value: 0.5659349307894198.\n",
      "[I 2020-05-16 14:10:59,153] Finished trial#103 with value: 0.5631632372229705 with parameters: {'loo__sigma': 0.002479325025971331, 'rf__max_depth': 8, 'rf__max_features': 112, 'rf__min_samples_leaf': 5}. Best is trial#80 with value: 0.5659349307894198.\n",
      "[I 2020-05-16 14:10:59,249] Finished trial#105 with value: 0.5644218107774281 with parameters: {'loo__sigma': 0.054787159042647096, 'rf__max_depth': 7, 'rf__max_features': 117, 'rf__min_samples_leaf': 5}. Best is trial#80 with value: 0.5659349307894198.\n",
      "[I 2020-05-16 14:11:02,364] Finished trial#106 with value: 0.5650289793753129 with parameters: {'loo__sigma': 0.0598083692878329, 'rf__max_depth': 7, 'rf__max_features': 156, 'rf__min_samples_leaf': 5}. Best is trial#80 with value: 0.5659349307894198.\n",
      "[I 2020-05-16 14:11:03,385] Finished trial#107 with value: 0.5651360534819041 with parameters: {'loo__sigma': 0.0613136320459167, 'rf__max_depth': 7, 'rf__max_features': 155, 'rf__min_samples_leaf': 5}. Best is trial#80 with value: 0.5659349307894198.\n",
      "[I 2020-05-16 14:11:15,725] Finished trial#108 with value: 0.5643954103937496 with parameters: {'loo__sigma': 0.05347011571312132, 'rf__max_depth': 7, 'rf__max_features': 157, 'rf__min_samples_leaf': 5}. Best is trial#80 with value: 0.5659349307894198.\n",
      "[I 2020-05-16 14:11:19,381] Finished trial#111 with value: 0.5663046298772493 with parameters: {'loo__sigma': 0.05322267582186902, 'rf__max_depth': 5, 'rf__max_features': 155, 'rf__min_samples_leaf': 5}. Best is trial#111 with value: 0.5663046298772493.\n",
      "[I 2020-05-16 14:11:20,211] Finished trial#109 with value: 0.5651306751086824 with parameters: {'loo__sigma': 0.054212681584089095, 'rf__max_depth': 7, 'rf__max_features': 142, 'rf__min_samples_leaf': 5}. Best is trial#111 with value: 0.5663046298772493.\n",
      "[I 2020-05-16 14:11:21,816] Finished trial#110 with value: 0.564766991786352 with parameters: {'loo__sigma': 0.06474172659744067, 'rf__max_depth': 7, 'rf__max_features': 158, 'rf__min_samples_leaf': 5}. Best is trial#111 with value: 0.5663046298772493.\n",
      "[I 2020-05-16 14:11:49,615] Finished trial#114 with value: 0.5658289096667934 with parameters: {'loo__sigma': 0.0597598017043995, 'rf__max_depth': 5, 'rf__max_features': 154, 'rf__min_samples_leaf': 6}. Best is trial#111 with value: 0.5663046298772493.\n",
      "[I 2020-05-16 14:11:49,680] Finished trial#112 with value: 0.5663774893747493 with parameters: {'loo__sigma': 0.06313484178018455, 'rf__max_depth': 5, 'rf__max_features': 152, 'rf__min_samples_leaf': 5}. Best is trial#112 with value: 0.5663774893747493.\n",
      "[I 2020-05-16 14:11:49,855] Finished trial#113 with value: 0.5664329341963392 with parameters: {'loo__sigma': 0.05899908193697455, 'rf__max_depth': 5, 'rf__max_features': 151, 'rf__min_samples_leaf': 5}. Best is trial#113 with value: 0.5664329341963392.\n",
      "[I 2020-05-16 14:11:54,890] Finished trial#116 with value: 0.5650583886580376 with parameters: {'loo__sigma': 0.058233661677878065, 'rf__max_depth': 5, 'rf__max_features': 96, 'rf__min_samples_leaf': 5}. Best is trial#113 with value: 0.5664329341963392.\n",
      "[I 2020-05-16 14:11:55,772] Finished trial#117 with value: 0.5648637190214074 with parameters: {'loo__sigma': 0.058751060670366825, 'rf__max_depth': 5, 'rf__max_features': 99, 'rf__min_samples_leaf': 5}. Best is trial#113 with value: 0.5664329341963392.\n",
      "[I 2020-05-16 14:11:55,853] Finished trial#115 with value: 0.5661475564277163 with parameters: {'loo__sigma': 0.0598322738049624, 'rf__max_depth': 5, 'rf__max_features': 156, 'rf__min_samples_leaf': 5}. Best is trial#113 with value: 0.5664329341963392.\n",
      "[I 2020-05-16 14:12:01,584] Finished trial#118 with value: 0.5657787315845088 with parameters: {'loo__sigma': 0.06821346222955428, 'rf__max_depth': 6, 'rf__max_features': 140, 'rf__min_samples_leaf': 5}. Best is trial#113 with value: 0.5664329341963392.\n",
      "[I 2020-05-16 14:12:13,029] Finished trial#119 with value: 0.5601653065174825 with parameters: {'loo__sigma': 0.06254407378247957, 'rf__max_depth': 12, 'rf__max_features': 142, 'rf__min_samples_leaf': 5}. Best is trial#113 with value: 0.5664329341963392.\n",
      "[I 2020-05-16 14:12:18,145] Finished trial#120 with value: 0.5659682009340212 with parameters: {'loo__sigma': 0.06399915375210571, 'rf__max_depth': 6, 'rf__max_features': 142, 'rf__min_samples_leaf': 5}. Best is trial#113 with value: 0.5664329341963392.\n",
      "[I 2020-05-16 14:12:21,250] Finished trial#123 with value: 0.5660940262818747 with parameters: {'loo__sigma': 0.076542730864448, 'rf__max_depth': 5, 'rf__max_features': 141, 'rf__min_samples_leaf': 3}. Best is trial#113 with value: 0.5664329341963392.\n",
      "[I 2020-05-16 14:12:31,136] Finished trial#121 with value: 0.559602021712948 with parameters: {'loo__sigma': 0.05877760061833838, 'rf__max_depth': 12, 'rf__max_features': 142, 'rf__min_samples_leaf': 3}. Best is trial#113 with value: 0.5664329341963392.\n",
      "[I 2020-05-16 14:12:31,388] Finished trial#122 with value: 0.5595418990339814 with parameters: {'loo__sigma': 0.06581957529224043, 'rf__max_depth': 12, 'rf__max_features': 145, 'rf__min_samples_leaf': 3}. Best is trial#113 with value: 0.5664329341963392.\n",
      "[I 2020-05-16 14:12:49,346] Finished trial#126 with value: 0.5660777393473791 with parameters: {'loo__sigma': 0.07970159021699327, 'rf__max_depth': 6, 'rf__max_features': 139, 'rf__min_samples_leaf': 5}. Best is trial#113 with value: 0.5664329341963392.\n",
      "[I 2020-05-16 14:12:49,844] Finished trial#124 with value: 0.565514205252804 with parameters: {'loo__sigma': 0.09796785088778635, 'rf__max_depth': 6, 'rf__max_features': 139, 'rf__min_samples_leaf': 3}. Best is trial#113 with value: 0.5664329341963392.\n",
      "[I 2020-05-16 14:12:58,818] Finished trial#129 with value: 0.5638941069077269 with parameters: {'loo__sigma': 0.031595207261169614, 'rf__max_depth': 6, 'rf__max_features': 140, 'rf__min_samples_leaf': 5}. Best is trial#113 with value: 0.5664329341963392.\n",
      "[I 2020-05-16 14:12:59,299] Finished trial#127 with value: 0.5646689964809989 with parameters: {'loo__sigma': 0.030961336845675393, 'rf__max_depth': 6, 'rf__max_features': 146, 'rf__min_samples_leaf': 3}. Best is trial#113 with value: 0.5664329341963392.\n"
     ]
    },
    {
     "name": "stderr",
     "output_type": "stream",
     "text": [
      "[I 2020-05-16 14:13:00,365] Finished trial#125 with value: 0.5589751712630475 with parameters: {'loo__sigma': 0.08060012552371003, 'rf__max_depth': 12, 'rf__max_features': 141, 'rf__min_samples_leaf': 3}. Best is trial#113 with value: 0.5664329341963392.\n",
      "[I 2020-05-16 14:13:02,061] Finished trial#130 with value: 0.5646845069518449 with parameters: {'loo__sigma': 0.03196938318740227, 'rf__max_depth': 6, 'rf__max_features': 142, 'rf__min_samples_leaf': 3}. Best is trial#113 with value: 0.5664329341963392.\n",
      "[I 2020-05-16 14:13:07,476] Finished trial#128 with value: 0.5586307566675242 with parameters: {'loo__sigma': 0.09809709964304149, 'rf__max_depth': 12, 'rf__max_features': 141, 'rf__min_samples_leaf': 3}. Best is trial#113 with value: 0.5664329341963392.\n",
      "[I 2020-05-16 14:13:12,736] Finished trial#131 with value: 0.565503481952297 with parameters: {'loo__sigma': 0.0969805931563049, 'rf__max_depth': 6, 'rf__max_features': 139, 'rf__min_samples_leaf': 5}. Best is trial#113 with value: 0.5664329341963392.\n",
      "[I 2020-05-16 14:13:19,666] Finished trial#132 with value: 0.5659670652505295 with parameters: {'loo__sigma': 0.08045400642186813, 'rf__max_depth': 6, 'rf__max_features': 142, 'rf__min_samples_leaf': 3}. Best is trial#113 with value: 0.5664329341963392.\n",
      "[I 2020-05-16 14:13:21,926] Finished trial#133 with value: 0.566093244121425 with parameters: {'loo__sigma': 0.0997911963279165, 'rf__max_depth': 5, 'rf__max_features': 141, 'rf__min_samples_leaf': 2}. Best is trial#113 with value: 0.5664329341963392.\n",
      "[I 2020-05-16 14:13:31,038] Finished trial#134 with value: 0.565638379211463 with parameters: {'loo__sigma': 0.09795963572994866, 'rf__max_depth': 6, 'rf__max_features': 137, 'rf__min_samples_leaf': 5}. Best is trial#113 with value: 0.5664329341963392.\n",
      "[I 2020-05-16 14:13:31,244] Finished trial#135 with value: 0.5654436410131959 with parameters: {'loo__sigma': 0.09108878696877823, 'rf__max_depth': 6, 'rf__max_features': 138, 'rf__min_samples_leaf': 3}. Best is trial#113 with value: 0.5664329341963392.\n",
      "[I 2020-05-16 14:13:45,393] Finished trial#137 with value: 0.5664177821057631 with parameters: {'loo__sigma': 0.09490732233088628, 'rf__max_depth': 5, 'rf__max_features': 135, 'rf__min_samples_leaf': 2}. Best is trial#113 with value: 0.5664329341963392.\n",
      "[I 2020-05-16 14:13:46,459] Finished trial#136 with value: 0.5660518393680449 with parameters: {'loo__sigma': 0.0952656536437341, 'rf__max_depth': 6, 'rf__max_features': 137, 'rf__min_samples_leaf': 2}. Best is trial#113 with value: 0.5664329341963392.\n",
      "[I 2020-05-16 14:13:56,149] Finished trial#141 with value: 0.5663440057503972 with parameters: {'loo__sigma': 0.09710369826620184, 'rf__max_depth': 5, 'rf__max_features': 129, 'rf__min_samples_leaf': 2}. Best is trial#113 with value: 0.5664329341963392.\n",
      "[I 2020-05-16 14:13:56,661] Finished trial#138 with value: 0.5659455158077072 with parameters: {'loo__sigma': 0.09936828152866334, 'rf__max_depth': 6, 'rf__max_features': 135, 'rf__min_samples_leaf': 3}. Best is trial#113 with value: 0.5664329341963392.\n",
      "[I 2020-05-16 14:13:56,736] Finished trial#140 with value: 0.565220911069305 with parameters: {'loo__sigma': 0.09965655836477728, 'rf__max_depth': 6, 'rf__max_features': 131, 'rf__min_samples_leaf': 2}. Best is trial#113 with value: 0.5664329341963392.\n",
      "[I 2020-05-16 14:14:04,579] Finished trial#142 with value: 0.5658372707342889 with parameters: {'loo__sigma': 0.045632086296253725, 'rf__max_depth': 5, 'rf__max_features': 129, 'rf__min_samples_leaf': 2}. Best is trial#113 with value: 0.5664329341963392.\n",
      "[I 2020-05-16 14:14:07,356] Finished trial#143 with value: 0.5653528105362066 with parameters: {'loo__sigma': 0.04212318647213542, 'rf__max_depth': 5, 'rf__max_features': 128, 'rf__min_samples_leaf': 2}. Best is trial#113 with value: 0.5664329341963392.\n",
      "[I 2020-05-16 14:14:16,692] Finished trial#144 with value: 0.565516089648509 with parameters: {'loo__sigma': 0.04251077374840283, 'rf__max_depth': 5, 'rf__max_features': 125, 'rf__min_samples_leaf': 2}. Best is trial#113 with value: 0.5664329341963392.\n",
      "[I 2020-05-16 14:14:17,385] Finished trial#139 with value: 0.5518976293392865 with parameters: {'loo__sigma': 0.09539482101116062, 'rf__max_depth': 35, 'rf__max_features': 135, 'rf__min_samples_leaf': 2}. Best is trial#113 with value: 0.5664329341963392.\n",
      "[I 2020-05-16 14:14:18,567] Finished trial#145 with value: 0.5654720158191947 with parameters: {'loo__sigma': 0.044407306661582685, 'rf__max_depth': 5, 'rf__max_features': 127, 'rf__min_samples_leaf': 2}. Best is trial#113 with value: 0.5664329341963392.\n",
      "[I 2020-05-16 14:14:28,974] Finished trial#147 with value: 0.5653502203272561 with parameters: {'loo__sigma': 0.04397380481945111, 'rf__max_depth': 5, 'rf__max_features': 128, 'rf__min_samples_leaf': 2}. Best is trial#113 with value: 0.5664329341963392.\n",
      "[I 2020-05-16 14:14:29,032] Finished trial#146 with value: 0.5654727675197669 with parameters: {'loo__sigma': 0.04681557744559633, 'rf__max_depth': 5, 'rf__max_features': 126, 'rf__min_samples_leaf': 2}. Best is trial#113 with value: 0.5664329341963392.\n",
      "[I 2020-05-16 14:14:42,084] Finished trial#148 with value: 0.5662515201571688 with parameters: {'loo__sigma': 0.04360069930114533, 'rf__max_depth': 5, 'rf__max_features': 164, 'rf__min_samples_leaf': 2}. Best is trial#113 with value: 0.5664329341963392.\n",
      "[I 2020-05-16 14:14:46,001] Finished trial#149 with value: 0.5654871067801741 with parameters: {'loo__sigma': 0.04040856771537245, 'rf__max_depth': 5, 'rf__max_features': 130, 'rf__min_samples_leaf': 2}. Best is trial#113 with value: 0.5664329341963392.\n",
      "[I 2020-05-16 14:14:53,642] Finished trial#151 with value: 0.5653145700565438 with parameters: {'loo__sigma': 0.043351505672268434, 'rf__max_depth': 5, 'rf__max_features': 124, 'rf__min_samples_leaf': 2}. Best is trial#113 with value: 0.5664329341963392.\n",
      "[I 2020-05-16 14:14:57,623] Finished trial#150 with value: 0.5661768940661123 with parameters: {'loo__sigma': 0.07794789509176853, 'rf__max_depth': 5, 'rf__max_features': 129, 'rf__min_samples_leaf': 2}. Best is trial#113 with value: 0.5664329341963392.\n",
      "[I 2020-05-16 14:15:01,708] Finished trial#152 with value: 0.5657612631838517 with parameters: {'loo__sigma': 0.0417986951760207, 'rf__max_depth': 5, 'rf__max_features': 163, 'rf__min_samples_leaf': 2}. Best is trial#113 with value: 0.5664329341963392.\n",
      "[I 2020-05-16 14:15:06,122] Finished trial#154 with value: 0.5611336982521593 with parameters: {'loo__sigma': 0.0788197637475539, 'rf__max_depth': 3, 'rf__max_features': 124, 'rf__min_samples_leaf': 1}. Best is trial#113 with value: 0.5664329341963392.\n",
      "[I 2020-05-16 14:15:10,992] Finished trial#156 with value: 0.5634312956679508 with parameters: {'loo__sigma': 0.07828215800288504, 'rf__max_depth': 3, 'rf__max_features': 162, 'rf__min_samples_leaf': 1}. Best is trial#113 with value: 0.5664329341963392.\n",
      "[I 2020-05-16 14:15:11,424] Finished trial#157 with value: 0.5635643902363736 with parameters: {'loo__sigma': 0.07857945042659656, 'rf__max_depth': 3, 'rf__max_features': 163, 'rf__min_samples_leaf': 1}. Best is trial#113 with value: 0.5664329341963392.\n",
      "[I 2020-05-16 14:15:22,621] Finished trial#158 with value: 0.562475169037887 with parameters: {'loo__sigma': 0.07929446871487632, 'rf__max_depth': 3, 'rf__max_features': 150, 'rf__min_samples_leaf': 3}. Best is trial#113 with value: 0.5664329341963392.\n",
      "[I 2020-05-16 14:15:31,390] Finished trial#153 with value: 0.548859538978526 with parameters: {'loo__sigma': 0.079360432736846, 'rf__max_depth': 35, 'rf__max_features': 163, 'rf__min_samples_leaf': 1}. Best is trial#113 with value: 0.5664329341963392.\n",
      "[I 2020-05-16 14:15:41,136] Finished trial#161 with value: 0.56292231262393 with parameters: {'loo__sigma': 0.07741411280221237, 'rf__max_depth': 3, 'rf__max_features': 149, 'rf__min_samples_leaf': 1}. Best is trial#113 with value: 0.5664329341963392.\n",
      "[I 2020-05-16 14:15:42,482] Finished trial#160 with value: 0.5623733932104532 with parameters: {'loo__sigma': 0.08128375796520686, 'rf__max_depth': 3, 'rf__max_features': 149, 'rf__min_samples_leaf': 2}. Best is trial#113 with value: 0.5664329341963392.\n"
     ]
    },
    {
     "name": "stderr",
     "output_type": "stream",
     "text": [
      "[I 2020-05-16 14:15:44,642] Finished trial#155 with value: 0.5493501564603454 with parameters: {'loo__sigma': 0.07813783671839772, 'rf__max_depth': 35, 'rf__max_features': 163, 'rf__min_samples_leaf': 1}. Best is trial#113 with value: 0.5664329341963392.\n",
      "[I 2020-05-16 14:15:52,036] Finished trial#162 with value: 0.5635796762497933 with parameters: {'loo__sigma': 0.07527445273336349, 'rf__max_depth': 3, 'rf__max_features': 164, 'rf__min_samples_leaf': 1}. Best is trial#113 with value: 0.5664329341963392.\n",
      "[I 2020-05-16 14:15:53,291] Finished trial#159 with value: 0.5510052213310409 with parameters: {'loo__sigma': 0.07773778399626277, 'rf__max_depth': 19, 'rf__max_features': 163, 'rf__min_samples_leaf': 1}. Best is trial#113 with value: 0.5664329341963392.\n",
      "[I 2020-05-16 14:15:55,513] Finished trial#163 with value: 0.5636307737233277 with parameters: {'loo__sigma': 0.07802634213466741, 'rf__max_depth': 3, 'rf__max_features': 164, 'rf__min_samples_leaf': 1}. Best is trial#113 with value: 0.5664329341963392.\n",
      "[I 2020-05-16 14:15:59,764] Finished trial#165 with value: 0.5634702186987874 with parameters: {'loo__sigma': 0.07805686182514486, 'rf__max_depth': 3, 'rf__max_features': 162, 'rf__min_samples_leaf': 1}. Best is trial#113 with value: 0.5664329341963392.\n",
      "[I 2020-05-16 14:16:00,494] Finished trial#164 with value: 0.563619345617085 with parameters: {'loo__sigma': 0.07571211567605608, 'rf__max_depth': 3, 'rf__max_features': 164, 'rf__min_samples_leaf': 1}. Best is trial#113 with value: 0.5664329341963392.\n",
      "[I 2020-05-16 14:16:03,124] Finished trial#166 with value: 0.525305815459616 with parameters: {'loo__sigma': 0.07699886089680724, 'rf__max_depth': 2, 'rf__max_features': 150, 'rf__min_samples_leaf': 1}. Best is trial#113 with value: 0.5664329341963392.\n",
      "[I 2020-05-16 14:16:23,836] Finished trial#169 with value: 0.5234455919249956 with parameters: {'loo__sigma': 0.07576537746979849, 'rf__max_depth': 2, 'rf__max_features': 146, 'rf__min_samples_leaf': 1}. Best is trial#113 with value: 0.5664329341963392.\n",
      "[I 2020-05-16 14:16:34,655] Finished trial#167 with value: 0.5518983282076966 with parameters: {'loo__sigma': 0.08983071017085692, 'rf__max_depth': 19, 'rf__max_features': 148, 'rf__min_samples_leaf': 1}. Best is trial#113 with value: 0.5664329341963392.\n",
      "[I 2020-05-16 14:16:36,458] Finished trial#171 with value: 0.5107212377429683 with parameters: {'loo__sigma': 0.09805247860315043, 'rf__max_depth': 2, 'rf__max_features': 106, 'rf__min_samples_leaf': 3}. Best is trial#113 with value: 0.5664329341963392.\n",
      "[I 2020-05-16 14:16:37,035] Finished trial#170 with value: 0.529109605880895 with parameters: {'loo__sigma': 0.07409781998366538, 'rf__max_depth': 2, 'rf__max_features': 189, 'rf__min_samples_leaf': 2}. Best is trial#113 with value: 0.5664329341963392.\n",
      "[I 2020-05-16 14:16:46,922] Finished trial#168 with value: 0.5502707361992737 with parameters: {'loo__sigma': 0.07229551743580959, 'rf__max_depth': 19, 'rf__max_features': 149, 'rf__min_samples_leaf': 1}. Best is trial#113 with value: 0.5664329341963392.\n",
      "[I 2020-05-16 14:17:02,280] Finished trial#173 with value: 0.5645351100244471 with parameters: {'loo__sigma': 0.09913780988029022, 'rf__max_depth': 7, 'rf__max_features': 189, 'rf__min_samples_leaf': 2}. Best is trial#113 with value: 0.5664329341963392.\n",
      "[I 2020-05-16 14:17:03,310] Finished trial#174 with value: 0.5647599465814048 with parameters: {'loo__sigma': 0.09829689241054998, 'rf__max_depth': 7, 'rf__max_features': 193, 'rf__min_samples_leaf': 3}. Best is trial#113 with value: 0.5664329341963392.\n",
      "[I 2020-05-16 14:17:05,557] Finished trial#172 with value: 0.5529817869040266 with parameters: {'loo__sigma': 0.06946726059825724, 'rf__max_depth': 20, 'rf__max_features': 189, 'rf__min_samples_leaf': 3}. Best is trial#113 with value: 0.5664329341963392.\n",
      "[I 2020-05-16 14:17:06,525] Finished trial#176 with value: 0.5647614782132824 with parameters: {'loo__sigma': 0.05150537319332956, 'rf__max_depth': 7, 'rf__max_features': 133, 'rf__min_samples_leaf': 3}. Best is trial#113 with value: 0.5664329341963392.\n",
      "[I 2020-05-16 14:17:09,137] Finished trial#175 with value: 0.5652548450277364 with parameters: {'loo__sigma': 0.09904838193141505, 'rf__max_depth': 7, 'rf__max_features': 133, 'rf__min_samples_leaf': 2}. Best is trial#113 with value: 0.5664329341963392.\n",
      "[I 2020-05-16 14:17:12,799] Finished trial#178 with value: 0.5647595738486167 with parameters: {'loo__sigma': 0.09838182794366067, 'rf__max_depth': 7, 'rf__max_features': 195, 'rf__min_samples_leaf': 3}. Best is trial#113 with value: 0.5664329341963392.\n",
      "[I 2020-05-16 14:17:12,800] Finished trial#177 with value: 0.5646168388416224 with parameters: {'loo__sigma': 0.09777659125939513, 'rf__max_depth': 7, 'rf__max_features': 188, 'rf__min_samples_leaf': 3}. Best is trial#113 with value: 0.5664329341963392.\n",
      "[I 2020-05-16 14:17:30,852] Finished trial#179 with value: 0.5667095843750911 with parameters: {'loo__sigma': 0.051120597696444725, 'rf__max_depth': 6, 'rf__max_features': 193, 'rf__min_samples_leaf': 3}. Best is trial#179 with value: 0.5667095843750911.\n",
      "[I 2020-05-16 14:17:33,449] Finished trial#182 with value: 0.564534476649134 with parameters: {'loo__sigma': 0.05009683789702594, 'rf__max_depth': 4, 'rf__max_features': 133, 'rf__min_samples_leaf': 4}. Best is trial#179 with value: 0.5667095843750911.\n",
      "[I 2020-05-16 14:17:40,759] Finished trial#180 with value: 0.5651629676625045 with parameters: {'loo__sigma': 0.051510379098077354, 'rf__max_depth': 7, 'rf__max_features': 190, 'rf__min_samples_leaf': 3}. Best is trial#179 with value: 0.5667095843750911.\n",
      "[I 2020-05-16 14:17:42,204] Finished trial#181 with value: 0.5652439288852604 with parameters: {'loo__sigma': 0.053429677111513835, 'rf__max_depth': 7, 'rf__max_features': 191, 'rf__min_samples_leaf': 4}. Best is trial#179 with value: 0.5667095843750911.\n",
      "[I 2020-05-16 14:17:48,680] Finished trial#183 with value: 0.564686781527843 with parameters: {'loo__sigma': 0.05400215920655375, 'rf__max_depth': 7, 'rf__max_features': 133, 'rf__min_samples_leaf': 4}. Best is trial#179 with value: 0.5667095843750911.\n",
      "[I 2020-05-16 14:17:52,723] Finished trial#184 with value: 0.5649014173615281 with parameters: {'loo__sigma': 0.05081010249039407, 'rf__max_depth': 4, 'rf__max_features': 132, 'rf__min_samples_leaf': 3}. Best is trial#179 with value: 0.5667095843750911.\n",
      "[I 2020-05-16 14:17:58,986] Finished trial#187 with value: 0.5635359891913551 with parameters: {'loo__sigma': 0.035775260363723, 'rf__max_depth': 4, 'rf__max_features': 134, 'rf__min_samples_leaf': 4}. Best is trial#179 with value: 0.5667095843750911.\n",
      "[I 2020-05-16 14:17:59,243] Finished trial#186 with value: 0.5647599928461838 with parameters: {'loo__sigma': 0.05068755977478122, 'rf__max_depth': 4, 'rf__max_features': 133, 'rf__min_samples_leaf': 4}. Best is trial#179 with value: 0.5667095843750911.\n",
      "[I 2020-05-16 14:17:59,335] Finished trial#185 with value: 0.5654355319215233 with parameters: {'loo__sigma': 0.05110180393642101, 'rf__max_depth': 4, 'rf__max_features': 174, 'rf__min_samples_leaf': 4}. Best is trial#179 with value: 0.5667095843750911.\n",
      "[I 2020-05-16 14:18:02,915] Finished trial#190 with value: 0.5637714960297409 with parameters: {'loo__sigma': 0.034670561466369085, 'rf__max_depth': 4, 'rf__max_features': 171, 'rf__min_samples_leaf': 4}. Best is trial#179 with value: 0.5667095843750911.\n",
      "[I 2020-05-16 14:18:03,216] Finished trial#188 with value: 0.565696429871731 with parameters: {'loo__sigma': 0.050553621655733, 'rf__max_depth': 4, 'rf__max_features': 171, 'rf__min_samples_leaf': 4}. Best is trial#179 with value: 0.5667095843750911.\n",
      "[I 2020-05-16 14:18:08,435] Finished trial#189 with value: 0.5641257453474857 with parameters: {'loo__sigma': 0.033935884677029356, 'rf__max_depth': 4, 'rf__max_features': 170, 'rf__min_samples_leaf': 4}. Best is trial#179 with value: 0.5667095843750911.\n",
      "[I 2020-05-16 14:18:23,721] Finished trial#191 with value: 0.5640071247447311 with parameters: {'loo__sigma': 0.035145441725719366, 'rf__max_depth': 4, 'rf__max_features': 175, 'rf__min_samples_leaf': 4}. Best is trial#179 with value: 0.5667095843750911.\n"
     ]
    },
    {
     "name": "stderr",
     "output_type": "stream",
     "text": [
      "[I 2020-05-16 14:18:23,921] Finished trial#192 with value: 0.5643063394371095 with parameters: {'loo__sigma': 0.036480247335157874, 'rf__max_depth': 4, 'rf__max_features': 172, 'rf__min_samples_leaf': 4}. Best is trial#179 with value: 0.5667095843750911.\n",
      "[I 2020-05-16 14:18:34,135] Finished trial#193 with value: 0.5663341757528058 with parameters: {'loo__sigma': 0.06270361674828998, 'rf__max_depth': 4, 'rf__max_features': 173, 'rf__min_samples_leaf': 4}. Best is trial#179 with value: 0.5667095843750911.\n",
      "[I 2020-05-16 14:18:37,186] Finished trial#194 with value: 0.5644439718949169 with parameters: {'loo__sigma': 0.035737595735244286, 'rf__max_depth': 4, 'rf__max_features': 173, 'rf__min_samples_leaf': 4}. Best is trial#179 with value: 0.5667095843750911.\n",
      "[I 2020-05-16 14:18:41,737] Finished trial#195 with value: 0.566033532540986 with parameters: {'loo__sigma': 0.06412909881086896, 'rf__max_depth': 4, 'rf__max_features': 172, 'rf__min_samples_leaf': 2}. Best is trial#179 with value: 0.5667095843750911.\n",
      "[I 2020-05-16 14:18:55,072] Finished trial#196 with value: 0.5659083133559234 with parameters: {'loo__sigma': 0.06408537134019782, 'rf__max_depth': 6, 'rf__max_features': 170, 'rf__min_samples_leaf': 2}. Best is trial#179 with value: 0.5667095843750911.\n",
      "[I 2020-05-16 14:18:56,193] Finished trial#197 with value: 0.5660095365653927 with parameters: {'loo__sigma': 0.06324573828836558, 'rf__max_depth': 6, 'rf__max_features': 145, 'rf__min_samples_leaf': 2}. Best is trial#179 with value: 0.5667095843750911.\n",
      "[I 2020-05-16 14:18:56,865] Finished trial#198 with value: 0.5662308218570442 with parameters: {'loo__sigma': 0.06650603807542764, 'rf__max_depth': 6, 'rf__max_features': 169, 'rf__min_samples_leaf': 2}. Best is trial#179 with value: 0.5667095843750911.\n",
      "[I 2020-05-16 14:18:58,656] Finished trial#199 with value: 0.5660152152865321 with parameters: {'loo__sigma': 0.06500338869909984, 'rf__max_depth': 6, 'rf__max_features': 156, 'rf__min_samples_leaf': 2}. Best is trial#179 with value: 0.5667095843750911.\n",
      "[I 2020-05-16 14:19:01,804] Finished trial#200 with value: 0.5661238855679936 with parameters: {'loo__sigma': 0.06460894026902281, 'rf__max_depth': 6, 'rf__max_features': 157, 'rf__min_samples_leaf': 2}. Best is trial#179 with value: 0.5667095843750911.\n",
      "[I 2020-05-16 14:19:03,652] Finished trial#201 with value: 0.5660585295786325 with parameters: {'loo__sigma': 0.06320737211200203, 'rf__max_depth': 6, 'rf__max_features': 155, 'rf__min_samples_leaf': 5}. Best is trial#179 with value: 0.5667095843750911.\n",
      "[I 2020-05-16 14:19:07,464] Finished trial#202 with value: 0.56580670203668 with parameters: {'loo__sigma': 0.06296273902088115, 'rf__max_depth': 6, 'rf__max_features': 156, 'rf__min_samples_leaf': 2}. Best is trial#179 with value: 0.5667095843750911.\n",
      "[I 2020-05-16 14:19:22,004] Finished trial#204 with value: 0.566339692113592 with parameters: {'loo__sigma': 0.06377151781247528, 'rf__max_depth': 6, 'rf__max_features': 153, 'rf__min_samples_leaf': 2}. Best is trial#179 with value: 0.5667095843750911.\n",
      "[I 2020-05-16 14:19:22,743] Finished trial#203 with value: 0.5658820501643926 with parameters: {'loo__sigma': 0.06323557254768007, 'rf__max_depth': 6, 'rf__max_features': 121, 'rf__min_samples_leaf': 2}. Best is trial#179 with value: 0.5667095843750911.\n",
      "[I 2020-05-16 14:19:32,682] Finished trial#205 with value: 0.5657514410464801 with parameters: {'loo__sigma': 0.06391382267136635, 'rf__max_depth': 6, 'rf__max_features': 152, 'rf__min_samples_leaf': 5}. Best is trial#179 with value: 0.5667095843750911.\n",
      "[I 2020-05-16 14:19:38,114] Finished trial#206 with value: 0.5659963951957727 with parameters: {'loo__sigma': 0.06297185933348046, 'rf__max_depth': 6, 'rf__max_features': 155, 'rf__min_samples_leaf': 5}. Best is trial#179 with value: 0.5667095843750911.\n",
      "[I 2020-05-16 14:19:41,453] Finished trial#207 with value: 0.5661113248331954 with parameters: {'loo__sigma': 0.06541104620622602, 'rf__max_depth': 6, 'rf__max_features': 144, 'rf__min_samples_leaf': 2}. Best is trial#179 with value: 0.5667095843750911.\n",
      "[I 2020-05-16 14:19:50,489] Finished trial#208 with value: 0.5661130003589105 with parameters: {'loo__sigma': 0.06351431665774739, 'rf__max_depth': 6, 'rf__max_features': 155, 'rf__min_samples_leaf': 2}. Best is trial#179 with value: 0.5667095843750911.\n",
      "[I 2020-05-16 14:19:55,628] Finished trial#209 with value: 0.5661445252383508 with parameters: {'loo__sigma': 0.06374575162640903, 'rf__max_depth': 6, 'rf__max_features': 155, 'rf__min_samples_leaf': 2}. Best is trial#179 with value: 0.5667095843750911.\n",
      "[I 2020-05-16 14:19:56,012] Finished trial#210 with value: 0.5658343799304533 with parameters: {'loo__sigma': 0.06385420587305597, 'rf__max_depth': 6, 'rf__max_features': 156, 'rf__min_samples_leaf': 2}. Best is trial#179 with value: 0.5667095843750911.\n",
      "[I 2020-05-16 14:19:56,359] Finished trial#211 with value: 0.5662537633163556 with parameters: {'loo__sigma': 0.06517977199848264, 'rf__max_depth': 6, 'rf__max_features': 153, 'rf__min_samples_leaf': 2}. Best is trial#179 with value: 0.5667095843750911.\n",
      "[I 2020-05-16 14:20:02,099] Finished trial#213 with value: 0.566195174599303 with parameters: {'loo__sigma': 0.06410047355143184, 'rf__max_depth': 6, 'rf__max_features': 154, 'rf__min_samples_leaf': 2}. Best is trial#179 with value: 0.5667095843750911.\n",
      "[I 2020-05-16 14:20:02,777] Finished trial#212 with value: 0.5654886871640092 with parameters: {'loo__sigma': 0.06264327600907027, 'rf__max_depth': 6, 'rf__max_features': 156, 'rf__min_samples_leaf': 2}. Best is trial#179 with value: 0.5667095843750911.\n",
      "[I 2020-05-16 14:20:06,570] Finished trial#214 with value: 0.5667115097793459 with parameters: {'loo__sigma': 0.061713767755903697, 'rf__max_depth': 5, 'rf__max_features': 156, 'rf__min_samples_leaf': 2}. Best is trial#214 with value: 0.5667115097793459.\n",
      "[I 2020-05-16 14:20:23,880] Finished trial#215 with value: 0.5671316924094325 with parameters: {'loo__sigma': 0.06143626769580882, 'rf__max_depth': 5, 'rf__max_features': 155, 'rf__min_samples_leaf': 2}. Best is trial#215 with value: 0.5671316924094325.\n",
      "[I 2020-05-16 14:20:23,974] Finished trial#216 with value: 0.5668301251788692 with parameters: {'loo__sigma': 0.06735435930952502, 'rf__max_depth': 5, 'rf__max_features': 156, 'rf__min_samples_leaf': 2}. Best is trial#215 with value: 0.5671316924094325.\n",
      "[I 2020-05-16 14:20:28,580] Finished trial#217 with value: 0.5668315415951224 with parameters: {'loo__sigma': 0.06575234994125588, 'rf__max_depth': 5, 'rf__max_features': 156, 'rf__min_samples_leaf': 2}. Best is trial#215 with value: 0.5671316924094325.\n",
      "[I 2020-05-16 14:20:38,584] Finished trial#218 with value: 0.566893326338793 with parameters: {'loo__sigma': 0.06994685788867058, 'rf__max_depth': 5, 'rf__max_features': 312, 'rf__min_samples_leaf': 2}. Best is trial#215 with value: 0.5671316924094325.\n",
      "[I 2020-05-16 14:20:40,377] Finished trial#219 with value: 0.5658406485945946 with parameters: {'loo__sigma': 0.027118633756117037, 'rf__max_depth': 5, 'rf__max_features': 155, 'rf__min_samples_leaf': 2}. Best is trial#215 with value: 0.5671316924094325.\n",
      "[I 2020-05-16 14:20:45,975] Finished trial#220 with value: 0.5655710374332961 with parameters: {'loo__sigma': 0.0442797727358795, 'rf__max_depth': 5, 'rf__max_features': 157, 'rf__min_samples_leaf': 2}. Best is trial#215 with value: 0.5671316924094325.\n",
      "[I 2020-05-16 14:20:48,282] Finished trial#221 with value: 0.5665940305738586 with parameters: {'loo__sigma': 0.08727595218990145, 'rf__max_depth': 5, 'rf__max_features': 158, 'rf__min_samples_leaf': 2}. Best is trial#215 with value: 0.5671316924094325.\n",
      "[I 2020-05-16 14:20:48,353] Finished trial#223 with value: 0.5453173783517279 with parameters: {'loo__sigma': 5.7259516729048623e-05, 'rf__max_depth': 5, 'rf__max_features': 158, 'rf__min_samples_leaf': 2}. Best is trial#215 with value: 0.5671316924094325.\n",
      "[I 2020-05-16 14:20:48,420] Finished trial#222 with value: 0.5656559126033203 with parameters: {'loo__sigma': 0.044378982808285526, 'rf__max_depth': 5, 'rf__max_features': 157, 'rf__min_samples_leaf': 2}. Best is trial#215 with value: 0.5671316924094325.\n"
     ]
    },
    {
     "name": "stderr",
     "output_type": "stream",
     "text": [
      "[I 2020-05-16 14:20:51,884] Finished trial#224 with value: 0.5659420457528019 with parameters: {'loo__sigma': 0.04532016223787684, 'rf__max_depth': 5, 'rf__max_features': 157, 'rf__min_samples_leaf': 2}. Best is trial#215 with value: 0.5671316924094325.\n",
      "[I 2020-05-16 14:20:53,113] Finished trial#225 with value: 0.5660029327374205 with parameters: {'loo__sigma': 0.04506717797694481, 'rf__max_depth': 5, 'rf__max_features': 158, 'rf__min_samples_leaf': 2}. Best is trial#215 with value: 0.5671316924094325.\n",
      "[I 2020-05-16 14:20:53,804] Finished trial#226 with value: 0.565605540723132 with parameters: {'loo__sigma': 0.04222731530950962, 'rf__max_depth': 5, 'rf__max_features': 145, 'rf__min_samples_leaf': 2}. Best is trial#215 with value: 0.5671316924094325.\n",
      "[I 2020-05-16 14:20:58,618] Finished trial#229 with value: 0.5135156437494086 with parameters: {'loo__sigma': 2.4406580579246198e-05, 'rf__max_depth': 5, 'rf__max_features': 158, 'rf__min_samples_leaf': 2}. Best is trial#215 with value: 0.5671316924094325.\n",
      "[I 2020-05-16 14:20:58,679] Finished trial#228 with value: 0.5661348578716254 with parameters: {'loo__sigma': 0.044049087781550963, 'rf__max_depth': 5, 'rf__max_features': 159, 'rf__min_samples_leaf': 2}. Best is trial#215 with value: 0.5671316924094325.\n",
      "[I 2020-05-16 14:20:59,115] Finished trial#227 with value: 0.5647278068419672 with parameters: {'loo__sigma': 0.04229140461376869, 'rf__max_depth': 5, 'rf__max_features': 310, 'rf__min_samples_leaf': 2}. Best is trial#215 with value: 0.5671316924094325.\n"
     ]
    },
    {
     "name": "stdout",
     "output_type": "stream",
     "text": [
      "Best parameter (CV score=0.567):\n",
      "{'loo__sigma': 0.06143626769580882, 'rf__max_depth': 5, 'rf__max_features': 155, 'rf__min_samples_leaf': 2}\n",
      "Test R^2:  0.6112180976053222\n",
      "Wall time: 20min 31s\n"
     ]
    }
   ],
   "source": [
    "%%time\n",
    "from sklearn.pipeline import make_pipeline, Pipeline\n",
    "from sklearn.model_selection import cross_val_score\n",
    "from category_encoders.leave_one_out import LeaveOneOutEncoder\n",
    "import optuna\n",
    "from optuna.distributions import *\n",
    "\n",
    "\n",
    "loo = LeaveOneOutEncoder(cols=mean_enc_column_names,  random_state=2834)\n",
    "rf = RandomForestRegressor(n_estimators=400, random_state=2834, n_jobs=-1) \n",
    "pipe = Pipeline(steps=[('loo',loo), ('rf',rf)])\n",
    "\n",
    "\n",
    "param_distribution = {\n",
    "    'loo__sigma': LogUniformDistribution(1E-5, 1E-1),\n",
    "    'rf__max_depth': IntUniformDistribution(2,40),\n",
    "    'rf__max_features' : IntUniformDistribution(1,X_test.shape[1]),\n",
    "    'rf__min_samples_leaf': IntUniformDistribution(1,15)\n",
    "}\n",
    "\n",
    "X_train, X_test, y_train, y_test = train_test_split(X, y, test_size=0.2, random_state=2834)\n",
    "X_train = pd.DataFrame(X_train, columns=data1.columns[2:])\n",
    "X_test = pd.DataFrame(X_test, columns=data1.columns[2:])\n",
    "\n",
    "search = optuna.integration.OptunaSearchCV(pipe, param_distribution, \n",
    "                            cv=5, n_jobs=-1, random_state=514, n_trials=None, timeout=20*60, scoring='r2')\n",
    "search.fit(X_train, y_train)\n",
    "print(\"Best parameter (CV score=%0.3f):\" % search.best_score_)\n",
    "print(search.best_params_)\n",
    "test_predict = search.best_estimator_.predict(X_test)\n",
    "print('Test R^2: ', r2_score(y_test, test_predict))"
   ]
  },
  {
   "cell_type": "code",
   "execution_count": 32,
   "metadata": {},
   "outputs": [],
   "source": [
    "preds_kaggle = search.best_estimator_.predict(pd.DataFrame(X_kaggle, columns=data1.columns[2:]))\n",
    "preds_kaggle_df = pd.DataFrame({'ID': test_data.ID, 'y': preds_kaggle, })\n",
    "preds_kaggle_df.head(2)\n",
    "preds_kaggle_df.to_csv('te517_submission.csv', index=False)"
   ]
  },
  {
   "cell_type": "code",
   "execution_count": 33,
   "metadata": {},
   "outputs": [
    {
     "name": "stderr",
     "output_type": "stream",
     "text": [
      "[I 2020-05-16 14:25:46,519] Finished trial#0 with value: 0.5367037621434184 with parameters: {'encoder__prior_samples_ratio': 0.00019547001926932382, 'encoder__n_draws': 5, 'encoder__include_precision': False, 'regressor__max_depth': 23, 'regressor__max_features': 10, 'regressor__min_samples_leaf': 3}. Best is trial#0 with value: 0.5367037621434184.\n",
      "[I 2020-05-16 14:31:48,856] Finished trial#5 with value: 0.5523780482239933 with parameters: {'encoder__prior_samples_ratio': 0.0005529974784712669, 'encoder__n_draws': 5, 'encoder__include_precision': True, 'regressor__max_depth': 13, 'regressor__max_features': 131, 'regressor__min_samples_leaf': 12}. Best is trial#5 with value: 0.5523780482239933.\n",
      "[I 2020-05-16 14:36:50,789] Finished trial#6 with value: 0.5330232135217065 with parameters: {'encoder__prior_samples_ratio': 0.0001707926862003511, 'encoder__n_draws': 12, 'encoder__include_precision': True, 'regressor__max_depth': 28, 'regressor__max_features': 31, 'regressor__min_samples_leaf': 5}. Best is trial#5 with value: 0.5523780482239933.\n",
      "[I 2020-05-16 14:42:14,591] Finished trial#11 with value: 0.5338310766443175 with parameters: {'encoder__prior_samples_ratio': 0.0555158603854312, 'encoder__n_draws': 37, 'encoder__include_precision': True, 'regressor__max_depth': 5, 'regressor__max_features': 22, 'regressor__min_samples_leaf': 7}. Best is trial#5 with value: 0.5523780482239933.\n",
      "[I 2020-05-16 14:43:52,892] Finished trial#9 with value: 0.5567396511180295 with parameters: {'encoder__prior_samples_ratio': 0.005844168417526504, 'encoder__n_draws': 18, 'encoder__include_precision': True, 'regressor__max_depth': 11, 'regressor__max_features': 76, 'regressor__min_samples_leaf': 13}. Best is trial#9 with value: 0.5567396511180295.\n",
      "[I 2020-05-16 14:48:06,125] Finished trial#7 with value: 0.5678006949559029 with parameters: {'encoder__prior_samples_ratio': 1.6252754365317875e-05, 'encoder__n_draws': 33, 'encoder__include_precision': True, 'regressor__max_depth': 5, 'regressor__max_features': 71, 'regressor__min_samples_leaf': 4}. Best is trial#7 with value: 0.5678006949559029.\n",
      "[I 2020-05-16 14:48:18,652] Finished trial#1 with value: 0.5471489548813345 with parameters: {'encoder__prior_samples_ratio': 2.2454175715500433e-06, 'encoder__n_draws': 6, 'encoder__include_precision': True, 'regressor__max_depth': 34, 'regressor__max_features': 318, 'regressor__min_samples_leaf': 14}. Best is trial#7 with value: 0.5678006949559029.\n",
      "[I 2020-05-16 15:00:31,792] Finished trial#10 with value: 0.5308186581600085 with parameters: {'encoder__prior_samples_ratio': 2.1989107106663375e-08, 'encoder__n_draws': 11, 'encoder__include_precision': True, 'regressor__max_depth': 19, 'regressor__max_features': 247, 'regressor__min_samples_leaf': 8}. Best is trial#7 with value: 0.5678006949559029.\n",
      "[I 2020-05-16 15:04:53,965] Finished trial#17 with value: 0.5537450384973194 with parameters: {'encoder__prior_samples_ratio': 0.00343025924768412, 'encoder__n_draws': 19, 'encoder__include_precision': True, 'regressor__max_depth': 11, 'regressor__max_features': 18, 'regressor__min_samples_leaf': 1}. Best is trial#7 with value: 0.5678006949559029.\n",
      "[I 2020-05-16 15:05:25,716] Finished trial#3 with value: 0.5279791586096012 with parameters: {'encoder__prior_samples_ratio': 1.3758881246054976e-09, 'encoder__n_draws': 34, 'encoder__include_precision': True, 'regressor__max_depth': 22, 'regressor__max_features': 43, 'regressor__min_samples_leaf': 13}. Best is trial#7 with value: 0.5678006949559029.\n",
      "[I 2020-05-16 15:08:42,315] Finished trial#19 with value: 0.5194493953620375 with parameters: {'encoder__prior_samples_ratio': 2.3384954789062275e-06, 'encoder__n_draws': 7, 'encoder__include_precision': True, 'regressor__max_depth': 24, 'regressor__max_features': 6, 'regressor__min_samples_leaf': 13}. Best is trial#7 with value: 0.5678006949559029.\n",
      "[I 2020-05-16 15:13:13,717] Finished trial#8 with value: 0.513912611267728 with parameters: {'encoder__prior_samples_ratio': 9.27727632837952e-08, 'encoder__n_draws': 23, 'encoder__include_precision': False, 'regressor__max_depth': 17, 'regressor__max_features': 166, 'regressor__min_samples_leaf': 13}. Best is trial#7 with value: 0.5678006949559029.\n",
      "[I 2020-05-16 15:22:46,715] Finished trial#12 with value: 0.5369299138133015 with parameters: {'encoder__prior_samples_ratio': 0.0004013184143215081, 'encoder__n_draws': 21, 'encoder__include_precision': True, 'regressor__max_depth': 10, 'regressor__max_features': 287, 'regressor__min_samples_leaf': 14}. Best is trial#7 with value: 0.5678006949559029.\n",
      "[I 2020-05-16 15:22:54,641] Finished trial#14 with value: 0.5065479107588293 with parameters: {'encoder__prior_samples_ratio': 4.2054199794260343e-07, 'encoder__n_draws': 16, 'encoder__include_precision': True, 'regressor__max_depth': 39, 'regressor__max_features': 108, 'regressor__min_samples_leaf': 1}. Best is trial#7 with value: 0.5678006949559029.\n",
      "[I 2020-05-16 15:26:09,335] Finished trial#22 with value: 0.5267633845088364 with parameters: {'encoder__prior_samples_ratio': 0.057809991486757535, 'encoder__n_draws': 28, 'encoder__include_precision': False, 'regressor__max_depth': 2, 'regressor__max_features': 99, 'regressor__min_samples_leaf': 10}. Best is trial#7 with value: 0.5678006949559029.\n",
      "[I 2020-05-16 15:27:54,537] Finished trial#18 with value: 0.5350197628805888 with parameters: {'encoder__prior_samples_ratio': 1.7135573662135083e-09, 'encoder__n_draws': 16, 'encoder__include_precision': True, 'regressor__max_depth': 40, 'regressor__max_features': 103, 'regressor__min_samples_leaf': 14}. Best is trial#7 with value: 0.5678006949559029.\n",
      "[I 2020-05-16 15:28:29,545] Finished trial#4 with value: 0.48395294627966495 with parameters: {'encoder__prior_samples_ratio': 8.943146175169143e-05, 'encoder__n_draws': 34, 'encoder__include_precision': False, 'regressor__max_depth': 39, 'regressor__max_features': 112, 'regressor__min_samples_leaf': 12}. Best is trial#7 with value: 0.5678006949559029.\n",
      "[I 2020-05-16 15:31:11,021] Finished trial#21 with value: 0.5674105800604136 with parameters: {'encoder__prior_samples_ratio': 1.0999093658239306e-06, 'encoder__n_draws': 30, 'encoder__include_precision': False, 'regressor__max_depth': 3, 'regressor__max_features': 164, 'regressor__min_samples_leaf': 1}. Best is trial#7 with value: 0.5678006949559029.\n",
      "[I 2020-05-16 15:37:35,214] Finished trial#23 with value: 0.556760931225025 with parameters: {'encoder__prior_samples_ratio': 0.09597219426737022, 'encoder__n_draws': 29, 'encoder__include_precision': True, 'regressor__max_depth': 3, 'regressor__max_features': 108, 'regressor__min_samples_leaf': 10}. Best is trial#7 with value: 0.5678006949559029.\n",
      "[I 2020-05-16 15:39:13,660] Finished trial#16 with value: 0.4843081827382454 with parameters: {'encoder__prior_samples_ratio': 4.8210125311049075e-06, 'encoder__n_draws': 13, 'encoder__include_precision': False, 'regressor__max_depth': 37, 'regressor__max_features': 270, 'regressor__min_samples_leaf': 3}. Best is trial#7 with value: 0.5678006949559029.\n",
      "[I 2020-05-16 15:39:24,353] Finished trial#25 with value: 0.5165063150122167 with parameters: {'encoder__prior_samples_ratio': 0.09778851609537709, 'encoder__n_draws': 28, 'encoder__include_precision': False, 'regressor__max_depth': 2, 'regressor__max_features': 83, 'regressor__min_samples_leaf': 10}. Best is trial#7 with value: 0.5678006949559029.\n",
      "[I 2020-05-16 15:39:52,638] Finished trial#24 with value: 0.5281100030321678 with parameters: {'encoder__prior_samples_ratio': 0.025009875158282766, 'encoder__n_draws': 29, 'encoder__include_precision': False, 'regressor__max_depth': 2, 'regressor__max_features': 94, 'regressor__min_samples_leaf': 9}. Best is trial#7 with value: 0.5678006949559029.\n",
      "[I 2020-05-16 15:45:32,232] Finished trial#20 with value: 0.5529644121221862 with parameters: {'encoder__prior_samples_ratio': 0.024872625348773547, 'encoder__n_draws': 27, 'encoder__include_precision': True, 'regressor__max_depth': 8, 'regressor__max_features': 139, 'regressor__min_samples_leaf': 2}. Best is trial#7 with value: 0.5678006949559029.\n"
     ]
    },
    {
     "name": "stderr",
     "output_type": "stream",
     "text": [
      "[I 2020-05-16 15:48:55,030] Finished trial#29 with value: 0.5538007649961341 with parameters: {'encoder__prior_samples_ratio': 1.639286125129717e-05, 'encoder__n_draws': 27, 'encoder__include_precision': False, 'regressor__max_depth': 2, 'regressor__max_features': 183, 'regressor__min_samples_leaf': 3}. Best is trial#7 with value: 0.5678006949559029.\n",
      "[I 2020-05-16 15:50:09,391] Finished trial#26 with value: 0.5669839914586193 with parameters: {'encoder__prior_samples_ratio': 2.171401504317188e-05, 'encoder__n_draws': 30, 'encoder__include_precision': True, 'regressor__max_depth': 4, 'regressor__max_features': 75, 'regressor__min_samples_leaf': 4}. Best is trial#7 with value: 0.5678006949559029.\n",
      "[I 2020-05-16 15:53:38,854] Finished trial#28 with value: 0.5665717739101301 with parameters: {'encoder__prior_samples_ratio': 0.005398249917547135, 'encoder__n_draws': 27, 'encoder__include_precision': True, 'regressor__max_depth': 6, 'regressor__max_features': 66, 'regressor__min_samples_leaf': 4}. Best is trial#7 with value: 0.5678006949559029.\n",
      "[I 2020-05-16 16:02:19,425] Finished trial#2 with value: 0.49437779259005554 with parameters: {'encoder__prior_samples_ratio': 0.007902030247297066, 'encoder__n_draws': 36, 'encoder__include_precision': True, 'regressor__max_depth': 27, 'regressor__max_features': 153, 'regressor__min_samples_leaf': 6}. Best is trial#7 with value: 0.5678006949559029.\n",
      "[I 2020-05-16 16:18:42,889] Finished trial#27 with value: 0.5495210942508073 with parameters: {'encoder__prior_samples_ratio': 2.8510305002308864e-05, 'encoder__n_draws': 32, 'encoder__include_precision': True, 'regressor__max_depth': 6, 'regressor__max_features': 179, 'regressor__min_samples_leaf': 4}. Best is trial#7 with value: 0.5678006949559029.\n",
      "[I 2020-05-16 16:20:57,426] Finished trial#32 with value: 0.5528570177855461 with parameters: {'encoder__prior_samples_ratio': 1.7875423501488355e-05, 'encoder__n_draws': 26, 'encoder__include_precision': False, 'regressor__max_depth': 6, 'regressor__max_features': 186, 'regressor__min_samples_leaf': 3}. Best is trial#7 with value: 0.5678006949559029.\n",
      "[I 2020-05-16 16:39:15,691] Finished trial#13 with value: 0.458756265944759 with parameters: {'encoder__prior_samples_ratio': 8.61667540593028e-06, 'encoder__n_draws': 38, 'encoder__include_precision': False, 'regressor__max_depth': 33, 'regressor__max_features': 187, 'regressor__min_samples_leaf': 1}. Best is trial#7 with value: 0.5678006949559029.\n",
      "[I 2020-05-16 16:43:31,282] Finished trial#34 with value: 0.5598375928410823 with parameters: {'encoder__prior_samples_ratio': 2.882166695867691e-05, 'encoder__n_draws': 40, 'encoder__include_precision': False, 'regressor__max_depth': 5, 'regressor__max_features': 191, 'regressor__min_samples_leaf': 5}. Best is trial#7 with value: 0.5678006949559029.\n",
      "[I 2020-05-16 16:44:59,145] Finished trial#30 with value: 0.5465739357922119 with parameters: {'encoder__prior_samples_ratio': 7.467777890903272e-06, 'encoder__n_draws': 39, 'encoder__include_precision': False, 'regressor__max_depth': 7, 'regressor__max_features': 191, 'regressor__min_samples_leaf': 3}. Best is trial#7 with value: 0.5678006949559029.\n",
      "[I 2020-05-16 16:47:34,973] Finished trial#31 with value: 0.5447403822939061 with parameters: {'encoder__prior_samples_ratio': 3.645015883719667e-05, 'encoder__n_draws': 39, 'encoder__include_precision': False, 'regressor__max_depth': 7, 'regressor__max_features': 192, 'regressor__min_samples_leaf': 3}. Best is trial#7 with value: 0.5678006949559029.\n",
      "[I 2020-05-16 16:47:47,971] Finished trial#33 with value: 0.5455061251266264 with parameters: {'encoder__prior_samples_ratio': 1.276745382812295e-05, 'encoder__n_draws': 40, 'encoder__include_precision': False, 'regressor__max_depth': 7, 'regressor__max_features': 187, 'regressor__min_samples_leaf': 5}. Best is trial#7 with value: 0.5678006949559029.\n",
      "[I 2020-05-16 16:54:11,575] Finished trial#36 with value: 0.5482700500978748 with parameters: {'encoder__prior_samples_ratio': 2.7127510881866084e-05, 'encoder__n_draws': 40, 'encoder__include_precision': False, 'regressor__max_depth': 6, 'regressor__max_features': 209, 'regressor__min_samples_leaf': 5}. Best is trial#7 with value: 0.5678006949559029.\n",
      "[I 2020-05-16 16:56:23,844] Finished trial#35 with value: 0.5447642527091564 with parameters: {'encoder__prior_samples_ratio': 1.8860820213102218e-08, 'encoder__n_draws': 39, 'encoder__include_precision': False, 'regressor__max_depth': 7, 'regressor__max_features': 206, 'regressor__min_samples_leaf': 5}. Best is trial#7 with value: 0.5678006949559029.\n",
      "[I 2020-05-16 17:05:34,601] Finished trial#15 with value: 0.4856792208943803 with parameters: {'encoder__prior_samples_ratio': 0.0003384244239581836, 'encoder__n_draws': 35, 'encoder__include_precision': True, 'regressor__max_depth': 38, 'regressor__max_features': 233, 'regressor__min_samples_leaf': 13}. Best is trial#7 with value: 0.5678006949559029.\n",
      "[I 2020-05-16 17:18:43,075] Finished trial#37 with value: 0.4924851987080885 with parameters: {'encoder__prior_samples_ratio': 2.340928925301396e-05, 'encoder__n_draws': 39, 'encoder__include_precision': False, 'regressor__max_depth': 15, 'regressor__max_features': 197, 'regressor__min_samples_leaf': 6}. Best is trial#7 with value: 0.5678006949559029.\n",
      "[I 2020-05-16 17:20:45,908] Finished trial#38 with value: 0.49765006499279396 with parameters: {'encoder__prior_samples_ratio': 2.3643977491956163e-05, 'encoder__n_draws': 39, 'encoder__include_precision': False, 'regressor__max_depth': 14, 'regressor__max_features': 210, 'regressor__min_samples_leaf': 5}. Best is trial#7 with value: 0.5678006949559029.\n",
      "[I 2020-05-16 17:25:26,907] Finished trial#40 with value: 0.5157010696021466 with parameters: {'encoder__prior_samples_ratio': 3.769329881320233e-07, 'encoder__n_draws': 40, 'encoder__include_precision': False, 'regressor__max_depth': 13, 'regressor__max_features': 224, 'regressor__min_samples_leaf': 6}. Best is trial#7 with value: 0.5678006949559029.\n",
      "[I 2020-05-16 17:25:28,493] Finished trial#39 with value: 0.49540014111227926 with parameters: {'encoder__prior_samples_ratio': 9.435172135468214e-07, 'encoder__n_draws': 39, 'encoder__include_precision': False, 'regressor__max_depth': 15, 'regressor__max_features': 210, 'regressor__min_samples_leaf': 6}. Best is trial#7 with value: 0.5678006949559029.\n"
     ]
    },
    {
     "name": "stdout",
     "output_type": "stream",
     "text": [
      "Best parameter (CV score=0.568):\n",
      "{'encoder__prior_samples_ratio': 1.6252754365317875e-05, 'encoder__n_draws': 33, 'encoder__include_precision': True, 'regressor__max_depth': 5, 'regressor__max_features': 71, 'regressor__min_samples_leaf': 4}\n",
      "Test R^2:  0.6105991574122818\n",
      "Wall time: 3h 4min 51s\n"
     ]
    }
   ],
   "source": [
    "%%time\n",
    "#%autoreload 2\n",
    "from category_encoders.pte_utils import EncoderWrapperR\n",
    "from sklearn.model_selection import cross_val_score\n",
    "\n",
    "pte = PosteriorImputationEncoder(cols=mean_enc_column_names, random_state=2834)\n",
    "model = RandomForestRegressor(n_estimators=400, random_state=2834, n_jobs=-1) \n",
    "wrapper_model = EncoderWrapperR(pte, model)\n",
    "\n",
    "param_distribution = {\n",
    "    'encoder__prior_samples_ratio': LogUniformDistribution(1E-9, 1E-1),\n",
    "    'encoder__n_draws': IntUniformDistribution(1,40),\n",
    "    'encoder__include_precision': CategoricalDistribution([False, True]),\n",
    "    'regressor__max_depth': IntUniformDistribution(2,40),\n",
    "    'regressor__max_features' : IntUniformDistribution(1,X_test.shape[1]),\n",
    "    'regressor__min_samples_leaf': IntUniformDistribution(1,15)\n",
    "}\n",
    "\n",
    "\n",
    "X_train, X_test, y_train, y_test = train_test_split(X, y, test_size=0.2, random_state=2834)\n",
    "X_train = pd.DataFrame(X_train, columns=data1.columns[2:])\n",
    "X_test = pd.DataFrame(X_test, columns=data1.columns[2:])\n",
    "\n",
    "search = optuna.integration.OptunaSearchCV(wrapper_model, param_distribution, \n",
    "                cv=5, n_jobs=-1, random_state=514, n_trials=None, timeout=2*60*60, scoring='r2')\n",
    "\n",
    "search.fit(X_train, y_train)\n",
    "print(\"Best parameter (CV score=%0.3f):\" % search.best_score_)\n",
    "print(search.best_params_)\n",
    "test_predict = search.best_estimator_.predict(X_test)\n",
    "print('Test R^2: ', r2_score(y_test, test_predict))"
   ]
  },
  {
   "cell_type": "code",
   "execution_count": 34,
   "metadata": {},
   "outputs": [],
   "source": [
    "preds_kaggle = search.best_estimator_.predict(pd.DataFrame(X_kaggle, columns=data1.columns[2:]))\n",
    "preds_kaggle_df = pd.DataFrame({'ID': test_data.ID, 'y': preds_kaggle, })\n",
    "preds_kaggle_df.head(2)\n",
    "preds_kaggle_df.to_csv('sa517_submission.csv', index=False)"
   ]
  },
  {
   "cell_type": "code",
   "execution_count": null,
   "metadata": {},
   "outputs": [],
   "source": []
  }
 ],
 "metadata": {
  "kernelspec": {
   "display_name": "Python 3",
   "language": "python",
   "name": "python3"
  },
  "language_info": {
   "codemirror_mode": {
    "name": "ipython",
    "version": 3
   },
   "file_extension": ".py",
   "mimetype": "text/x-python",
   "name": "python",
   "nbconvert_exporter": "python",
   "pygments_lexer": "ipython3",
   "version": "3.7.1"
  }
 },
 "nbformat": 4,
 "nbformat_minor": 2
}
